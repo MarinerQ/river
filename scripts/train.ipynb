{
 "cells": [
  {
   "cell_type": "code",
   "execution_count": 1,
   "metadata": {},
   "outputs": [],
   "source": [
    "import numpy as np\n",
    "import bilby \n",
    "import pycbc \n",
    "import sys\n",
    "import matplotlib.pyplot as plt\n",
    "\n",
    "import zuko\n",
    "import torch\n",
    "from torch.utils.data import Dataset, DataLoader\n",
    "from torch import nn\n",
    "\n",
    "import pickle\n",
    "from sklearn.decomposition import IncrementalPCA\n",
    "import sklearn.decomposition "
   ]
  },
  {
   "cell_type": "code",
   "execution_count": 2,
   "metadata": {},
   "outputs": [],
   "source": [
    "import river.data\n",
    "from river.data.datagenerator import DataGeneratorBilbyFD\n",
    "from river.data.dataset import DatasetStrainFD\n",
    "#import river.data.utils as datautils\n",
    "from river.data.utils import *\n",
    "\n",
    "from river.models import embedding\n",
    "from river.models import utils as modelutils\n",
    "from river.models.embedding.pca import project_strain_data_FDAPhi\n",
    "from river.models.embedding.conv import EmbeddingConv1D, EmbeddingConv2D\n"
   ]
  },
  {
   "cell_type": "code",
   "execution_count": 3,
   "metadata": {},
   "outputs": [],
   "source": [
    "import logging\n",
    "import sys\n",
    "\n",
    "logger = logging.getLogger()\n",
    "logger.setLevel(logging.INFO)\n",
    "formatter = logging.Formatter('%(asctime)s | %(levelname)s | %(message)s')\n",
    "\n",
    "stdout_handler = logging.StreamHandler(sys.stdout)\n",
    "stdout_handler.setLevel(logging.DEBUG)\n",
    "stdout_handler.setFormatter(formatter)\n",
    "\n",
    "logger.addHandler(stdout_handler)\n"
   ]
  },
  {
   "attachments": {},
   "cell_type": "markdown",
   "metadata": {},
   "source": [
    "# Make data"
   ]
  },
  {
   "cell_type": "code",
   "execution_count": 4,
   "metadata": {},
   "outputs": [
    {
     "name": "stderr",
     "output_type": "stream",
     "text": [
      "18:40 bilby INFO    : Waveform generator initiated with\n",
      "  frequency_domain_source_model: bilby.gw.source.lal_binary_neutron_star\n",
      "  time_domain_source_model: None\n",
      "  parameter_conversion: bilby.gw.conversion.convert_to_lal_binary_black_hole_parameters\n",
      "18:40 bilby INFO    : Waveform generator initiated with\n",
      "  frequency_domain_source_model: bilby.gw.source.lal_binary_neutron_star\n",
      "  time_domain_source_model: None\n",
      "  parameter_conversion: bilby.gw.conversion.convert_to_lal_binary_black_hole_parameters\n"
     ]
    },
    {
     "name": "stdout",
     "output_type": "stream",
     "text": [
      "Using bilby_default PSDs to generate data.\n",
      "Using bilby_default PSDs to generate data.\n"
     ]
    }
   ],
   "source": [
    "source_type = 'BNS'\n",
    "detector_names = ['H1', 'L1', 'V1'] \n",
    "duration = 32\n",
    "f_low = 20\n",
    "f_ref = 20\n",
    "sampling_frequency = 2048\n",
    "waveform_approximant = 'IMRPhenomPv2_NRTidal'\n",
    "parameter_names = PARAMETER_NAMES_PRECESSINGBNS_BILBY\n",
    "PSD_type = 'bilby_default' #'zero_noise'\n",
    "use_sealgw_detector = True\n",
    "\n",
    "\n",
    "Nsample = 100\n",
    "Nvalid = 100\n",
    "injection_parameters_valid = generate_BNS_injection_parameters(Nvalid,\n",
    "        a_max=0.1,\n",
    "        d_min=10,\n",
    "        d_max=100,\n",
    "        d_power=3,\n",
    "        tc_min=-0.1,\n",
    "        tc_max=0.1)\n",
    "\n",
    "injection_parameters_train = generate_BNS_injection_parameters(Nsample,\n",
    "        a_max=0.1,\n",
    "        d_min=10,\n",
    "        d_max=100,\n",
    "        d_power=3,\n",
    "        tc_min=-0.1,\n",
    "        tc_max=0.1)\n",
    "\n",
    "data_generator_train = DataGeneratorBilbyFD(source_type,\n",
    "            detector_names, \n",
    "            duration, \n",
    "            f_low, \n",
    "            f_ref, \n",
    "            sampling_frequency, \n",
    "            waveform_approximant, \n",
    "            parameter_names,\n",
    "            PSD_type=PSD_type,\n",
    "            use_sealgw_detector=use_sealgw_detector)\n",
    "\n",
    "data_generator_valid = DataGeneratorBilbyFD(source_type,\n",
    "            detector_names, \n",
    "            duration, \n",
    "            f_low, \n",
    "            f_ref, \n",
    "            sampling_frequency, \n",
    "            waveform_approximant, \n",
    "            parameter_names,\n",
    "            PSD_type=PSD_type,\n",
    "            use_sealgw_detector=use_sealgw_detector)"
   ]
  },
  {
   "cell_type": "code",
   "execution_count": 5,
   "metadata": {},
   "outputs": [
    {
     "name": "stderr",
     "output_type": "stream",
     "text": [
      "18:40 bilby WARNING : The injected signal has a duration in-band of 179.4s, but the data for detector H1 has a duration of 32s\n"
     ]
    },
    {
     "name": "stdout",
     "output_type": "stream",
     "text": [
      "Injecting 0-th signal, 0.0% done\n"
     ]
    },
    {
     "name": "stderr",
     "output_type": "stream",
     "text": [
      "18:40 bilby WARNING : The injected signal has a duration in-band of 179.4s, but the data for detector L1 has a duration of 32s\n",
      "18:40 bilby WARNING : The injected signal has a duration in-band of 179.4s, but the data for detector V1 has a duration of 32s\n",
      "18:40 bilby WARNING : The injected signal has a duration in-band of 117.9s, but the data for detector H1 has a duration of 32s\n",
      "18:40 bilby WARNING : The injected signal has a duration in-band of 117.9s, but the data for detector L1 has a duration of 32s\n",
      "18:40 bilby WARNING : The injected signal has a duration in-band of 117.9s, but the data for detector V1 has a duration of 32s\n",
      "18:40 bilby WARNING : The injected signal has a duration in-band of 70.2s, but the data for detector H1 has a duration of 32s\n",
      "18:40 bilby WARNING : The injected signal has a duration in-band of 70.2s, but the data for detector L1 has a duration of 32s\n",
      "18:40 bilby WARNING : The injected signal has a duration in-band of 70.2s, but the data for detector V1 has a duration of 32s\n",
      "18:40 bilby WARNING : The injected signal has a duration in-band of 134.6s, but the data for detector H1 has a duration of 32s\n"
     ]
    },
    {
     "name": "stdout",
     "output_type": "stream",
     "text": [
      "Injecting 1-th signal, 1.0% done\n",
      "Injecting 2-th signal, 2.0% done\n",
      "Injecting 3-th signal, 3.0% done\n"
     ]
    },
    {
     "name": "stderr",
     "output_type": "stream",
     "text": [
      "18:40 bilby WARNING : The injected signal has a duration in-band of 134.6s, but the data for detector L1 has a duration of 32s\n",
      "18:40 bilby WARNING : The injected signal has a duration in-band of 134.6s, but the data for detector V1 has a duration of 32s\n",
      "18:40 bilby WARNING : The injected signal has a duration in-band of 65.0s, but the data for detector H1 has a duration of 32s\n",
      "18:40 bilby WARNING : The injected signal has a duration in-band of 65.0s, but the data for detector L1 has a duration of 32s\n",
      "18:40 bilby WARNING : The injected signal has a duration in-band of 65.0s, but the data for detector V1 has a duration of 32s\n"
     ]
    },
    {
     "name": "stdout",
     "output_type": "stream",
     "text": [
      "Injecting 4-th signal, 4.0% done\n"
     ]
    },
    {
     "name": "stderr",
     "output_type": "stream",
     "text": [
      "18:40 bilby WARNING : The injected signal has a duration in-band of 75.7s, but the data for detector H1 has a duration of 32s\n",
      "18:40 bilby WARNING : The injected signal has a duration in-band of 75.7s, but the data for detector L1 has a duration of 32s\n",
      "18:40 bilby WARNING : The injected signal has a duration in-band of 75.7s, but the data for detector V1 has a duration of 32s\n",
      "18:40 bilby WARNING : The injected signal has a duration in-band of 110.0s, but the data for detector H1 has a duration of 32s\n",
      "18:40 bilby WARNING : The injected signal has a duration in-band of 110.0s, but the data for detector L1 has a duration of 32s\n",
      "18:40 bilby WARNING : The injected signal has a duration in-band of 110.0s, but the data for detector V1 has a duration of 32s\n",
      "18:40 bilby WARNING : The injected signal has a duration in-band of 114.5s, but the data for detector H1 has a duration of 32s\n",
      "18:40 bilby WARNING : The injected signal has a duration in-band of 114.5s, but the data for detector L1 has a duration of 32s\n",
      "18:40 bilby WARNING : The injected signal has a duration in-band of 114.5s, but the data for detector V1 has a duration of 32s\n"
     ]
    },
    {
     "name": "stdout",
     "output_type": "stream",
     "text": [
      "Injecting 5-th signal, 5.0% done\n",
      "Injecting 6-th signal, 6.0% done\n",
      "Injecting 7-th signal, 7.0% done\n",
      "Injecting 8-th signal, 8.0% done\n"
     ]
    },
    {
     "name": "stderr",
     "output_type": "stream",
     "text": [
      "18:40 bilby WARNING : The injected signal has a duration in-band of 89.1s, but the data for detector H1 has a duration of 32s\n",
      "18:40 bilby WARNING : The injected signal has a duration in-band of 89.1s, but the data for detector L1 has a duration of 32s\n",
      "18:40 bilby WARNING : The injected signal has a duration in-band of 89.1s, but the data for detector V1 has a duration of 32s\n"
     ]
    },
    {
     "name": "stdout",
     "output_type": "stream",
     "text": [
      "Injecting 9-th signal, 9.0% done\n"
     ]
    },
    {
     "name": "stderr",
     "output_type": "stream",
     "text": [
      "18:40 bilby WARNING : The injected signal has a duration in-band of 81.1s, but the data for detector H1 has a duration of 32s\n",
      "18:40 bilby WARNING : The injected signal has a duration in-band of 81.1s, but the data for detector L1 has a duration of 32s\n",
      "18:40 bilby WARNING : The injected signal has a duration in-band of 81.1s, but the data for detector V1 has a duration of 32s\n",
      "18:40 bilby WARNING : The injected signal has a duration in-band of 89.9s, but the data for detector H1 has a duration of 32s\n",
      "18:40 bilby WARNING : The injected signal has a duration in-band of 89.9s, but the data for detector L1 has a duration of 32s\n",
      "18:40 bilby WARNING : The injected signal has a duration in-band of 89.9s, but the data for detector V1 has a duration of 32s\n",
      "18:40 bilby WARNING : The injected signal has a duration in-band of 117.7s, but the data for detector H1 has a duration of 32s\n",
      "18:40 bilby WARNING : The injected signal has a duration in-band of 117.7s, but the data for detector L1 has a duration of 32s\n",
      "18:40 bilby WARNING : The injected signal has a duration in-band of 117.7s, but the data for detector V1 has a duration of 32s\n",
      "18:40 bilby WARNING : The injected signal has a duration in-band of 88.6s, but the data for detector H1 has a duration of 32s\n",
      "18:40 bilby WARNING : The injected signal has a duration in-band of 88.6s, but the data for detector L1 has a duration of 32s\n",
      "18:40 bilby WARNING : The injected signal has a duration in-band of 88.6s, but the data for detector V1 has a duration of 32s\n"
     ]
    },
    {
     "name": "stdout",
     "output_type": "stream",
     "text": [
      "Injecting 10-th signal, 10.0% done\n",
      "Injecting 11-th signal, 11.0% done\n",
      "Injecting 12-th signal, 12.0% done\n",
      "Injecting 13-th signal, 13.0% done\n"
     ]
    },
    {
     "name": "stderr",
     "output_type": "stream",
     "text": [
      "18:40 bilby WARNING : The injected signal has a duration in-band of 96.8s, but the data for detector H1 has a duration of 32s\n",
      "18:40 bilby WARNING : The injected signal has a duration in-band of 96.8s, but the data for detector L1 has a duration of 32s\n",
      "18:40 bilby WARNING : The injected signal has a duration in-band of 96.8s, but the data for detector V1 has a duration of 32s\n"
     ]
    },
    {
     "name": "stdout",
     "output_type": "stream",
     "text": [
      "Injecting 14-th signal, 14.0% done\n"
     ]
    },
    {
     "name": "stderr",
     "output_type": "stream",
     "text": [
      "18:40 bilby WARNING : The injected signal has a duration in-band of 114.9s, but the data for detector H1 has a duration of 32s\n",
      "18:40 bilby WARNING : The injected signal has a duration in-band of 114.9s, but the data for detector L1 has a duration of 32s\n",
      "18:40 bilby WARNING : The injected signal has a duration in-band of 114.9s, but the data for detector V1 has a duration of 32s\n",
      "18:40 bilby WARNING : The injected signal has a duration in-band of 59.5s, but the data for detector H1 has a duration of 32s\n",
      "18:40 bilby WARNING : The injected signal has a duration in-band of 59.5s, but the data for detector L1 has a duration of 32s\n",
      "18:40 bilby WARNING : The injected signal has a duration in-band of 59.5s, but the data for detector V1 has a duration of 32s\n",
      "18:40 bilby WARNING : The injected signal has a duration in-band of 158.6s, but the data for detector H1 has a duration of 32s\n",
      "18:40 bilby WARNING : The injected signal has a duration in-band of 158.6s, but the data for detector L1 has a duration of 32s\n",
      "18:40 bilby WARNING : The injected signal has a duration in-band of 158.6s, but the data for detector V1 has a duration of 32s\n",
      "18:40 bilby WARNING : The injected signal has a duration in-band of 156.7s, but the data for detector H1 has a duration of 32s\n",
      "18:40 bilby WARNING : The injected signal has a duration in-band of 156.7s, but the data for detector L1 has a duration of 32s\n",
      "18:40 bilby WARNING : The injected signal has a duration in-band of 156.7s, but the data for detector V1 has a duration of 32s\n"
     ]
    },
    {
     "name": "stdout",
     "output_type": "stream",
     "text": [
      "Injecting 15-th signal, 15.0% done\n",
      "Injecting 16-th signal, 16.0% done\n",
      "Injecting 17-th signal, 17.0% done\n"
     ]
    },
    {
     "name": "stderr",
     "output_type": "stream",
     "text": [
      "18:40 bilby WARNING : The injected signal has a duration in-band of 77.1s, but the data for detector H1 has a duration of 32s\n",
      "18:40 bilby WARNING : The injected signal has a duration in-band of 77.1s, but the data for detector L1 has a duration of 32s\n",
      "18:40 bilby WARNING : The injected signal has a duration in-band of 77.1s, but the data for detector V1 has a duration of 32s\n"
     ]
    },
    {
     "name": "stdout",
     "output_type": "stream",
     "text": [
      "Injecting 18-th signal, 18.0% done\n",
      "Injecting 19-th signal, 19.0% done\n"
     ]
    },
    {
     "name": "stderr",
     "output_type": "stream",
     "text": [
      "18:40 bilby WARNING : The injected signal has a duration in-band of 134.7s, but the data for detector H1 has a duration of 32s\n",
      "18:40 bilby WARNING : The injected signal has a duration in-band of 134.7s, but the data for detector L1 has a duration of 32s\n",
      "18:40 bilby WARNING : The injected signal has a duration in-band of 134.7s, but the data for detector V1 has a duration of 32s\n",
      "18:40 bilby WARNING : The injected signal has a duration in-band of 67.6s, but the data for detector H1 has a duration of 32s\n",
      "18:40 bilby WARNING : The injected signal has a duration in-band of 67.6s, but the data for detector L1 has a duration of 32s\n",
      "18:40 bilby WARNING : The injected signal has a duration in-band of 67.6s, but the data for detector V1 has a duration of 32s\n",
      "18:40 bilby WARNING : The injected signal has a duration in-band of 88.1s, but the data for detector H1 has a duration of 32s\n",
      "18:40 bilby WARNING : The injected signal has a duration in-band of 88.1s, but the data for detector L1 has a duration of 32s\n",
      "18:40 bilby WARNING : The injected signal has a duration in-band of 88.1s, but the data for detector V1 has a duration of 32s\n"
     ]
    },
    {
     "name": "stdout",
     "output_type": "stream",
     "text": [
      "Injecting 20-th signal, 20.0% done\n",
      "Injecting 21-th signal, 21.0% done\n",
      "Injecting 22-th signal, 22.0% done\n"
     ]
    },
    {
     "name": "stderr",
     "output_type": "stream",
     "text": [
      "18:40 bilby WARNING : The injected signal has a duration in-band of 107.2s, but the data for detector H1 has a duration of 32s\n",
      "18:40 bilby WARNING : The injected signal has a duration in-band of 107.2s, but the data for detector L1 has a duration of 32s\n",
      "18:40 bilby WARNING : The injected signal has a duration in-band of 107.2s, but the data for detector V1 has a duration of 32s\n",
      "18:40 bilby WARNING : The injected signal has a duration in-band of 198.6s, but the data for detector H1 has a duration of 32s\n",
      "18:40 bilby WARNING : The injected signal has a duration in-band of 198.6s, but the data for detector L1 has a duration of 32s\n",
      "18:40 bilby WARNING : The injected signal has a duration in-band of 198.6s, but the data for detector V1 has a duration of 32s\n"
     ]
    },
    {
     "name": "stdout",
     "output_type": "stream",
     "text": [
      "Injecting 23-th signal, 23.0% done\n",
      "Injecting 24-th signal, 24.0% done\n"
     ]
    },
    {
     "name": "stderr",
     "output_type": "stream",
     "text": [
      "18:40 bilby WARNING : The injected signal has a duration in-band of 170.9s, but the data for detector H1 has a duration of 32s\n",
      "18:40 bilby WARNING : The injected signal has a duration in-band of 170.9s, but the data for detector L1 has a duration of 32s\n",
      "18:40 bilby WARNING : The injected signal has a duration in-band of 170.9s, but the data for detector V1 has a duration of 32s\n",
      "18:40 bilby WARNING : The injected signal has a duration in-band of 91.9s, but the data for detector H1 has a duration of 32s\n",
      "18:40 bilby WARNING : The injected signal has a duration in-band of 91.9s, but the data for detector L1 has a duration of 32s\n",
      "18:40 bilby WARNING : The injected signal has a duration in-band of 91.9s, but the data for detector V1 has a duration of 32s\n",
      "18:40 bilby WARNING : The injected signal has a duration in-band of 123.9s, but the data for detector H1 has a duration of 32s\n",
      "18:40 bilby WARNING : The injected signal has a duration in-band of 123.9s, but the data for detector L1 has a duration of 32s\n",
      "18:40 bilby WARNING : The injected signal has a duration in-band of 123.9s, but the data for detector V1 has a duration of 32s\n"
     ]
    },
    {
     "name": "stdout",
     "output_type": "stream",
     "text": [
      "Injecting 25-th signal, 25.0% done\n",
      "Injecting 26-th signal, 26.0% done\n",
      "Injecting 27-th signal, 27.0% done\n"
     ]
    },
    {
     "name": "stderr",
     "output_type": "stream",
     "text": [
      "18:40 bilby WARNING : The injected signal has a duration in-band of 156.9s, but the data for detector H1 has a duration of 32s\n",
      "18:40 bilby WARNING : The injected signal has a duration in-band of 156.9s, but the data for detector L1 has a duration of 32s\n",
      "18:40 bilby WARNING : The injected signal has a duration in-band of 156.9s, but the data for detector V1 has a duration of 32s\n",
      "18:40 bilby WARNING : The injected signal has a duration in-band of 118.8s, but the data for detector H1 has a duration of 32s\n",
      "18:40 bilby WARNING : The injected signal has a duration in-band of 118.8s, but the data for detector L1 has a duration of 32s\n",
      "18:40 bilby WARNING : The injected signal has a duration in-band of 118.8s, but the data for detector V1 has a duration of 32s\n"
     ]
    },
    {
     "name": "stdout",
     "output_type": "stream",
     "text": [
      "Injecting 28-th signal, 28.0% done\n",
      "Injecting 29-th signal, 29.0% done\n"
     ]
    },
    {
     "name": "stderr",
     "output_type": "stream",
     "text": [
      "18:40 bilby WARNING : The injected signal has a duration in-band of 72.6s, but the data for detector H1 has a duration of 32s\n",
      "18:40 bilby WARNING : The injected signal has a duration in-band of 72.6s, but the data for detector L1 has a duration of 32s\n",
      "18:40 bilby WARNING : The injected signal has a duration in-band of 72.6s, but the data for detector V1 has a duration of 32s\n",
      "18:40 bilby WARNING : The injected signal has a duration in-band of 95.0s, but the data for detector H1 has a duration of 32s\n",
      "18:40 bilby WARNING : The injected signal has a duration in-band of 95.0s, but the data for detector L1 has a duration of 32s\n",
      "18:40 bilby WARNING : The injected signal has a duration in-band of 95.0s, but the data for detector V1 has a duration of 32s\n",
      "18:40 bilby WARNING : The injected signal has a duration in-band of 130.9s, but the data for detector H1 has a duration of 32s\n",
      "18:40 bilby WARNING : The injected signal has a duration in-band of 130.9s, but the data for detector L1 has a duration of 32s\n",
      "18:40 bilby WARNING : The injected signal has a duration in-band of 130.9s, but the data for detector V1 has a duration of 32s\n"
     ]
    },
    {
     "name": "stdout",
     "output_type": "stream",
     "text": [
      "Injecting 30-th signal, 30.0% done\n",
      "Injecting 31-th signal, 31.0% done\n",
      "Injecting 32-th signal, 32.0% done\n"
     ]
    },
    {
     "name": "stderr",
     "output_type": "stream",
     "text": [
      "18:40 bilby WARNING : The injected signal has a duration in-band of 249.7s, but the data for detector H1 has a duration of 32s\n",
      "18:40 bilby WARNING : The injected signal has a duration in-band of 249.7s, but the data for detector L1 has a duration of 32s\n",
      "18:40 bilby WARNING : The injected signal has a duration in-band of 249.7s, but the data for detector V1 has a duration of 32s\n",
      "18:40 bilby WARNING : The injected signal has a duration in-band of 138.5s, but the data for detector H1 has a duration of 32s\n",
      "18:40 bilby WARNING : The injected signal has a duration in-band of 138.5s, but the data for detector L1 has a duration of 32s\n",
      "18:40 bilby WARNING : The injected signal has a duration in-band of 138.5s, but the data for detector V1 has a duration of 32s\n"
     ]
    },
    {
     "name": "stdout",
     "output_type": "stream",
     "text": [
      "Injecting 33-th signal, 33.0% done\n",
      "Injecting 34-th signal, 34.0% done\n"
     ]
    },
    {
     "name": "stderr",
     "output_type": "stream",
     "text": [
      "18:40 bilby WARNING : The injected signal has a duration in-band of 74.4s, but the data for detector H1 has a duration of 32s\n",
      "18:40 bilby WARNING : The injected signal has a duration in-band of 74.4s, but the data for detector L1 has a duration of 32s\n",
      "18:40 bilby WARNING : The injected signal has a duration in-band of 74.4s, but the data for detector V1 has a duration of 32s\n",
      "18:40 bilby WARNING : The injected signal has a duration in-band of 66.6s, but the data for detector H1 has a duration of 32s\n",
      "18:40 bilby WARNING : The injected signal has a duration in-band of 66.6s, but the data for detector L1 has a duration of 32s\n",
      "18:40 bilby WARNING : The injected signal has a duration in-band of 66.6s, but the data for detector V1 has a duration of 32s\n",
      "18:40 bilby WARNING : The injected signal has a duration in-band of 62.6s, but the data for detector H1 has a duration of 32s\n",
      "18:40 bilby WARNING : The injected signal has a duration in-band of 62.6s, but the data for detector L1 has a duration of 32s\n",
      "18:40 bilby WARNING : The injected signal has a duration in-band of 62.6s, but the data for detector V1 has a duration of 32s\n"
     ]
    },
    {
     "name": "stdout",
     "output_type": "stream",
     "text": [
      "Injecting 35-th signal, 35.0% done\n",
      "Injecting 36-th signal, 36.0% done\n",
      "Injecting 37-th signal, 37.0% done\n"
     ]
    },
    {
     "name": "stderr",
     "output_type": "stream",
     "text": [
      "18:40 bilby WARNING : The injected signal has a duration in-band of 126.9s, but the data for detector H1 has a duration of 32s\n",
      "18:40 bilby WARNING : The injected signal has a duration in-band of 126.9s, but the data for detector L1 has a duration of 32s\n",
      "18:40 bilby WARNING : The injected signal has a duration in-band of 126.9s, but the data for detector V1 has a duration of 32s\n",
      "18:40 bilby WARNING : The injected signal has a duration in-band of 111.1s, but the data for detector H1 has a duration of 32s\n",
      "18:40 bilby WARNING : The injected signal has a duration in-band of 111.1s, but the data for detector L1 has a duration of 32s\n",
      "18:40 bilby WARNING : The injected signal has a duration in-band of 111.1s, but the data for detector V1 has a duration of 32s\n"
     ]
    },
    {
     "name": "stdout",
     "output_type": "stream",
     "text": [
      "Injecting 38-th signal, 38.0% done\n",
      "Injecting 39-th signal, 39.0% done\n"
     ]
    },
    {
     "name": "stderr",
     "output_type": "stream",
     "text": [
      "18:40 bilby WARNING : The injected signal has a duration in-band of 71.8s, but the data for detector H1 has a duration of 32s\n",
      "18:40 bilby WARNING : The injected signal has a duration in-band of 71.8s, but the data for detector L1 has a duration of 32s\n",
      "18:40 bilby WARNING : The injected signal has a duration in-band of 71.8s, but the data for detector V1 has a duration of 32s\n",
      "18:40 bilby WARNING : The injected signal has a duration in-band of 106.1s, but the data for detector H1 has a duration of 32s\n",
      "18:40 bilby WARNING : The injected signal has a duration in-band of 106.1s, but the data for detector L1 has a duration of 32s\n",
      "18:40 bilby WARNING : The injected signal has a duration in-band of 106.1s, but the data for detector V1 has a duration of 32s\n",
      "18:40 bilby WARNING : The injected signal has a duration in-band of 106.4s, but the data for detector H1 has a duration of 32s\n",
      "18:40 bilby WARNING : The injected signal has a duration in-band of 106.4s, but the data for detector L1 has a duration of 32s\n",
      "18:40 bilby WARNING : The injected signal has a duration in-band of 106.4s, but the data for detector V1 has a duration of 32s\n"
     ]
    },
    {
     "name": "stdout",
     "output_type": "stream",
     "text": [
      "Injecting 40-th signal, 40.0% done\n",
      "Injecting 41-th signal, 41.0% done\n",
      "Injecting 42-th signal, 42.0% done\n"
     ]
    },
    {
     "name": "stderr",
     "output_type": "stream",
     "text": [
      "18:40 bilby WARNING : The injected signal has a duration in-band of 107.1s, but the data for detector H1 has a duration of 32s\n",
      "18:40 bilby WARNING : The injected signal has a duration in-band of 107.1s, but the data for detector L1 has a duration of 32s\n",
      "18:40 bilby WARNING : The injected signal has a duration in-band of 107.1s, but the data for detector V1 has a duration of 32s\n",
      "18:40 bilby WARNING : The injected signal has a duration in-band of 113.7s, but the data for detector H1 has a duration of 32s\n",
      "18:40 bilby WARNING : The injected signal has a duration in-band of 113.7s, but the data for detector L1 has a duration of 32s\n",
      "18:40 bilby WARNING : The injected signal has a duration in-band of 113.7s, but the data for detector V1 has a duration of 32s\n"
     ]
    },
    {
     "name": "stdout",
     "output_type": "stream",
     "text": [
      "Injecting 43-th signal, 43.0% done\n",
      "Injecting 44-th signal, 44.0% done\n"
     ]
    },
    {
     "name": "stderr",
     "output_type": "stream",
     "text": [
      "18:40 bilby WARNING : The injected signal has a duration in-band of 183.9s, but the data for detector H1 has a duration of 32s\n",
      "18:40 bilby WARNING : The injected signal has a duration in-band of 183.9s, but the data for detector L1 has a duration of 32s\n",
      "18:40 bilby WARNING : The injected signal has a duration in-band of 183.9s, but the data for detector V1 has a duration of 32s\n",
      "18:40 bilby WARNING : The injected signal has a duration in-band of 88.7s, but the data for detector H1 has a duration of 32s\n",
      "18:40 bilby WARNING : The injected signal has a duration in-band of 88.7s, but the data for detector L1 has a duration of 32s\n",
      "18:40 bilby WARNING : The injected signal has a duration in-band of 88.7s, but the data for detector V1 has a duration of 32s\n",
      "18:40 bilby WARNING : The injected signal has a duration in-band of 116.4s, but the data for detector H1 has a duration of 32s\n",
      "18:40 bilby WARNING : The injected signal has a duration in-band of 116.4s, but the data for detector L1 has a duration of 32s\n",
      "18:40 bilby WARNING : The injected signal has a duration in-band of 116.4s, but the data for detector V1 has a duration of 32s\n"
     ]
    },
    {
     "name": "stdout",
     "output_type": "stream",
     "text": [
      "Injecting 45-th signal, 45.0% done\n",
      "Injecting 46-th signal, 46.0% done\n",
      "Injecting 47-th signal, 47.0% done\n"
     ]
    },
    {
     "name": "stderr",
     "output_type": "stream",
     "text": [
      "18:40 bilby WARNING : The injected signal has a duration in-band of 91.4s, but the data for detector H1 has a duration of 32s\n",
      "18:40 bilby WARNING : The injected signal has a duration in-band of 91.4s, but the data for detector L1 has a duration of 32s\n",
      "18:40 bilby WARNING : The injected signal has a duration in-band of 91.4s, but the data for detector V1 has a duration of 32s\n",
      "18:40 bilby WARNING : The injected signal has a duration in-band of 140.0s, but the data for detector H1 has a duration of 32s\n",
      "18:40 bilby WARNING : The injected signal has a duration in-band of 140.0s, but the data for detector L1 has a duration of 32s\n",
      "18:40 bilby WARNING : The injected signal has a duration in-band of 140.0s, but the data for detector V1 has a duration of 32s\n"
     ]
    },
    {
     "name": "stdout",
     "output_type": "stream",
     "text": [
      "Injecting 48-th signal, 48.0% done\n",
      "Injecting 49-th signal, 49.0% done\n"
     ]
    },
    {
     "name": "stderr",
     "output_type": "stream",
     "text": [
      "18:40 bilby WARNING : The injected signal has a duration in-band of 116.0s, but the data for detector H1 has a duration of 32s\n",
      "18:40 bilby WARNING : The injected signal has a duration in-band of 116.0s, but the data for detector L1 has a duration of 32s\n",
      "18:40 bilby WARNING : The injected signal has a duration in-band of 116.0s, but the data for detector V1 has a duration of 32s\n",
      "18:40 bilby WARNING : The injected signal has a duration in-band of 150.4s, but the data for detector H1 has a duration of 32s\n",
      "18:40 bilby WARNING : The injected signal has a duration in-band of 150.4s, but the data for detector L1 has a duration of 32s\n",
      "18:40 bilby WARNING : The injected signal has a duration in-band of 150.4s, but the data for detector V1 has a duration of 32s\n",
      "18:40 bilby WARNING : The injected signal has a duration in-band of 119.1s, but the data for detector H1 has a duration of 32s\n",
      "18:40 bilby WARNING : The injected signal has a duration in-band of 119.1s, but the data for detector L1 has a duration of 32s\n",
      "18:40 bilby WARNING : The injected signal has a duration in-band of 119.1s, but the data for detector V1 has a duration of 32s\n"
     ]
    },
    {
     "name": "stdout",
     "output_type": "stream",
     "text": [
      "Injecting 50-th signal, 50.0% done\n",
      "Injecting 51-th signal, 51.0% done\n",
      "Injecting 52-th signal, 52.0% done\n"
     ]
    },
    {
     "name": "stderr",
     "output_type": "stream",
     "text": [
      "18:40 bilby WARNING : The injected signal has a duration in-band of 168.1s, but the data for detector H1 has a duration of 32s\n",
      "18:40 bilby WARNING : The injected signal has a duration in-band of 168.1s, but the data for detector L1 has a duration of 32s\n",
      "18:40 bilby WARNING : The injected signal has a duration in-band of 168.1s, but the data for detector V1 has a duration of 32s\n",
      "18:40 bilby WARNING : The injected signal has a duration in-band of 127.0s, but the data for detector H1 has a duration of 32s\n",
      "18:40 bilby WARNING : The injected signal has a duration in-band of 127.0s, but the data for detector L1 has a duration of 32s\n",
      "18:40 bilby WARNING : The injected signal has a duration in-band of 127.0s, but the data for detector V1 has a duration of 32s\n"
     ]
    },
    {
     "name": "stdout",
     "output_type": "stream",
     "text": [
      "Injecting 53-th signal, 53.0% done\n",
      "Injecting 54-th signal, 54.0% done\n"
     ]
    },
    {
     "name": "stderr",
     "output_type": "stream",
     "text": [
      "18:40 bilby WARNING : The injected signal has a duration in-band of 139.7s, but the data for detector H1 has a duration of 32s\n",
      "18:40 bilby WARNING : The injected signal has a duration in-band of 139.7s, but the data for detector L1 has a duration of 32s\n",
      "18:40 bilby WARNING : The injected signal has a duration in-band of 139.7s, but the data for detector V1 has a duration of 32s\n",
      "18:40 bilby WARNING : The injected signal has a duration in-band of 86.1s, but the data for detector H1 has a duration of 32s\n",
      "18:40 bilby WARNING : The injected signal has a duration in-band of 86.1s, but the data for detector L1 has a duration of 32s\n",
      "18:40 bilby WARNING : The injected signal has a duration in-band of 86.1s, but the data for detector V1 has a duration of 32s\n",
      "18:40 bilby WARNING : The injected signal has a duration in-band of 108.6s, but the data for detector H1 has a duration of 32s\n",
      "18:40 bilby WARNING : The injected signal has a duration in-band of 108.6s, but the data for detector L1 has a duration of 32s\n",
      "18:40 bilby WARNING : The injected signal has a duration in-band of 108.6s, but the data for detector V1 has a duration of 32s\n"
     ]
    },
    {
     "name": "stdout",
     "output_type": "stream",
     "text": [
      "Injecting 55-th signal, 55.0% done\n",
      "Injecting 56-th signal, 56.0% done\n",
      "Injecting 57-th signal, 57.0% done\n"
     ]
    },
    {
     "name": "stderr",
     "output_type": "stream",
     "text": [
      "18:40 bilby WARNING : The injected signal has a duration in-band of 138.4s, but the data for detector H1 has a duration of 32s\n",
      "18:40 bilby WARNING : The injected signal has a duration in-band of 138.4s, but the data for detector L1 has a duration of 32s\n",
      "18:40 bilby WARNING : The injected signal has a duration in-band of 138.4s, but the data for detector V1 has a duration of 32s\n",
      "18:40 bilby WARNING : The injected signal has a duration in-band of 95.4s, but the data for detector H1 has a duration of 32s\n",
      "18:40 bilby WARNING : The injected signal has a duration in-band of 95.4s, but the data for detector L1 has a duration of 32s\n",
      "18:40 bilby WARNING : The injected signal has a duration in-band of 95.4s, but the data for detector V1 has a duration of 32s\n"
     ]
    },
    {
     "name": "stdout",
     "output_type": "stream",
     "text": [
      "Injecting 58-th signal, 58.0% done\n",
      "Injecting 59-th signal, 59.0% done\n"
     ]
    },
    {
     "name": "stderr",
     "output_type": "stream",
     "text": [
      "18:40 bilby WARNING : The injected signal has a duration in-band of 147.3s, but the data for detector H1 has a duration of 32s\n",
      "18:40 bilby WARNING : The injected signal has a duration in-band of 147.3s, but the data for detector L1 has a duration of 32s\n",
      "18:40 bilby WARNING : The injected signal has a duration in-band of 147.3s, but the data for detector V1 has a duration of 32s\n",
      "18:40 bilby WARNING : The injected signal has a duration in-band of 69.9s, but the data for detector H1 has a duration of 32s\n",
      "18:40 bilby WARNING : The injected signal has a duration in-band of 69.9s, but the data for detector L1 has a duration of 32s\n",
      "18:40 bilby WARNING : The injected signal has a duration in-band of 69.9s, but the data for detector V1 has a duration of 32s\n",
      "18:40 bilby WARNING : The injected signal has a duration in-band of 94.9s, but the data for detector H1 has a duration of 32s\n",
      "18:40 bilby WARNING : The injected signal has a duration in-band of 94.9s, but the data for detector L1 has a duration of 32s\n",
      "18:40 bilby WARNING : The injected signal has a duration in-band of 94.9s, but the data for detector V1 has a duration of 32s\n"
     ]
    },
    {
     "name": "stdout",
     "output_type": "stream",
     "text": [
      "Injecting 60-th signal, 60.0% done\n",
      "Injecting 61-th signal, 61.0% done\n",
      "Injecting 62-th signal, 62.0% done\n"
     ]
    },
    {
     "name": "stderr",
     "output_type": "stream",
     "text": [
      "18:40 bilby WARNING : The injected signal has a duration in-band of 124.5s, but the data for detector H1 has a duration of 32s\n",
      "18:40 bilby WARNING : The injected signal has a duration in-band of 124.5s, but the data for detector L1 has a duration of 32s\n",
      "18:40 bilby WARNING : The injected signal has a duration in-band of 124.5s, but the data for detector V1 has a duration of 32s\n",
      "18:40 bilby WARNING : The injected signal has a duration in-band of 112.8s, but the data for detector H1 has a duration of 32s\n",
      "18:40 bilby WARNING : The injected signal has a duration in-band of 112.8s, but the data for detector L1 has a duration of 32s\n",
      "18:40 bilby WARNING : The injected signal has a duration in-band of 112.8s, but the data for detector V1 has a duration of 32s\n"
     ]
    },
    {
     "name": "stdout",
     "output_type": "stream",
     "text": [
      "Injecting 63-th signal, 63.0% done\n",
      "Injecting 64-th signal, 64.0% done\n"
     ]
    },
    {
     "name": "stderr",
     "output_type": "stream",
     "text": [
      "18:40 bilby WARNING : The injected signal has a duration in-band of 118.0s, but the data for detector H1 has a duration of 32s\n",
      "18:40 bilby WARNING : The injected signal has a duration in-band of 118.0s, but the data for detector L1 has a duration of 32s\n",
      "18:40 bilby WARNING : The injected signal has a duration in-band of 118.0s, but the data for detector V1 has a duration of 32s\n",
      "18:40 bilby WARNING : The injected signal has a duration in-band of 104.6s, but the data for detector H1 has a duration of 32s\n",
      "18:40 bilby WARNING : The injected signal has a duration in-band of 104.6s, but the data for detector L1 has a duration of 32s\n",
      "18:40 bilby WARNING : The injected signal has a duration in-band of 104.6s, but the data for detector V1 has a duration of 32s\n",
      "18:40 bilby WARNING : The injected signal has a duration in-band of 115.3s, but the data for detector H1 has a duration of 32s\n",
      "18:40 bilby WARNING : The injected signal has a duration in-band of 115.3s, but the data for detector L1 has a duration of 32s\n",
      "18:40 bilby WARNING : The injected signal has a duration in-band of 115.3s, but the data for detector V1 has a duration of 32s\n"
     ]
    },
    {
     "name": "stdout",
     "output_type": "stream",
     "text": [
      "Injecting 65-th signal, 65.0% done\n",
      "Injecting 66-th signal, 66.0% done\n",
      "Injecting 67-th signal, 67.0% done\n"
     ]
    },
    {
     "name": "stderr",
     "output_type": "stream",
     "text": [
      "18:40 bilby WARNING : The injected signal has a duration in-band of 226.2s, but the data for detector H1 has a duration of 32s\n",
      "18:40 bilby WARNING : The injected signal has a duration in-band of 226.2s, but the data for detector L1 has a duration of 32s\n",
      "18:40 bilby WARNING : The injected signal has a duration in-band of 226.2s, but the data for detector V1 has a duration of 32s\n",
      "18:40 bilby WARNING : The injected signal has a duration in-band of 117.7s, but the data for detector H1 has a duration of 32s\n",
      "18:40 bilby WARNING : The injected signal has a duration in-band of 117.7s, but the data for detector L1 has a duration of 32s\n",
      "18:40 bilby WARNING : The injected signal has a duration in-band of 117.7s, but the data for detector V1 has a duration of 32s\n"
     ]
    },
    {
     "name": "stdout",
     "output_type": "stream",
     "text": [
      "Injecting 68-th signal, 68.0% done\n",
      "Injecting 69-th signal, 69.0% done\n"
     ]
    },
    {
     "name": "stderr",
     "output_type": "stream",
     "text": [
      "18:40 bilby WARNING : The injected signal has a duration in-band of 117.4s, but the data for detector H1 has a duration of 32s\n",
      "18:40 bilby WARNING : The injected signal has a duration in-band of 117.4s, but the data for detector L1 has a duration of 32s\n",
      "18:40 bilby WARNING : The injected signal has a duration in-band of 117.4s, but the data for detector V1 has a duration of 32s\n",
      "18:40 bilby WARNING : The injected signal has a duration in-band of 53.3s, but the data for detector H1 has a duration of 32s\n",
      "18:40 bilby WARNING : The injected signal has a duration in-band of 53.3s, but the data for detector L1 has a duration of 32s\n",
      "18:40 bilby WARNING : The injected signal has a duration in-band of 53.3s, but the data for detector V1 has a duration of 32s\n",
      "18:40 bilby WARNING : The injected signal has a duration in-band of 60.7s, but the data for detector H1 has a duration of 32s\n",
      "18:40 bilby WARNING : The injected signal has a duration in-band of 60.7s, but the data for detector L1 has a duration of 32s\n",
      "18:40 bilby WARNING : The injected signal has a duration in-band of 60.7s, but the data for detector V1 has a duration of 32s\n"
     ]
    },
    {
     "name": "stdout",
     "output_type": "stream",
     "text": [
      "Injecting 70-th signal, 70.0% done\n",
      "Injecting 71-th signal, 71.0% done\n",
      "Injecting 72-th signal, 72.0% done\n"
     ]
    },
    {
     "name": "stderr",
     "output_type": "stream",
     "text": [
      "18:40 bilby WARNING : The injected signal has a duration in-band of 146.9s, but the data for detector H1 has a duration of 32s\n",
      "18:40 bilby WARNING : The injected signal has a duration in-band of 146.9s, but the data for detector L1 has a duration of 32s\n",
      "18:40 bilby WARNING : The injected signal has a duration in-band of 146.9s, but the data for detector V1 has a duration of 32s\n",
      "18:40 bilby WARNING : The injected signal has a duration in-band of 68.6s, but the data for detector H1 has a duration of 32s\n",
      "18:40 bilby WARNING : The injected signal has a duration in-band of 68.6s, but the data for detector L1 has a duration of 32s\n",
      "18:40 bilby WARNING : The injected signal has a duration in-band of 68.6s, but the data for detector V1 has a duration of 32s\n"
     ]
    },
    {
     "name": "stdout",
     "output_type": "stream",
     "text": [
      "Injecting 73-th signal, 73.0% done\n",
      "Injecting 74-th signal, 74.0% done\n"
     ]
    },
    {
     "name": "stderr",
     "output_type": "stream",
     "text": [
      "18:40 bilby WARNING : The injected signal has a duration in-band of 79.8s, but the data for detector H1 has a duration of 32s\n",
      "18:40 bilby WARNING : The injected signal has a duration in-band of 79.8s, but the data for detector L1 has a duration of 32s\n",
      "18:40 bilby WARNING : The injected signal has a duration in-band of 79.8s, but the data for detector V1 has a duration of 32s\n",
      "18:40 bilby WARNING : The injected signal has a duration in-band of 110.5s, but the data for detector H1 has a duration of 32s\n",
      "18:40 bilby WARNING : The injected signal has a duration in-band of 110.5s, but the data for detector L1 has a duration of 32s\n",
      "18:40 bilby WARNING : The injected signal has a duration in-band of 110.5s, but the data for detector V1 has a duration of 32s\n",
      "18:40 bilby WARNING : The injected signal has a duration in-band of 60.6s, but the data for detector H1 has a duration of 32s\n",
      "18:40 bilby WARNING : The injected signal has a duration in-band of 60.6s, but the data for detector L1 has a duration of 32s\n",
      "18:40 bilby WARNING : The injected signal has a duration in-band of 60.6s, but the data for detector V1 has a duration of 32s\n"
     ]
    },
    {
     "name": "stdout",
     "output_type": "stream",
     "text": [
      "Injecting 75-th signal, 75.0% done\n",
      "Injecting 76-th signal, 76.0% done\n"
     ]
    },
    {
     "name": "stderr",
     "output_type": "stream",
     "text": [
      "18:40 bilby WARNING : The injected signal has a duration in-band of 70.4s, but the data for detector H1 has a duration of 32s\n",
      "18:40 bilby WARNING : The injected signal has a duration in-band of 70.4s, but the data for detector L1 has a duration of 32s\n",
      "18:40 bilby WARNING : The injected signal has a duration in-band of 70.4s, but the data for detector V1 has a duration of 32s\n",
      "18:40 bilby WARNING : The injected signal has a duration in-band of 93.7s, but the data for detector H1 has a duration of 32s\n",
      "18:40 bilby WARNING : The injected signal has a duration in-band of 93.7s, but the data for detector L1 has a duration of 32s\n",
      "18:40 bilby WARNING : The injected signal has a duration in-band of 93.7s, but the data for detector V1 has a duration of 32s\n"
     ]
    },
    {
     "name": "stdout",
     "output_type": "stream",
     "text": [
      "Injecting 77-th signal, 77.0% done\n",
      "Injecting 78-th signal, 78.0% done\n",
      "Injecting 79-th signal, 79.0% done\n"
     ]
    },
    {
     "name": "stderr",
     "output_type": "stream",
     "text": [
      "18:40 bilby WARNING : The injected signal has a duration in-band of 110.4s, but the data for detector H1 has a duration of 32s\n",
      "18:40 bilby WARNING : The injected signal has a duration in-band of 110.4s, but the data for detector L1 has a duration of 32s\n",
      "18:40 bilby WARNING : The injected signal has a duration in-band of 110.4s, but the data for detector V1 has a duration of 32s\n",
      "18:40 bilby WARNING : The injected signal has a duration in-band of 59.5s, but the data for detector H1 has a duration of 32s\n",
      "18:40 bilby WARNING : The injected signal has a duration in-band of 59.5s, but the data for detector L1 has a duration of 32s\n",
      "18:40 bilby WARNING : The injected signal has a duration in-band of 59.5s, but the data for detector V1 has a duration of 32s\n"
     ]
    },
    {
     "name": "stdout",
     "output_type": "stream",
     "text": [
      "Injecting 80-th signal, 80.0% done\n",
      "Injecting 81-th signal, 81.0% done\n"
     ]
    },
    {
     "name": "stderr",
     "output_type": "stream",
     "text": [
      "18:40 bilby WARNING : The injected signal has a duration in-band of 181.7s, but the data for detector H1 has a duration of 32s\n",
      "18:40 bilby WARNING : The injected signal has a duration in-band of 181.7s, but the data for detector L1 has a duration of 32s\n",
      "18:40 bilby WARNING : The injected signal has a duration in-band of 181.7s, but the data for detector V1 has a duration of 32s\n",
      "18:40 bilby WARNING : The injected signal has a duration in-band of 54.6s, but the data for detector H1 has a duration of 32s\n",
      "18:40 bilby WARNING : The injected signal has a duration in-band of 54.6s, but the data for detector L1 has a duration of 32s\n",
      "18:40 bilby WARNING : The injected signal has a duration in-band of 54.6s, but the data for detector V1 has a duration of 32s\n",
      "18:40 bilby WARNING : The injected signal has a duration in-band of 113.2s, but the data for detector H1 has a duration of 32s\n",
      "18:40 bilby WARNING : The injected signal has a duration in-band of 113.2s, but the data for detector L1 has a duration of 32s\n",
      "18:40 bilby WARNING : The injected signal has a duration in-band of 113.2s, but the data for detector V1 has a duration of 32s\n"
     ]
    },
    {
     "name": "stdout",
     "output_type": "stream",
     "text": [
      "Injecting 82-th signal, 82.0% done\n",
      "Injecting 83-th signal, 83.0% done\n",
      "Injecting 84-th signal, 84.0% done\n"
     ]
    },
    {
     "name": "stderr",
     "output_type": "stream",
     "text": [
      "18:40 bilby WARNING : The injected signal has a duration in-band of 139.0s, but the data for detector H1 has a duration of 32s\n",
      "18:40 bilby WARNING : The injected signal has a duration in-band of 139.0s, but the data for detector L1 has a duration of 32s\n",
      "18:40 bilby WARNING : The injected signal has a duration in-band of 139.0s, but the data for detector V1 has a duration of 32s\n",
      "18:40 bilby WARNING : The injected signal has a duration in-band of 191.9s, but the data for detector H1 has a duration of 32s\n",
      "18:40 bilby WARNING : The injected signal has a duration in-band of 191.9s, but the data for detector L1 has a duration of 32s\n",
      "18:40 bilby WARNING : The injected signal has a duration in-band of 191.9s, but the data for detector V1 has a duration of 32s\n"
     ]
    },
    {
     "name": "stdout",
     "output_type": "stream",
     "text": [
      "Injecting 85-th signal, 85.0% done\n",
      "Injecting 86-th signal, 86.0% done\n"
     ]
    },
    {
     "name": "stderr",
     "output_type": "stream",
     "text": [
      "18:40 bilby WARNING : The injected signal has a duration in-band of 119.4s, but the data for detector H1 has a duration of 32s\n",
      "18:40 bilby WARNING : The injected signal has a duration in-band of 119.4s, but the data for detector L1 has a duration of 32s\n",
      "18:40 bilby WARNING : The injected signal has a duration in-band of 119.4s, but the data for detector V1 has a duration of 32s\n",
      "18:40 bilby WARNING : The injected signal has a duration in-band of 191.3s, but the data for detector H1 has a duration of 32s\n",
      "18:40 bilby WARNING : The injected signal has a duration in-band of 191.3s, but the data for detector L1 has a duration of 32s\n",
      "18:40 bilby WARNING : The injected signal has a duration in-band of 191.3s, but the data for detector V1 has a duration of 32s\n",
      "18:40 bilby WARNING : The injected signal has a duration in-band of 114.1s, but the data for detector H1 has a duration of 32s\n",
      "18:40 bilby WARNING : The injected signal has a duration in-band of 114.1s, but the data for detector L1 has a duration of 32s\n",
      "18:40 bilby WARNING : The injected signal has a duration in-band of 114.1s, but the data for detector V1 has a duration of 32s\n"
     ]
    },
    {
     "name": "stdout",
     "output_type": "stream",
     "text": [
      "Injecting 87-th signal, 87.0% done\n",
      "Injecting 88-th signal, 88.0% done\n"
     ]
    },
    {
     "name": "stderr",
     "output_type": "stream",
     "text": [
      "18:40 bilby WARNING : The injected signal has a duration in-band of 145.9s, but the data for detector H1 has a duration of 32s\n",
      "18:40 bilby WARNING : The injected signal has a duration in-band of 145.9s, but the data for detector L1 has a duration of 32s\n",
      "18:40 bilby WARNING : The injected signal has a duration in-band of 145.9s, but the data for detector V1 has a duration of 32s\n",
      "18:40 bilby WARNING : The injected signal has a duration in-band of 102.1s, but the data for detector H1 has a duration of 32s\n",
      "18:40 bilby WARNING : The injected signal has a duration in-band of 102.1s, but the data for detector L1 has a duration of 32s\n"
     ]
    },
    {
     "name": "stdout",
     "output_type": "stream",
     "text": [
      "Injecting 89-th signal, 89.0% done\n",
      "Injecting 90-th signal, 90.0% done\n"
     ]
    },
    {
     "name": "stderr",
     "output_type": "stream",
     "text": [
      "18:40 bilby WARNING : The injected signal has a duration in-band of 102.1s, but the data for detector V1 has a duration of 32s\n",
      "18:40 bilby WARNING : The injected signal has a duration in-band of 91.4s, but the data for detector H1 has a duration of 32s\n",
      "18:40 bilby WARNING : The injected signal has a duration in-band of 91.4s, but the data for detector L1 has a duration of 32s\n",
      "18:40 bilby WARNING : The injected signal has a duration in-band of 91.4s, but the data for detector V1 has a duration of 32s\n",
      "18:40 bilby WARNING : The injected signal has a duration in-band of 55.1s, but the data for detector H1 has a duration of 32s\n"
     ]
    },
    {
     "name": "stdout",
     "output_type": "stream",
     "text": [
      "Injecting 91-th signal, 91.0% done\n",
      "Injecting 92-th signal, 92.0% done\n"
     ]
    },
    {
     "name": "stderr",
     "output_type": "stream",
     "text": [
      "18:40 bilby WARNING : The injected signal has a duration in-band of 55.1s, but the data for detector L1 has a duration of 32s\n",
      "18:40 bilby WARNING : The injected signal has a duration in-band of 55.1s, but the data for detector V1 has a duration of 32s\n",
      "18:40 bilby WARNING : The injected signal has a duration in-band of 109.8s, but the data for detector H1 has a duration of 32s\n",
      "18:40 bilby WARNING : The injected signal has a duration in-band of 109.8s, but the data for detector L1 has a duration of 32s\n",
      "18:40 bilby WARNING : The injected signal has a duration in-band of 109.8s, but the data for detector V1 has a duration of 32s\n",
      "18:40 bilby WARNING : The injected signal has a duration in-band of 75.8s, but the data for detector H1 has a duration of 32s\n",
      "18:40 bilby WARNING : The injected signal has a duration in-band of 75.8s, but the data for detector L1 has a duration of 32s\n",
      "18:40 bilby WARNING : The injected signal has a duration in-band of 75.8s, but the data for detector V1 has a duration of 32s\n"
     ]
    },
    {
     "name": "stdout",
     "output_type": "stream",
     "text": [
      "Injecting 93-th signal, 93.0% done\n",
      "Injecting 94-th signal, 94.0% done\n",
      "Injecting 95-th signal, 95.0% done\n"
     ]
    },
    {
     "name": "stderr",
     "output_type": "stream",
     "text": [
      "18:40 bilby WARNING : The injected signal has a duration in-band of 159.4s, but the data for detector H1 has a duration of 32s\n",
      "18:40 bilby WARNING : The injected signal has a duration in-band of 159.4s, but the data for detector L1 has a duration of 32s\n",
      "18:40 bilby WARNING : The injected signal has a duration in-band of 159.4s, but the data for detector V1 has a duration of 32s\n",
      "18:40 bilby WARNING : The injected signal has a duration in-band of 175.3s, but the data for detector H1 has a duration of 32s\n",
      "18:40 bilby WARNING : The injected signal has a duration in-band of 175.3s, but the data for detector L1 has a duration of 32s\n",
      "18:40 bilby WARNING : The injected signal has a duration in-band of 175.3s, but the data for detector V1 has a duration of 32s\n"
     ]
    },
    {
     "name": "stdout",
     "output_type": "stream",
     "text": [
      "Injecting 96-th signal, 96.0% done\n",
      "Injecting 97-th signal, 97.0% done\n"
     ]
    },
    {
     "name": "stderr",
     "output_type": "stream",
     "text": [
      "18:40 bilby WARNING : The injected signal has a duration in-band of 110.9s, but the data for detector H1 has a duration of 32s\n",
      "18:40 bilby WARNING : The injected signal has a duration in-band of 110.9s, but the data for detector L1 has a duration of 32s\n",
      "18:40 bilby WARNING : The injected signal has a duration in-band of 110.9s, but the data for detector V1 has a duration of 32s\n",
      "18:40 bilby WARNING : The injected signal has a duration in-band of 124.0s, but the data for detector H1 has a duration of 32s\n",
      "18:40 bilby WARNING : The injected signal has a duration in-band of 124.0s, but the data for detector L1 has a duration of 32s\n",
      "18:40 bilby WARNING : The injected signal has a duration in-band of 124.0s, but the data for detector V1 has a duration of 32s\n",
      "18:40 bilby WARNING : The injected signal has a duration in-band of 217.7s, but the data for detector H1 has a duration of 32s\n",
      "18:40 bilby WARNING : The injected signal has a duration in-band of 217.7s, but the data for detector L1 has a duration of 32s\n",
      "18:40 bilby WARNING : The injected signal has a duration in-band of 217.7s, but the data for detector V1 has a duration of 32s\n"
     ]
    },
    {
     "name": "stdout",
     "output_type": "stream",
     "text": [
      "Injecting 98-th signal, 98.0% done\n",
      "Injecting 99-th signal, 99.0% done\n"
     ]
    },
    {
     "name": "stderr",
     "output_type": "stream",
     "text": [
      "18:40 bilby WARNING : The injected signal has a duration in-band of 118.7s, but the data for detector H1 has a duration of 32s\n",
      "18:40 bilby WARNING : The injected signal has a duration in-band of 118.7s, but the data for detector L1 has a duration of 32s\n",
      "18:40 bilby WARNING : The injected signal has a duration in-band of 118.7s, but the data for detector V1 has a duration of 32s\n",
      "18:40 bilby WARNING : The injected signal has a duration in-band of 74.6s, but the data for detector H1 has a duration of 32s\n",
      "18:40 bilby WARNING : The injected signal has a duration in-band of 74.6s, but the data for detector L1 has a duration of 32s\n",
      "18:40 bilby WARNING : The injected signal has a duration in-band of 74.6s, but the data for detector V1 has a duration of 32s\n",
      "18:40 bilby WARNING : The injected signal has a duration in-band of 83.1s, but the data for detector H1 has a duration of 32s\n",
      "18:40 bilby WARNING : The injected signal has a duration in-band of 83.1s, but the data for detector L1 has a duration of 32s\n",
      "18:40 bilby WARNING : The injected signal has a duration in-band of 83.1s, but the data for detector V1 has a duration of 32s\n",
      "18:40 bilby WARNING : The injected signal has a duration in-band of 85.7s, but the data for detector H1 has a duration of 32s\n",
      "18:40 bilby WARNING : The injected signal has a duration in-band of 85.7s, but the data for detector L1 has a duration of 32s\n",
      "18:40 bilby WARNING : The injected signal has a duration in-band of 85.7s, but the data for detector V1 has a duration of 32s\n"
     ]
    },
    {
     "name": "stdout",
     "output_type": "stream",
     "text": [
      "Injecting 0-th signal, 0.0% done\n",
      "Injecting 1-th signal, 1.0% done\n",
      "Injecting 2-th signal, 2.0% done\n",
      "Injecting 3-th signal, 3.0% done\n",
      "Injecting 4-th signal, 4.0% done\n"
     ]
    },
    {
     "name": "stderr",
     "output_type": "stream",
     "text": [
      "18:40 bilby WARNING : The injected signal has a duration in-band of 130.6s, but the data for detector H1 has a duration of 32s\n",
      "18:40 bilby WARNING : The injected signal has a duration in-band of 130.6s, but the data for detector L1 has a duration of 32s\n",
      "18:40 bilby WARNING : The injected signal has a duration in-band of 130.6s, but the data for detector V1 has a duration of 32s\n",
      "18:40 bilby WARNING : The injected signal has a duration in-band of 65.1s, but the data for detector H1 has a duration of 32s\n",
      "18:40 bilby WARNING : The injected signal has a duration in-band of 65.1s, but the data for detector L1 has a duration of 32s\n",
      "18:40 bilby WARNING : The injected signal has a duration in-band of 65.1s, but the data for detector V1 has a duration of 32s\n",
      "18:40 bilby WARNING : The injected signal has a duration in-band of 81.7s, but the data for detector H1 has a duration of 32s\n",
      "18:40 bilby WARNING : The injected signal has a duration in-band of 81.7s, but the data for detector L1 has a duration of 32s\n",
      "18:40 bilby WARNING : The injected signal has a duration in-band of 81.7s, but the data for detector V1 has a duration of 32s\n",
      "18:40 bilby WARNING : The injected signal has a duration in-band of 108.5s, but the data for detector H1 has a duration of 32s\n",
      "18:40 bilby WARNING : The injected signal has a duration in-band of 108.5s, but the data for detector L1 has a duration of 32s\n",
      "18:40 bilby WARNING : The injected signal has a duration in-band of 108.5s, but the data for detector V1 has a duration of 32s\n",
      "18:40 bilby WARNING : The injected signal has a duration in-band of 88.2s, but the data for detector H1 has a duration of 32s\n",
      "18:40 bilby WARNING : The injected signal has a duration in-band of 88.2s, but the data for detector L1 has a duration of 32s\n",
      "18:40 bilby WARNING : The injected signal has a duration in-band of 88.2s, but the data for detector V1 has a duration of 32s\n"
     ]
    },
    {
     "name": "stdout",
     "output_type": "stream",
     "text": [
      "Injecting 5-th signal, 5.0% done\n",
      "Injecting 6-th signal, 6.0% done\n",
      "Injecting 7-th signal, 7.0% done\n",
      "Injecting 8-th signal, 8.0% done\n",
      "Injecting 9-th signal, 9.0% done\n"
     ]
    },
    {
     "name": "stderr",
     "output_type": "stream",
     "text": [
      "18:40 bilby WARNING : The injected signal has a duration in-band of 170.3s, but the data for detector H1 has a duration of 32s\n",
      "18:40 bilby WARNING : The injected signal has a duration in-band of 170.3s, but the data for detector L1 has a duration of 32s\n",
      "18:40 bilby WARNING : The injected signal has a duration in-band of 170.3s, but the data for detector V1 has a duration of 32s\n",
      "18:40 bilby WARNING : The injected signal has a duration in-band of 62.5s, but the data for detector H1 has a duration of 32s\n",
      "18:40 bilby WARNING : The injected signal has a duration in-band of 62.5s, but the data for detector L1 has a duration of 32s\n",
      "18:40 bilby WARNING : The injected signal has a duration in-band of 62.5s, but the data for detector V1 has a duration of 32s\n",
      "18:40 bilby WARNING : The injected signal has a duration in-band of 98.6s, but the data for detector H1 has a duration of 32s\n",
      "18:40 bilby WARNING : The injected signal has a duration in-band of 98.6s, but the data for detector L1 has a duration of 32s\n",
      "18:40 bilby WARNING : The injected signal has a duration in-band of 98.6s, but the data for detector V1 has a duration of 32s\n",
      "18:40 bilby WARNING : The injected signal has a duration in-band of 134.6s, but the data for detector H1 has a duration of 32s\n",
      "18:40 bilby WARNING : The injected signal has a duration in-band of 134.6s, but the data for detector L1 has a duration of 32s\n",
      "18:40 bilby WARNING : The injected signal has a duration in-band of 134.6s, but the data for detector V1 has a duration of 32s\n",
      "18:40 bilby WARNING : The injected signal has a duration in-band of 53.5s, but the data for detector H1 has a duration of 32s\n",
      "18:40 bilby WARNING : The injected signal has a duration in-band of 53.5s, but the data for detector L1 has a duration of 32s\n",
      "18:40 bilby WARNING : The injected signal has a duration in-band of 53.5s, but the data for detector V1 has a duration of 32s\n"
     ]
    },
    {
     "name": "stdout",
     "output_type": "stream",
     "text": [
      "Injecting 10-th signal, 10.0% done\n",
      "Injecting 11-th signal, 11.0% done\n",
      "Injecting 12-th signal, 12.0% done\n",
      "Injecting 13-th signal, 13.0% done\n",
      "Injecting 14-th signal, 14.0% done\n"
     ]
    },
    {
     "name": "stderr",
     "output_type": "stream",
     "text": [
      "18:40 bilby WARNING : The injected signal has a duration in-band of 103.3s, but the data for detector H1 has a duration of 32s\n",
      "18:40 bilby WARNING : The injected signal has a duration in-band of 103.3s, but the data for detector L1 has a duration of 32s\n",
      "18:40 bilby WARNING : The injected signal has a duration in-band of 103.3s, but the data for detector V1 has a duration of 32s\n",
      "18:40 bilby WARNING : The injected signal has a duration in-band of 127.4s, but the data for detector H1 has a duration of 32s\n",
      "18:40 bilby WARNING : The injected signal has a duration in-band of 127.4s, but the data for detector L1 has a duration of 32s\n",
      "18:40 bilby WARNING : The injected signal has a duration in-band of 127.4s, but the data for detector V1 has a duration of 32s\n",
      "18:40 bilby WARNING : The injected signal has a duration in-band of 74.0s, but the data for detector H1 has a duration of 32s\n",
      "18:40 bilby WARNING : The injected signal has a duration in-band of 74.0s, but the data for detector L1 has a duration of 32s\n",
      "18:40 bilby WARNING : The injected signal has a duration in-band of 74.0s, but the data for detector V1 has a duration of 32s\n",
      "18:40 bilby WARNING : The injected signal has a duration in-band of 96.9s, but the data for detector H1 has a duration of 32s\n",
      "18:40 bilby WARNING : The injected signal has a duration in-band of 96.9s, but the data for detector L1 has a duration of 32s\n",
      "18:40 bilby WARNING : The injected signal has a duration in-band of 96.9s, but the data for detector V1 has a duration of 32s\n",
      "18:40 bilby WARNING : The injected signal has a duration in-band of 59.3s, but the data for detector H1 has a duration of 32s\n",
      "18:40 bilby WARNING : The injected signal has a duration in-band of 59.3s, but the data for detector L1 has a duration of 32s\n",
      "18:40 bilby WARNING : The injected signal has a duration in-band of 59.3s, but the data for detector V1 has a duration of 32s\n"
     ]
    },
    {
     "name": "stdout",
     "output_type": "stream",
     "text": [
      "Injecting 15-th signal, 15.0% done\n",
      "Injecting 16-th signal, 16.0% done\n",
      "Injecting 17-th signal, 17.0% done\n",
      "Injecting 18-th signal, 18.0% done\n",
      "Injecting 19-th signal, 19.0% done\n"
     ]
    },
    {
     "name": "stderr",
     "output_type": "stream",
     "text": [
      "18:40 bilby WARNING : The injected signal has a duration in-band of 91.3s, but the data for detector H1 has a duration of 32s\n",
      "18:40 bilby WARNING : The injected signal has a duration in-band of 91.3s, but the data for detector L1 has a duration of 32s\n",
      "18:40 bilby WARNING : The injected signal has a duration in-band of 91.3s, but the data for detector V1 has a duration of 32s\n",
      "18:40 bilby WARNING : The injected signal has a duration in-band of 145.7s, but the data for detector H1 has a duration of 32s\n",
      "18:40 bilby WARNING : The injected signal has a duration in-band of 145.7s, but the data for detector L1 has a duration of 32s\n",
      "18:40 bilby WARNING : The injected signal has a duration in-band of 145.7s, but the data for detector V1 has a duration of 32s\n",
      "18:40 bilby WARNING : The injected signal has a duration in-band of 189.1s, but the data for detector H1 has a duration of 32s\n",
      "18:40 bilby WARNING : The injected signal has a duration in-band of 189.1s, but the data for detector L1 has a duration of 32s\n",
      "18:40 bilby WARNING : The injected signal has a duration in-band of 189.1s, but the data for detector V1 has a duration of 32s\n",
      "18:40 bilby WARNING : The injected signal has a duration in-band of 124.6s, but the data for detector H1 has a duration of 32s\n",
      "18:40 bilby WARNING : The injected signal has a duration in-band of 124.6s, but the data for detector L1 has a duration of 32s\n",
      "18:40 bilby WARNING : The injected signal has a duration in-band of 124.6s, but the data for detector V1 has a duration of 32s\n",
      "18:40 bilby WARNING : The injected signal has a duration in-band of 113.8s, but the data for detector H1 has a duration of 32s\n",
      "18:40 bilby WARNING : The injected signal has a duration in-band of 113.8s, but the data for detector L1 has a duration of 32s\n",
      "18:40 bilby WARNING : The injected signal has a duration in-band of 113.8s, but the data for detector V1 has a duration of 32s\n"
     ]
    },
    {
     "name": "stdout",
     "output_type": "stream",
     "text": [
      "Injecting 20-th signal, 20.0% done\n",
      "Injecting 21-th signal, 21.0% done\n",
      "Injecting 22-th signal, 22.0% done\n",
      "Injecting 23-th signal, 23.0% done\n",
      "Injecting 24-th signal, 24.0% done\n"
     ]
    },
    {
     "name": "stderr",
     "output_type": "stream",
     "text": [
      "18:40 bilby WARNING : The injected signal has a duration in-band of 109.8s, but the data for detector H1 has a duration of 32s\n",
      "18:40 bilby WARNING : The injected signal has a duration in-band of 109.8s, but the data for detector L1 has a duration of 32s\n",
      "18:40 bilby WARNING : The injected signal has a duration in-band of 109.8s, but the data for detector V1 has a duration of 32s\n",
      "18:40 bilby WARNING : The injected signal has a duration in-band of 73.5s, but the data for detector H1 has a duration of 32s\n",
      "18:40 bilby WARNING : The injected signal has a duration in-band of 73.5s, but the data for detector L1 has a duration of 32s\n",
      "18:40 bilby WARNING : The injected signal has a duration in-band of 73.5s, but the data for detector V1 has a duration of 32s\n",
      "18:40 bilby WARNING : The injected signal has a duration in-band of 132.6s, but the data for detector H1 has a duration of 32s\n",
      "18:40 bilby WARNING : The injected signal has a duration in-band of 132.6s, but the data for detector L1 has a duration of 32s\n",
      "18:40 bilby WARNING : The injected signal has a duration in-band of 132.6s, but the data for detector V1 has a duration of 32s\n",
      "18:40 bilby WARNING : The injected signal has a duration in-band of 130.7s, but the data for detector H1 has a duration of 32s\n",
      "18:40 bilby WARNING : The injected signal has a duration in-band of 130.7s, but the data for detector L1 has a duration of 32s\n",
      "18:40 bilby WARNING : The injected signal has a duration in-band of 130.7s, but the data for detector V1 has a duration of 32s\n",
      "18:40 bilby WARNING : The injected signal has a duration in-band of 169.9s, but the data for detector H1 has a duration of 32s\n",
      "18:40 bilby WARNING : The injected signal has a duration in-band of 169.9s, but the data for detector L1 has a duration of 32s\n",
      "18:40 bilby WARNING : The injected signal has a duration in-band of 169.9s, but the data for detector V1 has a duration of 32s\n"
     ]
    },
    {
     "name": "stdout",
     "output_type": "stream",
     "text": [
      "Injecting 25-th signal, 25.0% done\n",
      "Injecting 26-th signal, 26.0% done\n",
      "Injecting 27-th signal, 27.0% done\n",
      "Injecting 28-th signal, 28.0% done\n",
      "Injecting 29-th signal, 29.0% done\n"
     ]
    },
    {
     "name": "stderr",
     "output_type": "stream",
     "text": [
      "18:40 bilby WARNING : The injected signal has a duration in-band of 100.5s, but the data for detector H1 has a duration of 32s\n",
      "18:40 bilby WARNING : The injected signal has a duration in-band of 100.5s, but the data for detector L1 has a duration of 32s\n",
      "18:40 bilby WARNING : The injected signal has a duration in-band of 100.5s, but the data for detector V1 has a duration of 32s\n",
      "18:40 bilby WARNING : The injected signal has a duration in-band of 74.4s, but the data for detector H1 has a duration of 32s\n",
      "18:40 bilby WARNING : The injected signal has a duration in-band of 74.4s, but the data for detector L1 has a duration of 32s\n",
      "18:40 bilby WARNING : The injected signal has a duration in-band of 74.4s, but the data for detector V1 has a duration of 32s\n",
      "18:40 bilby WARNING : The injected signal has a duration in-band of 130.9s, but the data for detector H1 has a duration of 32s\n",
      "18:40 bilby WARNING : The injected signal has a duration in-band of 130.9s, but the data for detector L1 has a duration of 32s\n",
      "18:40 bilby WARNING : The injected signal has a duration in-band of 130.9s, but the data for detector V1 has a duration of 32s\n",
      "18:40 bilby WARNING : The injected signal has a duration in-band of 98.0s, but the data for detector H1 has a duration of 32s\n",
      "18:40 bilby WARNING : The injected signal has a duration in-band of 98.0s, but the data for detector L1 has a duration of 32s\n",
      "18:40 bilby WARNING : The injected signal has a duration in-band of 98.0s, but the data for detector V1 has a duration of 32s\n",
      "18:40 bilby WARNING : The injected signal has a duration in-band of 68.3s, but the data for detector H1 has a duration of 32s\n",
      "18:40 bilby WARNING : The injected signal has a duration in-band of 68.3s, but the data for detector L1 has a duration of 32s\n",
      "18:40 bilby WARNING : The injected signal has a duration in-band of 68.3s, but the data for detector V1 has a duration of 32s\n"
     ]
    },
    {
     "name": "stdout",
     "output_type": "stream",
     "text": [
      "Injecting 30-th signal, 30.0% done\n",
      "Injecting 31-th signal, 31.0% done\n",
      "Injecting 32-th signal, 32.0% done\n",
      "Injecting 33-th signal, 33.0% done\n",
      "Injecting 34-th signal, 34.0% done\n"
     ]
    },
    {
     "name": "stderr",
     "output_type": "stream",
     "text": [
      "18:40 bilby WARNING : The injected signal has a duration in-band of 207.8s, but the data for detector H1 has a duration of 32s\n",
      "18:40 bilby WARNING : The injected signal has a duration in-band of 207.8s, but the data for detector L1 has a duration of 32s\n",
      "18:40 bilby WARNING : The injected signal has a duration in-band of 207.8s, but the data for detector V1 has a duration of 32s\n",
      "18:40 bilby WARNING : The injected signal has a duration in-band of 63.4s, but the data for detector H1 has a duration of 32s\n",
      "18:40 bilby WARNING : The injected signal has a duration in-band of 63.4s, but the data for detector L1 has a duration of 32s\n",
      "18:40 bilby WARNING : The injected signal has a duration in-band of 63.4s, but the data for detector V1 has a duration of 32s\n",
      "18:40 bilby WARNING : The injected signal has a duration in-band of 67.3s, but the data for detector H1 has a duration of 32s\n",
      "18:40 bilby WARNING : The injected signal has a duration in-band of 67.3s, but the data for detector L1 has a duration of 32s\n",
      "18:40 bilby WARNING : The injected signal has a duration in-band of 67.3s, but the data for detector V1 has a duration of 32s\n",
      "18:40 bilby WARNING : The injected signal has a duration in-band of 145.5s, but the data for detector H1 has a duration of 32s\n",
      "18:40 bilby WARNING : The injected signal has a duration in-band of 145.5s, but the data for detector L1 has a duration of 32s\n",
      "18:40 bilby WARNING : The injected signal has a duration in-band of 145.5s, but the data for detector V1 has a duration of 32s\n",
      "18:40 bilby WARNING : The injected signal has a duration in-band of 138.0s, but the data for detector H1 has a duration of 32s\n",
      "18:40 bilby WARNING : The injected signal has a duration in-band of 138.0s, but the data for detector L1 has a duration of 32s\n",
      "18:40 bilby WARNING : The injected signal has a duration in-band of 138.0s, but the data for detector V1 has a duration of 32s\n"
     ]
    },
    {
     "name": "stdout",
     "output_type": "stream",
     "text": [
      "Injecting 35-th signal, 35.0% done\n",
      "Injecting 36-th signal, 36.0% done\n",
      "Injecting 37-th signal, 37.0% done\n",
      "Injecting 38-th signal, 38.0% done\n",
      "Injecting 39-th signal, 39.0% done\n"
     ]
    },
    {
     "name": "stderr",
     "output_type": "stream",
     "text": [
      "18:40 bilby WARNING : The injected signal has a duration in-band of 81.8s, but the data for detector H1 has a duration of 32s\n",
      "18:40 bilby WARNING : The injected signal has a duration in-band of 81.8s, but the data for detector L1 has a duration of 32s\n",
      "18:40 bilby WARNING : The injected signal has a duration in-band of 81.8s, but the data for detector V1 has a duration of 32s\n",
      "18:40 bilby WARNING : The injected signal has a duration in-band of 59.1s, but the data for detector H1 has a duration of 32s\n",
      "18:40 bilby WARNING : The injected signal has a duration in-band of 59.1s, but the data for detector L1 has a duration of 32s\n",
      "18:40 bilby WARNING : The injected signal has a duration in-band of 59.1s, but the data for detector V1 has a duration of 32s\n",
      "18:40 bilby WARNING : The injected signal has a duration in-band of 169.3s, but the data for detector H1 has a duration of 32s\n",
      "18:40 bilby WARNING : The injected signal has a duration in-band of 169.3s, but the data for detector L1 has a duration of 32s\n",
      "18:40 bilby WARNING : The injected signal has a duration in-band of 169.3s, but the data for detector V1 has a duration of 32s\n",
      "18:40 bilby WARNING : The injected signal has a duration in-band of 72.8s, but the data for detector H1 has a duration of 32s\n",
      "18:40 bilby WARNING : The injected signal has a duration in-band of 72.8s, but the data for detector L1 has a duration of 32s\n",
      "18:40 bilby WARNING : The injected signal has a duration in-band of 72.8s, but the data for detector V1 has a duration of 32s\n",
      "18:40 bilby WARNING : The injected signal has a duration in-band of 147.4s, but the data for detector H1 has a duration of 32s\n",
      "18:40 bilby WARNING : The injected signal has a duration in-band of 147.4s, but the data for detector L1 has a duration of 32s\n",
      "18:40 bilby WARNING : The injected signal has a duration in-band of 147.4s, but the data for detector V1 has a duration of 32s\n"
     ]
    },
    {
     "name": "stdout",
     "output_type": "stream",
     "text": [
      "Injecting 40-th signal, 40.0% done\n",
      "Injecting 41-th signal, 41.0% done\n",
      "Injecting 42-th signal, 42.0% done\n",
      "Injecting 43-th signal, 43.0% done\n",
      "Injecting 44-th signal, 44.0% done\n"
     ]
    },
    {
     "name": "stderr",
     "output_type": "stream",
     "text": [
      "18:40 bilby WARNING : The injected signal has a duration in-band of 74.7s, but the data for detector H1 has a duration of 32s\n",
      "18:40 bilby WARNING : The injected signal has a duration in-band of 74.7s, but the data for detector L1 has a duration of 32s\n",
      "18:40 bilby WARNING : The injected signal has a duration in-band of 74.7s, but the data for detector V1 has a duration of 32s\n",
      "18:40 bilby WARNING : The injected signal has a duration in-band of 69.0s, but the data for detector H1 has a duration of 32s\n",
      "18:40 bilby WARNING : The injected signal has a duration in-band of 69.0s, but the data for detector L1 has a duration of 32s\n",
      "18:40 bilby WARNING : The injected signal has a duration in-band of 69.0s, but the data for detector V1 has a duration of 32s\n",
      "18:40 bilby WARNING : The injected signal has a duration in-band of 174.3s, but the data for detector H1 has a duration of 32s\n",
      "18:40 bilby WARNING : The injected signal has a duration in-band of 174.3s, but the data for detector L1 has a duration of 32s\n",
      "18:40 bilby WARNING : The injected signal has a duration in-band of 174.3s, but the data for detector V1 has a duration of 32s\n",
      "18:40 bilby WARNING : The injected signal has a duration in-band of 73.7s, but the data for detector H1 has a duration of 32s\n",
      "18:40 bilby WARNING : The injected signal has a duration in-band of 73.7s, but the data for detector L1 has a duration of 32s\n",
      "18:40 bilby WARNING : The injected signal has a duration in-band of 73.7s, but the data for detector V1 has a duration of 32s\n",
      "18:40 bilby WARNING : The injected signal has a duration in-band of 182.7s, but the data for detector H1 has a duration of 32s\n",
      "18:40 bilby WARNING : The injected signal has a duration in-band of 182.7s, but the data for detector L1 has a duration of 32s\n",
      "18:40 bilby WARNING : The injected signal has a duration in-band of 182.7s, but the data for detector V1 has a duration of 32s\n"
     ]
    },
    {
     "name": "stdout",
     "output_type": "stream",
     "text": [
      "Injecting 45-th signal, 45.0% done\n",
      "Injecting 46-th signal, 46.0% done\n",
      "Injecting 47-th signal, 47.0% done\n",
      "Injecting 48-th signal, 48.0% done\n",
      "Injecting 49-th signal, 49.0% done\n"
     ]
    },
    {
     "name": "stderr",
     "output_type": "stream",
     "text": [
      "18:40 bilby WARNING : The injected signal has a duration in-band of 52.0s, but the data for detector H1 has a duration of 32s\n",
      "18:40 bilby WARNING : The injected signal has a duration in-band of 52.0s, but the data for detector L1 has a duration of 32s\n",
      "18:40 bilby WARNING : The injected signal has a duration in-band of 52.0s, but the data for detector V1 has a duration of 32s\n",
      "18:40 bilby WARNING : The injected signal has a duration in-band of 141.8s, but the data for detector H1 has a duration of 32s\n",
      "18:40 bilby WARNING : The injected signal has a duration in-band of 141.8s, but the data for detector L1 has a duration of 32s\n",
      "18:40 bilby WARNING : The injected signal has a duration in-band of 141.8s, but the data for detector V1 has a duration of 32s\n",
      "18:40 bilby WARNING : The injected signal has a duration in-band of 143.7s, but the data for detector H1 has a duration of 32s\n",
      "18:40 bilby WARNING : The injected signal has a duration in-band of 143.7s, but the data for detector L1 has a duration of 32s\n",
      "18:40 bilby WARNING : The injected signal has a duration in-band of 143.7s, but the data for detector V1 has a duration of 32s\n",
      "18:40 bilby WARNING : The injected signal has a duration in-band of 80.9s, but the data for detector H1 has a duration of 32s\n",
      "18:40 bilby WARNING : The injected signal has a duration in-band of 80.9s, but the data for detector L1 has a duration of 32s\n",
      "18:40 bilby WARNING : The injected signal has a duration in-band of 80.9s, but the data for detector V1 has a duration of 32s\n",
      "18:40 bilby WARNING : The injected signal has a duration in-band of 187.9s, but the data for detector H1 has a duration of 32s\n",
      "18:40 bilby WARNING : The injected signal has a duration in-band of 187.9s, but the data for detector L1 has a duration of 32s\n",
      "18:40 bilby WARNING : The injected signal has a duration in-band of 187.9s, but the data for detector V1 has a duration of 32s\n"
     ]
    },
    {
     "name": "stdout",
     "output_type": "stream",
     "text": [
      "Injecting 50-th signal, 50.0% done\n",
      "Injecting 51-th signal, 51.0% done\n",
      "Injecting 52-th signal, 52.0% done\n",
      "Injecting 53-th signal, 53.0% done\n",
      "Injecting 54-th signal, 54.0% done\n"
     ]
    },
    {
     "name": "stderr",
     "output_type": "stream",
     "text": [
      "18:40 bilby WARNING : The injected signal has a duration in-band of 87.3s, but the data for detector H1 has a duration of 32s\n",
      "18:40 bilby WARNING : The injected signal has a duration in-band of 87.3s, but the data for detector L1 has a duration of 32s\n",
      "18:40 bilby WARNING : The injected signal has a duration in-band of 87.3s, but the data for detector V1 has a duration of 32s\n",
      "18:40 bilby WARNING : The injected signal has a duration in-band of 184.1s, but the data for detector H1 has a duration of 32s\n",
      "18:40 bilby WARNING : The injected signal has a duration in-band of 184.1s, but the data for detector L1 has a duration of 32s\n",
      "18:40 bilby WARNING : The injected signal has a duration in-band of 184.1s, but the data for detector V1 has a duration of 32s\n",
      "18:40 bilby WARNING : The injected signal has a duration in-band of 84.8s, but the data for detector H1 has a duration of 32s\n",
      "18:40 bilby WARNING : The injected signal has a duration in-band of 84.8s, but the data for detector L1 has a duration of 32s\n",
      "18:40 bilby WARNING : The injected signal has a duration in-band of 84.8s, but the data for detector V1 has a duration of 32s\n",
      "18:40 bilby WARNING : The injected signal has a duration in-band of 85.5s, but the data for detector H1 has a duration of 32s\n",
      "18:40 bilby WARNING : The injected signal has a duration in-band of 85.5s, but the data for detector L1 has a duration of 32s\n",
      "18:40 bilby WARNING : The injected signal has a duration in-band of 85.5s, but the data for detector V1 has a duration of 32s\n",
      "18:40 bilby WARNING : The injected signal has a duration in-band of 84.5s, but the data for detector H1 has a duration of 32s\n",
      "18:40 bilby WARNING : The injected signal has a duration in-band of 84.5s, but the data for detector L1 has a duration of 32s\n",
      "18:40 bilby WARNING : The injected signal has a duration in-band of 84.5s, but the data for detector V1 has a duration of 32s\n"
     ]
    },
    {
     "name": "stdout",
     "output_type": "stream",
     "text": [
      "Injecting 55-th signal, 55.0% done\n",
      "Injecting 56-th signal, 56.0% done\n",
      "Injecting 57-th signal, 57.0% done\n",
      "Injecting 58-th signal, 58.0% done\n",
      "Injecting 59-th signal, 59.0% done\n"
     ]
    },
    {
     "name": "stderr",
     "output_type": "stream",
     "text": [
      "18:40 bilby WARNING : The injected signal has a duration in-band of 118.1s, but the data for detector H1 has a duration of 32s\n",
      "18:40 bilby WARNING : The injected signal has a duration in-band of 118.1s, but the data for detector L1 has a duration of 32s\n",
      "18:40 bilby WARNING : The injected signal has a duration in-band of 118.1s, but the data for detector V1 has a duration of 32s\n",
      "18:40 bilby WARNING : The injected signal has a duration in-band of 66.2s, but the data for detector H1 has a duration of 32s\n",
      "18:40 bilby WARNING : The injected signal has a duration in-band of 66.2s, but the data for detector L1 has a duration of 32s\n",
      "18:40 bilby WARNING : The injected signal has a duration in-band of 66.2s, but the data for detector V1 has a duration of 32s\n",
      "18:40 bilby WARNING : The injected signal has a duration in-band of 73.3s, but the data for detector H1 has a duration of 32s\n",
      "18:40 bilby WARNING : The injected signal has a duration in-band of 73.3s, but the data for detector L1 has a duration of 32s\n",
      "18:40 bilby WARNING : The injected signal has a duration in-band of 73.3s, but the data for detector V1 has a duration of 32s\n",
      "18:40 bilby WARNING : The injected signal has a duration in-band of 84.4s, but the data for detector H1 has a duration of 32s\n",
      "18:40 bilby WARNING : The injected signal has a duration in-band of 84.4s, but the data for detector L1 has a duration of 32s\n",
      "18:40 bilby WARNING : The injected signal has a duration in-band of 84.4s, but the data for detector V1 has a duration of 32s\n",
      "18:40 bilby WARNING : The injected signal has a duration in-band of 78.2s, but the data for detector H1 has a duration of 32s\n",
      "18:40 bilby WARNING : The injected signal has a duration in-band of 78.2s, but the data for detector L1 has a duration of 32s\n",
      "18:40 bilby WARNING : The injected signal has a duration in-band of 78.2s, but the data for detector V1 has a duration of 32s\n"
     ]
    },
    {
     "name": "stdout",
     "output_type": "stream",
     "text": [
      "Injecting 60-th signal, 60.0% done\n",
      "Injecting 61-th signal, 61.0% done\n",
      "Injecting 62-th signal, 62.0% done\n",
      "Injecting 63-th signal, 63.0% done\n",
      "Injecting 64-th signal, 64.0% done\n"
     ]
    },
    {
     "name": "stderr",
     "output_type": "stream",
     "text": [
      "18:40 bilby WARNING : The injected signal has a duration in-band of 105.1s, but the data for detector H1 has a duration of 32s\n",
      "18:40 bilby WARNING : The injected signal has a duration in-band of 105.1s, but the data for detector L1 has a duration of 32s\n",
      "18:40 bilby WARNING : The injected signal has a duration in-band of 105.1s, but the data for detector V1 has a duration of 32s\n",
      "18:40 bilby WARNING : The injected signal has a duration in-band of 153.6s, but the data for detector H1 has a duration of 32s\n",
      "18:40 bilby WARNING : The injected signal has a duration in-band of 153.6s, but the data for detector L1 has a duration of 32s\n",
      "18:40 bilby WARNING : The injected signal has a duration in-band of 153.6s, but the data for detector V1 has a duration of 32s\n",
      "18:40 bilby WARNING : The injected signal has a duration in-band of 106.6s, but the data for detector H1 has a duration of 32s\n",
      "18:40 bilby WARNING : The injected signal has a duration in-band of 106.6s, but the data for detector L1 has a duration of 32s\n",
      "18:40 bilby WARNING : The injected signal has a duration in-band of 106.6s, but the data for detector V1 has a duration of 32s\n",
      "18:40 bilby WARNING : The injected signal has a duration in-band of 131.3s, but the data for detector H1 has a duration of 32s\n",
      "18:40 bilby WARNING : The injected signal has a duration in-band of 131.3s, but the data for detector L1 has a duration of 32s\n",
      "18:40 bilby WARNING : The injected signal has a duration in-band of 131.3s, but the data for detector V1 has a duration of 32s\n",
      "18:40 bilby WARNING : The injected signal has a duration in-band of 212.3s, but the data for detector H1 has a duration of 32s\n",
      "18:40 bilby WARNING : The injected signal has a duration in-band of 212.3s, but the data for detector L1 has a duration of 32s\n",
      "18:40 bilby WARNING : The injected signal has a duration in-band of 212.3s, but the data for detector V1 has a duration of 32s\n"
     ]
    },
    {
     "name": "stdout",
     "output_type": "stream",
     "text": [
      "Injecting 65-th signal, 65.0% done\n",
      "Injecting 66-th signal, 66.0% done\n",
      "Injecting 67-th signal, 67.0% done\n",
      "Injecting 68-th signal, 68.0% done\n",
      "Injecting 69-th signal, 69.0% done\n"
     ]
    },
    {
     "name": "stderr",
     "output_type": "stream",
     "text": [
      "18:40 bilby WARNING : The injected signal has a duration in-band of 110.9s, but the data for detector H1 has a duration of 32s\n",
      "18:40 bilby WARNING : The injected signal has a duration in-band of 110.9s, but the data for detector L1 has a duration of 32s\n",
      "18:40 bilby WARNING : The injected signal has a duration in-band of 110.9s, but the data for detector V1 has a duration of 32s\n",
      "18:40 bilby WARNING : The injected signal has a duration in-band of 58.2s, but the data for detector H1 has a duration of 32s\n",
      "18:40 bilby WARNING : The injected signal has a duration in-band of 58.2s, but the data for detector L1 has a duration of 32s\n",
      "18:40 bilby WARNING : The injected signal has a duration in-band of 58.2s, but the data for detector V1 has a duration of 32s\n",
      "18:40 bilby WARNING : The injected signal has a duration in-band of 78.9s, but the data for detector H1 has a duration of 32s\n",
      "18:40 bilby WARNING : The injected signal has a duration in-band of 78.9s, but the data for detector L1 has a duration of 32s\n",
      "18:40 bilby WARNING : The injected signal has a duration in-band of 78.9s, but the data for detector V1 has a duration of 32s\n",
      "18:40 bilby WARNING : The injected signal has a duration in-band of 87.3s, but the data for detector H1 has a duration of 32s\n",
      "18:40 bilby WARNING : The injected signal has a duration in-band of 87.3s, but the data for detector L1 has a duration of 32s\n",
      "18:40 bilby WARNING : The injected signal has a duration in-band of 87.3s, but the data for detector V1 has a duration of 32s\n",
      "18:40 bilby WARNING : The injected signal has a duration in-band of 54.0s, but the data for detector H1 has a duration of 32s\n",
      "18:40 bilby WARNING : The injected signal has a duration in-band of 54.0s, but the data for detector L1 has a duration of 32s\n",
      "18:40 bilby WARNING : The injected signal has a duration in-band of 54.0s, but the data for detector V1 has a duration of 32s\n"
     ]
    },
    {
     "name": "stdout",
     "output_type": "stream",
     "text": [
      "Injecting 70-th signal, 70.0% done\n",
      "Injecting 71-th signal, 71.0% done\n",
      "Injecting 72-th signal, 72.0% done\n",
      "Injecting 73-th signal, 73.0% done\n",
      "Injecting 74-th signal, 74.0% done\n"
     ]
    },
    {
     "name": "stderr",
     "output_type": "stream",
     "text": [
      "18:40 bilby WARNING : The injected signal has a duration in-band of 114.7s, but the data for detector H1 has a duration of 32s\n",
      "18:40 bilby WARNING : The injected signal has a duration in-band of 114.7s, but the data for detector L1 has a duration of 32s\n",
      "18:40 bilby WARNING : The injected signal has a duration in-band of 114.7s, but the data for detector V1 has a duration of 32s\n",
      "18:40 bilby WARNING : The injected signal has a duration in-band of 154.1s, but the data for detector H1 has a duration of 32s\n",
      "18:40 bilby WARNING : The injected signal has a duration in-band of 154.1s, but the data for detector L1 has a duration of 32s\n",
      "18:40 bilby WARNING : The injected signal has a duration in-band of 154.1s, but the data for detector V1 has a duration of 32s\n",
      "18:40 bilby WARNING : The injected signal has a duration in-band of 94.5s, but the data for detector H1 has a duration of 32s\n",
      "18:40 bilby WARNING : The injected signal has a duration in-band of 94.5s, but the data for detector L1 has a duration of 32s\n",
      "18:40 bilby WARNING : The injected signal has a duration in-band of 94.5s, but the data for detector V1 has a duration of 32s\n",
      "18:40 bilby WARNING : The injected signal has a duration in-band of 82.5s, but the data for detector H1 has a duration of 32s\n",
      "18:40 bilby WARNING : The injected signal has a duration in-band of 82.5s, but the data for detector L1 has a duration of 32s\n",
      "18:40 bilby WARNING : The injected signal has a duration in-band of 82.5s, but the data for detector V1 has a duration of 32s\n",
      "18:40 bilby WARNING : The injected signal has a duration in-band of 97.2s, but the data for detector H1 has a duration of 32s\n",
      "18:40 bilby WARNING : The injected signal has a duration in-band of 97.2s, but the data for detector L1 has a duration of 32s\n",
      "18:40 bilby WARNING : The injected signal has a duration in-band of 97.2s, but the data for detector V1 has a duration of 32s\n",
      "18:40 bilby WARNING : The injected signal has a duration in-band of 72.7s, but the data for detector H1 has a duration of 32s\n"
     ]
    },
    {
     "name": "stdout",
     "output_type": "stream",
     "text": [
      "Injecting 75-th signal, 75.0% done\n",
      "Injecting 76-th signal, 76.0% done\n",
      "Injecting 77-th signal, 77.0% done\n",
      "Injecting 78-th signal, 78.0% done\n",
      "Injecting 79-th signal, 79.0% done\n"
     ]
    },
    {
     "name": "stderr",
     "output_type": "stream",
     "text": [
      "18:40 bilby WARNING : The injected signal has a duration in-band of 72.7s, but the data for detector L1 has a duration of 32s\n",
      "18:40 bilby WARNING : The injected signal has a duration in-band of 72.7s, but the data for detector V1 has a duration of 32s\n",
      "18:40 bilby WARNING : The injected signal has a duration in-band of 152.4s, but the data for detector H1 has a duration of 32s\n",
      "18:40 bilby WARNING : The injected signal has a duration in-band of 152.4s, but the data for detector L1 has a duration of 32s\n",
      "18:40 bilby WARNING : The injected signal has a duration in-band of 152.4s, but the data for detector V1 has a duration of 32s\n",
      "18:40 bilby WARNING : The injected signal has a duration in-band of 84.2s, but the data for detector H1 has a duration of 32s\n",
      "18:40 bilby WARNING : The injected signal has a duration in-band of 84.2s, but the data for detector L1 has a duration of 32s\n",
      "18:40 bilby WARNING : The injected signal has a duration in-band of 84.2s, but the data for detector V1 has a duration of 32s\n",
      "18:40 bilby WARNING : The injected signal has a duration in-band of 126.7s, but the data for detector H1 has a duration of 32s\n",
      "18:40 bilby WARNING : The injected signal has a duration in-band of 126.7s, but the data for detector L1 has a duration of 32s\n",
      "18:40 bilby WARNING : The injected signal has a duration in-band of 126.7s, but the data for detector V1 has a duration of 32s\n",
      "18:40 bilby WARNING : The injected signal has a duration in-band of 77.6s, but the data for detector H1 has a duration of 32s\n",
      "18:40 bilby WARNING : The injected signal has a duration in-band of 77.6s, but the data for detector L1 has a duration of 32s\n",
      "18:41 bilby WARNING : The injected signal has a duration in-band of 77.6s, but the data for detector V1 has a duration of 32s\n"
     ]
    },
    {
     "name": "stdout",
     "output_type": "stream",
     "text": [
      "Injecting 80-th signal, 80.0% done\n",
      "Injecting 81-th signal, 81.0% done\n",
      "Injecting 82-th signal, 82.0% done\n",
      "Injecting 83-th signal, 83.0% done\n",
      "Injecting 84-th signal, 84.0% done\n"
     ]
    },
    {
     "name": "stderr",
     "output_type": "stream",
     "text": [
      "18:41 bilby WARNING : The injected signal has a duration in-band of 138.7s, but the data for detector H1 has a duration of 32s\n",
      "18:41 bilby WARNING : The injected signal has a duration in-band of 138.7s, but the data for detector L1 has a duration of 32s\n",
      "18:41 bilby WARNING : The injected signal has a duration in-band of 138.7s, but the data for detector V1 has a duration of 32s\n",
      "18:41 bilby WARNING : The injected signal has a duration in-band of 161.2s, but the data for detector H1 has a duration of 32s\n",
      "18:41 bilby WARNING : The injected signal has a duration in-band of 161.2s, but the data for detector L1 has a duration of 32s\n",
      "18:41 bilby WARNING : The injected signal has a duration in-band of 161.2s, but the data for detector V1 has a duration of 32s\n",
      "18:41 bilby WARNING : The injected signal has a duration in-band of 118.9s, but the data for detector H1 has a duration of 32s\n",
      "18:41 bilby WARNING : The injected signal has a duration in-band of 118.9s, but the data for detector L1 has a duration of 32s\n",
      "18:41 bilby WARNING : The injected signal has a duration in-band of 118.9s, but the data for detector V1 has a duration of 32s\n",
      "18:41 bilby WARNING : The injected signal has a duration in-band of 102.8s, but the data for detector H1 has a duration of 32s\n",
      "18:41 bilby WARNING : The injected signal has a duration in-band of 102.8s, but the data for detector L1 has a duration of 32s\n",
      "18:41 bilby WARNING : The injected signal has a duration in-band of 102.8s, but the data for detector V1 has a duration of 32s\n",
      "18:41 bilby WARNING : The injected signal has a duration in-band of 117.1s, but the data for detector H1 has a duration of 32s\n",
      "18:41 bilby WARNING : The injected signal has a duration in-band of 117.1s, but the data for detector L1 has a duration of 32s\n",
      "18:41 bilby WARNING : The injected signal has a duration in-band of 117.1s, but the data for detector V1 has a duration of 32s\n"
     ]
    },
    {
     "name": "stdout",
     "output_type": "stream",
     "text": [
      "Injecting 85-th signal, 85.0% done\n",
      "Injecting 86-th signal, 86.0% done\n",
      "Injecting 87-th signal, 87.0% done\n",
      "Injecting 88-th signal, 88.0% done\n",
      "Injecting 89-th signal, 89.0% done\n"
     ]
    },
    {
     "name": "stderr",
     "output_type": "stream",
     "text": [
      "18:41 bilby WARNING : The injected signal has a duration in-band of 94.3s, but the data for detector H1 has a duration of 32s\n",
      "18:41 bilby WARNING : The injected signal has a duration in-band of 94.3s, but the data for detector L1 has a duration of 32s\n",
      "18:41 bilby WARNING : The injected signal has a duration in-band of 94.3s, but the data for detector V1 has a duration of 32s\n",
      "18:41 bilby WARNING : The injected signal has a duration in-band of 78.6s, but the data for detector H1 has a duration of 32s\n",
      "18:41 bilby WARNING : The injected signal has a duration in-band of 78.6s, but the data for detector L1 has a duration of 32s\n",
      "18:41 bilby WARNING : The injected signal has a duration in-band of 78.6s, but the data for detector V1 has a duration of 32s\n",
      "18:41 bilby WARNING : The injected signal has a duration in-band of 88.2s, but the data for detector H1 has a duration of 32s\n",
      "18:41 bilby WARNING : The injected signal has a duration in-band of 88.2s, but the data for detector L1 has a duration of 32s\n",
      "18:41 bilby WARNING : The injected signal has a duration in-band of 88.2s, but the data for detector V1 has a duration of 32s\n",
      "18:41 bilby WARNING : The injected signal has a duration in-band of 98.5s, but the data for detector H1 has a duration of 32s\n",
      "18:41 bilby WARNING : The injected signal has a duration in-band of 98.5s, but the data for detector L1 has a duration of 32s\n",
      "18:41 bilby WARNING : The injected signal has a duration in-band of 98.5s, but the data for detector V1 has a duration of 32s\n",
      "18:41 bilby WARNING : The injected signal has a duration in-band of 107.7s, but the data for detector H1 has a duration of 32s\n",
      "18:41 bilby WARNING : The injected signal has a duration in-band of 107.7s, but the data for detector L1 has a duration of 32s\n",
      "18:41 bilby WARNING : The injected signal has a duration in-band of 107.7s, but the data for detector V1 has a duration of 32s\n"
     ]
    },
    {
     "name": "stdout",
     "output_type": "stream",
     "text": [
      "Injecting 90-th signal, 90.0% done\n",
      "Injecting 91-th signal, 91.0% done\n",
      "Injecting 92-th signal, 92.0% done\n",
      "Injecting 93-th signal, 93.0% done\n",
      "Injecting 94-th signal, 94.0% done\n"
     ]
    },
    {
     "name": "stderr",
     "output_type": "stream",
     "text": [
      "18:41 bilby WARNING : The injected signal has a duration in-band of 75.7s, but the data for detector H1 has a duration of 32s\n",
      "18:41 bilby WARNING : The injected signal has a duration in-band of 75.7s, but the data for detector L1 has a duration of 32s\n",
      "18:41 bilby WARNING : The injected signal has a duration in-band of 75.7s, but the data for detector V1 has a duration of 32s\n",
      "18:41 bilby WARNING : The injected signal has a duration in-band of 95.7s, but the data for detector H1 has a duration of 32s\n",
      "18:41 bilby WARNING : The injected signal has a duration in-band of 95.7s, but the data for detector L1 has a duration of 32s\n",
      "18:41 bilby WARNING : The injected signal has a duration in-band of 95.7s, but the data for detector V1 has a duration of 32s\n",
      "18:41 bilby WARNING : The injected signal has a duration in-band of 114.5s, but the data for detector H1 has a duration of 32s\n",
      "18:41 bilby WARNING : The injected signal has a duration in-band of 114.5s, but the data for detector L1 has a duration of 32s\n",
      "18:41 bilby WARNING : The injected signal has a duration in-band of 114.5s, but the data for detector V1 has a duration of 32s\n",
      "18:41 bilby WARNING : The injected signal has a duration in-band of 64.1s, but the data for detector H1 has a duration of 32s\n",
      "18:41 bilby WARNING : The injected signal has a duration in-band of 64.1s, but the data for detector L1 has a duration of 32s\n",
      "18:41 bilby WARNING : The injected signal has a duration in-band of 64.1s, but the data for detector V1 has a duration of 32s\n",
      "18:41 bilby WARNING : The injected signal has a duration in-band of 77.7s, but the data for detector H1 has a duration of 32s\n",
      "18:41 bilby WARNING : The injected signal has a duration in-band of 77.7s, but the data for detector L1 has a duration of 32s\n",
      "18:41 bilby WARNING : The injected signal has a duration in-band of 77.7s, but the data for detector V1 has a duration of 32s\n"
     ]
    },
    {
     "name": "stdout",
     "output_type": "stream",
     "text": [
      "Injecting 95-th signal, 95.0% done\n",
      "Injecting 96-th signal, 96.0% done\n",
      "Injecting 97-th signal, 97.0% done\n",
      "Injecting 98-th signal, 98.0% done\n",
      "Injecting 99-th signal, 99.0% done\n"
     ]
    },
    {
     "name": "stderr",
     "output_type": "stream",
     "text": [
      "18:41 bilby WARNING : The injected signal has a duration in-band of 95.5s, but the data for detector H1 has a duration of 32s\n",
      "18:41 bilby WARNING : The injected signal has a duration in-band of 95.5s, but the data for detector L1 has a duration of 32s\n",
      "18:41 bilby WARNING : The injected signal has a duration in-band of 95.5s, but the data for detector V1 has a duration of 32s\n"
     ]
    }
   ],
   "source": [
    "data_generator_train.inject_signals(injection_parameters_train, Nsample)\n",
    "data_generator_train.numpy_starins()\n",
    "\n",
    "data_generator_valid.inject_signals(injection_parameters_valid, Nvalid)\n",
    "data_generator_valid.numpy_starins()"
   ]
  },
  {
   "cell_type": "code",
   "execution_count": 6,
   "metadata": {},
   "outputs": [],
   "source": [
    "dataset_train = DatasetStrainFD(data_dict=data_generator_train.data, parameter_names=PARAMETER_NAMES_PRECESSINGBNS_BILBY)\n",
    "dataset_valid = DatasetStrainFD(data_dict=data_generator_valid.data, parameter_names=PARAMETER_NAMES_PRECESSINGBNS_BILBY)"
   ]
  },
  {
   "cell_type": "code",
   "execution_count": 7,
   "metadata": {},
   "outputs": [],
   "source": [
    "batch_size = 256\n",
    "train_loader = DataLoader(dataset_train, batch_size=batch_size, shuffle=True)\n",
    "valid_loader = DataLoader(dataset_valid, batch_size=batch_size, shuffle=False)"
   ]
  },
  {
   "attachments": {},
   "cell_type": "markdown",
   "metadata": {},
   "source": [
    "# Train"
   ]
  },
  {
   "cell_type": "code",
   "execution_count": 8,
   "metadata": {},
   "outputs": [],
   "source": [
    "def train_zukoflow(flow, embedding_proj, embedding_noproj, optimizer, dataloader, detector_names, ipca_gen, device='cpu',downsample_rate=1):\n",
    "    flow.train()\n",
    "    loss_list = []\n",
    "    for theta, strain, psd in dataloader:\n",
    "        optimizer.zero_grad()\n",
    "\n",
    "        inputs_proj = project_strain_data_FDAPhi(strain, psd, detector_names, ipca_gen).to(device)\n",
    "        inputs_noproj = project_strain_data_FDAPhi(strain, psd, detector_names, ipca_gen, project=False).unsqueeze(1).to(device)[:,:,::downsample_rate]\n",
    "        theta = theta.to(device)\n",
    "\n",
    "        embedding_out_proj = embedding_proj(inputs_proj)\n",
    "        embedding_out_noproj = embedding_noproj(inputs_noproj)\n",
    "        condition = torch.cat((embedding_out_proj, embedding_out_noproj), -1)\n",
    "\n",
    "        loss = -flow(condition).log_prob(theta).mean() # mean(list of losses of elements in this batch)\n",
    "        loss_list.append(loss.detach())\n",
    "        loss.backward()\n",
    "        optimizer.step()\n",
    "\n",
    "    mean_loss = torch.stack(loss_list).mean().item() # mean(list of mean losses of each batch)\n",
    "    std_loss = torch.stack(loss_list).std().item()\n",
    "    return mean_loss, std_loss\n",
    "\n",
    "def eval_zukoflow(flow, embedding_proj, embedding_noproj, dataloader, detector_names, ipca_gen, device='cpu',downsample_rate=1):\n",
    "    flow.eval()\n",
    "    loss_list = []\n",
    "    with torch.no_grad():\n",
    "        for theta, strain, psd in dataloader:\n",
    "\n",
    "            inputs_proj = project_strain_data_FDAPhi(strain, psd, detector_names, ipca_gen).to(device)\n",
    "            inputs_noproj = project_strain_data_FDAPhi(strain, psd, detector_names, ipca_gen, project=False).unsqueeze(1).to(device)[:,:,::downsample_rate]\n",
    "            theta = theta.to(device)\n",
    "\n",
    "            embedding_out_proj = embedding_proj(inputs_proj)\n",
    "            embedding_out_noproj = embedding_noproj(inputs_noproj)\n",
    "            condition = torch.cat((embedding_out_proj, embedding_out_noproj), -1)\n",
    "\n",
    "            loss = -flow(condition).log_prob(theta).mean()\n",
    "            loss_list.append(loss.detach())\n",
    "\n",
    "    mean_loss = torch.stack(loss_list).mean().item()\n",
    "    std_loss = torch.stack(loss_list).std().item()\n",
    "    return mean_loss, std_loss\n",
    "\n",
    "def save_loss_data(train_losses, valid_losses, outdir, logscale='true'):\n",
    "    plt.figure(figsize=(8,5))\n",
    "    plt.plot(train_losses, label='train')\n",
    "    plt.plot(valid_losses, label='valid')\n",
    "    plt.legend()\n",
    "    plt.ylabel('loss')\n",
    "    plt.xlabel('epoch')\n",
    "\n",
    "    if logscale:\n",
    "        plt.yscale('log')\n",
    "    \n",
    "    plt.savefig(f'{outdir}/losses.png')\n",
    "    np.savetxt(f'{outdir}/train_losses.txt', train_losses)\n",
    "    np.savetxt(f'{outdir}/valid_losses.txt', valid_losses)"
   ]
  },
  {
   "cell_type": "code",
   "execution_count": 21,
   "metadata": {},
   "outputs": [
    {
     "name": "stdout",
     "output_type": "stream",
     "text": [
      "Model loaded from ipca_models/IPCA_BNSFD_10000to500_ExpUnwrap_fixtc.pickle\n"
     ]
    }
   ],
   "source": [
    "ipca_gen = modelutils.load_model('ipca_models/IPCA_BNSFD_10000to500_ExpUnwrap_fixtc.pickle')\n",
    "\n",
    "n_components = ipca_gen.n_components\n",
    "\n",
    "downsample_rate = 4\n",
    "n_freq = dataset_train[0:2][1][:,:,::downsample_rate].shape[-1]\n",
    "device='cuda'\n",
    "\n",
    "embedding_proj = EmbeddingConv1D(ndet=3, ncomp=n_components, nout=128, middle_channel=1024).to(device)\n",
    "embedding_noproj = EmbeddingConv2D(ndet=3, ncomp=n_freq, nout=128, middle_channel=8).to(device)\n",
    "#optimizer_embd = optim.Adam(Net_embedding.parameters(), lr=1e-3)\n",
    "#scheduler_embd = StepLR(optimizer_embd, step_size=1, gamma=0.7)\n",
    "\n",
    "#flow = zuko.flows.NSF(features=17, context=128, transforms=100, hidden_features=(640, 640)).to(device)\n",
    "flow = zuko.flows.CNF(features=17, context=256, hidden_features=(640, 640)).to(device)\n",
    "#optimizer_flow = optim.Adam(flow.parameters(), lr=1e-4)\n",
    "#scheduler_flow = StepLR(optimizer_flow, step_size=1, gamma=0.7)\n",
    "\n",
    "optimizer = torch.optim.Adam(list(embedding_proj.parameters()) + list(embedding_noproj.parameters()) + list(flow.parameters()), lr=5e-4)\n",
    "scheduler = torch.optim.lr_scheduler.StepLR(optimizer, step_size=10, gamma=0.7)\n"
   ]
  },
  {
   "cell_type": "code",
   "execution_count": 22,
   "metadata": {},
   "outputs": [],
   "source": [
    "ckpt_dir = 'trained_models/cnf_fixtc_twoconv'\n",
    "if not os.path.exists(ckpt_dir):\n",
    "    os.mkdir(ckpt_dir)\n",
    "    print(f\"Made dir {ckpt_dir}\")\n",
    "\n",
    "logfilename = f\"{ckpt_dir}/logs.log\"\n",
    "file_handler = logging.FileHandler(logfilename)\n",
    "file_handler.setLevel(logging.DEBUG)\n",
    "file_handler.setFormatter(formatter)\n",
    "logger.addHandler(file_handler)\n",
    "#logger.info('This is a log message!')\n",
    "\n",
    "#embd_ckpt = f'{ckpt_dir}/ckpt_embd.pickle'\n",
    "#flow_ckpt = f'{ckpt_dir}/ckpt_flow.pickle'\n",
    "#optm_ckpt = f'{ckpt_dir}/ckpt_optm.pickle'\n",
    "#schd_ckpt = f'{ckpt_dir}/ckpt_schd.pickle'\n",
    "ckpt_path = f'{ckpt_dir}/checkpoint.pickle'\n",
    "\n",
    "max_epoch = 200000\n",
    "epoches_update = 100\n",
    "\n"
   ]
  },
  {
   "cell_type": "code",
   "execution_count": 23,
   "metadata": {},
   "outputs": [
    {
     "name": "stdout",
     "output_type": "stream",
     "text": [
      "2023-11-17 18:47:12,440 | INFO | Loaded states from trained_models/cnf_fixtc_twoconv/checkpoint.pickle, epoch=2.\n"
     ]
    }
   ],
   "source": [
    "load_from_previous_train = 1\n",
    "if load_from_previous_train:\n",
    "    checkpoint = torch.load(ckpt_path)\n",
    "    \n",
    "    start_epoch = checkpoint['epoch']\n",
    "    embedding_proj.load_state_dict(checkpoint['embd_proj_state_dict'])\n",
    "    embedding_noproj.load_state_dict(checkpoint['embd_noproj_state_dict'])\n",
    "    flow.load_state_dict(checkpoint['flow_state_dict']) \n",
    "\n",
    "    optimizer.load_state_dict(checkpoint['optimizer_state_dict'])\n",
    "    scheduler.load_state_dict(checkpoint['scheduler_state_dict'])\n",
    "    \n",
    "\n",
    "    train_losses = checkpoint['train_losses']\n",
    "    valid_losses = checkpoint['valid_losses']\n",
    "\n",
    "    #Net_embedding.load_state_dict(torch.load(embd_ckpt))\n",
    "    #flow.load_state_dict(torch.load(flow_ckpt))\n",
    "    #optimizer.load_state_dict(torch.load(optm_ckpt))\n",
    "    #scheduler.load_state_dict(torch.load(schd_ckpt))\n",
    "    logger.info(f'Loaded states from {ckpt_path}, epoch={start_epoch}.')\n",
    "\n",
    "else:\n",
    "    train_losses = []\n",
    "    valid_losses = []\n",
    "    start_epoch = 0"
   ]
  },
  {
   "cell_type": "code",
   "execution_count": 24,
   "metadata": {},
   "outputs": [
    {
     "name": "stdout",
     "output_type": "stream",
     "text": [
      "2023-11-17 18:47:36,330 | INFO | epoch 2, train loss = 207349344.0±nan, valid loss = 96342344.0±nan\n",
      "2023-11-17 18:47:40,053 | INFO | Current best epoch: 2. Checkpoint saved.\n"
     ]
    },
    {
     "ename": "KeyboardInterrupt",
     "evalue": "",
     "output_type": "error",
     "traceback": [
      "\u001b[0;31m---------------------------------------------------------------------------\u001b[0m",
      "\u001b[0;31mKeyboardInterrupt\u001b[0m                         Traceback (most recent call last)",
      "\u001b[1;32m/data/wiay/qian/river/scripts/train.ipynb Cell 14\u001b[0m in \u001b[0;36m<cell line: 1>\u001b[0;34m()\u001b[0m\n\u001b[1;32m     <a href='vscode-notebook-cell://ssh-remote%2Bwiay/data/wiay/qian/river/scripts/train.ipynb#X12sdnNjb2RlLXJlbW90ZQ%3D%3D?line=9'>10</a>\u001b[0m     train_loader \u001b[39m=\u001b[39m DataLoader(dataset_train, batch_size\u001b[39m=\u001b[39mbatch_size, shuffle\u001b[39m=\u001b[39m\u001b[39mTrue\u001b[39;00m)\n\u001b[1;32m     <a href='vscode-notebook-cell://ssh-remote%2Bwiay/data/wiay/qian/river/scripts/train.ipynb#X12sdnNjb2RlLXJlbW90ZQ%3D%3D?line=10'>11</a>\u001b[0m     logger\u001b[39m.\u001b[39minfo(\u001b[39mf\u001b[39m\u001b[39m\"\u001b[39m\u001b[39mTraining data updated at epoch=\u001b[39m\u001b[39m{\u001b[39;00mepoch\u001b[39m}\u001b[39;00m\u001b[39m\"\u001b[39m)\n\u001b[0;32m---> <a href='vscode-notebook-cell://ssh-remote%2Bwiay/data/wiay/qian/river/scripts/train.ipynb#X12sdnNjb2RlLXJlbW90ZQ%3D%3D?line=12'>13</a>\u001b[0m train_loss, train_loss_std \u001b[39m=\u001b[39m train_zukoflow(flow, embedding_proj, embedding_noproj, optimizer, train_loader, detector_names, ipca_gen, device\u001b[39m=\u001b[39;49mdevice, downsample_rate\u001b[39m=\u001b[39;49mdownsample_rate)\n\u001b[1;32m     <a href='vscode-notebook-cell://ssh-remote%2Bwiay/data/wiay/qian/river/scripts/train.ipynb#X12sdnNjb2RlLXJlbW90ZQ%3D%3D?line=13'>14</a>\u001b[0m valid_loss, valid_loss_std \u001b[39m=\u001b[39m eval_zukoflow(flow,  embedding_proj, embedding_noproj, valid_loader, detector_names, ipca_gen, device\u001b[39m=\u001b[39mdevice, downsample_rate\u001b[39m=\u001b[39mdownsample_rate)\n\u001b[1;32m     <a href='vscode-notebook-cell://ssh-remote%2Bwiay/data/wiay/qian/river/scripts/train.ipynb#X12sdnNjb2RlLXJlbW90ZQ%3D%3D?line=15'>16</a>\u001b[0m train_losses\u001b[39m.\u001b[39mappend(train_loss)\n",
      "\u001b[1;32m/data/wiay/qian/river/scripts/train.ipynb Cell 14\u001b[0m in \u001b[0;36mtrain_zukoflow\u001b[0;34m(flow, embedding_proj, embedding_noproj, optimizer, dataloader, detector_names, ipca_gen, device, downsample_rate)\u001b[0m\n\u001b[1;32m      <a href='vscode-notebook-cell://ssh-remote%2Bwiay/data/wiay/qian/river/scripts/train.ipynb#X12sdnNjb2RlLXJlbW90ZQ%3D%3D?line=3'>4</a>\u001b[0m \u001b[39mfor\u001b[39;00m theta, strain, psd \u001b[39min\u001b[39;00m dataloader:\n\u001b[1;32m      <a href='vscode-notebook-cell://ssh-remote%2Bwiay/data/wiay/qian/river/scripts/train.ipynb#X12sdnNjb2RlLXJlbW90ZQ%3D%3D?line=4'>5</a>\u001b[0m     optimizer\u001b[39m.\u001b[39mzero_grad()\n\u001b[0;32m----> <a href='vscode-notebook-cell://ssh-remote%2Bwiay/data/wiay/qian/river/scripts/train.ipynb#X12sdnNjb2RlLXJlbW90ZQ%3D%3D?line=6'>7</a>\u001b[0m     inputs_proj \u001b[39m=\u001b[39m project_strain_data_FDAPhi(strain, psd, detector_names, ipca_gen)\u001b[39m.\u001b[39mto(device)\n\u001b[1;32m      <a href='vscode-notebook-cell://ssh-remote%2Bwiay/data/wiay/qian/river/scripts/train.ipynb#X12sdnNjb2RlLXJlbW90ZQ%3D%3D?line=7'>8</a>\u001b[0m     inputs_noproj \u001b[39m=\u001b[39m project_strain_data_FDAPhi(strain, psd, detector_names, ipca_gen, project\u001b[39m=\u001b[39m\u001b[39mFalse\u001b[39;00m)\u001b[39m.\u001b[39munsqueeze(\u001b[39m1\u001b[39m)\u001b[39m.\u001b[39mto(device)[:,:,::downsample_rate]\n\u001b[1;32m      <a href='vscode-notebook-cell://ssh-remote%2Bwiay/data/wiay/qian/river/scripts/train.ipynb#X12sdnNjb2RlLXJlbW90ZQ%3D%3D?line=8'>9</a>\u001b[0m     theta \u001b[39m=\u001b[39m theta\u001b[39m.\u001b[39mto(device)\n",
      "File \u001b[0;32m/data/wiay/qian/river/river/models/embedding/pca.py:13\u001b[0m, in \u001b[0;36mproject_strain_data_FDAPhi\u001b[0;34m(strain, psd, detector_names, ipca_gen, project)\u001b[0m\n\u001b[1;32m      6\u001b[0m \u001b[39m'''\u001b[39;00m\n\u001b[1;32m      7\u001b[0m \u001b[39mstrain: DatasetStrainFD in batches, e.g. DatasetStrainFD[0:10]\u001b[39;00m\n\u001b[1;32m      8\u001b[0m \u001b[39mpsd: strain-like\u001b[39;00m\n\u001b[1;32m      9\u001b[0m \u001b[39mdetector_names: DatasetStrainFD.detector_names\u001b[39;00m\n\u001b[1;32m     10\u001b[0m \u001b[39mipca_gen: IPCAGenerator\u001b[39;00m\n\u001b[1;32m     11\u001b[0m \u001b[39m'''\u001b[39;00m\n\u001b[1;32m     12\u001b[0m strain_amp \u001b[39m=\u001b[39m np\u001b[39m.\u001b[39mabs(strain)\n\u001b[0;32m---> 13\u001b[0m strain_phi \u001b[39m=\u001b[39m np\u001b[39m.\u001b[39;49munwrap(np\u001b[39m.\u001b[39;49mangle(strain) , axis\u001b[39m=\u001b[39;49m\u001b[39m-\u001b[39;49m\u001b[39m1\u001b[39;49m)\n\u001b[1;32m     14\u001b[0m n_components \u001b[39m=\u001b[39m ipca_gen\u001b[39m.\u001b[39mn_components\n\u001b[1;32m     16\u001b[0m output_amp \u001b[39m=\u001b[39m []\n",
      "File \u001b[0;32m<__array_function__ internals>:180\u001b[0m, in \u001b[0;36munwrap\u001b[0;34m(*args, **kwargs)\u001b[0m\n",
      "File \u001b[0;32m/data/wiay/qian/.conda/envs/myigwn-py39/lib/python3.9/site-packages/numpy/lib/function_base.py:1723\u001b[0m, in \u001b[0;36munwrap\u001b[0;34m(p, discont, axis, period)\u001b[0m\n\u001b[1;32m   1717\u001b[0m \u001b[39mif\u001b[39;00m boundary_ambiguous:\n\u001b[1;32m   1718\u001b[0m     \u001b[39m# for `mask = (abs(dd) == period/2)`, the above line made\u001b[39;00m\n\u001b[1;32m   1719\u001b[0m     \u001b[39m# `ddmod[mask] == -period/2`. correct these such that\u001b[39;00m\n\u001b[1;32m   1720\u001b[0m     \u001b[39m# `ddmod[mask] == sign(dd[mask])*period/2`.\u001b[39;00m\n\u001b[1;32m   1721\u001b[0m     _nx\u001b[39m.\u001b[39mcopyto(ddmod, interval_high,\n\u001b[1;32m   1722\u001b[0m                where\u001b[39m=\u001b[39m(ddmod \u001b[39m==\u001b[39m interval_low) \u001b[39m&\u001b[39m (dd \u001b[39m>\u001b[39m \u001b[39m0\u001b[39m))\n\u001b[0;32m-> 1723\u001b[0m ph_correct \u001b[39m=\u001b[39m ddmod \u001b[39m-\u001b[39;49m dd\n\u001b[1;32m   1724\u001b[0m _nx\u001b[39m.\u001b[39mcopyto(ph_correct, \u001b[39m0\u001b[39m, where\u001b[39m=\u001b[39m\u001b[39mabs\u001b[39m(dd) \u001b[39m<\u001b[39m discont)\n\u001b[1;32m   1725\u001b[0m up \u001b[39m=\u001b[39m array(p, copy\u001b[39m=\u001b[39m\u001b[39mTrue\u001b[39;00m, dtype\u001b[39m=\u001b[39mdtype)\n",
      "\u001b[0;31mKeyboardInterrupt\u001b[0m: "
     ]
    }
   ],
   "source": [
    "\n",
    "for epoch in range(start_epoch, max_epoch):\n",
    "    #losses = []\n",
    "    \n",
    "    if epoch % epoches_update == 0 and epoch!=0:\n",
    "        data_generator_train.initialize_data()\n",
    "        injection_parameters_train = generate_BNS_injection_parameters(Nsample, a_max=0.1, d_min=10, d_max=100, d_power=3, tc_min=-0.1, tc_max=0.1)\n",
    "        data_generator_train.inject_signals(injection_parameters_train, Nsample)\n",
    "        data_generator_train.numpy_starins()\n",
    "        dataset_train = DatasetStrainFD(data_dict=data_generator_train.data, parameter_names=PARAMETER_NAMES_PRECESSINGBNS_BILBY)\n",
    "        train_loader = DataLoader(dataset_train, batch_size=batch_size, shuffle=True)\n",
    "        logger.info(f\"Training data updated at epoch={epoch}\")\n",
    "\n",
    "    train_loss, train_loss_std = train_zukoflow(flow, embedding_proj, embedding_noproj, optimizer, train_loader, detector_names, ipca_gen, device=device, downsample_rate=downsample_rate)\n",
    "    valid_loss, valid_loss_std = eval_zukoflow(flow,  embedding_proj, embedding_noproj, valid_loader, detector_names, ipca_gen, device=device, downsample_rate=downsample_rate)\n",
    "\n",
    "    train_losses.append(train_loss)\n",
    "    valid_losses.append(valid_loss)\n",
    "\n",
    "    logger.info(f'epoch {epoch}, train loss = {train_loss}±{train_loss_std}, valid loss = {valid_loss}±{valid_loss_std}')\n",
    "\n",
    "    if valid_loss==min(valid_losses):\n",
    "        best_epoch = epoch\n",
    "        torch.save({\n",
    "            'epoch': epoch,\n",
    "            'embd_proj_state_dict': embedding_proj.state_dict(),\n",
    "            'embd_noproj_state_dict': embedding_noproj.state_dict(),\n",
    "            'flow_state_dict': flow.state_dict(),\n",
    "            'optimizer_state_dict': optimizer.state_dict(),\n",
    "            'scheduler_state_dict': scheduler.state_dict(),\n",
    "            'train_losses': train_losses,\n",
    "            'valid_losses': valid_losses\n",
    "            }, ckpt_path)\n",
    "\n",
    "        #torch.save(Net_embedding.state_dict(), embd_ckpt)\n",
    "        #torch.save(flow.state_dict(), flow_ckpt)\n",
    "        #torch.save(optimizer.state_dict(), optm_ckpt)\n",
    "        #torch.save(scheduler.state_dict(), schd_ckpt)\n",
    "\n",
    "        logger.info(f'Current best epoch: {best_epoch}. Checkpoint saved.')\n",
    "\n",
    "    if epoch%20 == 0 and epoch!=0:\n",
    "        save_loss_data(train_losses, valid_losses, ckpt_dir)\n",
    "    \n",
    "    scheduler.step()\n",
    "\n",
    "\n"
   ]
  },
  {
   "cell_type": "code",
   "execution_count": null,
   "metadata": {},
   "outputs": [],
   "source": []
  }
 ],
 "metadata": {
  "kernelspec": {
   "display_name": "myigwn-py39",
   "language": "python",
   "name": "myigwn-py39"
  },
  "language_info": {
   "codemirror_mode": {
    "name": "ipython",
    "version": 3
   },
   "file_extension": ".py",
   "mimetype": "text/x-python",
   "name": "python",
   "nbconvert_exporter": "python",
   "pygments_lexer": "ipython3",
   "version": "3.9.13"
  },
  "orig_nbformat": 4
 },
 "nbformat": 4,
 "nbformat_minor": 2
}
