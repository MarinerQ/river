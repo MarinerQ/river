{
 "cells": [
  {
   "cell_type": "code",
   "execution_count": 1,
   "id": "97c6bdcd-b74c-48ef-8611-01facc3549c2",
   "metadata": {},
   "outputs": [
    {
     "name": "stderr",
     "output_type": "stream",
     "text": [
      "/home/qian.hu/.conda/envs/myigwn-py39/lib/python3.9/site-packages/pycbc/types/array.py:36: UserWarning: Wswiglal-redir-stdio:\n",
      "\n",
      "SWIGLAL standard output/error redirection is enabled in IPython.\n",
      "This may lead to performance penalties. To disable locally, use:\n",
      "\n",
      "with lal.no_swig_redirect_standard_output_error():\n",
      "    ...\n",
      "\n",
      "To disable globally, use:\n",
      "\n",
      "lal.swig_redirect_standard_output_error(True)\n",
      "\n",
      "Note however that this will likely lead to error messages from\n",
      "LAL functions being either misdirected or lost when called from\n",
      "Jupyter notebooks.\n",
      "\n",
      "To suppress this warning, use:\n",
      "\n",
      "import warnings\n",
      "warnings.filterwarnings(\"ignore\", \"Wswiglal-redir-stdio\")\n",
      "import lal\n",
      "\n",
      "  import lal as _lal\n"
     ]
    }
   ],
   "source": [
    "import numpy as np\n",
    "import bilby \n",
    "import pycbc \n",
    "import sys\n",
    "import torch\n",
    "import matplotlib.pyplot as plt\n",
    "import glob"
   ]
  },
  {
   "cell_type": "code",
   "execution_count": 2,
   "id": "a84adc6f-dac4-4c52-91b4-8b8a0235c626",
   "metadata": {},
   "outputs": [],
   "source": [
    "#sys.path.append('/Users/qianhu/Documents/Glasgow/research/river')\n",
    "import river.data\n",
    "from river.data.datagenerator import DataGeneratorBilbyFD\n",
    "from river.data.dataset import DatasetStrainFD, DatasetXFromPreCalSVDData\n",
    "#import river.data.utils as datautils\n",
    "from river.data.utils import *\n",
    "\n",
    "from river.models import embedding\n",
    "from river.models import utils as modelutils"
   ]
  },
  {
   "cell_type": "code",
   "execution_count": 3,
   "id": "b66279ad-c00a-4346-95bf-b01041fc318e",
   "metadata": {},
   "outputs": [
    {
     "data": {
      "text/plain": [
       "16.666666666666668"
      ]
     },
     "execution_count": 3,
     "metadata": {},
     "output_type": "execute_result"
    }
   ],
   "source": [
    "200000 / 1000 * 5 / 60"
   ]
  },
  {
   "cell_type": "code",
   "execution_count": 6,
   "id": "dd2119a4-355d-4aec-8438-cf9faa42e442",
   "metadata": {},
   "outputs": [
    {
     "name": "stderr",
     "output_type": "stream",
     "text": [
      "03:16 bilby INFO    : Waveform generator initiated with\n",
      "  frequency_domain_source_model: bilby.gw.source.lal_binary_neutron_star\n",
      "  time_domain_source_model: None\n",
      "  parameter_conversion: bilby.gw.conversion.convert_to_lal_binary_black_hole_parameters\n"
     ]
    },
    {
     "name": "stdout",
     "output_type": "stream",
     "text": [
      "Using zero_noise PSDs to generate data.\n"
     ]
    }
   ],
   "source": [
    "data_template_generator = DataGeneratorBilbyFD(source_type,\n",
    "                detector_names, \n",
    "                duration, \n",
    "                f_low, \n",
    "                f_ref, \n",
    "                sampling_frequency, \n",
    "                waveform_approximant, \n",
    "                parameter_names,\n",
    "                PSD_type=PSD_type,\n",
    "                use_sealgw_detector=False,\n",
    "                snr_threshold=8)"
   ]
  },
  {
   "cell_type": "code",
   "execution_count": 7,
   "id": "68f48a7c-911a-4dc9-88e9-649214954e84",
   "metadata": {},
   "outputs": [],
   "source": [
    "Nsample = 2\n",
    "injection_parameters_all = generate_BNS_injection_parameters(\n",
    "        Nsample*2,\n",
    "        a_max=0.1,\n",
    "        d_min=10,\n",
    "        d_max=50,\n",
    "        d_power=1)"
   ]
  },
  {
   "cell_type": "code",
   "execution_count": 4,
   "id": "ad34397a-4e14-4c3b-b336-ab688206faf1",
   "metadata": {},
   "outputs": [],
   "source": [
    "source_type = 'BNS'\n",
    "detector_names = ['H1', 'L1', 'V1'] \n",
    "#detector_names = ['H1'] \n",
    "duration = 320\n",
    "f_low = 20\n",
    "f_ref = 20\n",
    "sampling_frequency = 2048\n",
    "waveform_approximant = 'IMRPhenomPv2_NRTidal'\n",
    "parameter_names = PARAMETER_NAMES_ALL_PRECESSINGBNS_BILBY\n",
    "PSD_type = 'zero_noise' #'zero_noise'\n",
    "\n"
   ]
  },
  {
   "cell_type": "code",
   "execution_count": 8,
   "id": "f75e9cef-f025-4178-b51b-2c0cdaa5687c",
   "metadata": {},
   "outputs": [],
   "source": [
    "data_template_generator.generate_waveforms(injection_parameters_all)"
   ]
  },
  {
   "cell_type": "code",
   "execution_count": 19,
   "id": "b00a7075-6a40-4b75-a53f-69ba83254441",
   "metadata": {},
   "outputs": [],
   "source": [
    "strain_template_dict = data_template_generator.waveforms['waveform_polarizations']#['plus']['amplitude']"
   ]
  },
  {
   "cell_type": "code",
   "execution_count": 26,
   "id": "f7d7f971-14bb-4900-944d-a6578af4bb00",
   "metadata": {},
   "outputs": [],
   "source": [
    "for modename in ['plus', 'cross']:\n",
    "    h = np.array(strain_template_dict[modename]['amplitude']) * np.exp(1j* np.array(strain_template_dict[modename]['phase']))"
   ]
  },
  {
   "cell_type": "code",
   "execution_count": 32,
   "id": "10e2c8e8-b4c2-4dfc-8d3c-c6ce4ab9c75f",
   "metadata": {},
   "outputs": [
    {
     "data": {
      "text/plain": [
       "[<matplotlib.lines.Line2D at 0x7f9bc4142b80>]"
      ]
     },
     "execution_count": 32,
     "metadata": {},
     "output_type": "execute_result"
    },
    {
     "data": {
      "image/png": "[encoded data removed]",
      "text/plain": [
       "<Figure size 432x288 with 1 Axes>"
      ]
     },
     "metadata": {
      "needs_background": "light"
     },
     "output_type": "display_data"
    }
   ],
   "source": [
    "plt.loglog(abs(h[1]))"
   ]
  },
  {
   "cell_type": "code",
   "execution_count": 23,
   "id": "b08ae7d3-1acb-4620-a6f8-a0c51a7cb97c",
   "metadata": {},
   "outputs": [
    {
     "data": {
      "text/plain": [
       "array([[246.53290149, 246.48980036, 246.44680777, ...,   0.        ,\n",
       "          0.        ,   0.        ],\n",
       "       [318.78249425, 318.73049522, 318.6786962 , ...,   0.        ,\n",
       "          0.        ,   0.        ],\n",
       "       [218.56196349, 218.50079168, 218.43951575, ...,   1.82489653,\n",
       "          1.82488888,   0.        ],\n",
       "       [316.24749198, 316.18355976, 316.11943689, ...,   0.        ,\n",
       "          0.        ,   0.        ]])"
      ]
     },
     "execution_count": 23,
     "metadata": {},
     "output_type": "execute_result"
    }
   ],
   "source": [
    "np.array(strain_template_dict[modename]['amplitude'])"
   ]
  },
  {
   "cell_type": "code",
   "execution_count": 25,
   "id": "f6417328-2d6a-4c63-b79f-8a578c00b2be",
   "metadata": {},
   "outputs": [
    {
     "data": {
      "text/plain": [
       "array([[ 0.64533672-7.63898235e-01j,  0.98933937+1.45628318e-01j,\n",
       "         0.39823428+9.17283739e-01j, ...,  1.        +5.03162773e-11j,\n",
       "         1.        +5.03162773e-11j,  1.        +5.03162773e-11j],\n",
       "       [-0.82677506+5.62532666e-01j, -0.83795846-5.45734023e-01j,\n",
       "         0.17970839-9.83719927e-01j, ...,  1.        +4.82366014e-11j,\n",
       "         1.        +4.82366014e-11j,  1.        +4.82366014e-11j],\n",
       "       [-0.71024719+7.03952367e-01j,  0.46338077-8.86159275e-01j,\n",
       "        -0.17173321+9.85143494e-01j, ...,  0.90439164+4.26703360e-01j,\n",
       "         0.90439229+4.26701986e-01j,  1.        +1.70614688e-10j],\n",
       "       [-0.30185895+9.53352598e-01j, -0.98640092+1.64357034e-01j,\n",
       "        -0.59503689-8.03698390e-01j, ...,  1.        +6.14301504e-11j,\n",
       "         1.        +6.14301504e-11j,  1.        +6.14301504e-11j]])"
      ]
     },
     "execution_count": 25,
     "metadata": {},
     "output_type": "execute_result"
    }
   ],
   "source": [
    "np.array(np.exp(1j* np.array(strain_template_dict[modename]['phase'])))"
   ]
  },
  {
   "cell_type": "code",
   "execution_count": null,
   "id": "d2ab10b9-1819-460f-bb8e-44d21d9f4cc9",
   "metadata": {},
   "outputs": [],
   "source": []
  },
  {
   "cell_type": "code",
   "execution_count": 17,
   "id": "24c953eb-4aaf-4b94-a1da-e38e6e3b27f2",
   "metadata": {},
   "outputs": [
    {
     "ename": "TypeError",
     "evalue": "string indices must be integers",
     "output_type": "error",
     "traceback": [
      "\u001b[0;31m---------------------------------------------------------------------------\u001b[0m",
      "\u001b[0;31mTypeError\u001b[0m                                 Traceback (most recent call last)",
      "\u001b[0;32m<ipython-input-17-7b0b54bb4cb4>\u001b[0m in \u001b[0;36m<module>\u001b[0;34m\u001b[0m\n\u001b[0;32m----> 1\u001b[0;31m \u001b[0mdata_template_generator\u001b[0m\u001b[0;34m.\u001b[0m\u001b[0mrearrange_waveforms_for_ipca\u001b[0m\u001b[0;34m(\u001b[0m\u001b[0mdata_template_generator\u001b[0m\u001b[0;34m.\u001b[0m\u001b[0mwaveforms\u001b[0m\u001b[0;34m[\u001b[0m\u001b[0;34m'waveform_polarizations'\u001b[0m\u001b[0;34m]\u001b[0m\u001b[0;34m)\u001b[0m\u001b[0;34m\u001b[0m\u001b[0;34m\u001b[0m\u001b[0m\n\u001b[0m",
      "\u001b[0;32m~/mlpe/river/river/data/datagenerator.py\u001b[0m in \u001b[0;36mrearrange_waveforms_for_ipca\u001b[0;34m(self, datagenwaveform)\u001b[0m\n\u001b[1;32m    417\u001b[0m \u001b[0;34m\u001b[0m\u001b[0m\n\u001b[1;32m    418\u001b[0m         \u001b[0;32mfor\u001b[0m \u001b[0mii\u001b[0m\u001b[0;34m,\u001b[0m\u001b[0mdd\u001b[0m \u001b[0;32min\u001b[0m \u001b[0menumerate\u001b[0m\u001b[0;34m(\u001b[0m\u001b[0mdatagenwaveform\u001b[0m\u001b[0;34m)\u001b[0m\u001b[0;34m:\u001b[0m\u001b[0;34m\u001b[0m\u001b[0;34m\u001b[0m\u001b[0m\n\u001b[0;32m--> 419\u001b[0;31m             \u001b[0mrearranged_waveforms\u001b[0m\u001b[0;34m[\u001b[0m\u001b[0;34m'plus'\u001b[0m\u001b[0;34m]\u001b[0m\u001b[0;34m.\u001b[0m\u001b[0mappend\u001b[0m\u001b[0;34m(\u001b[0m\u001b[0mdd\u001b[0m\u001b[0;34m[\u001b[0m\u001b[0;34m'plus'\u001b[0m\u001b[0;34m]\u001b[0m\u001b[0;34m[\u001b[0m\u001b[0;34m'amplitude'\u001b[0m\u001b[0;34m]\u001b[0m \u001b[0;34m*\u001b[0m \u001b[0mnp\u001b[0m\u001b[0;34m.\u001b[0m\u001b[0mexp\u001b[0m\u001b[0;34m(\u001b[0m\u001b[0;36m1j\u001b[0m\u001b[0;34m*\u001b[0m\u001b[0mdd\u001b[0m\u001b[0;34m[\u001b[0m\u001b[0;34m'plus'\u001b[0m\u001b[0;34m]\u001b[0m\u001b[0;34m[\u001b[0m\u001b[0;34m'phase'\u001b[0m\u001b[0;34m]\u001b[0m\u001b[0;34m)\u001b[0m\u001b[0;34m)\u001b[0m\u001b[0;34m\u001b[0m\u001b[0;34m\u001b[0m\u001b[0m\n\u001b[0m\u001b[1;32m    420\u001b[0m             \u001b[0mrearranged_waveforms\u001b[0m\u001b[0;34m[\u001b[0m\u001b[0;34m'cross'\u001b[0m\u001b[0;34m]\u001b[0m\u001b[0;34m.\u001b[0m\u001b[0mappend\u001b[0m\u001b[0;34m(\u001b[0m\u001b[0mdd\u001b[0m\u001b[0;34m[\u001b[0m\u001b[0;34m'cross'\u001b[0m\u001b[0;34m]\u001b[0m\u001b[0;34m[\u001b[0m\u001b[0;34m'amplitude'\u001b[0m\u001b[0;34m]\u001b[0m \u001b[0;34m*\u001b[0m \u001b[0mnp\u001b[0m\u001b[0;34m.\u001b[0m\u001b[0mexp\u001b[0m\u001b[0;34m(\u001b[0m\u001b[0;36m1j\u001b[0m\u001b[0;34m*\u001b[0m\u001b[0mdd\u001b[0m\u001b[0;34m[\u001b[0m\u001b[0;34m'cross'\u001b[0m\u001b[0;34m]\u001b[0m\u001b[0;34m[\u001b[0m\u001b[0;34m'phase'\u001b[0m\u001b[0;34m]\u001b[0m\u001b[0;34m)\u001b[0m\u001b[0;34m)\u001b[0m\u001b[0;34m\u001b[0m\u001b[0;34m\u001b[0m\u001b[0m\n\u001b[1;32m    421\u001b[0m \u001b[0;34m\u001b[0m\u001b[0m\n",
      "\u001b[0;31mTypeError\u001b[0m: string indices must be integers"
     ]
    }
   ],
   "source": [
    "data_template_generator.rearrange_waveforms_for_ipca(data_template_generator.waveforms['waveform_polarizations'])"
   ]
  },
  {
   "cell_type": "code",
   "execution_count": 15,
   "id": "3ef00dc2-0c3e-4a10-bba8-70ff7abcec00",
   "metadata": {},
   "outputs": [
    {
     "data": {
      "text/plain": [
       "[<matplotlib.lines.Line2D at 0x7f9daa975a60>]"
      ]
     },
     "execution_count": 15,
     "metadata": {},
     "output_type": "execute_result"
    },
    {
     "data": {
      "image/png": "[encoded data removed]",
      "text/plain": [
       "<Figure size 432x288 with 1 Axes>"
      ]
     },
     "metadata": {
      "needs_background": "light"
     },
     "output_type": "display_data"
    }
   ],
   "source": [
    "plt.loglog(data_template_generator.waveforms['waveform_polarizations']['plus']['amplitude'][0])"
   ]
  },
  {
   "cell_type": "code",
   "execution_count": 51,
   "id": "e35295a5-63f4-4587-9f97-20f632070a77",
   "metadata": {},
   "outputs": [],
   "source": [
    "a = np.array([[1],[2],[3]])\n",
    "b = np.expand_dims(a, 0)"
   ]
  },
  {
   "cell_type": "code",
   "execution_count": 52,
   "id": "fe36f341-1e7b-4ff7-b34f-0e6601d5ba61",
   "metadata": {},
   "outputs": [
    {
     "data": {
      "text/plain": [
       "(3, 1)"
      ]
     },
     "execution_count": 52,
     "metadata": {},
     "output_type": "execute_result"
    }
   ],
   "source": [
    "a.shape"
   ]
  },
  {
   "cell_type": "code",
   "execution_count": 65,
   "id": "4dd2255f-cd6c-470a-a6f0-dbdcbb398f92",
   "metadata": {},
   "outputs": [],
   "source": [
    "ooo = np.ones((2000000, 9, 256))*1.1"
   ]
  },
  {
   "cell_type": "code",
   "execution_count": 58,
   "id": "8b48f6c6-70ad-4ac0-98a3-6d855d588bdc",
   "metadata": {},
   "outputs": [
    {
     "data": {
      "text/plain": [
       "(2000000, 9, 256)"
      ]
     },
     "execution_count": 58,
     "metadata": {},
     "output_type": "execute_result"
    }
   ],
   "source": [
    "ooo.shape"
   ]
  },
  {
   "cell_type": "code",
   "execution_count": 66,
   "id": "03cb542e-084e-41de-9a5f-737a935c5fc9",
   "metadata": {},
   "outputs": [
    {
     "data": {
      "text/plain": [
       "36.864000144"
      ]
     },
     "execution_count": 66,
     "metadata": {},
     "output_type": "execute_result"
    }
   ],
   "source": [
    "sys.getsizeof(ooo) / 1e9"
   ]
  },
  {
   "cell_type": "code",
   "execution_count": 67,
   "id": "291ad2c0-d06c-431b-9f20-e453b9802624",
   "metadata": {},
   "outputs": [],
   "source": [
    "del ooo"
   ]
  },
  {
   "cell_type": "code",
   "execution_count": 53,
   "id": "03f425f8-4ada-40e7-8b76-84ea810b477e",
   "metadata": {},
   "outputs": [
    {
     "data": {
      "text/plain": [
       "(1, 3, 1)"
      ]
     },
     "execution_count": 53,
     "metadata": {},
     "output_type": "execute_result"
    }
   ],
   "source": [
    "b.shape"
   ]
  },
  {
   "cell_type": "code",
   "execution_count": 48,
   "id": "f8405514-a8f7-4b0a-be5f-11dd51fc265e",
   "metadata": {},
   "outputs": [
    {
     "data": {
      "text/plain": [
       "tensor([1.])"
      ]
     },
     "execution_count": 48,
     "metadata": {},
     "output_type": "execute_result"
    }
   ],
   "source": [
    "torch.Tensor([1]).detach()a"
   ]
  },
  {
   "cell_type": "code",
   "execution_count": 6,
   "id": "65de0217-877b-4e40-ba64-12ecc860b73f",
   "metadata": {},
   "outputs": [
    {
     "name": "stdout",
     "output_type": "stream",
     "text": [
      "Model loaded from /home/qian.hu/mlpe/river/scripts/ipca_models/hphc/IPCA_HPHC_BNSFD_10000to256_ExpUnwrap_lowspin_200Mpc.pickle\n"
     ]
    }
   ],
   "source": [
    "ipca_gen = modelutils.load_model('/home/qian.hu/mlpe/river/scripts/ipca_models/hphc/IPCA_HPHC_BNSFD_10000to256_ExpUnwrap_lowspin_200Mpc.pickle')"
   ]
  },
  {
   "cell_type": "code",
   "execution_count": 43,
   "id": "df967f84-66ef-4307-bc0a-15119f1702ea",
   "metadata": {},
   "outputs": [
    {
     "name": "stdout",
     "output_type": "stream",
     "text": [
      "CPU times: user 17.8 ms, sys: 12.2 ms, total: 29.9 ms\n",
      "Wall time: 40.6 ms\n"
     ]
    }
   ],
   "source": [
    "%time testfff = load_dict_from_hdf5('/home/qian.hu/mlpe/training_data/bns_320s_dataproj_lowspin_2d/valid/batch0/bns_320s_dataproj_lowspin_2d_0.h5')\n",
    "\n"
   ]
  },
  {
   "cell_type": "code",
   "execution_count": null,
   "id": "eebe1d14-29fa-4808-a515-6ba5a6cdd92c",
   "metadata": {},
   "outputs": [],
   "source": []
  },
  {
   "cell_type": "code",
   "execution_count": 17,
   "id": "aae46052-a779-4a0f-ba33-7cd011de1a6d",
   "metadata": {},
   "outputs": [
    {
     "name": "stderr",
     "output_type": "stream",
     "text": [
      "05:02 bilby INFO    : Waveform generator initiated with\n",
      "  frequency_domain_source_model: bilby.gw.source.lal_binary_neutron_star\n",
      "  time_domain_source_model: None\n",
      "  parameter_conversion: bilby.gw.conversion.convert_to_lal_binary_black_hole_parameters\n",
      "05:02 bilby INFO    : Waveform generator initiated with\n",
      "  frequency_domain_source_model: bilby.gw.source.lal_binary_neutron_star\n",
      "  time_domain_source_model: None\n",
      "  parameter_conversion: bilby.gw.conversion.convert_to_lal_binary_black_hole_parameters\n"
     ]
    },
    {
     "name": "stdout",
     "output_type": "stream",
     "text": [
      "Using zero_noise PSDs to generate data.\n",
      "Using zero_noise PSDs to generate data.\n"
     ]
    }
   ],
   "source": [
    "data_generator = DataGeneratorBilbyFD(source_type,\n",
    "            detector_names, \n",
    "            duration, \n",
    "            f_low, \n",
    "            f_ref, \n",
    "            sampling_frequency, \n",
    "            waveform_approximant, \n",
    "            parameter_names,\n",
    "            PSD_type=PSD_type,\n",
    "            use_sealgw_detector=True)\n",
    "\n",
    "data_generator_svd = DataGeneratorBilbyFD(source_type,\n",
    "            detector_names, \n",
    "            duration, \n",
    "            f_low, \n",
    "            f_ref, \n",
    "            sampling_frequency, \n",
    "            waveform_approximant, \n",
    "            parameter_names,\n",
    "            PSD_type=PSD_type,\n",
    "            use_sealgw_detector=True,\n",
    "                                         ipca = ipca_gen.pca_dict)\n"
   ]
  },
  {
   "cell_type": "code",
   "execution_count": 18,
   "id": "7bae1aff-e966-422b-93ea-28cfae6ed0fb",
   "metadata": {},
   "outputs": [],
   "source": [
    "def update_injection_parameters(injection_parameters):\n",
    "    injection_parameters['ra'] = np.random.uniform(0, np.pi)\n",
    "    injection_parameters['dec'] = np.arcsin(np.random.uniform(-1, 1))\n",
    "    injection_parameters['psi'] = np.random.uniform(0, np.pi)\n",
    "    injection_parameters['geocent_time'] = np.random.uniform(-0.1, 0.1)\n",
    "    injection_parameters['luminosity_distance'] = generate_random_distance(Nsample=1, low=10, high=200, power=1)[0]\n",
    "\n",
    "    return injection_parameters"
   ]
  },
  {
   "cell_type": "code",
   "execution_count": 19,
   "id": "01408556-0112-4474-9672-a78d03994839",
   "metadata": {},
   "outputs": [],
   "source": [
    "wf_dict = data_generator_svd.get_one_waveform(0, testfff['waveform_polarizations'])\n",
    "injection_parameters = data_generator_svd.get_one_injection_parameters(0,  testfff['injection_parameters'], is_intrinsic_only=True)\n",
    "injection_parameters = update_injection_parameters(injection_parameters)\n"
   ]
  },
  {
   "cell_type": "code",
   "execution_count": 20,
   "id": "78c178ba-e21a-42c6-91ec-7f835578b14d",
   "metadata": {},
   "outputs": [],
   "source": [
    "while not data_generator_svd.inject_one_signal_from_waveforms(injection_parameters, wf_dict):\n",
    "    injection_parameters = update_injection_parameters(injection_parameters) "
   ]
  },
  {
   "cell_type": "code",
   "execution_count": 33,
   "id": "04c09043-ae22-44b1-b40d-1f0e02339a29",
   "metadata": {},
   "outputs": [],
   "source": [
    "data_dict = data_generator_svd.data\n",
    "s = np.array(list(data_dict['strains'][detname] for detname in detector_names ))\n",
    "psd = np.array(list(data_dict['PSDs'][detname] for detname in detector_names ))\n",
    "inv_asd = np.float32(1 / (psd**0.5))\n",
    "###s_whitened = np.complex64(s*inv_asd)\n",
    "s_whitened = np.complex64(s*1e23)\n",
    "inv_asd = torch.from_numpy(inv_asd*1e-23).movedim(0,1).float()[0]\n",
    "strain = torch.from_numpy(s_whitened).movedim(0,1)[0] # is complex"
   ]
  },
  {
   "cell_type": "code",
   "execution_count": 37,
   "id": "fb538b69-8404-44e6-a797-d6e281eb8a14",
   "metadata": {},
   "outputs": [
    {
     "data": {
      "text/plain": [
       "['H1', 'L1', 'V1']"
      ]
     },
     "execution_count": 37,
     "metadata": {},
     "output_type": "execute_result"
    }
   ],
   "source": [
    "data_generator_svd.detector_names"
   ]
  },
  {
   "cell_type": "code",
   "execution_count": 8,
   "id": "56e5756e-b24d-44f2-b173-36f906e08f31",
   "metadata": {
    "tags": []
   },
   "outputs": [
    {
     "name": "stdout",
     "output_type": "stream",
     "text": [
      "Injecting 0-th signal, 0.0% done\n",
      "Injecting 1-th signal, 25.0% done\n"
     ]
    }
   ],
   "source": [
    "data_generator.inject_signals(injection_parameters_all, Nsample*2, Nsample)"
   ]
  },
  {
   "cell_type": "code",
   "execution_count": 46,
   "id": "99ae623b-5ab2-4e7f-a3d6-f012f85d1ce3",
   "metadata": {},
   "outputs": [
    {
     "data": {
      "text/plain": [
       "(tensor([ 3.0950e-01,  7.0817e-01,  1.4078e-02,  6.6037e-03,  1.0720e+00,\n",
       "          1.2760e+00,  4.5948e+00,  8.0353e-01,  3.5210e+03, -3.7193e+02,\n",
       "          1.3585e+00,  1.6137e+02,  1.6525e+00, -4.1056e-01,  2.8032e+00,\n",
       "          1.2064e+00,  7.2084e-02]),\n",
       " tensor([[ 3.8566e+01, -2.8734e+00, -4.6818e-02,  ..., -1.1547e-01,\n",
       "          -1.4920e-01,  2.6675e-01],\n",
       "         [ 6.6355e+00, -4.9304e-01, -4.2133e-03,  ...,  1.1059e-01,\n",
       "           1.5619e-01,  2.7113e-02],\n",
       "         [ 2.0863e+01, -1.2316e+00,  1.9283e+00,  ...,  6.9269e-01,\n",
       "           9.2063e-01, -3.4214e-02],\n",
       "         ...,\n",
       "         [ 8.9201e+02,  9.6728e+02, -7.3883e+01,  ...,  3.0520e-03,\n",
       "          -3.6812e-03,  5.9541e-03],\n",
       "         [ 8.9180e+02,  9.6627e+02, -8.8021e+01,  ...,  3.0563e-03,\n",
       "           1.2149e-02,  3.3734e-03],\n",
       "         [ 6.7317e+02,  3.4049e+02, -1.3444e+02,  ...,  3.4468e-03,\n",
       "           7.1653e-03,  1.8849e-03]]))"
      ]
     },
     "execution_count": 46,
     "metadata": {},
     "output_type": "execute_result"
    }
   ],
   "source": [
    "ds[0]"
   ]
  },
  {
   "cell_type": "code",
   "execution_count": 39,
   "id": "c3ee12fc-69c9-4e67-bc59-f0af1e5c7000",
   "metadata": {},
   "outputs": [],
   "source": [
    "filelist = glob.glob('/home/qian.hu/mlpe/training_data/bns_320s_dataproj_lowspin/train/batch*/*.h5')"
   ]
  },
  {
   "cell_type": "code",
   "execution_count": 40,
   "id": "65b36119-f62f-43c7-ae08-6acfa91c27bd",
   "metadata": {},
   "outputs": [
    {
     "data": {
      "text/plain": [
       "4213800"
      ]
     },
     "execution_count": 40,
     "metadata": {},
     "output_type": "execute_result"
    }
   ],
   "source": [
    "len(filelist) * 200 # samples"
   ]
  },
  {
   "cell_type": "code",
   "execution_count": 41,
   "id": "8bcc019b-a886-4bc8-8d9b-ecada820115c",
   "metadata": {},
   "outputs": [
    {
     "data": {
      "text/plain": [
       "37.924200000000006"
      ]
     },
     "execution_count": 41,
     "metadata": {},
     "output_type": "execute_result"
    }
   ],
   "source": [
    "len(filelist) * 1.8 / 1000 # GB"
   ]
  },
  {
   "cell_type": "code",
   "execution_count": 42,
   "id": "fb7a2359-b1d2-4282-8fda-25eb6d7f0b18",
   "metadata": {},
   "outputs": [
    {
     "data": {
      "text/plain": [
       "7.407070312500001"
      ]
     },
     "execution_count": 42,
     "metadata": {},
     "output_type": "execute_result"
    }
   ],
   "source": [
    "len(filelist) * 1.8 / 1000 / 512 * 100 # % on cit12"
   ]
  },
  {
   "cell_type": "code",
   "execution_count": 19,
   "id": "34a1098f-90f1-4eb9-a9e6-4088e63bec8e",
   "metadata": {},
   "outputs": [],
   "source": [
    "dsd = []\n",
    "for ff in filelist:\n",
    "    if len(dsd)<100:\n",
    "        dsd.append(load_dict_from_hdf5(ff))"
   ]
  },
  {
   "cell_type": "code",
   "execution_count": 8,
   "id": "e2e5ba3a-2532-492c-9528-0084328b235f",
   "metadata": {},
   "outputs": [],
   "source": [
    "ds = DatasetXFromPreCalSVDData(dsd, PARAMETER_NAMES_CONTEXT_PRECESSINGBNS_BILBY)"
   ]
  },
  {
   "cell_type": "code",
   "execution_count": 13,
   "id": "f343a92e-1f2b-4a4c-954a-1acf1a98314d",
   "metadata": {},
   "outputs": [
    {
     "data": {
      "text/plain": [
       "torch.Size([9, 256])"
      ]
     },
     "execution_count": 13,
     "metadata": {},
     "output_type": "execute_result"
    }
   ],
   "source": [
    "ds[1][1].shape"
   ]
  },
  {
   "cell_type": "code",
   "execution_count": 17,
   "id": "605bdac7-4bff-4d49-a519-72f65b03686a",
   "metadata": {},
   "outputs": [
    {
     "data": {
      "text/plain": [
       "4824"
      ]
     },
     "execution_count": 17,
     "metadata": {},
     "output_type": "execute_result"
    }
   ],
   "source": [
    "len(dsd)"
   ]
  },
  {
   "cell_type": "code",
   "execution_count": 16,
   "id": "5ed8812d-8114-41d8-9380-5f2f136968b6",
   "metadata": {},
   "outputs": [
    {
     "data": {
      "text/plain": [
       "9.0"
      ]
     },
     "execution_count": 16,
     "metadata": {},
     "output_type": "execute_result"
    }
   ],
   "source": [
    "1.8*5000/1000"
   ]
  },
  {
   "cell_type": "code",
   "execution_count": 38,
   "id": "86cf5f54-2d03-425c-b966-e31ea2149325",
   "metadata": {},
   "outputs": [],
   "source": [
    "def get_precalwf_list(folder, nbatch, file_per_batch, filename_prefix):\n",
    "    file_list = []\n",
    "    for ibatch in range(nbatch):\n",
    "        for ifile in range(file_per_batch):\n",
    "            filename = f\"{folder}/batch{ibatch}/{filename_prefix}_{ifile}.h5\"\n",
    "            wf_dict = load_dict_from_hdf5(filename)\n",
    "            file_list.append(wf_dict)\n",
    "    return file_list"
   ]
  },
  {
   "cell_type": "code",
   "execution_count": null,
   "id": "f4fa15a2-46eb-4627-9e37-51d92017a976",
   "metadata": {},
   "outputs": [],
   "source": []
  },
  {
   "cell_type": "code",
   "execution_count": 42,
   "id": "bcb36107-f756-4808-b78f-64813c380e57",
   "metadata": {},
   "outputs": [],
   "source": [
    "dsd = get_precalwf_list(folder='/home/qian.hu/mlpe/training_data/bns_320s_lowspin/valid',\n",
    "                  nbatch=1,\n",
    "                  file_per_batch=1,\n",
    "                  filename_prefix='precalwf_bns_320s_lowspin')"
   ]
  },
  {
   "cell_type": "code",
   "execution_count": 43,
   "id": "3b00b9f3-f821-4c80-b79c-964b1d6b81a7",
   "metadata": {},
   "outputs": [
    {
     "data": {
      "text/plain": [
       "1"
      ]
     },
     "execution_count": 43,
     "metadata": {},
     "output_type": "execute_result"
    }
   ],
   "source": [
    "dsd"
   ]
  },
  {
   "cell_type": "code",
   "execution_count": null,
   "id": "f91be72e-8064-4ba9-878a-198a066501a8",
   "metadata": {},
   "outputs": [],
   "source": []
  },
  {
   "cell_type": "code",
   "execution_count": null,
   "id": "9b54aef2-02bc-4919-b0f5-cee34d17a3a0",
   "metadata": {},
   "outputs": [],
   "source": []
  },
  {
   "cell_type": "code",
   "execution_count": 9,
   "id": "cbde4ff4-a8b0-493b-a465-c9098329264f",
   "metadata": {},
   "outputs": [],
   "source": [
    "data_generator_svd.generate_waveforms(injection_parameters_all)"
   ]
  },
  {
   "cell_type": "code",
   "execution_count": 10,
   "id": "9df4001a-73cd-446d-8a76-d61225a0d601",
   "metadata": {},
   "outputs": [],
   "source": [
    "h_recons = data_generator_svd.reconstruct_waveforms(data_generator_svd.waveforms['waveform_polarizations'][0], injection_parameters_all['luminosity_distance'][0])"
   ]
  },
  {
   "cell_type": "code",
   "execution_count": 85,
   "id": "28e756dc-90ca-41fd-bf18-4514a4f05b32",
   "metadata": {},
   "outputs": [
    {
     "data": {
      "text/plain": [
       "(20.0, 23.0)"
      ]
     },
     "execution_count": 85,
     "metadata": {},
     "output_type": "execute_result"
    },
    {
     "data": {
      "image/png": "[encoded data removed]",
      "text/plain": [
       "<Figure size 432x288 with 1 Axes>"
      ]
     },
     "metadata": {
      "needs_background": "light"
     },
     "output_type": "display_data"
    }
   ],
   "source": [
    "for i in range(1):\n",
    "\n",
    "    injection_parameters = {}\n",
    "    for paraname in PARAMETER_NAMES_ALL_PRECESSINGBNS_BILBY:\n",
    "        injection_parameters[paraname] = injection_parameters_all[paraname][i]\n",
    "    \n",
    "    h_real = data_generator_svd.waveform_generator.frequency_domain_strain(injection_parameters)\n",
    "    plt.plot(data_generator_svd.frequency_array_masked, (np.real(\n",
    "                                               h_real['cross'][data_generator_svd.frequency_mask]\n",
    "                                                                            )\n",
    "                                                                 )\n",
    "            )\n",
    "\n",
    "plt.xlim(20, 23)"
   ]
  },
  {
   "cell_type": "code",
   "execution_count": 13,
   "id": "58e19da2-bee0-4a67-9cba-feb267437b41",
   "metadata": {},
   "outputs": [],
   "source": [
    "injection_parameters = {}\n",
    "for paraname in PARAMETER_NAMES_ALL_PRECESSINGBNS_BILBY:\n",
    "    injection_parameters[paraname] = injection_parameters_all[paraname][0]\n",
    "\n",
    "h_real = data_generator_svd.waveform_generator.frequency_domain_strain(injection_parameters)"
   ]
  },
  {
   "cell_type": "code",
   "execution_count": 14,
   "id": "72aa2154-1ca2-4332-a27f-538956534ea0",
   "metadata": {},
   "outputs": [
    {
     "data": {
      "text/plain": [
       "(20, 2048)"
      ]
     },
     "execution_count": 14,
     "metadata": {},
     "output_type": "execute_result"
    },
    {
     "data": {
      "image/png": "[encoded data removed]",
      "text/plain": [
       "<Figure size 432x288 with 1 Axes>"
      ]
     },
     "metadata": {
      "needs_background": "light"
     },
     "output_type": "display_data"
    }
   ],
   "source": [
    "plt.loglog(data_generator_svd.frequency_array_masked, abs(h_real['plus'][data_generator_svd.frequency_mask]))\n",
    "plt.loglog(data_generator_svd.frequency_array_masked, abs(h_recons['plus']))\n",
    "plt.loglog(data_generator_svd.frequency_array_masked, abs(abs(h_recons['plus'])-abs(h_real['plus'][data_generator_svd.frequency_mask])))\n",
    "\n",
    "plt.xlim(20,2048)"
   ]
  },
  {
   "cell_type": "code",
   "execution_count": 15,
   "id": "07ae9cdd-6a62-4434-88c7-463e5c8f7b4c",
   "metadata": {},
   "outputs": [
    {
     "data": {
      "text/plain": [
       "(20.0, 25.0)"
      ]
     },
     "execution_count": 15,
     "metadata": {},
     "output_type": "execute_result"
    },
    {
     "data": {
      "image/png": "[encoded data removed]",
      "text/plain": [
       "<Figure size 432x288 with 1 Axes>"
      ]
     },
     "metadata": {
      "needs_background": "light"
     },
     "output_type": "display_data"
    }
   ],
   "source": [
    "plt.plot(data_generator_svd.frequency_array_masked, np.real(h_real['plus'][data_generator_svd.frequency_mask]))\n",
    "plt.plot(data_generator_svd.frequency_array_masked, np.real(h_recons['plus']))\n",
    "#plt.loglog(data_generator_svd.frequency_array_masked, np.real(abs(h_recons['plus'])-abs(h_real['plus'][data_generator_svd.frequency_mask])))\n",
    "\n",
    "plt.xlim(20,25)"
   ]
  },
  {
   "cell_type": "code",
   "execution_count": 16,
   "id": "4ec4e513-1e20-4490-8160-77d1ac142015",
   "metadata": {},
   "outputs": [
    {
     "data": {
      "text/plain": [
       "(20.0, 1024.0)"
      ]
     },
     "execution_count": 16,
     "metadata": {},
     "output_type": "execute_result"
    },
    {
     "data": {
      "image/png": "[encoded data removed]",
      "text/plain": [
       "<Figure size 432x288 with 1 Axes>"
      ]
     },
     "metadata": {
      "needs_background": "light"
     },
     "output_type": "display_data"
    }
   ],
   "source": [
    "plt.plot(data_generator_svd.frequency_array_masked, np.unwrap(np.angle(h_real['plus'][data_generator_svd.frequency_mask])))\n",
    "plt.plot(data_generator_svd.frequency_array_masked, np.unwrap(np.angle(h_recons['plus'])))\n",
    "#plt.plot(data_generator_svd.frequency_array_masked, abs(abs(h_recons['plus'])-abs(h_real['plus'][data_generator_svd.frequency_mask])))\n",
    "\n",
    "plt.xlim(20,1024)"
   ]
  },
  {
   "cell_type": "code",
   "execution_count": null,
   "id": "9ce882aa-c21a-4361-a46e-023def441c8f",
   "metadata": {},
   "outputs": [],
   "source": []
  },
  {
   "cell_type": "code",
   "execution_count": null,
   "id": "b66658e5-f56e-4c21-89a2-735fef17751a",
   "metadata": {},
   "outputs": [],
   "source": []
  },
  {
   "cell_type": "code",
   "execution_count": 24,
   "id": "7f68e62b-144a-4fad-ab90-71a99ea4ece5",
   "metadata": {},
   "outputs": [
    {
     "name": "stderr",
     "output_type": "stream",
     "text": [
      "03:04 bilby WARNING : The injected signal has a duration in-band of 73.7s, but the data for detector H1 has a duration of 32s\n",
      "03:04 bilby WARNING : The injected signal has a duration in-band of 125.5s, but the data for detector H1 has a duration of 32s\n"
     ]
    },
    {
     "name": "stdout",
     "output_type": "stream",
     "text": [
      "Injecting 0-th signal, 0.0% done\n",
      "Injecting 1-th signal, 10.0% done\n",
      "Injecting 2-th signal, 20.0% done\n"
     ]
    },
    {
     "name": "stderr",
     "output_type": "stream",
     "text": [
      "03:04 bilby WARNING : The injected signal has a duration in-band of 151.4s, but the data for detector H1 has a duration of 32s\n",
      "03:04 bilby WARNING : The injected signal has a duration in-band of 78.2s, but the data for detector H1 has a duration of 32s\n",
      "03:04 bilby WARNING : The injected signal has a duration in-band of 73.7s, but the data for detector H1 has a duration of 32s\n"
     ]
    },
    {
     "name": "stdout",
     "output_type": "stream",
     "text": [
      "Injecting 3-th signal, 30.0% done\n",
      "Injecting 4-th signal, 40.0% done\n"
     ]
    }
   ],
   "source": [
    "data_generator_svd.inject_signals_from_waveforms(injection_parameters_all, Nsample*2, Nsample)"
   ]
  },
  {
   "cell_type": "code",
   "execution_count": 25,
   "id": "32d8de56-f53a-4e68-8044-d5e44815211f",
   "metadata": {},
   "outputs": [],
   "source": [
    "h1 = data_generator.data['strains']['H1'][1]"
   ]
  },
  {
   "cell_type": "code",
   "execution_count": 26,
   "id": "43188649-df24-40a3-a2fe-ddb717f7b1af",
   "metadata": {},
   "outputs": [],
   "source": [
    "h2 = data_generator_svd.data['strains']['H1'][1]"
   ]
  },
  {
   "cell_type": "code",
   "execution_count": 27,
   "id": "50971fdd-351d-421c-9a0c-20b066d98d90",
   "metadata": {},
   "outputs": [
    {
     "data": {
      "text/plain": [
       "[<matplotlib.lines.Line2D at 0x7fcf77ad9340>]"
      ]
     },
     "execution_count": 27,
     "metadata": {},
     "output_type": "execute_result"
    },
    {
     "data": {
      "image/png": "[encoded data removed]",
      "text/plain": [
       "<Figure size 432x288 with 1 Axes>"
      ]
     },
     "metadata": {
      "needs_background": "light"
     },
     "output_type": "display_data"
    }
   ],
   "source": [
    "plt.plot(abs(h2))"
   ]
  },
  {
   "cell_type": "code",
   "execution_count": 28,
   "id": "6473d233-323c-49f4-9639-e548085940b6",
   "metadata": {},
   "outputs": [
    {
     "data": {
      "text/plain": [
       "[<matplotlib.lines.Line2D at 0x7fcf7796b2e0>]"
      ]
     },
     "execution_count": 28,
     "metadata": {},
     "output_type": "execute_result"
    },
    {
     "data": {
      "image/png": "[encoded data removed]",
      "text/plain": [
       "<Figure size 432x288 with 1 Axes>"
      ]
     },
     "metadata": {
      "needs_background": "light"
     },
     "output_type": "display_data"
    }
   ],
   "source": [
    "plt.loglog(data_generator.frequency_array_masked, abs(h1))\n",
    "plt.loglog(data_generator_svd.frequency_array_masked, abs(h2), linestyle='-')\n",
    "plt.loglog(data_generator_svd.frequency_array_masked, abs(abs(h1)-abs(h2)), linestyle='-')"
   ]
  },
  {
   "cell_type": "code",
   "execution_count": 29,
   "id": "3d311964-3b0b-4e81-b5e9-39e0c708c3d9",
   "metadata": {},
   "outputs": [
    {
     "data": {
      "text/plain": [
       "[<matplotlib.lines.Line2D at 0x7fcf6db51e50>]"
      ]
     },
     "execution_count": 29,
     "metadata": {},
     "output_type": "execute_result"
    },
    {
     "data": {
      "image/png": "[encoded data removed]",
      "text/plain": [
       "<Figure size 432x288 with 1 Axes>"
      ]
     },
     "metadata": {
      "needs_background": "light"
     },
     "output_type": "display_data"
    }
   ],
   "source": [
    "plt.plot(data_generator.frequency_array_masked, np.unwrap(np.angle(h1)))\n",
    "plt.plot(data_generator_svd.frequency_array_masked, np.unwrap(np.angle(h2)), linestyle='--')"
   ]
  },
  {
   "cell_type": "code",
   "execution_count": null,
   "id": "6811353d-42fe-408e-a711-ad41b14b0fdc",
   "metadata": {},
   "outputs": [],
   "source": []
  },
  {
   "cell_type": "code",
   "execution_count": null,
   "id": "c3499677-339c-4066-a63e-7cef41a05538",
   "metadata": {},
   "outputs": [],
   "source": []
  },
  {
   "cell_type": "code",
   "execution_count": 27,
   "id": "7d2d398b-4c8e-4190-8376-4ffcfec59cfc",
   "metadata": {},
   "outputs": [
    {
     "data": {
      "text/plain": [
       "(256,)"
      ]
     },
     "execution_count": 27,
     "metadata": {},
     "output_type": "execute_result"
    }
   ],
   "source": [
    "data_generator_svd.waveforms['waveform_polarizations'][0]['plus']['phase'].shape"
   ]
  },
  {
   "cell_type": "code",
   "execution_count": 28,
   "id": "4e51c3df-550d-43f8-8be2-63e16d1fd1fc",
   "metadata": {},
   "outputs": [],
   "source": [
    "h1 = data_generator_test.reconstruct_waveforms(data_generator_test.waveforms['waveform_polarizations'][0], \n",
    "                                          dL = injection_parameters_all['luminosity_distance'][0])"
   ]
  },
  {
   "cell_type": "code",
   "execution_count": 29,
   "id": "27620635-9a7a-45ff-8046-f4a86f603bec",
   "metadata": {},
   "outputs": [],
   "source": [
    "h2 = data_generator_svd.reconstruct_waveforms(data_generator_svd.waveforms['waveform_polarizations'][0], \n",
    "                                          dL = injection_parameters_all['luminosity_distance'][0])"
   ]
  },
  {
   "cell_type": "code",
   "execution_count": 32,
   "id": "1827da8b-20f7-4002-9d50-03fa915519f0",
   "metadata": {},
   "outputs": [
    {
     "data": {
      "text/plain": [
       "[<matplotlib.lines.Line2D at 0x7f95359308b0>]"
      ]
     },
     "execution_count": 32,
     "metadata": {},
     "output_type": "execute_result"
    },
    {
     "data": {
      "image/png": "[encoded data removed]",
      "text/plain": [
       "<Figure size 432x288 with 1 Axes>"
      ]
     },
     "metadata": {
      "needs_background": "light"
     },
     "output_type": "display_data"
    }
   ],
   "source": [
    "mode = 'cross'\n",
    "\n",
    "plt.loglog(data_generator_test.frequency_array_masked, abs(h1[mode]))\n",
    "plt.loglog(data_generator_test.frequency_array_masked, abs(h2[mode]))"
   ]
  },
  {
   "cell_type": "code",
   "execution_count": 34,
   "id": "f2521571-1d46-4de9-87f9-f7584617d440",
   "metadata": {},
   "outputs": [
    {
     "data": {
      "text/plain": [
       "[<matplotlib.lines.Line2D at 0x7f953576a790>]"
      ]
     },
     "execution_count": 34,
     "metadata": {},
     "output_type": "execute_result"
    },
    {
     "data": {
      "image/png": "[encoded data removed]",
      "text/plain": [
       "<Figure size 432x288 with 1 Axes>"
      ]
     },
     "metadata": {
      "needs_background": "light"
     },
     "output_type": "display_data"
    }
   ],
   "source": [
    "plt.plot(data_generator_test.frequency_array_masked, np.unwrap(np.angle(h1[mode])))\n",
    "plt.plot(data_generator_test.frequency_array_masked, np.unwrap(np.angle(h2[mode])), linestyle='--')"
   ]
  },
  {
   "cell_type": "code",
   "execution_count": null,
   "id": "6e6e1c94-b206-4f8d-b36f-42170f5e1dc8",
   "metadata": {},
   "outputs": [],
   "source": []
  },
  {
   "cell_type": "code",
   "execution_count": null,
   "id": "a4e7ba0a-8f4a-44d0-a39c-af9973c3ac6d",
   "metadata": {},
   "outputs": [],
   "source": []
  },
  {
   "cell_type": "code",
   "execution_count": null,
   "id": "67e53bee-d721-42dc-ab8b-a15acc6dbb7d",
   "metadata": {},
   "outputs": [],
   "source": []
  },
  {
   "cell_type": "code",
   "execution_count": null,
   "id": "f61c901f-34c1-4a8e-b50c-95660d7151c5",
   "metadata": {},
   "outputs": [],
   "source": []
  },
  {
   "cell_type": "code",
   "execution_count": null,
   "id": "906acb14-2b53-410c-a226-78c40090ead0",
   "metadata": {},
   "outputs": [],
   "source": []
  },
  {
   "cell_type": "code",
   "execution_count": 3,
   "id": "77a80188-7269-4ab3-bf0a-8644a547ad49",
   "metadata": {},
   "outputs": [
    {
     "ename": "NameError",
     "evalue": "name 'data_generator' is not defined",
     "output_type": "error",
     "traceback": [
      "\u001b[0;31m---------------------------------------------------------------------------\u001b[0m",
      "\u001b[0;31mNameError\u001b[0m                                 Traceback (most recent call last)",
      "\u001b[0;32m<ipython-input-3-62e6ea54f444>\u001b[0m in \u001b[0;36m<module>\u001b[0;34m\u001b[0m\n\u001b[0;32m----> 1\u001b[0;31m \u001b[0mdata_generator\u001b[0m\u001b[0;34m.\u001b[0m\u001b[0msave_data\u001b[0m\u001b[0;34m(\u001b[0m\u001b[0;34m'test1.h5'\u001b[0m\u001b[0;34m)\u001b[0m\u001b[0;34m\u001b[0m\u001b[0;34m\u001b[0m\u001b[0m\n\u001b[0m",
      "\u001b[0;31mNameError\u001b[0m: name 'data_generator' is not defined"
     ]
    }
   ],
   "source": [
    "data_generator.save_data('test1.h5')"
   ]
  },
  {
   "cell_type": "code",
   "execution_count": null,
   "id": "03ce504f-034a-4472-9c8d-517b33dc598c",
   "metadata": {},
   "outputs": [],
   "source": []
  },
  {
   "cell_type": "code",
   "execution_count": null,
   "id": "228b682c-dc10-497f-ab84-c4b7cf141a1d",
   "metadata": {},
   "outputs": [],
   "source": []
  },
  {
   "cell_type": "code",
   "execution_count": null,
   "id": "33ab3243-a9e9-4d50-af5a-706c982a685e",
   "metadata": {},
   "outputs": [],
   "source": []
  },
  {
   "cell_type": "code",
   "execution_count": null,
   "id": "a35efbe5-7822-4154-a5b1-90ccf701b9a3",
   "metadata": {},
   "outputs": [],
   "source": []
  },
  {
   "cell_type": "code",
   "execution_count": 13,
   "id": "6ea19174-be32-4094-9659-d6284468e937",
   "metadata": {},
   "outputs": [],
   "source": [
    "data_dict = load_dict_from_hdf5('test1.h5')"
   ]
  },
  {
   "cell_type": "code",
   "execution_count": 14,
   "id": "75816c23-4034-41e8-bddf-077f8ca60ece",
   "metadata": {},
   "outputs": [],
   "source": [
    "s = np.array(list(data_dict['strains'].values()))\n",
    "psd = np.array(list(data_dict['PSDs'].values()))\n",
    "inv_asd = np.float32(1/psd**0.5)\n",
    "s_whitened = np.complex64(s*inv_asd)\n"
   ]
  },
  {
   "cell_type": "code",
   "execution_count": 15,
   "id": "55c11d05-a3d6-4b0d-8026-a52f0763ec37",
   "metadata": {},
   "outputs": [],
   "source": [
    "inv_asd_t = torch.from_numpy(inv_asd*1e-23).movedim(0,1).float()\n",
    "strain_t = torch.from_numpy(s_whitened).movedim(0,1) # is complex"
   ]
  },
  {
   "cell_type": "code",
   "execution_count": 7,
   "id": "a98bbb22-690b-4615-a72c-c00bcd294e95",
   "metadata": {},
   "outputs": [],
   "source": [
    "#ds = DatasetStrainFD(data_dict=data_dict, parameter_names=PARAMETER_NAMES_PRECESSINGBNS_BILBY)\n",
    "ds = DatasetStrainFD(data_dict=data_generator.data, parameter_names=PARAMETER_NAMES_PRECESSINGBNS_BILBY)"
   ]
  },
  {
   "cell_type": "code",
   "execution_count": 8,
   "id": "7862a622-b44f-4783-b66a-e34d7acfc44e",
   "metadata": {},
   "outputs": [
    {
     "data": {
      "text/plain": [
       "torch.Size([10, 3, 32129])"
      ]
     },
     "execution_count": 8,
     "metadata": {},
     "output_type": "execute_result"
    }
   ],
   "source": [
    "ds.strain.shape"
   ]
  },
  {
   "cell_type": "code",
   "execution_count": 20,
   "id": "3abcd468-2f53-4c05-ae39-823931dbea00",
   "metadata": {},
   "outputs": [
    {
     "data": {
      "text/plain": [
       "[<matplotlib.lines.Line2D at 0x18515df70>]"
      ]
     },
     "execution_count": 20,
     "metadata": {},
     "output_type": "execute_result"
    },
    {
     "data": {
      "image/png": "[encoded data removed]",
      "text/plain": [
       "<Figure size 432x288 with 1 Axes>"
      ]
     },
     "metadata": {
      "needs_background": "light"
     },
     "output_type": "display_data"
    }
   ],
   "source": [
    "plt.loglog(ds.farray, abs(ds[0][1][0]) / inv_asd_t[0][1] )"
   ]
  },
  {
   "cell_type": "code",
   "execution_count": null,
   "id": "9380debb-515a-4722-b74c-a0df5102456a",
   "metadata": {},
   "outputs": [],
   "source": []
  }
 ],
 "metadata": {
  "kernelspec": {
   "display_name": "myigwn-py39",
   "language": "python",
   "name": "myigwn-py39"
  },
  "language_info": {
   "codemirror_mode": {
    "name": "ipython",
    "version": 3
   },
   "file_extension": ".py",
   "mimetype": "text/x-python",
   "name": "python",
   "nbconvert_exporter": "python",
   "pygments_lexer": "ipython3",
   "version": "3.9.7"
  }
 },
 "nbformat": 4,
 "nbformat_minor": 5
}
