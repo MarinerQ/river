{
 "cells": [
  {
   "cell_type": "code",
   "execution_count": 1,
   "id": "exact-myanmar",
   "metadata": {},
   "outputs": [
    {
     "name": "stderr",
     "output_type": "stream",
     "text": [
      "<frozen importlib._bootstrap>:228: RuntimeWarning: scipy._lib.messagestream.MessageStream size changed, may indicate binary incompatibility. Expected 56 from C header, got 64 from PyObject\n"
     ]
    }
   ],
   "source": [
    "import warnings\n",
    "warnings.filterwarnings(\"ignore\", \"Wswiglal-redir-stdio\")\n",
    "\n",
    "import numpy as np\n",
    "import torch\n",
    "from torch.utils.data import Dataset, DataLoader\n",
    "import torchvision.transforms as transforms\n",
    "#from .utils import PARAMETER_NAMES_ALL_PRECESSINGBNS_BILBY\n",
    "from river.models.utils import *\n",
    "from river.data.utils import *\n",
    "\n",
    "import river.data\n",
    "from river.data.datagenerator import DataGeneratorBilbyFD\n",
    "from river.data.dataset import DatasetSVDStrainFDFromSVDWFonGPU, DatasetSVDStrainFDFromSVDWFonGPUBatch\n",
    "#import river.data.utils as datautils\n",
    "from river.data.utils import *\n",
    "\n",
    "from river.models import embedding\n",
    "from river.models.utils import *\n",
    "#from river.models.embedding.pca import project_strain_data_FDAPhi\n",
    "from river.models.embedding.conv import EmbeddingConv1D, EmbeddingConv2D\n",
    "from river.models.embedding.mlp import EmbeddingMLP1D"
   ]
  },
  {
   "cell_type": "code",
   "execution_count": 2,
   "id": "revised-reach",
   "metadata": {},
   "outputs": [],
   "source": [
    "import numpy as np\n",
    "import bilby \n",
    "import pycbc \n",
    "import sys\n",
    "import matplotlib.pyplot as plt\n",
    "\n",
    "import torch\n",
    "from torch.utils.data import Dataset, DataLoader\n",
    "from torch import nn\n",
    "\n",
    "import pickle\n",
    "#from sklearn.utils.extmath import randomized_svd\n",
    "import sklearn\n",
    "from sklearn.decomposition import IncrementalPCA, randomized_svd, KernelPCA\n",
    "import sklearn.decomposition \n",
    "\n",
    "import glob\n",
    "import time"
   ]
  },
  {
   "cell_type": "code",
   "execution_count": 3,
   "id": "equivalent-warning",
   "metadata": {},
   "outputs": [],
   "source": [
    "validfolder = '/home/qian.hu/mlpe/training_data/bns_50Hz1024Hz32s_lowspin_lb/valid'\n",
    "trainfolder = '/home/qian.hu/mlpe/training_data/bns_50Hz1024Hz32s_lowspin_lb/train'\n",
    "#noisefolder = '/home/qian.hu/mlpe/training_data/bns_50Hz1024Hz32s_lowspin/noise/design'\n",
    "\n",
    "valid_filenames = glob.glob(f\"{validfolder}/batch*/*.h5\")\n",
    "train_filenames = glob.glob(f\"{trainfolder}/batch*/*.h5\")"
   ]
  },
  {
   "cell_type": "code",
   "execution_count": 4,
   "id": "sexual-trunk",
   "metadata": {},
   "outputs": [],
   "source": [
    "def loadVandVh(Vhfilepath, Nbasis):\n",
    "    with open(Vhfilepath, 'rb') as f:\n",
    "        Vh = pickle.load(f)\n",
    "    if len(Vh)<Nbasis:\n",
    "        raise ValueError(f'required Nbasis ({Nbasis}) > len(Vh) ({len(Vh)})!')\n",
    "    Vh = Vh[:Nbasis]\n",
    "    V = Vh.T.conj()\n",
    "        \n",
    "    return V, Vh"
   ]
  },
  {
   "cell_type": "code",
   "execution_count": 5,
   "id": "comparative-exception",
   "metadata": {},
   "outputs": [
    {
     "name": "stderr",
     "output_type": "stream",
     "text": [
      "02:17 bilby INFO    : Waveform generator initiated with\n",
      "  frequency_domain_source_model: bilby.gw.source.lal_binary_neutron_star\n",
      "  time_domain_source_model: None\n",
      "  parameter_conversion: bilby.gw.conversion.convert_to_lal_binary_black_hole_parameters\n"
     ]
    },
    {
     "name": "stdout",
     "output_type": "stream",
     "text": [
      "Using bilby_default PSDs to generate data.\n"
     ]
    }
   ],
   "source": [
    "source_type = 'BNS'\n",
    "detector_names = ['H1', 'L1', 'V1'] \n",
    "duration = 32\n",
    "f_low = 50\n",
    "f_high = 1024\n",
    "\n",
    "f_ref = 20\n",
    "sampling_frequency = 2048\n",
    "waveform_approximant = 'IMRPhenomPv2_NRTidal'\n",
    "parameter_names = PARAMETER_NAMES_ALL_PRECESSINGBNS_BILBY\n",
    "PSD_type = 'bilby_default' #'zero_noise' bilby_default\n",
    "use_sealgw_detector = True\n",
    "\n",
    "Vhfile=\"/home/qian.hu/mlpe/river/test/outputs/Vh_50Hz1024Hz32s.pickle\"\n",
    "\n",
    "data_generator = DataGeneratorBilbyFD(source_type,\n",
    "            detector_names, \n",
    "            duration, \n",
    "            f_low, \n",
    "            f_ref, \n",
    "            sampling_frequency, \n",
    "            waveform_approximant, \n",
    "            parameter_names,\n",
    "            PSD_type=PSD_type,\n",
    "            use_sealgw_detector=use_sealgw_detector,\n",
    "            f_high=f_high)\n"
   ]
  },
  {
   "cell_type": "code",
   "execution_count": 6,
   "id": "mexican-siemens",
   "metadata": {},
   "outputs": [],
   "source": [
    "minibatch_size = 128\n",
    "dataset_train = DatasetSVDStrainFDFromSVDWFonGPUBatch(train_filenames[:4], PARAMETER_NAMES_CONTEXT_PRECESSINGBNS_BILBY, data_generator,\n",
    "                                     Nbasis=512, Vhfile=Vhfile, add_noise=False, minibatch_size=minibatch_size)\n",
    "\n",
    "dataset_valid = DatasetSVDStrainFDFromSVDWFonGPU(valid_filenames, PARAMETER_NAMES_CONTEXT_PRECESSINGBNS_BILBY, data_generator,\n",
    "                                     Nbasis=512, Vhfile=Vhfile, add_noise=False)"
   ]
  },
  {
   "cell_type": "code",
   "execution_count": 7,
   "id": "discrete-majority",
   "metadata": {},
   "outputs": [],
   "source": [
    "class AutoEncoder(torch.nn.Module):\n",
    "    def __init__(self, input_length, dim_list):\n",
    "        super().__init__()\n",
    "        self.input_length = input_length\n",
    "        self.dim_list = dim_list\n",
    "            \n",
    "        self.encoder = self.make_encoder()\n",
    "        self.decoder = self.make_decoder()\n",
    "     \n",
    "    def make_encoder(self):\n",
    "        layers = []\n",
    "        for i,dim in enumerate(self.dim_list):\n",
    "            if i==0:\n",
    "                layers.append(torch.nn.Linear(self.input_length, dim))\n",
    "            else:\n",
    "                layers.append(torch.nn.Linear(self.dim_list[i-1], dim))\n",
    "            \n",
    "            if i!=len(self.dim_list)-1:\n",
    "                layers.append(torch.nn.ReLU())\n",
    "                    \n",
    "        net = nn.Sequential(*layers)\n",
    "        return net\n",
    "    \n",
    "    def make_decoder(self):\n",
    "        layers = []\n",
    "        dim_list= self.dim_list[::-1]\n",
    "        for i,dim in enumerate(dim_list):\n",
    "            if i!=len(dim_list)-1:\n",
    "                layers.append(torch.nn.Linear(dim, dim_list[i+1]))\n",
    "                layers.append(torch.nn.ReLU())\n",
    "            else:\n",
    "                layers.append(torch.nn.Linear(dim, self.input_length))\n",
    "            \n",
    "                    \n",
    "        net = nn.Sequential(*layers)\n",
    "        return net\n",
    "    \n",
    "    def forward(self, x):\n",
    "        encoded = self.encoder(x)\n",
    "        decoded = self.decoder(encoded)\n",
    "        return decoded"
   ]
  },
  {
   "cell_type": "code",
   "execution_count": 12,
   "id": "turkish-imaging",
   "metadata": {},
   "outputs": [],
   "source": [
    "device = 'cuda'\n",
    "ae = AutoEncoder(512, [256, 128]).to(device)"
   ]
  },
  {
   "cell_type": "code",
   "execution_count": 13,
   "id": "forced-columbia",
   "metadata": {},
   "outputs": [],
   "source": [
    "\n",
    "batch_size_train = 16384\n",
    "dataloader_train = DataLoader(dataset_train, batch_size=batch_size_train//minibatch_size, shuffle=False)\n",
    "\n",
    "batch_size_valid = 1000\n",
    "dataloader_valid = DataLoader(dataset_valid, batch_size=batch_size_valid, shuffle=False)"
   ]
  },
  {
   "cell_type": "code",
   "execution_count": 14,
   "id": "brief-lyric",
   "metadata": {},
   "outputs": [],
   "source": [
    "optimizer = torch.optim.Adam(ae.parameters(), lr=1e-3)\n",
    "\n"
   ]
  },
  {
   "cell_type": "code",
   "execution_count": 15,
   "id": "continued-hawaiian",
   "metadata": {},
   "outputs": [
    {
     "data": {
      "text/plain": [
       "328832"
      ]
     },
     "execution_count": 15,
     "metadata": {},
     "output_type": "execute_result"
    }
   ],
   "source": [
    "count_parameters(ae)"
   ]
  },
  {
   "cell_type": "code",
   "execution_count": 16,
   "id": "yellow-force",
   "metadata": {},
   "outputs": [
    {
     "name": "stderr",
     "output_type": "stream",
     "text": [
      "/home/qian.hu/mlpe/river/river/data/dataset.py:747: UserWarning: Creating a tensor from a list of numpy.ndarrays is extremely slow. Please consider converting the list to a single numpy.ndarray with numpy.array() before converting to a tensor. (Triggered internally at ../torch/csrc/utils/tensor_new.cpp:230.)\n",
      "  theta = torch.tensor([np.array(injection_parameters[paraname]) for paraname in self.parameter_names], dtype=torch.float32).to(self.device).T\n"
     ]
    },
    {
     "name": "stdout",
     "output_type": "stream",
     "text": [
      "epoch = 0, train loss: 0.8185910638421774, valid loss: 0.6151231527328491\n",
      "    saved best epoch = 0 to ae2.pt\n",
      "epoch = 1, train loss: 0.6592130120843649, valid loss: 0.6323710680007935\n",
      "epoch = 2, train loss: 0.5697656814008951, valid loss: 0.4829999506473541\n",
      "    saved best epoch = 2 to ae2.pt\n",
      "epoch = 3, train loss: 0.5199330346658826, valid loss: 0.49503034353256226\n",
      "epoch = 4, train loss: 0.48735414911061525, valid loss: 0.5486893057823181\n",
      "epoch = 5, train loss: 0.46720696426928043, valid loss: 0.451448529958725\n",
      "    saved best epoch = 5 to ae2.pt\n",
      "epoch = 6, train loss: 0.45272496342658997, valid loss: 0.3820435404777527\n",
      "    saved best epoch = 6 to ae2.pt\n",
      "epoch = 7, train loss: 0.4440235700458288, valid loss: 0.4276622533798218\n",
      "epoch = 8, train loss: 0.43330878112465143, valid loss: 0.42462947964668274\n",
      "epoch = 9, train loss: 0.4287759102880955, valid loss: 0.3775058686733246\n",
      "    saved best epoch = 9 to ae2.pt\n",
      "epoch = 10, train loss: 0.4256875040009618, valid loss: 0.4501681327819824\n",
      "epoch = 11, train loss: 0.412251939997077, valid loss: 0.37850406765937805\n",
      "epoch = 12, train loss: 0.399753674864769, valid loss: 0.42365381121635437\n",
      "epoch = 13, train loss: 0.39659420773386955, valid loss: 0.4018220603466034\n",
      "epoch = 14, train loss: 0.3939756080508232, valid loss: 0.4185192883014679\n",
      "epoch = 15, train loss: 0.39258566312491894, valid loss: 0.46142110228538513\n",
      "epoch = 16, train loss: 0.3869791803881526, valid loss: 0.3633761405944824\n",
      "    saved best epoch = 16 to ae2.pt\n",
      "epoch = 17, train loss: 0.3841478256508708, valid loss: 0.4341815114021301\n",
      "epoch = 18, train loss: 0.3703725654631853, valid loss: 0.3973415493965149\n",
      "epoch = 19, train loss: 0.38128378707915545, valid loss: 0.40189623832702637\n",
      "epoch = 20, train loss: 0.3767309235408902, valid loss: 0.2948940098285675\n",
      "    saved best epoch = 20 to ae2.pt\n",
      "epoch = 21, train loss: 0.3712166855111718, valid loss: 0.3819546699523926\n",
      "epoch = 22, train loss: 0.3668673653155565, valid loss: 0.3021524250507355\n",
      "epoch = 23, train loss: 0.36763919424265623, valid loss: 0.38536906242370605\n",
      "epoch = 24, train loss: 0.35699556954205036, valid loss: 0.30108779668807983\n",
      "epoch = 25, train loss: 0.3595434557646513, valid loss: 0.3702068328857422\n",
      "epoch = 26, train loss: 0.36011348478496075, valid loss: 0.33558401465415955\n",
      "epoch = 27, train loss: 0.36513375025242567, valid loss: 0.35208576917648315\n",
      "epoch = 28, train loss: 0.36066608410328627, valid loss: 0.31108638644218445\n",
      "epoch = 29, train loss: 0.35911830980330706, valid loss: 0.31173181533813477\n",
      "epoch = 30, train loss: 0.35317826736718416, valid loss: 0.3233502209186554\n",
      "epoch = 31, train loss: 0.35906359925866127, valid loss: 0.3596803843975067\n",
      "epoch = 32, train loss: 0.35303280409425497, valid loss: 0.3453769087791443\n",
      "    lr is decreased by 0.7\n",
      "epoch = 33, train loss: 0.3537148470059037, valid loss: 0.3628069758415222\n",
      "epoch = 34, train loss: 0.3495406238362193, valid loss: 0.27440840005874634\n",
      "    saved best epoch = 34 to ae2.pt\n",
      "epoch = 35, train loss: 0.35304439440369606, valid loss: 0.3489549458026886\n",
      "epoch = 36, train loss: 0.35233797039836645, valid loss: 0.3778769373893738\n",
      "epoch = 37, train loss: 0.35434780176728964, valid loss: 0.33996424078941345\n",
      "epoch = 38, train loss: 0.3503982340916991, valid loss: 0.34490853548049927\n",
      "epoch = 39, train loss: 0.3542712042108178, valid loss: 0.3326563537120819\n",
      "epoch = 40, train loss: 0.35676360223442316, valid loss: 0.3532775044441223\n",
      "epoch = 41, train loss: 0.35463909339159727, valid loss: 0.35527530312538147\n",
      "epoch = 42, train loss: 0.3460085457190871, valid loss: 0.36752310395240784\n",
      "epoch = 43, train loss: 0.35427642427384853, valid loss: 0.3015689551830292\n",
      "epoch = 44, train loss: 0.35648420080542564, valid loss: 0.3547113537788391\n",
      "epoch = 45, train loss: 0.3557777190580964, valid loss: 0.3410584330558777\n",
      "epoch = 46, train loss: 0.35302912164479494, valid loss: 0.30218327045440674\n",
      "    lr is decreased by 0.7\n",
      "epoch = 47, train loss: 0.34642796497792006, valid loss: 0.42602816224098206\n",
      "epoch = 48, train loss: 0.35386914014816284, valid loss: 0.36232027411460876\n",
      "epoch = 49, train loss: 0.3570257071405649, valid loss: 0.33463186025619507\n",
      "epoch = 50, train loss: 0.3567733112722635, valid loss: 0.35629403591156006\n",
      "epoch = 51, train loss: 0.3497808836400509, valid loss: 0.3644964098930359\n",
      "epoch = 52, train loss: 0.3537136921659112, valid loss: 0.33815935254096985\n",
      "epoch = 53, train loss: 0.3502862434834242, valid loss: 0.3459513187408447\n",
      "epoch = 54, train loss: 0.3493028860539198, valid loss: 0.35498207807540894\n",
      "    lr is decreased by 0.7\n",
      "epoch = 55, train loss: 0.3546876320615411, valid loss: 0.29792240262031555\n",
      "epoch = 56, train loss: 0.35185232292860746, valid loss: 0.3603091537952423\n",
      "epoch = 57, train loss: 0.35174917709082365, valid loss: 0.34214693307876587\n",
      "epoch = 58, train loss: 0.3523548701778054, valid loss: 0.4160849153995514\n",
      "epoch = 59, train loss: 0.35528820287436247, valid loss: 0.38983678817749023\n",
      "epoch = 60, train loss: 0.35234827268868685, valid loss: 0.36456298828125\n",
      "epoch = 61, train loss: 0.3514951076358557, valid loss: 0.34189078211784363\n",
      "epoch = 62, train loss: 0.3556575486436486, valid loss: 0.39476099610328674\n",
      "    lr is decreased by 0.7\n",
      "epoch = 63, train loss: 0.3489462872967124, valid loss: 0.40335559844970703\n",
      "epoch = 64, train loss: 0.3534673908725381, valid loss: 0.33006444573402405\n",
      "epoch = 65, train loss: 0.350087933242321, valid loss: 0.32050538063049316\n",
      "epoch = 66, train loss: 0.3531068582087755, valid loss: 0.3223229646682739\n",
      "epoch = 67, train loss: 0.358694102615118, valid loss: 0.3241540193557739\n",
      "epoch = 68, train loss: 0.3520442685112357, valid loss: 0.3441036641597748\n",
      "epoch = 69, train loss: 0.3516575573012233, valid loss: 0.25412753224372864\n",
      "    saved best epoch = 69 to ae2.pt\n",
      "epoch = 70, train loss: 0.3465770147740841, valid loss: 0.35079875588417053\n",
      "epoch = 71, train loss: 0.3559904918074608, valid loss: 0.27940189838409424\n",
      "epoch = 72, train loss: 0.35027617681771517, valid loss: 0.3220849633216858\n",
      "epoch = 73, train loss: 0.3537986185401678, valid loss: 0.373370885848999\n",
      "epoch = 74, train loss: 0.35691892076283693, valid loss: 0.4562186598777771\n",
      "epoch = 75, train loss: 0.3572433181107044, valid loss: 0.2645920515060425\n",
      "epoch = 76, train loss: 0.35484855342656374, valid loss: 0.3656744658946991\n",
      "epoch = 77, train loss: 0.3470399957150221, valid loss: 0.36693042516708374\n",
      "epoch = 78, train loss: 0.3473053202033043, valid loss: 0.3381957411766052\n",
      "epoch = 79, train loss: 0.3518180903047323, valid loss: 0.38926783204078674\n",
      "epoch = 80, train loss: 0.3515111990272999, valid loss: 0.3421018421649933\n",
      "epoch = 81, train loss: 0.3524268940091133, valid loss: 0.3099346160888672\n",
      "    lr is decreased by 0.7\n",
      "epoch = 82, train loss: 0.35131658241152763, valid loss: 0.34075927734375\n",
      "epoch = 83, train loss: 0.35022266302257776, valid loss: 0.31834426522254944\n",
      "epoch = 84, train loss: 0.3516637431457639, valid loss: 0.3238624334335327\n",
      "epoch = 85, train loss: 0.3509046081453562, valid loss: 0.3438774049282074\n",
      "epoch = 86, train loss: 0.3514665625989437, valid loss: 0.3921114504337311\n",
      "epoch = 87, train loss: 0.3550651613622904, valid loss: 0.3204236924648285\n",
      "epoch = 88, train loss: 0.3459708150476217, valid loss: 0.3263327181339264\n",
      "epoch = 89, train loss: 0.35270729660987854, valid loss: 0.315784215927124\n",
      "    lr is decreased by 0.7\n",
      "epoch = 90, train loss: 0.3480388717725873, valid loss: 0.3917229473590851\n",
      "epoch = 91, train loss: 0.35112285055220127, valid loss: 0.2952740788459778\n",
      "epoch = 92, train loss: 0.3505533104762435, valid loss: 0.3009518086910248\n",
      "epoch = 93, train loss: 0.3563200868666172, valid loss: 0.38853099942207336\n",
      "epoch = 94, train loss: 0.35312586184591055, valid loss: 0.3326379060745239\n",
      "epoch = 95, train loss: 0.3453858708962798, valid loss: 0.35486897826194763\n",
      "epoch = 96, train loss: 0.35376539174467325, valid loss: 0.445962518453598\n",
      "epoch = 97, train loss: 0.35211954172700644, valid loss: 0.3729972243309021\n",
      "    lr is decreased by 0.7\n",
      "epoch = 98, train loss: 0.3529410418123007, valid loss: 0.34308353066444397\n",
      "epoch = 99, train loss: 0.35230726189911366, valid loss: 0.3558598458766937\n",
      "epoch = 100, train loss: 0.35404976084828377, valid loss: 0.3808051645755768\n",
      "epoch = 101, train loss: 0.35725791472941637, valid loss: 0.33920231461524963\n"
     ]
    },
    {
     "name": "stdout",
     "output_type": "stream",
     "text": [
      "epoch = 102, train loss: 0.353978356346488, valid loss: 0.30690813064575195\n",
      "epoch = 103, train loss: 0.3472466468811035, valid loss: 0.37579524517059326\n",
      "epoch = 104, train loss: 0.34777730889618397, valid loss: 0.3362491726875305\n",
      "epoch = 105, train loss: 0.34744426142424345, valid loss: 0.3605242371559143\n",
      "    lr is decreased by 0.7\n",
      "epoch = 106, train loss: 0.35417162999510765, valid loss: 0.370257169008255\n",
      "epoch = 107, train loss: 0.353547734208405, valid loss: 0.33217114210128784\n"
     ]
    },
    {
     "ename": "KeyboardInterrupt",
     "evalue": "",
     "output_type": "error",
     "traceback": [
      "\u001b[0;31m---------------------------------------------------------------------------\u001b[0m",
      "\u001b[0;31mKeyboardInterrupt\u001b[0m                         Traceback (most recent call last)",
      "\u001b[0;32m<ipython-input-16-0357f3134dc7>\u001b[0m in \u001b[0;36m<module>\u001b[0;34m\u001b[0m\n\u001b[1;32m     23\u001b[0m         \u001b[0mloss\u001b[0m\u001b[0;34m.\u001b[0m\u001b[0mbackward\u001b[0m\u001b[0;34m(\u001b[0m\u001b[0;34m)\u001b[0m\u001b[0;34m\u001b[0m\u001b[0;34m\u001b[0m\u001b[0m\n\u001b[1;32m     24\u001b[0m         \u001b[0moptimizer\u001b[0m\u001b[0;34m.\u001b[0m\u001b[0mstep\u001b[0m\u001b[0;34m(\u001b[0m\u001b[0;34m)\u001b[0m\u001b[0;34m\u001b[0m\u001b[0;34m\u001b[0m\u001b[0m\n\u001b[0;32m---> 25\u001b[0;31m         \u001b[0mtrain_losses\u001b[0m\u001b[0;34m.\u001b[0m\u001b[0mappend\u001b[0m\u001b[0;34m(\u001b[0m\u001b[0mloss\u001b[0m\u001b[0;34m.\u001b[0m\u001b[0mitem\u001b[0m\u001b[0;34m(\u001b[0m\u001b[0;34m)\u001b[0m\u001b[0;34m)\u001b[0m\u001b[0;34m\u001b[0m\u001b[0;34m\u001b[0m\u001b[0m\n\u001b[0m\u001b[1;32m     26\u001b[0m \u001b[0;34m\u001b[0m\u001b[0m\n\u001b[1;32m     27\u001b[0m \u001b[0;34m\u001b[0m\u001b[0m\n",
      "\u001b[0;31mKeyboardInterrupt\u001b[0m: "
     ]
    }
   ],
   "source": [
    "Nepoch = 5000\n",
    "comp_index = 0\n",
    "mean_train_loss = []\n",
    "mean_valid_loss = []\n",
    "\n",
    "best_epoch = 0\n",
    "last_adjust_epoch = 0\n",
    "best_loss = 1e3\n",
    "\n",
    "ckpt_file = 'ae2.pt'\n",
    "for epoch in range(Nepoch):\n",
    "    train_losses = []\n",
    "    valid_losses = []\n",
    "    \n",
    "    ae.train()\n",
    "    for theta, x_all in dataloader_train:\n",
    "        x_all = x_all.view(batch_size_train, 6, 512)\n",
    "        #x = x_all[:,comp_index,:].to(device)\n",
    "        x = x_all.view(batch_size_train*6, 512)\n",
    "        optimizer.zero_grad()\n",
    "        x_pred = ae(x)\n",
    "        loss = nn.MSELoss()(x_pred, x)\n",
    "        loss.backward()\n",
    "        optimizer.step()\n",
    "        train_losses.append(loss.item())\n",
    "        \n",
    "        \n",
    "    ae.eval()\n",
    "    with torch.no_grad():\n",
    "        for theta, x_all in dataloader_valid:\n",
    "            #x = x_all[:,comp_index,:].to(device)\n",
    "            x = x_all.view(batch_size_valid*6, 512)\n",
    "            x_pred = ae(x)\n",
    "            loss = nn.MSELoss()(x_pred, x)\n",
    "            valid_losses.append(loss.item())\n",
    "    \n",
    "    \n",
    "    mean_train_loss.append(np.mean(train_losses))\n",
    "    current_valid_loss = np.mean(valid_losses)\n",
    "    mean_valid_loss.append(current_valid_loss)\n",
    "    \n",
    "    print(f\"epoch = {epoch}, train loss: {np.mean(train_losses)}, valid loss: {np.mean(valid_losses)}\")\n",
    "    \n",
    "    if current_valid_loss < best_loss:\n",
    "        torch.save(ae.state_dict(), ckpt_file)\n",
    "        best_loss = current_valid_loss\n",
    "        best_epoch = epoch\n",
    "        print(f'    saved best epoch = {best_epoch} to {ckpt_file}')\n",
    "        \n",
    "    if (epoch - best_epoch >= 12) and (epoch-last_adjust_epoch>=8):\n",
    "        adjust_lr(optimizer, 0.7)\n",
    "        last_adjust_epoch = epoch\n",
    "        print(f'    lr is decreased by 0.7')\n",
    "    \n",
    "    dataset_train.shuffle_indexinfile()\n",
    "    dataset_train.shuffle_wflist()\n",
    "    dataloader_train = DataLoader(dataset_train, batch_size=batch_size_train//minibatch_size, shuffle=False)\n"
   ]
  },
  {
   "cell_type": "code",
   "execution_count": null,
   "id": "happy-investing",
   "metadata": {},
   "outputs": [],
   "source": []
  },
  {
   "cell_type": "code",
   "execution_count": 99,
   "id": "ahead-chinese",
   "metadata": {},
   "outputs": [
    {
     "data": {
      "text/plain": [
       "<All keys matched successfully>"
      ]
     },
     "execution_count": 99,
     "metadata": {},
     "output_type": "execute_result"
    }
   ],
   "source": [
    "ae.load_state_dict(torch.load('ae2.pt'))"
   ]
  },
  {
   "cell_type": "code",
   "execution_count": 17,
   "id": "flush-andrews",
   "metadata": {},
   "outputs": [
    {
     "data": {
      "text/plain": [
       "<matplotlib.legend.Legend at 0x7f1388b60850>"
      ]
     },
     "execution_count": 17,
     "metadata": {},
     "output_type": "execute_result"
    },
    {
     "data": {
      "image/png": "[encoded data removed]",
      "text/plain": [
       "<Figure size 432x288 with 1 Axes>"
      ]
     },
     "metadata": {
      "needs_background": "light"
     },
     "output_type": "display_data"
    }
   ],
   "source": [
    "plt.plot(mean_train_loss, label='train')\n",
    "plt.plot(mean_valid_loss, label='valid')\n",
    "plt.legend()\n"
   ]
  },
  {
   "cell_type": "code",
   "execution_count": 18,
   "id": "color-therapy",
   "metadata": {},
   "outputs": [
    {
     "data": {
      "text/plain": [
       "[<matplotlib.lines.Line2D at 0x7f177785c490>]"
      ]
     },
     "execution_count": 18,
     "metadata": {},
     "output_type": "execute_result"
    },
    {
     "data": {
      "image/png": "[encoded data removed]",
      "text/plain": [
       "<Figure size 432x288 with 1 Axes>"
      ]
     },
     "metadata": {
      "needs_background": "light"
     },
     "output_type": "display_data"
    }
   ],
   "source": [
    "plt.plot(x_pred[0].detach().cpu())\n",
    "plt.plot(x[0].detach().cpu())\n",
    "plt.plot(x_pred[0].detach().cpu() - x[0].detach().cpu())"
   ]
  },
  {
   "cell_type": "code",
   "execution_count": 62,
   "id": "legendary-relevance",
   "metadata": {},
   "outputs": [],
   "source": [
    "torch.save(ae.state_dict(), 'ae.pt')"
   ]
  },
  {
   "cell_type": "code",
   "execution_count": 65,
   "id": "lesser-anniversary",
   "metadata": {},
   "outputs": [],
   "source": [
    "adjust_lr??"
   ]
  },
  {
   "cell_type": "code",
   "execution_count": null,
   "id": "broken-omega",
   "metadata": {},
   "outputs": [],
   "source": []
  }
 ],
 "metadata": {
  "kernelspec": {
   "display_name": "myigwn-py39",
   "language": "python",
   "name": "myigwn-py39"
  },
  "language_info": {
   "codemirror_mode": {
    "name": "ipython",
    "version": 3
   },
   "file_extension": ".py",
   "mimetype": "text/x-python",
   "name": "python",
   "nbconvert_exporter": "python",
   "pygments_lexer": "ipython3",
   "version": "3.9.7"
  }
 },
 "nbformat": 4,
 "nbformat_minor": 5
}
