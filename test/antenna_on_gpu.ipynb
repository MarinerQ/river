{
 "cells": [
  {
   "cell_type": "code",
   "execution_count": 60,
   "id": "hungry-holder",
   "metadata": {},
   "outputs": [],
   "source": [
    "import warnings\n",
    "warnings.filterwarnings(\"ignore\", \"in-band\")\n",
    "\n",
    "import numpy as np\n",
    "import bilby \n",
    "import pycbc \n",
    "import sys\n",
    "import matplotlib.pyplot as plt\n",
    "\n",
    "import torch\n",
    "from torch.utils.data import Dataset, DataLoader\n",
    "from torch import nn\n",
    "\n",
    "import pickle\n",
    "#from sklearn.utils.extmath import randomized_svd\n",
    "import sklearn\n",
    "from sklearn.decomposition import IncrementalPCA, randomized_svd, KernelPCA\n",
    "import sklearn.decomposition \n",
    "\n",
    "import river.data\n",
    "from river.data.datagenerator import DataGeneratorBilbyFD\n",
    "from river.data.dataset import DatasetSVDStrainFDFromSVDWFonGPU, DatasetSVDStrainFDFromSVDWFonGPUBatch#DatasetStrainFD, #DatasetStrainFDFromPreCalSVDWF\n",
    "#import river.data.utils as datautils\n",
    "from river.data.utils import *\n",
    "\n",
    "from river.models import embedding\n",
    "from river.models.utils import *\n",
    "\n",
    "import sealgw\n",
    "import lal\n",
    "\n",
    "import time"
   ]
  },
  {
   "cell_type": "code",
   "execution_count": 2,
   "id": "olive-springfield",
   "metadata": {},
   "outputs": [],
   "source": [
    "#ifos = sealgw.simulation.sealinterferometers.SealInterferometerList(['H1', 'L1', 'V1', 'ET', 'CE','CEL'])\n",
    "ifos = bilby.gw.detector.InterferometerList(['H1', 'L1', 'V1'])"
   ]
  },
  {
   "cell_type": "code",
   "execution_count": 3,
   "id": "adverse-ordering",
   "metadata": {},
   "outputs": [],
   "source": [
    "det = ifos[0]"
   ]
  },
  {
   "cell_type": "code",
   "execution_count": 4,
   "id": "brilliant-flavor",
   "metadata": {},
   "outputs": [
    {
     "data": {
      "text/plain": [
       "array([[-0.3926141 , -0.07761341, -0.24738904],\n",
       "       [-0.07761341,  0.31952407,  0.22799783],\n",
       "       [-0.24738904,  0.22799783,  0.07309003]])"
      ]
     },
     "execution_count": 4,
     "metadata": {},
     "output_type": "execute_result"
    }
   ],
   "source": [
    "det.geometry.detector_tensor"
   ]
  },
  {
   "cell_type": "code",
   "execution_count": 5,
   "id": "retained-knock",
   "metadata": {},
   "outputs": [
    {
     "data": {
      "text/plain": [
       "array([-2161414.92636   , -3834695.17888835,  4600350.22663899])"
      ]
     },
     "execution_count": 5,
     "metadata": {},
     "output_type": "execute_result"
    }
   ],
   "source": [
    "det.vertex"
   ]
  },
  {
   "cell_type": "code",
   "execution_count": 3,
   "id": "peripheral-astrology",
   "metadata": {},
   "outputs": [],
   "source": [
    "\n",
    "class GWAntennaOnCPU():\n",
    "    def __init__(self, detector_names):\n",
    "        self.ifos = sealgw.simulation.sealinterferometers.SealInterferometerList(detector_names)\n",
    "\n",
    "    def getgha(self, gpstime, ra):\n",
    "        # Greenwich hour angle of source (radians).\n",
    "        gha = np.zeros_like(gpstime) - ra\n",
    "        for i,gpst in enumerate(gpstime):\n",
    "            gha[i] += bilby.gw.utils.greenwich_mean_sidereal_time(gpst)\n",
    "        return gha\n",
    "    \n",
    "    def response(self, ra, dec, psi, gpstime):\n",
    "        bs = ra.shape[0]\n",
    "        \n",
    "        X = np.zeros((bs, 3))\n",
    "        Y = np.zeros((bs, 3))\n",
    "\n",
    "        \n",
    "        gha = self.getgha(gpstime, ra)\n",
    "\n",
    "        cosgha = np.cos(gha)\n",
    "        singha = np.sin(gha)\n",
    "        cosdec = np.cos(dec)\n",
    "        sindec = np.sin(dec)\n",
    "        cospsi = np.cos(psi)\n",
    "        sinpsi = np.sin(psi)\n",
    "    \n",
    "        X[:,0] = -cospsi * singha - sinpsi * cosgha * sindec\n",
    "        X[:,1] = -cospsi * cosgha + sinpsi * singha * sindec\n",
    "        X[:,2] =  sinpsi * cosdec\n",
    "\n",
    "        Y[:,0] =  sinpsi * singha - cospsi * cosgha * sindec\n",
    "        Y[:,1] =  sinpsi * cosgha + cospsi * singha * sindec\n",
    "        Y[:,2] =  cospsi * cosdec\n",
    "        \n",
    "        resp_dict = {}\n",
    "        for det in self.ifos:\n",
    "            D = det.detector_tensor\n",
    "            fp = np.einsum('ij,jk,ik->i', X, D, X) - np.einsum('ij,jk,ik->i', Y, D, Y)\n",
    "            fc = np.einsum('ij,jk,ik->i', X, D, Y) + np.einsum('ij,jk,ik->i', Y, D, X)\n",
    "            resp_dict[det.name] = (fp, fc)\n",
    "\n",
    "        return resp_dict\n",
    "    \n",
    "    def time_delay_from_geocenter(self, ra, dec, gpstime):\n",
    "        bs = ra.shape[0]\n",
    "        gha = self.getgha(gpstime, ra)\n",
    "        \n",
    "        cosgha = np.cos(gha)\n",
    "        singha = np.sin(gha)\n",
    "        cosdec = np.cos(dec)\n",
    "        sindec = np.sin(dec)\n",
    "        \n",
    "        wavevector = np.zeros((bs, 3))\n",
    "        wavevector[:,0],wavevector[:,1],wavevector[:,2]  = \\\n",
    "            -cosgha*cosdec, cosdec*singha, -sindec\n",
    "        \n",
    "        dt_dict = {}\n",
    "        for det in self.ifos:\n",
    "            loc = det.vertex\n",
    "            dt = np.einsum('ij,j->i', wavevector, loc) / 299792458\n",
    "            dt_dict[det.name] = dt\n",
    "        \n",
    "        return dt_dict\n",
    "\n",
    "    def resp_and_dt(self, ra, dec, psi, gpstime):\n",
    "        bs = ra.shape[0]        \n",
    "        X = np.zeros((bs, 3))\n",
    "        Y = np.zeros((bs, 3))\n",
    "\n",
    "        gha = self.getgha(gpstime, ra)\n",
    "\n",
    "        cosgha = np.cos(gha)\n",
    "        singha = np.sin(gha)\n",
    "        cosdec = np.cos(dec)\n",
    "        sindec = np.sin(dec)\n",
    "        cospsi = np.cos(psi)\n",
    "        sinpsi = np.sin(psi)\n",
    "        \n",
    "        X[:,0] = -cospsi * singha - sinpsi * cosgha * sindec\n",
    "        X[:,1] = -cospsi * cosgha + sinpsi * singha * sindec\n",
    "        X[:,2] =  sinpsi * cosdec\n",
    "\n",
    "        Y[:,0] =  sinpsi * singha - cospsi * cosgha * sindec\n",
    "        Y[:,1] =  sinpsi * cosgha + cospsi * singha * sindec\n",
    "        Y[:,2] =  cospsi * cosdec\n",
    "\n",
    "        \n",
    "        \n",
    "        wavevector = np.zeros((bs, 3))\n",
    "        wavevector[:,0],wavevector[:,1],wavevector[:,2]  = \\\n",
    "            -cosgha*cosdec, cosdec*singha, -sindec\n",
    "        \n",
    "        \n",
    "        resp_and_dt_dict = {}\n",
    "        for det in self.ifos:\n",
    "            loc = det.vertex\n",
    "            D = det.detector_tensor\n",
    "            \n",
    "            fp = np.einsum('ij,jk,ik->i', X, D, X) - np.einsum('ij,jk,ik->i', Y, D, Y)\n",
    "            fc = np.einsum('ij,jk,ik->i', X, D, Y) + np.einsum('ij,jk,ik->i', Y, D, X)\n",
    "            dt = np.einsum('ij,j->i', wavevector, loc) / 299792458\n",
    "            resp_and_dt_dict[det.name] = (fp,fc,dt)\n",
    "        \n",
    "        return resp_and_dt_dict"
   ]
  },
  {
   "cell_type": "code",
   "execution_count": null,
   "id": "overhead-southwest",
   "metadata": {},
   "outputs": [],
   "source": []
  },
  {
   "cell_type": "code",
   "execution_count": 54,
   "id": "affecting-vermont",
   "metadata": {},
   "outputs": [],
   "source": [
    "detnames = ['H1', 'L1', 'V1', 'ET', 'CE','CEL']\n",
    "tt = GWAntennaOnCPU(detector_names=detnames)\n",
    "\n",
    "Ntest  = 100000\n",
    "#test_ra = torch.linspace(0,6,Ntest)\n",
    "#test_dec = torch.linspace(0,1.5,Ntest)\n",
    "#test_psi = torch.linspace(0,3,Ntest)\n",
    "#test_tc = torch.zeros(Ntest)\n",
    "\n",
    "\n",
    "test_ra = np.linspace(0,2,Ntest)\n",
    "test_dec = np.linspace(-1.5,1.5,Ntest)\n",
    "test_psi = np.linspace(0,3,Ntest)\n",
    "test_tc = np.linspace(0,30000,Ntest)"
   ]
  },
  {
   "cell_type": "code",
   "execution_count": null,
   "id": "clean-advocacy",
   "metadata": {},
   "outputs": [],
   "source": []
  },
  {
   "cell_type": "code",
   "execution_count": 55,
   "id": "vocal-yemen",
   "metadata": {},
   "outputs": [
    {
     "name": "stdout",
     "output_type": "stream",
     "text": [
      "0.30718016624450684\n"
     ]
    }
   ],
   "source": [
    "t1 = time.time()\n",
    "resp_and_dt_dict = tt.resp_and_dt(test_ra, test_dec, test_psi, test_tc)\n",
    "t2 = time.time()\n",
    "\n",
    "print(t2-t1)"
   ]
  },
  {
   "cell_type": "code",
   "execution_count": null,
   "id": "equipped-reset",
   "metadata": {},
   "outputs": [],
   "source": []
  },
  {
   "cell_type": "code",
   "execution_count": 56,
   "id": "opponent-identity",
   "metadata": {},
   "outputs": [
    {
     "name": "stdout",
     "output_type": "stream",
     "text": [
      "4.634796857833862\n"
     ]
    }
   ],
   "source": [
    "t1 = time.time()\n",
    "resp_and_dt_dict_real = {}\n",
    "\n",
    "for det in tt.ifos:\n",
    "    fp_real = []\n",
    "    fc_real = []\n",
    "    dt_real = []\n",
    "\n",
    "    for i in range(Ntest):\n",
    "        fp_real.append(det.antenna_response(test_ra[i], test_dec[i], test_tc[i], test_psi[i], 'plus'))\n",
    "        fc_real.append(det.antenna_response(test_ra[i], test_dec[i], test_tc[i], test_psi[i], 'cross'))\n",
    "        dt_real.append(det.time_delay_from_geocenter(test_ra[i], test_dec[i], test_tc[i]))\n",
    "\n",
    "    fp_real = np.array(fp_real)\n",
    "    fc_real = np.array(fc_real)\n",
    "    dt_real = np.array(dt_real)\n",
    "\n",
    "    resp_and_dt_dict_real[det.name] = (fp_real, fc_real, dt_real)\n",
    "t2 = time.time()\n",
    "print(t2-t1)"
   ]
  },
  {
   "cell_type": "code",
   "execution_count": null,
   "id": "direct-clone",
   "metadata": {},
   "outputs": [],
   "source": []
  },
  {
   "cell_type": "code",
   "execution_count": 46,
   "id": "announced-control",
   "metadata": {},
   "outputs": [
    {
     "name": "stdout",
     "output_type": "stream",
     "text": [
      "H1\n",
      "L1\n",
      "V1\n",
      "ET1\n",
      "ET2\n",
      "0.0016637406934446874\n"
     ]
    }
   ],
   "source": [
    "maxerror = 0\n",
    "for det in tt.ifos:\n",
    "    detname1 = det.name\n",
    "    ##if detname1=='ET1':\n",
    "    #    detname2 = 'ET2'\n",
    "    #elif detname1=='ET2':\n",
    "    #    detname2 = 'ET1'\n",
    "    #else:\n",
    "    #    detname2 = detname1\n",
    "    tempmax = np.max(np.array(resp_and_dt_dict_real[detname1]) - np.array(resp_and_dt_dict[detname1]) )\n",
    "    if maxerror<tempmax:\n",
    "        print(det.name)\n",
    "        maxerror = tempmax\n",
    "        \n",
    "print(maxerror)"
   ]
  },
  {
   "cell_type": "code",
   "execution_count": null,
   "id": "daily-sending",
   "metadata": {},
   "outputs": [],
   "source": []
  },
  {
   "cell_type": "code",
   "execution_count": 57,
   "id": "judicial-major",
   "metadata": {},
   "outputs": [],
   "source": [
    "validfolder = '/home/qian.hu/mlpe/training_data/bns_50Hz1024Hz32s_lowspin_lb/valid'\n",
    "trainfolder = '/home/qian.hu/mlpe/training_data/bns_50Hz1024Hz32s_lowspin_lb/train'\n",
    "#noisefolder = '/home/qian.hu/mlpe/training_data/bns_50Hz1024Hz32s_lowspin/noise/design'\n",
    "\n",
    "valid_filenames = glob.glob(f\"{validfolder}/batch*/*.h5\")\n",
    "train_filenames = glob.glob(f\"{trainfolder}/batch*/*.h5\")"
   ]
  },
  {
   "cell_type": "code",
   "execution_count": 85,
   "id": "graduate-maintenance",
   "metadata": {},
   "outputs": [
    {
     "data": {
      "text/plain": [
       "64"
      ]
     },
     "execution_count": 85,
     "metadata": {},
     "output_type": "execute_result"
    }
   ],
   "source": [
    "len(train_filenames)"
   ]
  },
  {
   "cell_type": "code",
   "execution_count": null,
   "id": "massive-protection",
   "metadata": {},
   "outputs": [],
   "source": [
    "\n",
    "for filename in valid_filenames+train_filenames:\n",
    "    ff = load_dict_from_hdf5(filename)\n",
    "    for mode in ['plus', 'cross']:\n",
    "        ff['waveform_polarizations'][mode] = \\\n",
    "            ff['waveform_polarizations'][mode]['amplitude'] * np.exp(1j*ff['waveform_polarizations'][mode]['phase'])\n",
    "\n",
    "\n",
    "    save_dict_to_hdf5(ff, filename)"
   ]
  },
  {
   "cell_type": "code",
   "execution_count": 103,
   "id": "blank-fluid",
   "metadata": {},
   "outputs": [],
   "source": [
    "save_dict_to_hdf5(ff, 'fyck.h5')"
   ]
  },
  {
   "cell_type": "code",
   "execution_count": 104,
   "id": "worse-appraisal",
   "metadata": {},
   "outputs": [],
   "source": [
    "fff = load_dict_from_hdf5('fyck.h5')\n"
   ]
  },
  {
   "cell_type": "code",
   "execution_count": 58,
   "id": "christian-cursor",
   "metadata": {},
   "outputs": [],
   "source": [
    "def loadVandVh(Vhfilepath, Nbasis):\n",
    "    with open(Vhfilepath, 'rb') as f:\n",
    "        Vh = pickle.load(f)\n",
    "    if len(Vh)<Nbasis:\n",
    "        raise ValueError(f'required Nbasis ({Nbasis}) > len(Vh) ({len(Vh)})!')\n",
    "    Vh = Vh[:Nbasis]\n",
    "    V = Vh.T.conj()\n",
    "        \n",
    "    return V, Vh"
   ]
  },
  {
   "cell_type": "code",
   "execution_count": 59,
   "id": "cardiac-leader",
   "metadata": {},
   "outputs": [
    {
     "name": "stderr",
     "output_type": "stream",
     "text": [
      "09:07 bilby INFO    : Waveform generator initiated with\n",
      "  frequency_domain_source_model: bilby.gw.source.lal_binary_neutron_star\n",
      "  time_domain_source_model: None\n",
      "  parameter_conversion: bilby.gw.conversion.convert_to_lal_binary_black_hole_parameters\n"
     ]
    },
    {
     "name": "stdout",
     "output_type": "stream",
     "text": [
      "Using bilby_default PSDs to generate data.\n"
     ]
    }
   ],
   "source": [
    "source_type = 'BNS'\n",
    "detector_names = ['H1', 'L1', 'V1'] \n",
    "duration = 32\n",
    "f_low = 50\n",
    "f_high = 1024\n",
    "\n",
    "f_ref = 20\n",
    "sampling_frequency = 2048\n",
    "waveform_approximant = 'IMRPhenomPv2_NRTidal'\n",
    "parameter_names = PARAMETER_NAMES_ALL_PRECESSINGBNS_BILBY\n",
    "PSD_type = 'bilby_default' #'zero_noise' bilby_default\n",
    "use_sealgw_detector = True\n",
    "\n",
    "Vhfile=\"/home/qian.hu/mlpe/river/test/outputs/Vh_50Hz1024Hz32s.pickle\"\n",
    "\n",
    "data_generator = DataGeneratorBilbyFD(source_type,\n",
    "            detector_names, \n",
    "            duration, \n",
    "            f_low, \n",
    "            f_ref, \n",
    "            sampling_frequency, \n",
    "            waveform_approximant, \n",
    "            parameter_names,\n",
    "            PSD_type=PSD_type,\n",
    "            use_sealgw_detector=use_sealgw_detector,\n",
    "            f_high=f_high)\n"
   ]
  },
  {
   "cell_type": "code",
   "execution_count": 72,
   "id": "talented-basket",
   "metadata": {},
   "outputs": [],
   "source": [
    "dataset = DatasetSVDStrainFDFromSVDWFonGPU(valid_filenames, PARAMETER_NAMES_CONTEXT_PRECESSINGBNS_BILBY, data_generator,\n",
    "                                     Nbasis=512, Vhfile=Vhfile, device='cuda:1', shuffle=False)\n",
    "        \n",
    "        \n",
    "dataset_batch = DatasetSVDStrainFDFromSVDWFonGPUBatch(valid_filenames, PARAMETER_NAMES_CONTEXT_PRECESSINGBNS_BILBY, data_generator,\n",
    "                                     Nbasis=512, Vhfile=Vhfile, minibatch_size=20, device='cuda:1', shuffle=False)\n",
    "\n",
    "\n"
   ]
  },
  {
   "cell_type": "code",
   "execution_count": null,
   "id": "pending-assist",
   "metadata": {},
   "outputs": [],
   "source": []
  },
  {
   "cell_type": "code",
   "execution_count": 73,
   "id": "confident-courtesy",
   "metadata": {},
   "outputs": [
    {
     "name": "stdout",
     "output_type": "stream",
     "text": [
      "CPU times: user 18.5 ms, sys: 631 µs, total: 19.1 ms\n",
      "Wall time: 18.3 ms\n"
     ]
    }
   ],
   "source": [
    "%time theta, x = dataset[0]"
   ]
  },
  {
   "cell_type": "code",
   "execution_count": 74,
   "id": "accepting-hudson",
   "metadata": {},
   "outputs": [
    {
     "name": "stdout",
     "output_type": "stream",
     "text": [
      "CPU times: user 222 ms, sys: 0 ns, total: 222 ms\n",
      "Wall time: 18.7 ms\n"
     ]
    }
   ],
   "source": [
    "%time theta_batch, x_batch = dataset_batch[0]"
   ]
  },
  {
   "cell_type": "code",
   "execution_count": 75,
   "id": "alive-shopping",
   "metadata": {},
   "outputs": [
    {
     "data": {
      "text/plain": [
       "2"
      ]
     },
     "execution_count": 75,
     "metadata": {},
     "output_type": "execute_result"
    }
   ],
   "source": [
    "i"
   ]
  },
  {
   "cell_type": "code",
   "execution_count": 83,
   "id": "affected-satin",
   "metadata": {},
   "outputs": [
    {
     "ename": "UnboundLocalError",
     "evalue": "local variable 'hp_svd' referenced before assignment",
     "output_type": "error",
     "traceback": [
      "\u001b[0;31m---------------------------------------------------------------------------\u001b[0m",
      "\u001b[0;31mUnboundLocalError\u001b[0m                         Traceback (most recent call last)",
      "\u001b[0;32m<ipython-input-83-444b1cb77a51>\u001b[0m in \u001b[0;36m<module>\u001b[0;34m\u001b[0m\n\u001b[1;32m      3\u001b[0m \u001b[0mt1\u001b[0m \u001b[0;34m=\u001b[0m \u001b[0mtime\u001b[0m\u001b[0;34m.\u001b[0m\u001b[0mtime\u001b[0m\u001b[0;34m(\u001b[0m\u001b[0;34m)\u001b[0m\u001b[0;34m\u001b[0m\u001b[0;34m\u001b[0m\u001b[0m\n\u001b[1;32m      4\u001b[0m \u001b[0mi\u001b[0m\u001b[0;34m=\u001b[0m\u001b[0;36m0\u001b[0m\u001b[0;34m\u001b[0m\u001b[0;34m\u001b[0m\u001b[0m\n\u001b[0;32m----> 5\u001b[0;31m \u001b[0;32mfor\u001b[0m \u001b[0mtheta\u001b[0m\u001b[0;34m,\u001b[0m \u001b[0mx\u001b[0m \u001b[0;32min\u001b[0m \u001b[0mdataset_batch\u001b[0m\u001b[0;34m:\u001b[0m\u001b[0;34m\u001b[0m\u001b[0;34m\u001b[0m\u001b[0m\n\u001b[0m\u001b[1;32m      6\u001b[0m     \u001b[0mi\u001b[0m\u001b[0;34m+=\u001b[0m\u001b[0;36m1\u001b[0m\u001b[0;34m\u001b[0m\u001b[0;34m\u001b[0m\u001b[0m\n\u001b[1;32m      7\u001b[0m     \u001b[0;32mpass\u001b[0m\u001b[0;34m\u001b[0m\u001b[0;34m\u001b[0m\u001b[0m\n",
      "\u001b[0;32m~/mlpe/river/river/data/dataset.py\u001b[0m in \u001b[0;36m__getitem__\u001b[0;34m(self, index)\u001b[0m\n\u001b[1;32m    292\u001b[0m             \u001b[0mwf_dict_list\u001b[0m\u001b[0;34m.\u001b[0m\u001b[0mappend\u001b[0m\u001b[0;34m(\u001b[0m\u001b[0mself\u001b[0m\u001b[0;34m.\u001b[0m\u001b[0mget_precalwf_dict\u001b[0m\u001b[0;34m(\u001b[0m\u001b[0mi\u001b[0m\u001b[0;34m)\u001b[0m\u001b[0;34m)\u001b[0m\u001b[0;34m\u001b[0m\u001b[0;34m\u001b[0m\u001b[0m\n\u001b[1;32m    293\u001b[0m \u001b[0;34m\u001b[0m\u001b[0m\n\u001b[0;32m--> 294\u001b[0;31m         \u001b[0mhp_svd\u001b[0m\u001b[0;34m,\u001b[0m \u001b[0mhc_svd\u001b[0m \u001b[0;34m=\u001b[0m \u001b[0mself\u001b[0m\u001b[0;34m.\u001b[0m\u001b[0mget_waveform_tensors_batch\u001b[0m\u001b[0;34m(\u001b[0m\u001b[0mwf_dict_list\u001b[0m\u001b[0;34m,\u001b[0m \u001b[0mindex_in_file\u001b[0m\u001b[0;34m,\u001b[0m \u001b[0mindex_in_file_end\u001b[0m\u001b[0;34m)\u001b[0m\u001b[0;34m\u001b[0m\u001b[0;34m\u001b[0m\u001b[0m\n\u001b[0m\u001b[1;32m    295\u001b[0m         \u001b[0minjection_parameters\u001b[0m \u001b[0;34m=\u001b[0m \u001b[0mself\u001b[0m\u001b[0;34m.\u001b[0m\u001b[0mget_injection_parameters_batch\u001b[0m\u001b[0;34m(\u001b[0m\u001b[0mwf_dict_list\u001b[0m\u001b[0;34m,\u001b[0m\u001b[0mindex_in_file\u001b[0m\u001b[0;34m,\u001b[0m \u001b[0mindex_in_file_end\u001b[0m\u001b[0;34m)\u001b[0m\u001b[0;34m\u001b[0m\u001b[0;34m\u001b[0m\u001b[0m\n\u001b[1;32m    296\u001b[0m         \u001b[0minjection_parameters\u001b[0m \u001b[0;34m=\u001b[0m \u001b[0mself\u001b[0m\u001b[0;34m.\u001b[0m\u001b[0mupdate_injection_parameters_batch\u001b[0m\u001b[0;34m(\u001b[0m\u001b[0minjection_parameters\u001b[0m\u001b[0;34m)\u001b[0m\u001b[0;34m\u001b[0m\u001b[0;34m\u001b[0m\u001b[0m\n",
      "\u001b[0;32m~/mlpe/river/river/data/dataset.py\u001b[0m in \u001b[0;36mget_waveform_tensors_batch\u001b[0;34m(self, wf_dict_list, index_in_file, index_in_file_end)\u001b[0m\n\u001b[1;32m    350\u001b[0m \u001b[0;34m\u001b[0m\u001b[0m\n\u001b[1;32m    351\u001b[0m \u001b[0;34m\u001b[0m\u001b[0m\n\u001b[0;32m--> 352\u001b[0;31m         \u001b[0;32mreturn\u001b[0m \u001b[0mhp_svd\u001b[0m\u001b[0;34m,\u001b[0m \u001b[0mhc_svd\u001b[0m\u001b[0;34m\u001b[0m\u001b[0;34m\u001b[0m\u001b[0m\n\u001b[0m\u001b[1;32m    353\u001b[0m \u001b[0;34m\u001b[0m\u001b[0m\n\u001b[1;32m    354\u001b[0m     \u001b[0;32mdef\u001b[0m \u001b[0mget_injection_parameters_batch\u001b[0m\u001b[0;34m(\u001b[0m\u001b[0mself\u001b[0m\u001b[0;34m,\u001b[0m \u001b[0mwf_dict_list\u001b[0m\u001b[0;34m,\u001b[0m \u001b[0mindex_in_file\u001b[0m\u001b[0;34m,\u001b[0m \u001b[0mindex_in_file_end\u001b[0m\u001b[0;34m)\u001b[0m\u001b[0;34m:\u001b[0m\u001b[0;34m\u001b[0m\u001b[0;34m\u001b[0m\u001b[0m\n",
      "\u001b[0;31mUnboundLocalError\u001b[0m: local variable 'hp_svd' referenced before assignment"
     ]
    }
   ],
   "source": [
    "batch_size = 10\n",
    "dataloader = DataLoader(dataset_batch, batch_size=batch_size, shuffle=False)\n",
    "t1 = time.time()\n",
    "i=0\n",
    "for theta, x in dataset_batch:\n",
    "    i+=1\n",
    "    pass\n",
    "t2 = time.time()\n",
    "print(t2-t1)"
   ]
  },
  {
   "cell_type": "code",
   "execution_count": 82,
   "id": "burning-bahrain",
   "metadata": {},
   "outputs": [
    {
     "data": {
      "text/plain": [
       "50"
      ]
     },
     "execution_count": 82,
     "metadata": {},
     "output_type": "execute_result"
    }
   ],
   "source": [
    "i"
   ]
  },
  {
   "cell_type": "code",
   "execution_count": null,
   "id": "turkish-asbestos",
   "metadata": {},
   "outputs": [],
   "source": []
  },
  {
   "cell_type": "code",
   "execution_count": null,
   "id": "fatty-thanks",
   "metadata": {},
   "outputs": [],
   "source": []
  },
  {
   "cell_type": "code",
   "execution_count": null,
   "id": "floating-astrology",
   "metadata": {},
   "outputs": [],
   "source": []
  },
  {
   "cell_type": "code",
   "execution_count": 47,
   "id": "renewable-trick",
   "metadata": {
    "scrolled": true
   },
   "outputs": [
    {
     "data": {
      "text/plain": [
       "0.0008593760854058718"
      ]
     },
     "execution_count": 47,
     "metadata": {},
     "output_type": "execute_result"
    }
   ],
   "source": [
    "np.max(np.array(resp_and_dt_dict_real['ET3']) - np.array(resp_and_dt_dict['ET3']) )"
   ]
  },
  {
   "cell_type": "code",
   "execution_count": 48,
   "id": "mediterranean-burning",
   "metadata": {},
   "outputs": [
    {
     "data": {
      "text/plain": [
       "8.32745696756898e-05"
      ]
     },
     "execution_count": 48,
     "metadata": {},
     "output_type": "execute_result"
    }
   ],
   "source": [
    "np.max(np.array(resp_and_dt_dict_real['ET1']) - np.array(resp_and_dt_dict['ET1']) )"
   ]
  },
  {
   "cell_type": "code",
   "execution_count": 49,
   "id": "tracked-cemetery",
   "metadata": {},
   "outputs": [
    {
     "data": {
      "text/plain": [
       "0.0016637406934446874"
      ]
     },
     "execution_count": 49,
     "metadata": {},
     "output_type": "execute_result"
    }
   ],
   "source": [
    "np.max(np.array(resp_and_dt_dict_real['ET2']) - np.array(resp_and_dt_dict['ET2']) )"
   ]
  },
  {
   "cell_type": "code",
   "execution_count": null,
   "id": "entertaining-european",
   "metadata": {},
   "outputs": [],
   "source": []
  },
  {
   "cell_type": "code",
   "execution_count": 50,
   "id": "sunset-effects",
   "metadata": {},
   "outputs": [],
   "source": [
    "dddd = np.array(resp_and_dt_dict_real['ET2']) - np.array(resp_and_dt_dict['ET2'])"
   ]
  },
  {
   "cell_type": "code",
   "execution_count": 53,
   "id": "sapphire-night",
   "metadata": {},
   "outputs": [
    {
     "data": {
      "text/plain": [
       "[<matplotlib.lines.Line2D at 0x7fe26b0802b0>]"
      ]
     },
     "execution_count": 53,
     "metadata": {},
     "output_type": "execute_result"
    },
    {
     "data": {
      "image/png": "[encoded data removed]",
      "text/plain": [
       "<Figure size 432x288 with 1 Axes>"
      ]
     },
     "metadata": {
      "needs_background": "light"
     },
     "output_type": "display_data"
    }
   ],
   "source": [
    "plt.plot(dddd[2])"
   ]
  },
  {
   "cell_type": "code",
   "execution_count": null,
   "id": "raised-salvation",
   "metadata": {},
   "outputs": [],
   "source": []
  },
  {
   "cell_type": "code",
   "execution_count": 220,
   "id": "integral-birmingham",
   "metadata": {},
   "outputs": [
    {
     "data": {
      "text/plain": [
       "array([-5.65375665e-05, -5.30453516e-05, -2.19071341e-05, -8.06043201e-06,\n",
       "        3.47315427e-05,  3.07125366e-05,  8.66517929e-05,  2.81843600e-05,\n",
       "       -5.43870591e-06, -7.04129506e-05])"
      ]
     },
     "execution_count": 220,
     "metadata": {},
     "output_type": "execute_result"
    }
   ],
   "source": [
    "fp_gpu-fp_real"
   ]
  },
  {
   "cell_type": "code",
   "execution_count": 221,
   "id": "moral-simple",
   "metadata": {},
   "outputs": [
    {
     "data": {
      "text/plain": [
       "array([-3.07599926e-05,  9.71602401e-06,  2.91876699e-05,  8.23354270e-05,\n",
       "        4.93105117e-05,  5.77011522e-06, -3.33246178e-05, -5.21903564e-05,\n",
       "       -2.03484881e-05, -5.99885284e-05])"
      ]
     },
     "execution_count": 221,
     "metadata": {},
     "output_type": "execute_result"
    }
   ],
   "source": [
    "fc_gpu-fc_real"
   ]
  },
  {
   "cell_type": "code",
   "execution_count": 222,
   "id": "utility-trash",
   "metadata": {},
   "outputs": [
    {
     "data": {
      "text/plain": [
       "array([ 5.31519273e-15, -8.26338550e-08, -1.48061706e-07,  6.03336825e-15,\n",
       "       -5.53355255e-08, -9.16744686e-08,  6.08540995e-15, -2.79243491e-08,\n",
       "       -4.00779232e-08,  5.50254287e-15])"
      ]
     },
     "execution_count": 222,
     "metadata": {},
     "output_type": "execute_result"
    }
   ],
   "source": [
    "dt_gpu - dt_real"
   ]
  },
  {
   "cell_type": "code",
   "execution_count": null,
   "id": "disabled-vancouver",
   "metadata": {},
   "outputs": [],
   "source": []
  },
  {
   "cell_type": "code",
   "execution_count": null,
   "id": "brave-peeing",
   "metadata": {},
   "outputs": [],
   "source": []
  },
  {
   "cell_type": "code",
   "execution_count": null,
   "id": "bright-republican",
   "metadata": {},
   "outputs": [],
   "source": []
  },
  {
   "cell_type": "code",
   "execution_count": 44,
   "id": "athletic-sweden",
   "metadata": {},
   "outputs": [],
   "source": [
    "\n",
    "class GWAntenna():\n",
    "    def __init__(self, detector_name, device='cuda'):\n",
    "        #self.det_bilby = sealgw.simulation.sealinterferometers.SealInterferometerList([detector_name])[0]\n",
    "        self.det_bilby = bilby.gw.detector.InterferometerList([detector_name])[0]\n",
    "        self.location = torch.from_numpy(self.det_bilby.vertex).type(torch.float64)\n",
    "        self.detector_tensor = torch.from_numpy(self.det_bilby.geometry.detector_tensor).type(torch.float64)\n",
    "        \n",
    "        \n",
    "    def response(self, ra, dec, psi, gpstime):\n",
    "        bs = ra.shape[0]\n",
    "        #D = self.detector_tensor.unsqueeze(0).repeat(bs, 1, 1)\n",
    "        D = self.detector_tensor\n",
    "        \n",
    "        X = torch.zeros(bs, 3).type(torch.float64)\n",
    "        Y = torch.zeros(bs, 3).type(torch.float64)\n",
    "\n",
    "        # Greenwich hour angle of source (radians).\n",
    "        # gha = gps2gmst(gpstime) - ra\n",
    "        # The greenwich_mean_sidereal_time / gps2gmst can not be parallized on GPU\n",
    "        # because it in the end needs a builtin fundamental function time.gmtime().\n",
    "        # Therefore we have to make sure that gpstime is (almost) the same in the batch\n",
    "        gha = torch.zeros_like(gpstime) + bilby.gw.utils.greenwich_mean_sidereal_time(gpstime[0]) - ra\n",
    "\n",
    "        # pre-compute trig functions\n",
    "        cosgha = torch.cos(gha)\n",
    "        singha = torch.sin(gha)\n",
    "        cosdec = torch.cos(dec)\n",
    "        sindec = torch.sin(dec)\n",
    "        cospsi = torch.cos(psi)\n",
    "        sinpsi = torch.sin(psi)\n",
    "    \n",
    "        X[:,0] = -cospsi * singha - sinpsi * cosgha * sindec\n",
    "        X[:,1] = -cospsi * cosgha + sinpsi * singha * sindec\n",
    "        X[:,2] =  sinpsi * cosdec\n",
    "\n",
    "        Y[:,0] =  sinpsi * singha - cospsi * cosgha * sindec\n",
    "        Y[:,1] =  sinpsi * cosgha + cospsi * singha * sindec\n",
    "        Y[:,2] =  cospsi * cosdec\n",
    "\n",
    "\n",
    "\n",
    "        #fp = torch.einsum('ij,ijk,ik->i', X, D, X) - torch.einsum('ij,ijk,ik->i', Y, D, Y)\n",
    "        #fc = torch.einsum('ij,ijk,ik->i', X, D, Y) + torch.einsum('ij,ijk,ik->i', Y, D, X)\n",
    "        \n",
    "        fp = torch.einsum('ij,jk,ik->i', X, D, X) - torch.einsum('ij,jk,ik->i', Y, D, Y)\n",
    "        fc = torch.einsum('ij,jk,ik->i', X, D, Y) + torch.einsum('ij,jk,ik->i', Y, D, X)\n",
    "\n",
    "        return fp, fc\n",
    "    \n",
    "    def time_delay_from_geocenter(self, ra, dec, gpstime):\n",
    "        #gmst = gps2gmst(gpstime)\n",
    "        bs = ra.shape[0]\n",
    "        #loc = self.location.unsqueeze(0).repeat(bs, 1)\n",
    "\n",
    "        gmst = torch.zeros_like(gpstime) + bilby.gw.utils.greenwich_mean_sidereal_time(gpstime[0]) #- ra\n",
    "        long = gmst - ra\n",
    "        lat = dec\n",
    "        \n",
    "        wavevector = torch.zeros(bs, 3).type(torch.float64)\n",
    "        wavevector[:,0],wavevector[:,1],wavevector[:,2]  = \\\n",
    "            -torch.cos(long)*torch.cos(lat), -torch.cos(long)*torch.sin(lat), -torch.sin(long)\n",
    "        \n",
    "        print(wavevector.shape)\n",
    "        print(self.location.shape)\n",
    "        #dt = torch.dot(wavevector,self.location.unsqueeze(-1)) / 299792458\n",
    "        #dt = torch.matmul(wavevector, self.location) / 299792458\n",
    "        dt = torch.einsum('ij,j->i', wavevector, self.location) / 299792458\n",
    "        \n",
    "        #dt=1\n",
    "        return dt\n"
   ]
  }
 ],
 "metadata": {
  "kernelspec": {
   "display_name": "myigwn-py39",
   "language": "python",
   "name": "myigwn-py39"
  },
  "language_info": {
   "codemirror_mode": {
    "name": "ipython",
    "version": 3
   },
   "file_extension": ".py",
   "mimetype": "text/x-python",
   "name": "python",
   "nbconvert_exporter": "python",
   "pygments_lexer": "ipython3",
   "version": "3.9.7"
  }
 },
 "nbformat": 4,
 "nbformat_minor": 5
}
