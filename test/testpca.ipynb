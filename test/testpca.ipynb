{
 "cells": [
  {
   "cell_type": "code",
   "execution_count": null,
   "id": "1842746a-ce74-4891-bda6-fd98dd6eb035",
   "metadata": {},
   "outputs": [],
   "source": []
  },
  {
   "cell_type": "code",
   "execution_count": 1,
   "id": "ba25c471-1188-41dd-bc36-7716f296893f",
   "metadata": {},
   "outputs": [],
   "source": [
    "import warnings\n",
    "warnings.filterwarnings(\"ignore\", \"in-band\")"
   ]
  },
  {
   "cell_type": "code",
   "execution_count": 2,
   "id": "b6ebc151-d456-4e03-85f5-88bd572bacea",
   "metadata": {},
   "outputs": [
    {
     "name": "stderr",
     "output_type": "stream",
     "text": [
      "<frozen importlib._bootstrap>:228: RuntimeWarning: scipy._lib.messagestream.MessageStream size changed, may indicate binary incompatibility. Expected 56 from C header, got 64 from PyObject\n",
      "/home/qian.hu/.conda/envs/myigwn-py39/lib/python3.9/site-packages/pycbc/types/array.py:36: UserWarning: Wswiglal-redir-stdio:\n",
      "\n",
      "SWIGLAL standard output/error redirection is enabled in IPython.\n",
      "This may lead to performance penalties. To disable locally, use:\n",
      "\n",
      "with lal.no_swig_redirect_standard_output_error():\n",
      "    ...\n",
      "\n",
      "To disable globally, use:\n",
      "\n",
      "lal.swig_redirect_standard_output_error(True)\n",
      "\n",
      "Note however that this will likely lead to error messages from\n",
      "LAL functions being either misdirected or lost when called from\n",
      "Jupyter notebooks.\n",
      "\n",
      "To suppress this warning, use:\n",
      "\n",
      "import warnings\n",
      "warnings.filterwarnings(\"ignore\", \"Wswiglal-redir-stdio\")\n",
      "import lal\n",
      "\n",
      "  import lal as _lal\n"
     ]
    }
   ],
   "source": [
    "import numpy as np\n",
    "import bilby \n",
    "import pycbc \n",
    "import sys\n",
    "import matplotlib.pyplot as plt\n",
    "\n",
    "import zuko\n",
    "\n",
    "import torch\n",
    "from torch.utils.data import Dataset, DataLoader\n",
    "from torch import nn\n",
    "\n",
    "import pickle\n",
    "#from sklearn.utils.extmath import randomized_svd\n",
    "import sklearn\n",
    "from sklearn.decomposition import IncrementalPCA, randomized_svd, KernelPCA\n",
    "import sklearn.decomposition "
   ]
  },
  {
   "cell_type": "code",
   "execution_count": 3,
   "id": "579030ad-ebb4-469d-97c3-ee552699ee5c",
   "metadata": {},
   "outputs": [],
   "source": [
    "import river.data\n",
    "from river.data.datagenerator import DataGeneratorBilbyFD\n",
    "#from river.data.dataset import #DatasetStrainFD, #DatasetStrainFDFromPreCalSVDWF\n",
    "#import river.data.utils as datautils\n",
    "from river.data.utils import *\n",
    "\n",
    "from river.models import embedding\n",
    "from river.models.utils import *\n",
    "#from river.models.embedding.pca import project_strain_data_FDAPhi\n",
    "from river.models.embedding.conv import EmbeddingConv1D, EmbeddingConv2D\n",
    "from river.models.embedding.mlp import EmbeddingMLP1D"
   ]
  },
  {
   "cell_type": "code",
   "execution_count": null,
   "id": "a58e4f23-8a8d-4644-bcd6-fdbfd50ee34c",
   "metadata": {},
   "outputs": [],
   "source": []
  },
  {
   "cell_type": "code",
   "execution_count": 4,
   "id": "4faf6826-6dd3-4101-a52c-3f64307a7247",
   "metadata": {},
   "outputs": [],
   "source": [
    "import sealgw"
   ]
  },
  {
   "cell_type": "markdown",
   "id": "favorite-grant",
   "metadata": {},
   "source": [
    "# multiband"
   ]
  },
  {
   "cell_type": "code",
   "execution_count": 16,
   "id": "existing-damages",
   "metadata": {},
   "outputs": [],
   "source": [
    "class WaveformGeneratorMultiBandFD:\n",
    "    def __init__(self,\n",
    "            source_type,\n",
    "            N_points, # number of data points within each band\n",
    "            f_low, \n",
    "            f_ref, \n",
    "            f_high, \n",
    "            waveform_approximant, \n",
    "            frequency_domain_source_model = None,\n",
    "            ref_m1 = 1.,\n",
    "            ref_m2 = 1.,\n",
    "            _SAFE_DURATION_FACTOR = 1,\n",
    "            **kwargs):\n",
    "\n",
    "        # set properties\n",
    "        self.source_type = source_type\n",
    "        self.f_low = f_low \n",
    "        self.f_ref = f_ref\n",
    "        self.f_high = f_high\n",
    "        self.ref_m1 = ref_m1\n",
    "        self.ref_m2 = ref_m2\n",
    "        self.N_points = N_points\n",
    "        self.waveform_approximant = waveform_approximant\n",
    "        \n",
    "        self._test_injection_parameters = dict(chirp_mass=1.22, mass_ratio=1, a_1=0.0, a_2=0.0,\n",
    "                                               tilt_1=0.,tilt_2=0.,phi_12=0.,phi_jl=0.,\n",
    "                                               lambda_1=425, lambda_2=425,luminosity_distance=1.,\n",
    "                                               theta_jn=0.0,phase=0)\n",
    "        self._SAFE_DURATION_FACTOR = _SAFE_DURATION_FACTOR\n",
    "        if frequency_domain_source_model is None:\n",
    "            if source_type == 'BNS':\n",
    "                self.frequency_domain_source_model = bilby.gw.source.lal_binary_neutron_star\n",
    "            elif source_type == 'BBH':\n",
    "                self.frequency_domain_source_model = bilby.gw.source.lal_binary_black_hole\n",
    "            elif source_type == 'BBH_ecc':\n",
    "                self.frequency_domain_source_model = bilby.gw.source.lal_eccentric_binary_black_hole_no_spins\n",
    "            else:\n",
    "                raise Exception(\"Can not assign frequency_domain_source_model!\")\n",
    "        self.initialize_waveform_generator()\n",
    "\n",
    "    def tau_of_f(self, f, m1=None, m2=None, mc=None):\n",
    "        '''\n",
    "        Maggiore, Gravtational wave, Vol. 1, eqs.(4.20) and (4.21)\n",
    "        '''\n",
    "        if mc is None:\n",
    "            if m1 and m2:\n",
    "                mc = (m1 * m2) ** (3 / 5) / (m1 + m2) ** (1 / 5)\n",
    "            else:\n",
    "                raise ValueError(\"Mass not provided.\")\n",
    "\n",
    "        tau = 2.18 * (1.21 / mc) ** (5 / 3) * (100 / f) ** (8 / 3)\n",
    "        return tau\n",
    "\n",
    "    def N_of_f1f2(self, f1,f2,m1=1.4, m2=1.4):\n",
    "        duration = (self.tau_of_f(f1,m1, m2)-self.tau_of_f(f2,m1, m2)) * self._SAFE_DURATION_FACTOR\n",
    "        length = duration*(f2-f1) \n",
    "        return duration, int(length) + 1\n",
    "    \n",
    "    def get_bands(self, N, f0, f_final, m1, m2):\n",
    "        f_temp = f_final\n",
    "        f_list = [f_final]\n",
    "\n",
    "        N_list = []\n",
    "        duration_list = []\n",
    "        for f_search in np.linspace(f0, f_final, 100000)[::-1]:\n",
    "            duration, nn = self.N_of_f1f2(f_temp, f_search, m1, m2)\n",
    "            if nn >= N:\n",
    "                N_list.append(nn)\n",
    "                duration_list.append(abs(duration))\n",
    "                f_list.append(f_search)\n",
    "                f_temp = f_search\n",
    "        \n",
    "        dur, N = self.N_of_f1f2(f_search, f_list[-1], m1, m2)\n",
    "        N_list.append(N)\n",
    "        duration_list.append(dur)\n",
    "        f_list.append(f_search)\n",
    "        return f_list[::-1], N_list[::-1], duration_list[::-1]\n",
    "    \n",
    "    def initialize_waveform_generator(self):\n",
    "        f_list, N_list, duration_list = self.get_bands(self.N_points, self.f_low, self.f_high, self.ref_m1, self.ref_m2)\n",
    "        self.N_bands = len(f_list)-1\n",
    "        \n",
    "        self.f_list = f_list\n",
    "        self.duration_list = []\n",
    "        self.sampling_frequency_list = []\n",
    "        self.N_list = []\n",
    "        self.waveform_generator_list = []\n",
    "        self.farray_list = []\n",
    "        self.fmask_list = []\n",
    "        \n",
    "        # interp so that each band has N points\n",
    "        self.farray_list_interp = []\n",
    "\n",
    "        for i in range(self.N_bands):\n",
    "            temp_f_low = f_list[i]\n",
    "            temp_f_high = f_list[i+1]\n",
    "            temp_duration = int(duration_list[i])+1\n",
    "            temp_sampling_frequency = int(min(2*self.f_high, 2*temp_f_high+1)) \n",
    "\n",
    "            self.duration_list.append(temp_duration)\n",
    "            self.sampling_frequency_list.append(temp_sampling_frequency)\n",
    "            \n",
    "            waveform_arguments = dict(waveform_approximant=self.waveform_approximant,\n",
    "                minimum_frequency=temp_f_low,\n",
    "                maximum_frequency=temp_f_high,\n",
    "                reference_frequency=self.f_ref)\n",
    "            \n",
    "            waveform_generator = bilby.gw.WaveformGenerator(\n",
    "                duration=temp_duration, sampling_frequency=temp_sampling_frequency,\n",
    "                frequency_domain_source_model=self.frequency_domain_source_model,\n",
    "                waveform_arguments=waveform_arguments)\n",
    "            \n",
    "            _test_hp = waveform_generator.frequency_domain_strain(self._test_injection_parameters)['plus']\n",
    "            non_zero_mask = abs(_test_hp) != 0\n",
    "            self.waveform_generator_list.append(waveform_generator)\n",
    "            temp_fmask = (waveform_generator.frequency_array >= temp_f_low) * (waveform_generator.frequency_array <= 2*temp_f_high) * non_zero_mask\n",
    "            self.fmask_list.append(temp_fmask)\n",
    "            \n",
    "            masked_farray = waveform_generator.frequency_array[temp_fmask]\n",
    "            self.farray_list.append(masked_farray)\n",
    "            self.N_list.append(len(masked_farray))\n",
    "            \n",
    "            interp_farray = np.linspace(masked_farray[0], masked_farray[-1], self.N_points)\n",
    "            self.farray_list_interp.append(interp_farray)\n",
    "        \n",
    "        f_array = np.array([])\n",
    "        f_array_interp = np.array([])\n",
    "        for ff,ffintp in zip(self.farray_list,self.farray_list_interp):\n",
    "            f_array = np.append(f_array, ff)\n",
    "            f_array_interp = np.append(f_array_interp, ffintp)\n",
    "        self.frequency_array = f_array\n",
    "        self.frequency_array_interp = f_array_interp\n",
    "        \n",
    "    def frequency_domain_strain(self, injection_parameters, interp=False):\n",
    "        waveform_polarizations = {'plus': np.array([]), 'cross':np.array([])}\n",
    "        for i in range(self.N_bands):\n",
    "            waveform_generator = self.waveform_generator_list[i]\n",
    "            fmask = self.fmask_list[i]\n",
    "            wave_dict = waveform_generator.frequency_domain_strain(injection_parameters)\n",
    "            for mode in ['plus', 'cross']:\n",
    "                if interp:\n",
    "                    fp = self.farray_list[i]\n",
    "                    hp = wave_dict[mode][fmask]\n",
    "                    f = self.farray_list_interp[i]\n",
    "                    #h_interp =  np.interp(f, fp, hp.real) +  np.interp(f, fp, hp.imag)*1j\n",
    "                    #h_interp =  np.interp(f, fp, hp) \n",
    "                    h_interp =  np.interp(f, fp, np.abs(hp))*np.exp(1j*np.interp(f, fp, np.unwrap(np.angle(hp))))\n",
    "                    waveform_polarizations[mode] = np.append(waveform_polarizations[mode], h_interp)\n",
    "                else:\n",
    "                    waveform_polarizations[mode] = np.append(waveform_polarizations[mode], wave_dict[mode][fmask])\n",
    "\n",
    "        return waveform_polarizations\n"
   ]
  },
  {
   "cell_type": "code",
   "execution_count": 36,
   "id": "suitable-removal",
   "metadata": {},
   "outputs": [],
   "source": [
    "Nsample = 20000\n",
    "Ntest = 100\n",
    "injection_parameters_all = generate_BNS_injection_parameters(\n",
    "        Nsample,\n",
    "        a_max=0.8,\n",
    "        d_min=1,\n",
    "        d_max=1,\n",
    "        d_power=1,\n",
    "        intrinsic_only = True)\n",
    "\n",
    "injection_parameters_test = generate_BNS_injection_parameters(\n",
    "        Ntest,\n",
    "        a_max=0.8,\n",
    "        d_min=1,\n",
    "        d_max=1,\n",
    "        d_power=1,\n",
    "        intrinsic_only = True)"
   ]
  },
  {
   "cell_type": "code",
   "execution_count": 61,
   "id": "deadly-friday",
   "metadata": {},
   "outputs": [
    {
     "name": "stderr",
     "output_type": "stream",
     "text": [
      "03:08 bilby INFO    : Waveform generator initiated with\n",
      "  frequency_domain_source_model: bilby.gw.source.lal_binary_neutron_star\n",
      "  time_domain_source_model: None\n",
      "  parameter_conversion: bilby.gw.conversion.convert_to_lal_binary_black_hole_parameters\n",
      "03:08 bilby INFO    : Waveform generator initiated with\n",
      "  frequency_domain_source_model: bilby.gw.source.lal_binary_neutron_star\n",
      "  time_domain_source_model: None\n",
      "  parameter_conversion: bilby.gw.conversion.convert_to_lal_binary_black_hole_parameters\n",
      "03:08 bilby INFO    : Waveform generator initiated with\n",
      "  frequency_domain_source_model: bilby.gw.source.lal_binary_neutron_star\n",
      "  time_domain_source_model: None\n",
      "  parameter_conversion: bilby.gw.conversion.convert_to_lal_binary_black_hole_parameters\n",
      "03:08 bilby INFO    : Waveform generator initiated with\n",
      "  frequency_domain_source_model: bilby.gw.source.lal_binary_neutron_star\n",
      "  time_domain_source_model: None\n",
      "  parameter_conversion: bilby.gw.conversion.convert_to_lal_binary_black_hole_parameters\n",
      "03:08 bilby INFO    : Waveform generator initiated with\n",
      "  frequency_domain_source_model: bilby.gw.source.lal_binary_neutron_star\n",
      "  time_domain_source_model: None\n",
      "  parameter_conversion: bilby.gw.conversion.convert_to_lal_binary_black_hole_parameters\n",
      "03:08 bilby INFO    : Waveform generator initiated with\n",
      "  frequency_domain_source_model: bilby.gw.source.lal_binary_neutron_star\n",
      "  time_domain_source_model: None\n",
      "  parameter_conversion: bilby.gw.conversion.convert_to_lal_binary_black_hole_parameters\n",
      "03:08 bilby INFO    : Waveform generator initiated with\n",
      "  frequency_domain_source_model: bilby.gw.source.lal_binary_neutron_star\n",
      "  time_domain_source_model: None\n",
      "  parameter_conversion: bilby.gw.conversion.convert_to_lal_binary_black_hole_parameters\n",
      "03:08 bilby INFO    : Waveform generator initiated with\n",
      "  frequency_domain_source_model: bilby.gw.source.lal_binary_neutron_star\n",
      "  time_domain_source_model: None\n",
      "  parameter_conversion: bilby.gw.conversion.convert_to_lal_binary_black_hole_parameters\n",
      "03:08 bilby INFO    : Waveform generator initiated with\n",
      "  frequency_domain_source_model: bilby.gw.source.lal_binary_neutron_star\n",
      "  time_domain_source_model: None\n",
      "  parameter_conversion: bilby.gw.conversion.convert_to_lal_binary_black_hole_parameters\n",
      "03:08 bilby INFO    : Waveform generator initiated with\n",
      "  frequency_domain_source_model: bilby.gw.source.lal_binary_neutron_star\n",
      "  time_domain_source_model: None\n",
      "  parameter_conversion: bilby.gw.conversion.convert_to_lal_binary_black_hole_parameters\n",
      "03:08 bilby INFO    : Waveform generator initiated with\n",
      "  frequency_domain_source_model: bilby.gw.source.lal_binary_neutron_star\n",
      "  time_domain_source_model: None\n",
      "  parameter_conversion: bilby.gw.conversion.convert_to_lal_binary_black_hole_parameters\n",
      "03:08 bilby INFO    : Waveform generator initiated with\n",
      "  frequency_domain_source_model: bilby.gw.source.lal_binary_neutron_star\n",
      "  time_domain_source_model: None\n",
      "  parameter_conversion: bilby.gw.conversion.convert_to_lal_binary_black_hole_parameters\n",
      "03:08 bilby INFO    : Waveform generator initiated with\n",
      "  frequency_domain_source_model: bilby.gw.source.lal_binary_neutron_star\n",
      "  time_domain_source_model: None\n",
      "  parameter_conversion: bilby.gw.conversion.convert_to_lal_binary_black_hole_parameters\n",
      "03:08 bilby INFO    : Waveform generator initiated with\n",
      "  frequency_domain_source_model: bilby.gw.source.lal_binary_neutron_star\n",
      "  time_domain_source_model: None\n",
      "  parameter_conversion: bilby.gw.conversion.convert_to_lal_binary_black_hole_parameters\n",
      "03:08 bilby INFO    : Waveform generator initiated with\n",
      "  frequency_domain_source_model: bilby.gw.source.lal_binary_neutron_star\n",
      "  time_domain_source_model: None\n",
      "  parameter_conversion: bilby.gw.conversion.convert_to_lal_binary_black_hole_parameters\n",
      "03:08 bilby INFO    : Waveform generator initiated with\n",
      "  frequency_domain_source_model: bilby.gw.source.lal_binary_neutron_star\n",
      "  time_domain_source_model: None\n",
      "  parameter_conversion: bilby.gw.conversion.convert_to_lal_binary_black_hole_parameters\n",
      "03:08 bilby INFO    : Waveform generator initiated with\n",
      "  frequency_domain_source_model: bilby.gw.source.lal_binary_neutron_star\n",
      "  time_domain_source_model: None\n",
      "  parameter_conversion: bilby.gw.conversion.convert_to_lal_binary_black_hole_parameters\n",
      "03:08 bilby INFO    : Waveform generator initiated with\n",
      "  frequency_domain_source_model: bilby.gw.source.lal_binary_neutron_star\n",
      "  time_domain_source_model: None\n",
      "  parameter_conversion: bilby.gw.conversion.convert_to_lal_binary_black_hole_parameters\n",
      "03:08 bilby INFO    : Waveform generator initiated with\n",
      "  frequency_domain_source_model: bilby.gw.source.lal_binary_neutron_star\n",
      "  time_domain_source_model: None\n",
      "  parameter_conversion: bilby.gw.conversion.convert_to_lal_binary_black_hole_parameters\n",
      "03:08 bilby INFO    : Waveform generator initiated with\n",
      "  frequency_domain_source_model: bilby.gw.source.lal_binary_neutron_star\n",
      "  time_domain_source_model: None\n",
      "  parameter_conversion: bilby.gw.conversion.convert_to_lal_binary_black_hole_parameters\n",
      "03:08 bilby INFO    : Waveform generator initiated with\n",
      "  frequency_domain_source_model: bilby.gw.source.lal_binary_neutron_star\n",
      "  time_domain_source_model: None\n",
      "  parameter_conversion: bilby.gw.conversion.convert_to_lal_binary_black_hole_parameters\n",
      "03:08 bilby INFO    : Waveform generator initiated with\n",
      "  frequency_domain_source_model: bilby.gw.source.lal_binary_neutron_star\n",
      "  time_domain_source_model: None\n",
      "  parameter_conversion: bilby.gw.conversion.convert_to_lal_binary_black_hole_parameters\n",
      "03:08 bilby INFO    : Waveform generator initiated with\n",
      "  frequency_domain_source_model: bilby.gw.source.lal_binary_neutron_star\n",
      "  time_domain_source_model: None\n",
      "  parameter_conversion: bilby.gw.conversion.convert_to_lal_binary_black_hole_parameters\n",
      "03:08 bilby INFO    : Waveform generator initiated with\n",
      "  frequency_domain_source_model: bilby.gw.source.lal_binary_neutron_star\n",
      "  time_domain_source_model: None\n",
      "  parameter_conversion: bilby.gw.conversion.convert_to_lal_binary_black_hole_parameters\n",
      "03:08 bilby INFO    : Waveform generator initiated with\n",
      "  frequency_domain_source_model: bilby.gw.source.lal_binary_neutron_star\n",
      "  time_domain_source_model: None\n",
      "  parameter_conversion: bilby.gw.conversion.convert_to_lal_binary_black_hole_parameters\n",
      "03:08 bilby INFO    : Waveform generator initiated with\n",
      "  frequency_domain_source_model: bilby.gw.source.lal_binary_neutron_star\n",
      "  time_domain_source_model: None\n",
      "  parameter_conversion: bilby.gw.conversion.convert_to_lal_binary_black_hole_parameters\n",
      "03:08 bilby INFO    : Waveform generator initiated with\n",
      "  frequency_domain_source_model: bilby.gw.source.lal_binary_neutron_star\n",
      "  time_domain_source_model: None\n",
      "  parameter_conversion: bilby.gw.conversion.convert_to_lal_binary_black_hole_parameters\n",
      "03:08 bilby INFO    : Waveform generator initiated with\n",
      "  frequency_domain_source_model: bilby.gw.source.lal_binary_neutron_star\n",
      "  time_domain_source_model: None\n",
      "  parameter_conversion: bilby.gw.conversion.convert_to_lal_binary_black_hole_parameters\n"
     ]
    }
   ],
   "source": [
    "f_low = 20\n",
    "N_points = 256\n",
    "wavegen_mb = WaveformGeneratorMultiBandFD(source_type='BNS',\n",
    "                                        N_points=N_points, \n",
    "                                        f_low=f_low,\n",
    "                                        f_ref=20, \n",
    "                                        f_high=1024, \n",
    "                                        waveform_approximant = 'IMRPhenomPv2_NRTidal',\n",
    "                                      _SAFE_DURATION_FACTOR=10)\n"
   ]
  },
  {
   "cell_type": "code",
   "execution_count": 62,
   "id": "behind-venezuela",
   "metadata": {},
   "outputs": [
    {
     "data": {
      "text/plain": [
       "7589"
      ]
     },
     "execution_count": 62,
     "metadata": {},
     "output_type": "execute_result"
    }
   ],
   "source": [
    "len(wavegen_mb.frequency_array)"
   ]
  },
  {
   "cell_type": "code",
   "execution_count": 63,
   "id": "wooden-fence",
   "metadata": {},
   "outputs": [
    {
     "data": {
      "text/plain": [
       "[180,\n",
       " 260,\n",
       " 260,\n",
       " 259,\n",
       " 258,\n",
       " 256,\n",
       " 255,\n",
       " 258,\n",
       " 254,\n",
       " 257,\n",
       " 255,\n",
       " 256,\n",
       " 257,\n",
       " 256,\n",
       " 255,\n",
       " 258,\n",
       " 258,\n",
       " 260,\n",
       " 256,\n",
       " 261,\n",
       " 260,\n",
       " 262,\n",
       " 269,\n",
       " 260,\n",
       " 303,\n",
       " 264,\n",
       " 366,\n",
       " 536]"
      ]
     },
     "execution_count": 63,
     "metadata": {},
     "output_type": "execute_result"
    }
   ],
   "source": [
    "wavegen_mb.N_list"
   ]
  },
  {
   "cell_type": "code",
   "execution_count": 64,
   "id": "configured-worker",
   "metadata": {},
   "outputs": [
    {
     "data": {
      "text/plain": [
       "28"
      ]
     },
     "execution_count": 64,
     "metadata": {},
     "output_type": "execute_result"
    }
   ],
   "source": [
    "len(wavegen_mb.N_list)"
   ]
  },
  {
   "cell_type": "code",
   "execution_count": 65,
   "id": "refined-affair",
   "metadata": {},
   "outputs": [],
   "source": [
    "f = wavegen_mb.frequency_array\n",
    "L = len(f)\n",
    "\n",
    "h_train = np.zeros((2*Nsample, L)) * 1j\n",
    "\n",
    "for i in range(Nsample):\n",
    "    injection_parameters = {}\n",
    "    for key,value in injection_parameters_all.items():\n",
    "        injection_parameters[key] = value[i]\n",
    "    wave_dict = wavegen_mb.frequency_domain_strain(injection_parameters)\n",
    "    h_train[2*i] = wave_dict['plus']\n",
    "    h_train[2*i+1] = wave_dict['cross']"
   ]
  },
  {
   "cell_type": "code",
   "execution_count": 66,
   "id": "tested-psychology",
   "metadata": {},
   "outputs": [],
   "source": [
    "\n",
    "h_tests = np.zeros((2*Ntest, L)) * 1j\n",
    "\n",
    "for i in range(Ntest):\n",
    "    injection_parameters = {}\n",
    "    for key,value in injection_parameters_test.items():\n",
    "        injection_parameters[key] = value[i]\n",
    "    wave_dict = wavegen_mb.frequency_domain_strain(injection_parameters)\n",
    "    h_tests[2*i] = wave_dict['plus']\n",
    "    h_tests[2*i+1] = wave_dict['cross']"
   ]
  },
  {
   "cell_type": "code",
   "execution_count": 67,
   "id": "nearby-wheel",
   "metadata": {},
   "outputs": [
    {
     "data": {
      "image/png": "[encoded data removed]",
      "text/plain": [
       "<Figure size 1440x1728 with 28 Axes>"
      ]
     },
     "metadata": {
      "needs_background": "light"
     },
     "output_type": "display_data"
    }
   ],
   "source": [
    "n=256\n",
    "\n",
    "idx1 = 0\n",
    "idx2 = 0\n",
    "\n",
    "V_list = []\n",
    "Vh_list = []\n",
    "\n",
    "plt.figure(figsize=(20,24))\n",
    "\n",
    "for ii,NN in enumerate(wavegen_mb.N_list):\n",
    "    idx2 += NN\n",
    "    h2fit = h_train[:,idx1:idx2]\n",
    "    h2test = h_tests[:,idx1:idx2]\n",
    "    U, s, Vh = randomized_svd(h2fit, n)\n",
    "    V = Vh.T.conj()\n",
    "    Vh_list.append(Vh)\n",
    "    V_list.append(V)\n",
    "    \n",
    "    mismatches = []\n",
    "    increment = 4\n",
    "    mm_lowthre = 1e-30\n",
    "    ntests = np.append(np.arange(increment, n, increment), n)\n",
    "    for ntest in ntests:\n",
    "        mismatch_n = []\n",
    "        for h_test in h2test:\n",
    "            h_compressed = h_test @ V[:, :ntest] #np.dot(h_test , V)\n",
    "            h_decomp = h_compressed @ Vh[:ntest] #np.dot(h_compressed , Vh)\n",
    "\n",
    "            norm1 = np.sqrt(np.sum(np.abs(h_test) ** 2))\n",
    "            norm2 = np.sqrt(np.sum(np.abs(h_decomp) ** 2))\n",
    "            inner = np.sum(h_test.conj() * h_decomp).real\n",
    "            mismatch = 1 - inner / (norm1 * norm2)\n",
    "            if mismatch<mm_lowthre:\n",
    "                mismatch_n.append(mm_lowthre)\n",
    "            else:\n",
    "                mismatch_n.append(mismatch)\n",
    "        mismatches.append(mismatch_n)\n",
    "\n",
    "    mismatches = np.array(mismatches)\n",
    "    logMM = np.log10(mismatches)\n",
    "    \n",
    "    \n",
    "    \n",
    "    plt.subplot(7,4,ii+1)\n",
    "    _ = plt.violinplot(logMM.T, quantiles=np.tile([0.01,0.99], logMM.shape[0]).reshape(2, logMM.shape[0]))\n",
    "\n",
    "    plt.ylabel('log10 MM')\n",
    "    plt.xlabel('Number of bases')\n",
    "    plt.title(f\"{round(wavegen_mb.f_list[ii],2)} to {round(wavegen_mb.f_list[ii+1],2)} Hz\")\n",
    "    plt.xticks(np.arange(0,len(ntests),4)+1, labels=ntests[::4])\n",
    "\n",
    "    plt.grid()\n",
    "    #plt.savefig(f'outputs/mm_vs_nbasis_{f_low}Hz{f_high}Hz{duration}s.png')\n",
    "    #plt.xscale('log')\n",
    "    plt.ylim(-15,0)\n",
    "\n",
    "\n",
    "    idx1 = idx2\n",
    "plt.show()"
   ]
  },
  {
   "cell_type": "code",
   "execution_count": 45,
   "id": "young-malaysia",
   "metadata": {},
   "outputs": [],
   "source": [
    "ntest=n\n",
    "\n",
    "h_test = h_tests[99]\n",
    "#h_test = h_train[1020]\n",
    "h_compressed = h_test @ V[:, :ntest] #np.dot(h_test , V)\n",
    "h_decomp = h_compressed @ Vh[:ntest] #np.dot(h_compressed , Vh)"
   ]
  },
  {
   "cell_type": "code",
   "execution_count": 46,
   "id": "lined-mumbai",
   "metadata": {},
   "outputs": [
    {
     "ename": "NameError",
     "evalue": "name 'f' is not defined",
     "output_type": "error",
     "traceback": [
      "\u001b[0;31m---------------------------------------------------------------------------\u001b[0m",
      "\u001b[0;31mNameError\u001b[0m                                 Traceback (most recent call last)",
      "\u001b[0;32m<ipython-input-46-82572205836c>\u001b[0m in \u001b[0;36m<module>\u001b[0;34m\u001b[0m\n\u001b[0;32m----> 1\u001b[0;31m \u001b[0mplt\u001b[0m\u001b[0;34m.\u001b[0m\u001b[0mloglog\u001b[0m\u001b[0;34m(\u001b[0m\u001b[0mf\u001b[0m\u001b[0;34m,\u001b[0m \u001b[0mabs\u001b[0m\u001b[0;34m(\u001b[0m\u001b[0mh_test\u001b[0m\u001b[0;34m)\u001b[0m\u001b[0;34m)\u001b[0m\u001b[0;34m\u001b[0m\u001b[0;34m\u001b[0m\u001b[0m\n\u001b[0m\u001b[1;32m      2\u001b[0m \u001b[0mplt\u001b[0m\u001b[0;34m.\u001b[0m\u001b[0mloglog\u001b[0m\u001b[0;34m(\u001b[0m\u001b[0mf\u001b[0m\u001b[0;34m,\u001b[0m \u001b[0mabs\u001b[0m\u001b[0;34m(\u001b[0m\u001b[0mh_decomp\u001b[0m\u001b[0;34m)\u001b[0m\u001b[0;34m)\u001b[0m\u001b[0;34m\u001b[0m\u001b[0;34m\u001b[0m\u001b[0m\n",
      "\u001b[0;31mNameError\u001b[0m: name 'f' is not defined"
     ]
    }
   ],
   "source": [
    "plt.loglog(f, abs(h_test))\n",
    "plt.loglog(f, abs(h_decomp))"
   ]
  },
  {
   "cell_type": "code",
   "execution_count": 47,
   "id": "universal-penguin",
   "metadata": {},
   "outputs": [],
   "source": [
    "mismatches = []\n",
    "\n",
    "increment = 8\n",
    "mm_lowthre = 1e-30\n",
    "ntests = np.append(np.arange(increment, n, increment), n)\n",
    "for ntest in ntests:\n",
    "    mismatch_n = []\n",
    "    for h_test in h_tests:\n",
    "        h_compressed = h_test @ V[:, :ntest] #np.dot(h_test , V)\n",
    "        h_decomp = h_compressed @ Vh[:ntest] #np.dot(h_compressed , Vh)\n",
    "    \n",
    "        norm1 = np.sqrt(np.sum(np.abs(h_test) ** 2))\n",
    "        norm2 = np.sqrt(np.sum(np.abs(h_decomp) ** 2))\n",
    "        inner = np.sum(h_test.conj() * h_decomp).real\n",
    "        mismatch = 1 - inner / (norm1 * norm2)\n",
    "        if mismatch<mm_lowthre:\n",
    "            mismatch_n.append(mm_lowthre)\n",
    "        else:\n",
    "            mismatch_n.append(mismatch)\n",
    "    mismatches.append(mismatch_n)\n",
    "\n",
    "mismatches = np.array(mismatches)\n",
    "logMM = np.log10(mismatches)"
   ]
  },
  {
   "cell_type": "code",
   "execution_count": 48,
   "id": "changed-parallel",
   "metadata": {},
   "outputs": [
    {
     "data": {
      "image/png": "[encoded data removed]",
      "text/plain": [
       "<Figure size 1152x432 with 1 Axes>"
      ]
     },
     "metadata": {
      "needs_background": "light"
     },
     "output_type": "display_data"
    }
   ],
   "source": [
    "plt.figure(figsize=(16,6))\n",
    "\n",
    "\n",
    "_ = plt.violinplot(logMM.T, quantiles=np.tile([0.01,0.99], logMM.shape[0]).reshape(2, logMM.shape[0]))\n",
    "\n",
    "plt.ylabel('log10 MM')\n",
    "plt.xlabel('Number of bases')\n",
    "\n",
    "plt.xticks(np.arange(0,len(ntests),4)+1, labels=ntests[::4])\n",
    "\n",
    "plt.grid()\n",
    "#plt.savefig(f'outputs/mm_vs_nbasis_{f_low}Hz{f_high}Hz{duration}s.png')\n",
    "\n",
    "#plt.xscale('log')\n",
    "plt.ylim(-15,0)\n",
    "plt.show()"
   ]
  },
  {
   "cell_type": "code",
   "execution_count": null,
   "id": "critical-illinois",
   "metadata": {},
   "outputs": [],
   "source": []
  },
  {
   "cell_type": "code",
   "execution_count": null,
   "id": "exact-kitty",
   "metadata": {},
   "outputs": [],
   "source": []
  },
  {
   "cell_type": "code",
   "execution_count": null,
   "id": "large-doctrine",
   "metadata": {},
   "outputs": [],
   "source": []
  },
  {
   "cell_type": "code",
   "execution_count": null,
   "id": "thorough-macro",
   "metadata": {},
   "outputs": [],
   "source": []
  },
  {
   "cell_type": "code",
   "execution_count": null,
   "id": "seeing-lease",
   "metadata": {},
   "outputs": [],
   "source": []
  },
  {
   "cell_type": "markdown",
   "id": "0b21712f-3d9b-47bf-9421-9229e545bbc1",
   "metadata": {},
   "source": [
    "# data gen"
   ]
  },
  {
   "cell_type": "code",
   "execution_count": 8,
   "id": "9c639111-fbf1-4876-ac06-257d76ad5410",
   "metadata": {},
   "outputs": [],
   "source": [
    "Nsample = 20000\n",
    "Ntest = 100\n",
    "injection_parameters_all = generate_BNS_injection_parameters(\n",
    "        Nsample,\n",
    "        a_max=0.1,\n",
    "        d_min=10,\n",
    "        d_max=200,\n",
    "        d_power=2,\n",
    "        intrinsic_only = True)\n",
    "\n",
    "injection_parameters_test = generate_BNS_injection_parameters(\n",
    "        Ntest,\n",
    "        a_max=0.1,\n",
    "        d_min=10,\n",
    "        d_max=200,\n",
    "        d_power=2,\n",
    "        intrinsic_only = True)"
   ]
  },
  {
   "cell_type": "code",
   "execution_count": 7,
   "id": "b34a4ba2-4c16-482a-af69-d53b9f81e815",
   "metadata": {},
   "outputs": [
    {
     "name": "stdout",
     "output_type": "stream",
     "text": [
      "143.77568550602984 4313.270565180896\n"
     ]
    }
   ],
   "source": [
    "f2=50\n",
    "f1=20\n",
    "\n",
    "m=1.4\n",
    "duration = sealgw.simulation.generating_data.tau_of_f(f1,m1=m, m2=m)-sealgw.simulation.generating_data.tau_of_f(f2,m1=m, m2=m)\n",
    "length = duration*(f2-f1)\n",
    "\n",
    "print(duration, length)"
   ]
  },
  {
   "cell_type": "code",
   "execution_count": 8,
   "id": "7bbc7580-dc3e-4f92-add5-61d6c6a83b87",
   "metadata": {},
   "outputs": [],
   "source": [
    "#sealgw.simulation.generating_data.f_of_tau(100,m1=1.4, m2=1.4)"
   ]
  },
  {
   "cell_type": "code",
   "execution_count": 5,
   "id": "a4467b7e-dca4-4e09-ad6c-96dbdbbe1c87",
   "metadata": {},
   "outputs": [],
   "source": [
    "source_type = 'BNS'\n",
    "detector_names = ['H1', 'L1', 'V1'] \n",
    "duration = 1200\n",
    "f_low = 5\n",
    "f_high = 5.2\n",
    "\n",
    "f_ref = 20\n",
    "sampling_frequency = 32\n",
    "waveform_approximant = 'IMRPhenomPv2_NRTidal'\n",
    "parameter_names = PARAMETER_NAMES_ALL_PRECESSINGBNS_BILBY\n",
    "PSD_type = 'bilby_default' #'zero_noise' bilby_default\n",
    "use_sealgw_detector = True"
   ]
  },
  {
   "cell_type": "code",
   "execution_count": 6,
   "id": "9eabfea4-e222-47e2-9a4d-42b890dba21f",
   "metadata": {},
   "outputs": [
    {
     "name": "stderr",
     "output_type": "stream",
     "text": [
      "21:26 bilby INFO    : Waveform generator initiated with\n",
      "  frequency_domain_source_model: bilby.gw.source.lal_binary_neutron_star\n",
      "  time_domain_source_model: None\n",
      "  parameter_conversion: bilby.gw.conversion.convert_to_lal_binary_black_hole_parameters\n",
      "21:26 bilby INFO    : Waveform generator initiated with\n",
      "  frequency_domain_source_model: bilby.gw.source.lal_binary_neutron_star\n",
      "  time_domain_source_model: None\n",
      "  parameter_conversion: bilby.gw.conversion.convert_to_lal_binary_black_hole_parameters\n"
     ]
    },
    {
     "name": "stdout",
     "output_type": "stream",
     "text": [
      "Using bilby_default PSDs to generate data.\n",
      "Using bilby_default PSDs to generate data.\n"
     ]
    }
   ],
   "source": [
    "data_generator = DataGeneratorBilbyFD(source_type,\n",
    "            detector_names, \n",
    "            duration, \n",
    "            f_low, \n",
    "            f_ref, \n",
    "            sampling_frequency, \n",
    "            waveform_approximant, \n",
    "            parameter_names,\n",
    "            PSD_type=PSD_type,\n",
    "            use_sealgw_detector=use_sealgw_detector,\n",
    "                                     f_high=f_high)\n",
    "\n",
    "data_generator_test = DataGeneratorBilbyFD(source_type,\n",
    "            detector_names, \n",
    "            duration, \n",
    "            f_low, \n",
    "            f_ref, \n",
    "            sampling_frequency, \n",
    "            waveform_approximant, \n",
    "            parameter_names,\n",
    "            PSD_type=PSD_type,\n",
    "            use_sealgw_detector=use_sealgw_detector,\n",
    "                                     f_high=f_high)"
   ]
  },
  {
   "cell_type": "code",
   "execution_count": 9,
   "id": "3aa6c8db-b66b-488d-9125-12b55b4de00a",
   "metadata": {},
   "outputs": [],
   "source": [
    "ifos = data_generator.ifos"
   ]
  },
  {
   "cell_type": "code",
   "execution_count": 10,
   "id": "90c9e814-2c7d-434e-9fe0-9feae420011f",
   "metadata": {},
   "outputs": [],
   "source": [
    "ifos.set_strain_data_from_power_spectral_densities(\n",
    "    sampling_frequency=sampling_frequency, duration=duration,\n",
    "    start_time=0)"
   ]
  },
  {
   "cell_type": "code",
   "execution_count": 11,
   "id": "7f45bcb3-cc55-4be3-b591-20ad3d2d71be",
   "metadata": {},
   "outputs": [],
   "source": [
    "det = ifos[0]"
   ]
  },
  {
   "cell_type": "code",
   "execution_count": 22,
   "id": "c8b32208-b5cf-40b8-916b-cf0e3fcb0b49",
   "metadata": {},
   "outputs": [
    {
     "data": {
      "text/plain": [
       "'H1'"
      ]
     },
     "execution_count": 22,
     "metadata": {},
     "output_type": "execute_result"
    }
   ],
   "source": [
    "det.name"
   ]
  },
  {
   "cell_type": "code",
   "execution_count": 21,
   "id": "f0f4496c-f9ae-4fe8-9658-56fe19ac4108",
   "metadata": {},
   "outputs": [
    {
     "data": {
      "text/plain": [
       "array([-2.04730141e-23-1.63301037e-23j,  1.00053268e-23-2.15364464e-23j,\n",
       "       -1.09223791e-23-3.21498654e-23j, ...,\n",
       "        5.99867386e-24-1.46820565e-23j,  3.88188570e-24+2.33141300e-23j,\n",
       "        0.00000000e+00+0.00000000e+00j])"
      ]
     },
     "execution_count": 21,
     "metadata": {},
     "output_type": "execute_result"
    }
   ],
   "source": [
    "det.frequency_domain_strain[data_generator.frequency_mask]"
   ]
  },
  {
   "cell_type": "code",
   "execution_count": 12,
   "id": "e36a5d36-8484-49a5-afc7-839303f881b6",
   "metadata": {},
   "outputs": [],
   "source": [
    "f = data_generator.frequency_array_masked\n"
   ]
  },
  {
   "cell_type": "code",
   "execution_count": 13,
   "id": "7ee45925-fb32-462e-9967-2447f16eabda",
   "metadata": {},
   "outputs": [],
   "source": [
    "f = data_generator.frequency_array_masked\n",
    "\n",
    "data_generator.generate_waveforms(injection_parameters_all)\n",
    "data_generator_test.generate_waveforms(injection_parameters_test)"
   ]
  },
  {
   "cell_type": "code",
   "execution_count": null,
   "id": "6bad2657-2618-4799-bdd0-1048be432581",
   "metadata": {},
   "outputs": [],
   "source": []
  },
  {
   "cell_type": "code",
   "execution_count": 14,
   "id": "124999dc-bf01-47d1-a22b-cc114c719122",
   "metadata": {},
   "outputs": [],
   "source": [
    "hp = np.array(data_generator.waveforms['waveform_polarizations']['plus']['amplitude']) *\\\n",
    "    np.exp(1j* np.array(data_generator.waveforms['waveform_polarizations']['plus']['phase']))\n",
    "\n",
    "hc = np.array(data_generator.waveforms['waveform_polarizations']['cross']['amplitude']) *\\\n",
    "    np.exp(1j* np.array(data_generator.waveforms['waveform_polarizations']['cross']['phase']))\n",
    "\n",
    "h_train = np.vstack([hp,hc])\n",
    "#h_train = h_train * np.repeat(np.exp(1j*rand_phase), h_train.shape[1]).reshape(h_train.shape)\n",
    "#h_train = hp\n",
    "\n",
    "hp_test = np.array(data_generator_test.waveforms['waveform_polarizations']['plus']['amplitude']) *\\\n",
    "    np.exp(1j* np.array(data_generator_test.waveforms['waveform_polarizations']['plus']['phase']))\n",
    "\n",
    "hc_test = np.array(data_generator_test.waveforms['waveform_polarizations']['cross']['amplitude']) *\\\n",
    "    np.exp(1j* np.array(data_generator_test.waveforms['waveform_polarizations']['cross']['phase']))\n",
    "\n",
    "h_tests = np.vstack([hp_test,hc_test])\n",
    "#h_tests = h_tests * np.repeat(np.exp(1j*rand_phase_test), h_tests.shape[1]).reshape(h_tests.shape)\n"
   ]
  },
  {
   "cell_type": "code",
   "execution_count": 15,
   "id": "89d9cc1c-163d-4b0d-af22-35a05690c3a0",
   "metadata": {
    "jupyter": {
     "source_hidden": true
    }
   },
   "outputs": [],
   "source": [
    "\n",
    "h_train = np.vstack([np.array(data_generator.waveforms['waveform_polarizations']['plus']['amplitude']),\n",
    "                     np.array(data_generator.waveforms['waveform_polarizations']['cross']['amplitude'])])\n",
    "\n",
    "h_tests = np.vstack([np.array(data_generator_test.waveforms['waveform_polarizations']['plus']['amplitude']),\n",
    "                     np.array(data_generator_test.waveforms['waveform_polarizations']['cross']['amplitude'])])"
   ]
  },
  {
   "cell_type": "code",
   "execution_count": 22,
   "id": "ed56113d-c38c-4958-b143-80145e5a2045",
   "metadata": {},
   "outputs": [
    {
     "data": {
      "text/plain": [
       "(1100.0, 1200.0)"
      ]
     },
     "execution_count": 22,
     "metadata": {},
     "output_type": "execute_result"
    },
    {
     "data": {
      "image/png": "[encoded data removed]",
      "text/plain": [
       "<Figure size 432x288 with 1 Axes>"
      ]
     },
     "metadata": {
      "needs_background": "light"
     },
     "output_type": "display_data"
    }
   ],
   "source": [
    "plt.plot(f,np.real(h_train[1]))\n",
    "plt.xlim(5, 5.1)\n",
    "plt.ylim(1100, 1200)"
   ]
  },
  {
   "cell_type": "code",
   "execution_count": 88,
   "id": "2fa8bc72-cf65-4c63-934f-36b647843a92",
   "metadata": {},
   "outputs": [],
   "source": [
    "det = data_generator.ifos[0]"
   ]
  },
  {
   "cell_type": "code",
   "execution_count": 89,
   "id": "12b6855e-0953-4898-bbb8-264398eb5f57",
   "metadata": {},
   "outputs": [],
   "source": [
    "psd = det.power_spectral_density_array[data_generator.frequency_mask]"
   ]
  },
  {
   "cell_type": "code",
   "execution_count": 90,
   "id": "89015162-9034-48d3-bc77-55445703f23b",
   "metadata": {},
   "outputs": [],
   "source": [
    "hh = hp[0] * 1e-23"
   ]
  },
  {
   "cell_type": "code",
   "execution_count": 91,
   "id": "fbbf1741-93b7-4906-9de3-242e4b79a7e9",
   "metadata": {},
   "outputs": [
    {
     "data": {
      "text/plain": [
       "21182791.86574785"
      ]
     },
     "execution_count": 91,
     "metadata": {},
     "output_type": "execute_result"
    }
   ],
   "source": [
    "np.sum( np.real (hh*hh.conj() / psd ))"
   ]
  },
  {
   "cell_type": "code",
   "execution_count": 92,
   "id": "dd2131a2-e170-42f1-b883-bbf35b6a9bc6",
   "metadata": {},
   "outputs": [
    {
     "data": {
      "text/plain": [
       "array([ 2.46827487e-22+5.01013888e-22j, -5.56375787e-22+4.38320470e-23j,\n",
       "        1.63344278e-22-5.33227759e-22j, ...,\n",
       "        0.00000000e+00+0.00000000e+00j,  0.00000000e+00+0.00000000e+00j,\n",
       "        0.00000000e+00+0.00000000e+00j])"
      ]
     },
     "execution_count": 92,
     "metadata": {},
     "output_type": "execute_result"
    }
   ],
   "source": [
    "hh"
   ]
  },
  {
   "cell_type": "code",
   "execution_count": 107,
   "id": "42d263d6-30f3-4491-a981-07dba964af70",
   "metadata": {},
   "outputs": [],
   "source": [
    "hh_compressed = (hh / psd**0.5) @ V[:, :512]\n",
    "hh_decomp = hh_compressed @ Vh[:512]\n",
    "\n",
    "psd_compressed = psd @ V[:, :512]"
   ]
  },
  {
   "cell_type": "code",
   "execution_count": null,
   "id": "49d92658-4bfe-400a-a051-03163dcaa692",
   "metadata": {},
   "outputs": [],
   "source": []
  },
  {
   "cell_type": "code",
   "execution_count": 108,
   "id": "b914a640-48a9-4f16-855c-b6a7b10d2d53",
   "metadata": {},
   "outputs": [
    {
     "data": {
      "text/plain": [
       "21170642.34896679"
      ]
     },
     "execution_count": 108,
     "metadata": {},
     "output_type": "execute_result"
    }
   ],
   "source": [
    "np.real ( np.sum(hh_compressed*hh_compressed.conj() / 1 ))"
   ]
  },
  {
   "cell_type": "code",
   "execution_count": 100,
   "id": "d0e0ea36-142d-4dc1-8c79-21848b9f542f",
   "metadata": {},
   "outputs": [
    {
     "data": {
      "text/plain": [
       "21182604.754862312"
      ]
     },
     "execution_count": 100,
     "metadata": {},
     "output_type": "execute_result"
    }
   ],
   "source": [
    "np.sum( np.real (hh_decomp*hh_decomp.conj() / psd ))"
   ]
  },
  {
   "cell_type": "code",
   "execution_count": null,
   "id": "33f6a1ed-2588-469e-8148-1c62b7e680cf",
   "metadata": {},
   "outputs": [],
   "source": []
  },
  {
   "cell_type": "code",
   "execution_count": 40,
   "id": "a996a8ce-01a3-4d55-8074-73aa1b5f045a",
   "metadata": {},
   "outputs": [
    {
     "data": {
      "text/plain": [
       "'outputs/Vh_50Hz1024Hz32s'"
      ]
     },
     "execution_count": 40,
     "metadata": {},
     "output_type": "execute_result"
    }
   ],
   "source": [
    "f\"outputs/Vh_{f_low}Hz{f_high}Hz{duration}s\""
   ]
  },
  {
   "cell_type": "code",
   "execution_count": 49,
   "id": "f23a0667-7845-4ddd-b4aa-6c68a7621ecb",
   "metadata": {},
   "outputs": [
    {
     "data": {
      "text/plain": [
       "251.90232332815393"
      ]
     },
     "execution_count": 49,
     "metadata": {},
     "output_type": "execute_result"
    }
   ],
   "source": [
    "duration"
   ]
  },
  {
   "cell_type": "code",
   "execution_count": null,
   "id": "ead4a6f6-44ce-40c6-afe2-41b154b4ebc5",
   "metadata": {},
   "outputs": [],
   "source": []
  },
  {
   "cell_type": "markdown",
   "id": "73dfaa94-14cb-43ff-9e98-ba5f5e219f1c",
   "metadata": {},
   "source": [
    "# complex SVD"
   ]
  },
  {
   "cell_type": "code",
   "execution_count": 46,
   "id": "807d6cbd-8cdc-4465-b7ab-8e12aa6de165",
   "metadata": {},
   "outputs": [
    {
     "data": {
      "text/plain": [
       "(40000, 7681)"
      ]
     },
     "execution_count": 46,
     "metadata": {},
     "output_type": "execute_result"
    }
   ],
   "source": [
    "h_train.shape"
   ]
  },
  {
   "cell_type": "code",
   "execution_count": 25,
   "id": "1cb3df38-3d98-46fd-8c28-7c6475c8005d",
   "metadata": {},
   "outputs": [],
   "source": [
    "n=64\n",
    "\n",
    "if 1:\n",
    "    U, s, Vh = randomized_svd(h_train, n)\n",
    "    V = Vh.T.conj()\n",
    "else:\n",
    "    U, s, Vh = scipy.linalg.svd(h_train, full_matrices=False)\n",
    "    V = Vh.T.conj()\n",
    "    V = V[:, :n]\n",
    "    Vh = Vh[:n, :]\n",
    "    "
   ]
  },
  {
   "cell_type": "code",
   "execution_count": 48,
   "id": "4553804c-0c6e-4d23-b5ea-2761115be583",
   "metadata": {},
   "outputs": [
    {
     "data": {
      "text/plain": [
       "(7681, 2048)"
      ]
     },
     "execution_count": 48,
     "metadata": {},
     "output_type": "execute_result"
    }
   ],
   "source": [
    "V.shape"
   ]
  },
  {
   "cell_type": "code",
   "execution_count": 75,
   "id": "75a33318-95bd-40da-85ea-ab565a64ed4d",
   "metadata": {},
   "outputs": [],
   "source": [
    "with open(f\"outputs/Vh_{f_low}Hz{f_high}Hz{duration}s.pickle\", 'wb') as f:\n",
    "    pickle.dump(Vh, f)\n",
    "\n",
    "with open(f\"outputs/s_{f_low}Hz{f_high}Hz{duration}s.pickle\", 'wb') as f:\n",
    "    pickle.dump(s, f)\n",
    "\n",
    "with open(f\"outputs/U_{f_low}Hz{f_high}Hz{duration}s.pickle\", 'wb') as f:\n",
    "    pickle.dump(U, f)"
   ]
  },
  {
   "cell_type": "code",
   "execution_count": 102,
   "id": "af7797d5-d2e6-4386-9206-fd15ab2e1f02",
   "metadata": {},
   "outputs": [],
   "source": [
    "with open(f\"outputs/Vh_{f_low}Hz{f_high}Hz{duration}s.pickle\", 'rb') as f:\n",
    "    Vh = pickle.load(f)\n",
    "    V = Vh.T.conj()"
   ]
  },
  {
   "cell_type": "code",
   "execution_count": 78,
   "id": "72b9f364-4329-4980-a376-f9bda0ecab58",
   "metadata": {},
   "outputs": [
    {
     "data": {
      "text/plain": [
       "(600, 31169)"
      ]
     },
     "execution_count": 78,
     "metadata": {},
     "output_type": "execute_result"
    }
   ],
   "source": [
    "Vh.shape"
   ]
  },
  {
   "cell_type": "code",
   "execution_count": 26,
   "id": "8fe08a57-5ddd-45bb-8665-63db8b5f6925",
   "metadata": {},
   "outputs": [
    {
     "data": {
      "text/plain": [
       "[<matplotlib.lines.Line2D at 0x7f11144ccf40>]"
      ]
     },
     "execution_count": 26,
     "metadata": {},
     "output_type": "execute_result"
    },
    {
     "data": {
      "image/png": "[encoded data removed]",
      "text/plain": [
       "<Figure size 432x288 with 1 Axes>"
      ]
     },
     "metadata": {
      "needs_background": "light"
     },
     "output_type": "display_data"
    }
   ],
   "source": [
    "plt.loglog(s)"
   ]
  },
  {
   "cell_type": "code",
   "execution_count": 51,
   "id": "8c9e1c61-eb1a-40b2-96d7-82d84d76cb47",
   "metadata": {},
   "outputs": [
    {
     "data": {
      "text/plain": [
       "2048"
      ]
     },
     "execution_count": 51,
     "metadata": {},
     "output_type": "execute_result"
    }
   ],
   "source": [
    "len(s)"
   ]
  },
  {
   "cell_type": "code",
   "execution_count": null,
   "id": "d191b3b9-bb0e-4f3a-b380-d3bcbfd06e81",
   "metadata": {},
   "outputs": [],
   "source": []
  },
  {
   "cell_type": "code",
   "execution_count": 27,
   "id": "a4280e3a-d261-4c7c-a60b-91b8da2853a4",
   "metadata": {},
   "outputs": [],
   "source": [
    "ntest=n\n",
    "\n",
    "h_test = h_tests[99]\n",
    "#h_test = h_train[1020]\n",
    "h_compressed = h_test @ V[:, :ntest] #np.dot(h_test , V)\n",
    "h_decomp = h_compressed @ Vh[:ntest] #np.dot(h_compressed , Vh)"
   ]
  },
  {
   "cell_type": "code",
   "execution_count": 28,
   "id": "5a613c8b-00fb-472c-968f-e1d5aa5f7b35",
   "metadata": {},
   "outputs": [
    {
     "name": "stdout",
     "output_type": "stream",
     "text": [
      "CPU times: user 0 ns, sys: 2.96 ms, total: 2.96 ms\n",
      "Wall time: 242 µs\n"
     ]
    }
   ],
   "source": [
    "%time h_decomp = h_compressed @ Vh[:ntest]"
   ]
  },
  {
   "cell_type": "code",
   "execution_count": 29,
   "id": "b3eb8400-788e-451d-aef8-b12fa1aba260",
   "metadata": {},
   "outputs": [
    {
     "data": {
      "text/plain": [
       "[<matplotlib.lines.Line2D at 0x7f1114311ee0>]"
      ]
     },
     "execution_count": 29,
     "metadata": {},
     "output_type": "execute_result"
    },
    {
     "data": {
      "image/png": "[encoded data removed]",
      "text/plain": [
       "<Figure size 432x288 with 1 Axes>"
      ]
     },
     "metadata": {
      "needs_background": "light"
     },
     "output_type": "display_data"
    }
   ],
   "source": [
    "plt.loglog(f, abs(h_test))\n",
    "plt.loglog(f, abs(h_decomp))"
   ]
  },
  {
   "cell_type": "code",
   "execution_count": 30,
   "id": "60b0b84a-43c6-4680-8b5a-55f97afbd9d5",
   "metadata": {},
   "outputs": [
    {
     "data": {
      "image/png": "[encoded data removed]",
      "text/plain": [
       "<Figure size 432x288 with 1 Axes>"
      ]
     },
     "metadata": {
      "needs_background": "light"
     },
     "output_type": "display_data"
    }
   ],
   "source": [
    "plt.plot(f, np.real(h_test))\n",
    "plt.plot(f, np.real(h_decomp), alpha=0.5)\n",
    "plt.plot(f, abs(np.real(h_test-h_decomp)),  alpha=0.3)\n",
    "\n",
    "plt.xscale('log')"
   ]
  },
  {
   "cell_type": "code",
   "execution_count": 31,
   "id": "8689f880-cb93-437a-a2b4-8597187c2ee7",
   "metadata": {},
   "outputs": [
    {
     "data": {
      "text/plain": [
       "0.0001460646099076257"
      ]
     },
     "execution_count": 31,
     "metadata": {},
     "output_type": "execute_result"
    }
   ],
   "source": [
    "max(abs(np.real(h_test-h_decomp)))"
   ]
  },
  {
   "cell_type": "code",
   "execution_count": 32,
   "id": "0f7d0d1a-1516-49fb-8400-bd2887ff0320",
   "metadata": {},
   "outputs": [],
   "source": [
    "mismatches = []\n",
    "\n",
    "increment = 1\n",
    "mm_lowthre = 1e-30\n",
    "ntests = np.append(np.arange(increment, n, increment), n)\n",
    "for ntest in ntests:\n",
    "    mismatch_n = []\n",
    "    for h_test in h_tests:\n",
    "        h_compressed = h_test @ V[:, :ntest] #np.dot(h_test , V)\n",
    "        h_decomp = h_compressed @ Vh[:ntest] #np.dot(h_compressed , Vh)\n",
    "    \n",
    "        norm1 = np.sqrt(np.sum(np.abs(h_test) ** 2))\n",
    "        norm2 = np.sqrt(np.sum(np.abs(h_decomp) ** 2))\n",
    "        inner = np.sum(h_test.conj() * h_decomp).real\n",
    "        mismatch = 1 - inner / (norm1 * norm2)\n",
    "        if mismatch<mm_lowthre:\n",
    "            mismatch_n.append(mm_lowthre)\n",
    "        else:\n",
    "            mismatch_n.append(mismatch)\n",
    "    mismatches.append(mismatch_n)\n",
    "\n",
    "mismatches = np.array(mismatches)\n",
    "logMM = np.log10(mismatches)"
   ]
  },
  {
   "cell_type": "code",
   "execution_count": 33,
   "id": "a8bd1463-b622-4505-a259-f701b82a2bc6",
   "metadata": {},
   "outputs": [
    {
     "data": {
      "text/plain": [
       "array([ 1,  2,  3,  4,  5,  6,  7,  8,  9, 10, 11, 12, 13, 14, 15, 16, 17,\n",
       "       18, 19, 20, 21, 22, 23, 24, 25, 26, 27, 28, 29, 30, 31, 32, 33, 34,\n",
       "       35, 36, 37, 38, 39, 40, 41, 42, 43, 44, 45, 46, 47, 48, 49, 50, 51,\n",
       "       52, 53, 54, 55, 56, 57, 58, 59, 60, 61, 62, 63, 64])"
      ]
     },
     "execution_count": 33,
     "metadata": {},
     "output_type": "execute_result"
    }
   ],
   "source": [
    "ntests"
   ]
  },
  {
   "cell_type": "code",
   "execution_count": 34,
   "id": "e03e2972-ad08-4558-a135-d4190f718479",
   "metadata": {},
   "outputs": [
    {
     "data": {
      "text/plain": [
       "array([ 1,  3,  5,  7,  9, 11, 13, 15, 17, 19, 21, 23, 25, 27, 29, 31, 33,\n",
       "       35, 37, 39, 41, 43, 45, 47, 49, 51, 53, 55, 57, 59, 61, 63])"
      ]
     },
     "execution_count": 34,
     "metadata": {},
     "output_type": "execute_result"
    }
   ],
   "source": [
    "np.arange(0,len(ntests),2)+1"
   ]
  },
  {
   "cell_type": "code",
   "execution_count": 35,
   "id": "5c0b28f0-7887-44fe-b212-477104ca5d76",
   "metadata": {},
   "outputs": [
    {
     "data": {
      "image/png": "[encoded data removed]",
      "text/plain": [
       "<Figure size 1152x432 with 1 Axes>"
      ]
     },
     "metadata": {
      "needs_background": "light"
     },
     "output_type": "display_data"
    }
   ],
   "source": [
    "plt.figure(figsize=(16,6))\n",
    "\n",
    "\n",
    "_ = plt.violinplot(logMM.T, quantiles=np.tile([0.01,0.99], logMM.shape[0]).reshape(2, logMM.shape[0]))\n",
    "\n",
    "plt.ylabel('log10 MM')\n",
    "plt.xlabel('Number of bases')\n",
    "\n",
    "plt.xticks(np.arange(0,len(ntests),4)+1, labels=ntests[::4])\n",
    "\n",
    "plt.grid()\n",
    "#plt.savefig(f'outputs/mm_vs_nbasis_{f_low}Hz{f_high}Hz{duration}s.png')\n",
    "\n",
    "#plt.xscale('log')\n",
    "plt.ylim(-15,0)\n",
    "plt.show()"
   ]
  },
  {
   "cell_type": "code",
   "execution_count": null,
   "id": "enhanced-president",
   "metadata": {},
   "outputs": [],
   "source": []
  },
  {
   "cell_type": "code",
   "execution_count": 69,
   "id": "3a4bbfe1-e7dc-4d3e-81fd-874981c2d2e7",
   "metadata": {},
   "outputs": [],
   "source": [
    "import pickle"
   ]
  },
  {
   "cell_type": "code",
   "execution_count": 158,
   "id": "14b612b8-47a1-4c44-ac58-3f5c0c0b9b8e",
   "metadata": {},
   "outputs": [],
   "source": [
    "pp = '/home/qian.hu/mlpe/training_data/bns_50Hz1024Hz32s_lowspin/train/batch0/precalwf_bns_50Hz1024Hz32s_lowspin_0.h5'\n",
    "testwfdict = load_dict_from_hdf5(pp)\n"
   ]
  },
  {
   "cell_type": "code",
   "execution_count": 165,
   "id": "99f3771a-9adb-460e-bf12-c9c442391f40",
   "metadata": {},
   "outputs": [
    {
     "name": "stdout",
     "output_type": "stream",
     "text": [
      "CPU times: user 7.12 ms, sys: 2.25 ms, total: 9.37 ms\n",
      "Wall time: 15.1 ms\n"
     ]
    }
   ],
   "source": [
    "%time testwfdict = load_dict_from_hdf5(pp)"
   ]
  },
  {
   "cell_type": "code",
   "execution_count": null,
   "id": "04fc2379-ffdf-4d4c-af6a-715ac70b975d",
   "metadata": {},
   "outputs": [],
   "source": []
  },
  {
   "cell_type": "code",
   "execution_count": 125,
   "id": "e5745837-6c8d-4c7f-b69c-f1858cabc2bf",
   "metadata": {},
   "outputs": [],
   "source": [
    "testid = 0\n",
    "testmode = 'plus'\n",
    "\n",
    "h1_svd = testwfdict['waveform_polarizations'][testmode]['amplitude'][testid] * \\\n",
    "    np.exp(1j*testwfdict['waveform_polarizations'][testmode]['phase'][testid])\n",
    "\n",
    "h1_reco = h1_svd @ Vh[:512]"
   ]
  },
  {
   "cell_type": "code",
   "execution_count": 130,
   "id": "28040187-13a1-49be-b32d-aafa55781256",
   "metadata": {},
   "outputs": [
    {
     "data": {
      "text/plain": [
       "dict_keys(['a_1', 'a_2', 'chirp_mass', 'delta_lambda_tilde', 'lambda_1', 'lambda_2', 'lambda_tilde', 'mass_1', 'mass_2', 'mass_ratio', 'phase', 'phi_12', 'phi_jl', 'theta_jn', 'tilt_1', 'tilt_2'])"
      ]
     },
     "execution_count": 130,
     "metadata": {},
     "output_type": "execute_result"
    }
   ],
   "source": [
    "testwfdict['injection_parameters'].keys()"
   ]
  },
  {
   "cell_type": "code",
   "execution_count": 135,
   "id": "de670547-b430-41b0-82e7-e509194acacb",
   "metadata": {},
   "outputs": [],
   "source": [
    "testinjpara = {}\n",
    "for key in testwfdict['injection_parameters'].keys():\n",
    "    testinjpara[key] = testwfdict['injection_parameters'][key][testid]\n",
    "testinjpara['luminosity_distance']=1"
   ]
  },
  {
   "cell_type": "code",
   "execution_count": 140,
   "id": "31989e4e-7411-4563-9eca-7e023a0c65bc",
   "metadata": {},
   "outputs": [],
   "source": [
    "h2 = data_generator.waveform_generator.frequency_domain_strain(testinjpara)[testmode][data_generator.frequency_mask]"
   ]
  },
  {
   "cell_type": "code",
   "execution_count": 141,
   "id": "3f069feb-c70d-48f3-a97e-887a2a725638",
   "metadata": {},
   "outputs": [],
   "source": [
    "norm1 = np.sqrt(np.sum(np.abs(h1_reco) ** 2))\n",
    "norm2 = np.sqrt(np.sum(np.abs(h2) ** 2))\n",
    "inner = np.sum(h1_reco.conj() * h2).real\n",
    "mismatch = 1 - inner / (norm1 * norm2)"
   ]
  },
  {
   "cell_type": "code",
   "execution_count": 142,
   "id": "552654da-746a-4a62-bd9d-db030b7b133a",
   "metadata": {},
   "outputs": [
    {
     "data": {
      "text/plain": [
       "1.3724329914754918e-06"
      ]
     },
     "execution_count": 142,
     "metadata": {},
     "output_type": "execute_result"
    }
   ],
   "source": [
    "mismatch"
   ]
  },
  {
   "cell_type": "code",
   "execution_count": 144,
   "id": "6cb8fefa-b307-4fe3-9f54-3e38c3791953",
   "metadata": {},
   "outputs": [
    {
     "data": {
      "text/plain": [
       "array([-5.16926484e-22-3.12002955e-22j,  5.37669961e-22-2.66751457e-22j,\n",
       "       -5.46786664e-23+6.02173293e-22j, ...,\n",
       "        4.37057848e-25-2.88510632e-25j,  4.37751922e-25-2.89358658e-25j,\n",
       "        0.00000000e+00+0.00000000e+00j])"
      ]
     },
     "execution_count": 144,
     "metadata": {},
     "output_type": "execute_result"
    }
   ],
   "source": [
    "h1_reco"
   ]
  },
  {
   "cell_type": "code",
   "execution_count": 145,
   "id": "d985f41c-8c2c-4dfd-8fa3-024942453cf3",
   "metadata": {},
   "outputs": [
    {
     "data": {
      "text/plain": [
       "array([-5.15750362e-22-3.12196733e-22j,  5.38732167e-22-2.69795478e-22j,\n",
       "       -5.67156925e-23+5.99471848e-22j, ...,\n",
       "       -0.00000000e+00+0.00000000e+00j, -0.00000000e+00+0.00000000e+00j,\n",
       "        0.00000000e+00-0.00000000e+00j])"
      ]
     },
     "execution_count": 145,
     "metadata": {},
     "output_type": "execute_result"
    }
   ],
   "source": [
    "h2"
   ]
  },
  {
   "cell_type": "code",
   "execution_count": null,
   "id": "2b97eeab-ab18-423a-bdc4-b31500a372f8",
   "metadata": {},
   "outputs": [],
   "source": []
  },
  {
   "cell_type": "code",
   "execution_count": 149,
   "id": "46cd65ab-4706-4a0d-b327-5ee0aabb3abf",
   "metadata": {},
   "outputs": [
    {
     "data": {
      "image/png": "[encoded data removed]",
      "text/plain": [
       "<Figure size 432x288 with 1 Axes>"
      ]
     },
     "metadata": {
      "needs_background": "light"
     },
     "output_type": "display_data"
    }
   ],
   "source": [
    "plt.plot(f, np.real(h1_reco))\n",
    "plt.plot(f, np.real(h2), alpha=0.5)\n",
    "plt.plot(f, abs(np.real(h1_reco-h2)),  alpha=0.3)\n",
    "\n",
    "plt.xscale('log')"
   ]
  },
  {
   "cell_type": "code",
   "execution_count": 150,
   "id": "5bfc69cb-527a-4374-adb7-f761c8d463f8",
   "metadata": {},
   "outputs": [
    {
     "data": {
      "text/plain": [
       "2.0370261004466988e-24"
      ]
     },
     "execution_count": 150,
     "metadata": {},
     "output_type": "execute_result"
    }
   ],
   "source": [
    "max(abs(np.real(h1_reco-h2)))"
   ]
  },
  {
   "cell_type": "markdown",
   "id": "44419418-5712-4269-a2b4-382eac4b707a",
   "metadata": {
    "jp-MarkdownHeadingCollapsed": true
   },
   "source": [
    "# Kernel PCA"
   ]
  },
  {
   "cell_type": "code",
   "execution_count": 30,
   "id": "cd70ffa6-921c-40a2-8957-036436f86a0f",
   "metadata": {},
   "outputs": [
    {
     "data": {
      "text/plain": [
       "(60000, 2001)"
      ]
     },
     "execution_count": 30,
     "metadata": {},
     "output_type": "execute_result"
    }
   ],
   "source": [
    "h_train.shape"
   ]
  },
  {
   "cell_type": "code",
   "execution_count": 34,
   "id": "a2316ca9-0e52-4221-aedc-4b434fb455c1",
   "metadata": {},
   "outputs": [],
   "source": [
    "n_components = 512\n",
    "kernel = 'cosine'\n",
    "n_jobs = 10\n",
    "kpca = KernelPCA(n_components = n_components,\n",
    "                kernel = kernel,\n",
    "                n_jobs=n_jobs)"
   ]
  },
  {
   "cell_type": "code",
   "execution_count": null,
   "id": "60f951b6-48e0-4571-8d24-f7deb122bf5c",
   "metadata": {},
   "outputs": [],
   "source": [
    "kpca.fit(np.real(h_train)) #too slow"
   ]
  },
  {
   "cell_type": "code",
   "execution_count": null,
   "id": "48a3aa17-71d1-46f9-b2dc-1ae340ba4ed5",
   "metadata": {},
   "outputs": [],
   "source": []
  },
  {
   "cell_type": "markdown",
   "id": "03359406-413c-4683-847f-c0328f20c52f",
   "metadata": {
    "jp-MarkdownHeadingCollapsed": true
   },
   "source": [
    "# amp + phase IPCA"
   ]
  },
  {
   "cell_type": "code",
   "execution_count": 56,
   "id": "408de6cc-79b1-48c1-a15f-9cdd15e25e55",
   "metadata": {},
   "outputs": [
    {
     "name": "stdout",
     "output_type": "stream",
     "text": [
      "Model loaded from /home/qian.hu/mlpe/river/scripts/ipca_models/realimag/IPCA_HPHC_BNSFD_10000to256_realimag_lowspin_200Mpc.pickle\n"
     ]
    }
   ],
   "source": [
    "ipca = load_model('/home/qian.hu/mlpe/river/scripts/ipca_models/realimag/IPCA_HPHC_BNSFD_10000to256_realimag_lowspin_200Mpc.pickle')"
   ]
  },
  {
   "cell_type": "code",
   "execution_count": 57,
   "id": "b62a3f71-93b1-40f2-b628-a5dd0c150451",
   "metadata": {},
   "outputs": [],
   "source": [
    "mode = 'plus'\n",
    "A_list = data_generator.waveforms['waveform_polarizations'][mode]['amplitude']\n",
    "phi_list = data_generator.waveforms['waveform_polarizations'][mode]['phase']\n",
    "\n",
    "f = data_generator.frequency_array_masked\n",
    "\n",
    "testid = 0\n",
    "h = A_list[0] * np.exp(1j * phi_list[0])"
   ]
  },
  {
   "cell_type": "code",
   "execution_count": 58,
   "id": "0c66d051-3ae5-48c4-a53d-8261e5d57cb3",
   "metadata": {},
   "outputs": [
    {
     "data": {
      "text/plain": [
       "[<matplotlib.lines.Line2D at 0x7f6e9c260040>]"
      ]
     },
     "execution_count": 58,
     "metadata": {},
     "output_type": "execute_result"
    },
    {
     "data": {
      "image/png": "[encoded data removed]",
      "text/plain": [
       "<Figure size 432x288 with 1 Axes>"
      ]
     },
     "metadata": {
      "needs_background": "light"
     },
     "output_type": "display_data"
    }
   ],
   "source": [
    "plt.loglog(f, abs(h))"
   ]
  },
  {
   "cell_type": "code",
   "execution_count": 74,
   "id": "04324b86-b121-4db0-be99-e0de13ff135c",
   "metadata": {},
   "outputs": [],
   "source": [
    "wftest = np.real(h)\n",
    "wfproj = ipca.project(wftest)\n",
    "wfreco = np.dot(wfproj, ipca.ipca.components_)"
   ]
  },
  {
   "cell_type": "code",
   "execution_count": 77,
   "id": "a5d013e8-6e02-4d87-b14b-7ffa344aae71",
   "metadata": {},
   "outputs": [
    {
     "data": {
      "text/plain": [
       "[<matplotlib.lines.Line2D at 0x7f6e2e8457c0>]"
      ]
     },
     "execution_count": 77,
     "metadata": {},
     "output_type": "execute_result"
    },
    {
     "data": {
      "image/png": "[encoded data removed]",
      "text/plain": [
       "<Figure size 432x288 with 1 Axes>"
      ]
     },
     "metadata": {
      "needs_background": "light"
     },
     "output_type": "display_data"
    }
   ],
   "source": [
    "plt.plot(wftest)\n",
    "plt.plot(wfreco)"
   ]
  },
  {
   "cell_type": "code",
   "execution_count": 79,
   "id": "e5ab4555-ca1c-476e-8ee5-1d2800d25a36",
   "metadata": {},
   "outputs": [],
   "source": [
    "ttdd = {'plus': np.array([[1,2,3,4], [1,2,4,3]]),\n",
    "       'cross': np.array([[-1,-2,-3,-4], [-1,-2,-4,-3]])}"
   ]
  },
  {
   "cell_type": "code",
   "execution_count": null,
   "id": "4047abfe-4006-4595-95ed-b034f4ff0a59",
   "metadata": {},
   "outputs": [],
   "source": []
  },
  {
   "cell_type": "code",
   "execution_count": 80,
   "id": "3d35e4ee-2f07-4054-91e8-9717d2a8de0e",
   "metadata": {},
   "outputs": [],
   "source": [
    "train_data = np.vstack([val[::] for val in ttdd.values()])"
   ]
  },
  {
   "cell_type": "code",
   "execution_count": 81,
   "id": "9ea27743-61ac-4d91-9554-b16861a17a8f",
   "metadata": {},
   "outputs": [
    {
     "data": {
      "text/plain": [
       "array([[ 1,  2,  3,  4],\n",
       "       [ 1,  2,  4,  3],\n",
       "       [-1, -2, -3, -4],\n",
       "       [-1, -2, -4, -3]])"
      ]
     },
     "execution_count": 81,
     "metadata": {},
     "output_type": "execute_result"
    }
   ],
   "source": [
    "train_data"
   ]
  },
  {
   "cell_type": "code",
   "execution_count": 76,
   "id": "c248198c-3d2c-425f-8f70-dd3520c5d1fb",
   "metadata": {},
   "outputs": [
    {
     "data": {
      "text/plain": [
       "array([-3.17753332, -2.3132672 ,  0.78248756, ...,  0.11799512,\n",
       "        0.11799039,  0.        ])"
      ]
     },
     "execution_count": 76,
     "metadata": {},
     "output_type": "execute_result"
    }
   ],
   "source": [
    "wfreco"
   ]
  },
  {
   "cell_type": "code",
   "execution_count": 69,
   "id": "88cef0c9-84d4-48b6-894f-29b669d2f70c",
   "metadata": {},
   "outputs": [
    {
     "data": {
      "text/plain": [
       "(256,)"
      ]
     },
     "execution_count": 69,
     "metadata": {},
     "output_type": "execute_result"
    }
   ],
   "source": [
    "wfproj.shape"
   ]
  },
  {
   "cell_type": "code",
   "execution_count": 70,
   "id": "07ceb32d-ed4f-4233-ae7e-d0def85c5cbd",
   "metadata": {},
   "outputs": [
    {
     "data": {
      "text/plain": [
       "(256, 321281)"
      ]
     },
     "execution_count": 70,
     "metadata": {},
     "output_type": "execute_result"
    }
   ],
   "source": [
    "ipca.ipca.components_.shape"
   ]
  },
  {
   "cell_type": "code",
   "execution_count": null,
   "id": "ed86ccad-9d66-4795-ae55-d987a50488c1",
   "metadata": {},
   "outputs": [],
   "source": []
  },
  {
   "cell_type": "code",
   "execution_count": 66,
   "id": "c624ff99-0f5d-407a-9d8f-34b6dba1025a",
   "metadata": {},
   "outputs": [
    {
     "data": {
      "text/plain": [
       "[<matplotlib.lines.Line2D at 0x7f6e2e8d3f40>]"
      ]
     },
     "execution_count": 66,
     "metadata": {},
     "output_type": "execute_result"
    },
    {
     "data": {
      "image/png": "[encoded data removed]",
      "text/plain": [
       "<Figure size 432x288 with 1 Axes>"
      ]
     },
     "metadata": {
      "needs_background": "light"
     },
     "output_type": "display_data"
    }
   ],
   "source": [
    "plt.plot(np.squeeze(ipca.ipca.transform([np.real(h)])))"
   ]
  },
  {
   "cell_type": "code",
   "execution_count": 71,
   "id": "fa554fca-d69a-42e9-804e-3378202e0c46",
   "metadata": {},
   "outputs": [
    {
     "data": {
      "text/plain": [
       "\u001b[0;31mSignature:\u001b[0m \u001b[0mipca\u001b[0m\u001b[0;34m.\u001b[0m\u001b[0mproject\u001b[0m\u001b[0;34m(\u001b[0m\u001b[0mstrain\u001b[0m\u001b[0;34m)\u001b[0m\u001b[0;34m\u001b[0m\u001b[0;34m\u001b[0m\u001b[0m\n",
       "\u001b[0;31mDocstring:\u001b[0m <no docstring>\n",
       "\u001b[0;31mSource:\u001b[0m   \n",
       "    \u001b[0;32mdef\u001b[0m \u001b[0mproject\u001b[0m\u001b[0;34m(\u001b[0m\u001b[0mself\u001b[0m\u001b[0;34m,\u001b[0m \u001b[0mstrain\u001b[0m\u001b[0;34m)\u001b[0m\u001b[0;34m:\u001b[0m\u001b[0;34m\u001b[0m\n",
       "\u001b[0;34m\u001b[0m        \u001b[0;31m#pca = self.pca_dict[modename][part]\u001b[0m\u001b[0;34m\u001b[0m\n",
       "\u001b[0;34m\u001b[0m        \u001b[0;31m#proj = pca.transform(strain)\u001b[0m\u001b[0;34m\u001b[0m\n",
       "\u001b[0;34m\u001b[0m        \u001b[0mproj\u001b[0m \u001b[0;34m=\u001b[0m \u001b[0mnp\u001b[0m\u001b[0;34m.\u001b[0m\u001b[0mdot\u001b[0m\u001b[0;34m(\u001b[0m\u001b[0mstrain\u001b[0m\u001b[0;34m,\u001b[0m \u001b[0mself\u001b[0m\u001b[0;34m.\u001b[0m\u001b[0mipca\u001b[0m\u001b[0;34m.\u001b[0m\u001b[0mcomponents_\u001b[0m\u001b[0;34m.\u001b[0m\u001b[0mT\u001b[0m\u001b[0;34m)\u001b[0m\u001b[0;34m\u001b[0m\n",
       "\u001b[0;34m\u001b[0m        \u001b[0;32mreturn\u001b[0m \u001b[0mproj\u001b[0m\u001b[0;34m\u001b[0m\u001b[0;34m\u001b[0m\u001b[0m\n",
       "\u001b[0;31mFile:\u001b[0m      ~/mlpe/river/river/models/embedding/pca.py\n",
       "\u001b[0;31mType:\u001b[0m      method\n"
      ]
     },
     "metadata": {},
     "output_type": "display_data"
    }
   ],
   "source": [
    "ipca.project??"
   ]
  },
  {
   "cell_type": "code",
   "execution_count": null,
   "id": "281ce4fc-e237-47d3-a31c-2772446b66cc",
   "metadata": {},
   "outputs": [],
   "source": []
  },
  {
   "cell_type": "code",
   "execution_count": 30,
   "id": "44dc7716-6893-4b0d-b33a-ad7987b18e5f",
   "metadata": {},
   "outputs": [
    {
     "data": {
      "text/plain": [
       "(32129,)"
      ]
     },
     "execution_count": 30,
     "metadata": {},
     "output_type": "execute_result"
    }
   ],
   "source": [
    "np.real(h).shape"
   ]
  },
  {
   "cell_type": "code",
   "execution_count": 31,
   "id": "cbeee5e0-ef1a-4e5b-9229-ea30d4b4f1e1",
   "metadata": {},
   "outputs": [
    {
     "data": {
      "text/plain": [
       "65536"
      ]
     },
     "execution_count": 31,
     "metadata": {},
     "output_type": "execute_result"
    }
   ],
   "source": [
    "32*2048"
   ]
  },
  {
   "cell_type": "code",
   "execution_count": 33,
   "id": "a292e98a-cbce-40bb-a527-3bfa60d29ddd",
   "metadata": {},
   "outputs": [
    {
     "data": {
      "text/plain": [
       "(256, 321281)"
      ]
     },
     "execution_count": 33,
     "metadata": {},
     "output_type": "execute_result"
    }
   ],
   "source": [
    "ipca.ipca.components_.shape"
   ]
  },
  {
   "cell_type": "code",
   "execution_count": 36,
   "id": "0e6f27b3-9010-4ef2-b784-123875fe44af",
   "metadata": {},
   "outputs": [
    {
     "data": {
      "text/plain": [
       "9.999719879236826"
      ]
     },
     "execution_count": 36,
     "metadata": {},
     "output_type": "execute_result"
    }
   ],
   "source": [
    "321281 / 32129"
   ]
  },
  {
   "cell_type": "code",
   "execution_count": 38,
   "id": "885f7f01-6f26-49bf-97cc-9a315a77546c",
   "metadata": {},
   "outputs": [],
   "source": [
    "strain_template_dict = data_generator.waveforms['waveform_polarizations']"
   ]
  },
  {
   "cell_type": "code",
   "execution_count": 40,
   "id": "9cb41796-ca19-4f91-a829-d5c89cd29d4e",
   "metadata": {},
   "outputs": [],
   "source": [
    "htrain = np.array(strain_template_dict[mode]['amplitude']) * np.exp(1j* np.array(strain_template_dict[mode]['phase']))"
   ]
  },
  {
   "cell_type": "code",
   "execution_count": 43,
   "id": "fd41a0eb-6557-4519-8718-f4e72dc312a3",
   "metadata": {},
   "outputs": [
    {
     "data": {
      "text/plain": [
       "(32129,)"
      ]
     },
     "execution_count": 43,
     "metadata": {},
     "output_type": "execute_result"
    }
   ],
   "source": [
    "htrain[0].shape"
   ]
  },
  {
   "cell_type": "code",
   "execution_count": 46,
   "id": "834e535e-0934-4d8a-a4f3-cd0251c76aa6",
   "metadata": {},
   "outputs": [
    {
     "ename": "TypeError",
     "evalue": "string indices must be integers",
     "output_type": "error",
     "traceback": [
      "\u001b[0;31m---------------------------------------------------------------------------\u001b[0m",
      "\u001b[0;31mTypeError\u001b[0m                                 Traceback (most recent call last)",
      "\u001b[0;32m<ipython-input-46-b1efb78fd3a9>\u001b[0m in \u001b[0;36m<module>\u001b[0;34m\u001b[0m\n\u001b[0;32m----> 1\u001b[0;31m \u001b[0mdata_generator\u001b[0m\u001b[0;34m.\u001b[0m\u001b[0mrearrange_waveforms_for_ipca\u001b[0m\u001b[0;34m(\u001b[0m\u001b[0mdata_generator\u001b[0m\u001b[0;34m.\u001b[0m\u001b[0mwaveforms\u001b[0m\u001b[0;34m[\u001b[0m\u001b[0;34m'waveform_polarizations'\u001b[0m\u001b[0;34m]\u001b[0m\u001b[0;34m)\u001b[0m\u001b[0;34m\u001b[0m\u001b[0;34m\u001b[0m\u001b[0m\n\u001b[0m",
      "\u001b[0;32m~/mlpe/river/river/data/datagenerator.py\u001b[0m in \u001b[0;36mrearrange_waveforms_for_ipca\u001b[0;34m(self, datagenwaveform)\u001b[0m\n\u001b[1;32m    417\u001b[0m \u001b[0;34m\u001b[0m\u001b[0m\n\u001b[1;32m    418\u001b[0m         \u001b[0;32mfor\u001b[0m \u001b[0mii\u001b[0m\u001b[0;34m,\u001b[0m\u001b[0mdd\u001b[0m \u001b[0;32min\u001b[0m \u001b[0menumerate\u001b[0m\u001b[0;34m(\u001b[0m\u001b[0mdatagenwaveform\u001b[0m\u001b[0;34m)\u001b[0m\u001b[0;34m:\u001b[0m\u001b[0;34m\u001b[0m\u001b[0;34m\u001b[0m\u001b[0m\n\u001b[0;32m--> 419\u001b[0;31m             \u001b[0mrearranged_waveforms\u001b[0m\u001b[0;34m[\u001b[0m\u001b[0;34m'plus'\u001b[0m\u001b[0;34m]\u001b[0m\u001b[0;34m.\u001b[0m\u001b[0mappend\u001b[0m\u001b[0;34m(\u001b[0m\u001b[0mdd\u001b[0m\u001b[0;34m[\u001b[0m\u001b[0;34m'plus'\u001b[0m\u001b[0;34m]\u001b[0m\u001b[0;34m[\u001b[0m\u001b[0;34m'amplitude'\u001b[0m\u001b[0;34m]\u001b[0m \u001b[0;34m*\u001b[0m \u001b[0mnp\u001b[0m\u001b[0;34m.\u001b[0m\u001b[0mexp\u001b[0m\u001b[0;34m(\u001b[0m\u001b[0;36m1j\u001b[0m\u001b[0;34m*\u001b[0m\u001b[0mdd\u001b[0m\u001b[0;34m[\u001b[0m\u001b[0;34m'plus'\u001b[0m\u001b[0;34m]\u001b[0m\u001b[0;34m[\u001b[0m\u001b[0;34m'phase'\u001b[0m\u001b[0;34m]\u001b[0m\u001b[0;34m)\u001b[0m\u001b[0;34m)\u001b[0m\u001b[0;34m\u001b[0m\u001b[0;34m\u001b[0m\u001b[0m\n\u001b[0m\u001b[1;32m    420\u001b[0m             \u001b[0mrearranged_waveforms\u001b[0m\u001b[0;34m[\u001b[0m\u001b[0;34m'cross'\u001b[0m\u001b[0;34m]\u001b[0m\u001b[0;34m.\u001b[0m\u001b[0mappend\u001b[0m\u001b[0;34m(\u001b[0m\u001b[0mdd\u001b[0m\u001b[0;34m[\u001b[0m\u001b[0;34m'cross'\u001b[0m\u001b[0;34m]\u001b[0m\u001b[0;34m[\u001b[0m\u001b[0;34m'amplitude'\u001b[0m\u001b[0;34m]\u001b[0m \u001b[0;34m*\u001b[0m \u001b[0mnp\u001b[0m\u001b[0;34m.\u001b[0m\u001b[0mexp\u001b[0m\u001b[0;34m(\u001b[0m\u001b[0;36m1j\u001b[0m\u001b[0;34m*\u001b[0m\u001b[0mdd\u001b[0m\u001b[0;34m[\u001b[0m\u001b[0;34m'cross'\u001b[0m\u001b[0;34m]\u001b[0m\u001b[0;34m[\u001b[0m\u001b[0;34m'phase'\u001b[0m\u001b[0;34m]\u001b[0m\u001b[0;34m)\u001b[0m\u001b[0;34m)\u001b[0m\u001b[0;34m\u001b[0m\u001b[0;34m\u001b[0m\u001b[0m\n\u001b[1;32m    421\u001b[0m \u001b[0;34m\u001b[0m\u001b[0m\n",
      "\u001b[0;31mTypeError\u001b[0m: string indices must be integers"
     ]
    }
   ],
   "source": [
    "data_generator.rearrange_waveforms_for_ipca(data_generator.waveforms['waveform_polarizations'])"
   ]
  },
  {
   "cell_type": "code",
   "execution_count": null,
   "id": "0a66f471-40e3-4d59-abbd-7d3094166c71",
   "metadata": {},
   "outputs": [],
   "source": [
    "\n"
   ]
  },
  {
   "cell_type": "code",
   "execution_count": null,
   "id": "8a24a3f5-fc87-4cc7-82c1-f754dcea55d6",
   "metadata": {},
   "outputs": [],
   "source": []
  },
  {
   "cell_type": "code",
   "execution_count": null,
   "id": "6a66f59b-fb84-467c-b313-fcb5bec75534",
   "metadata": {},
   "outputs": [],
   "source": []
  },
  {
   "cell_type": "code",
   "execution_count": null,
   "id": "0117e7e0-5b44-40d7-aae1-22f22ab7e450",
   "metadata": {},
   "outputs": [],
   "source": []
  },
  {
   "cell_type": "code",
   "execution_count": 51,
   "id": "3e0a71f8-f652-43ae-a64f-936bda33addf",
   "metadata": {},
   "outputs": [
    {
     "name": "stderr",
     "output_type": "stream",
     "text": [
      "20:43 bilby INFO    : Waveform generator initiated with\n",
      "  frequency_domain_source_model: bilby.gw.source.lal_binary_neutron_star\n",
      "  time_domain_source_model: None\n",
      "  parameter_conversion: bilby.gw.conversion.convert_to_lal_binary_black_hole_parameters\n"
     ]
    },
    {
     "name": "stdout",
     "output_type": "stream",
     "text": [
      "round 0.\n",
      "Using bilby_default PSDs to generate data.\n",
      "Training IPCA for plus\n",
      "Training IPCA for cross\n"
     ]
    },
    {
     "name": "stderr",
     "output_type": "stream",
     "text": [
      "20:43 bilby INFO    : Waveform generator initiated with\n",
      "  frequency_domain_source_model: bilby.gw.source.lal_binary_neutron_star\n",
      "  time_domain_source_model: None\n",
      "  parameter_conversion: bilby.gw.conversion.convert_to_lal_binary_black_hole_parameters\n"
     ]
    },
    {
     "name": "stdout",
     "output_type": "stream",
     "text": [
      "round 1.\n",
      "Using bilby_default PSDs to generate data.\n",
      "Training IPCA for plus\n",
      "Training IPCA for cross\n"
     ]
    }
   ],
   "source": [
    "Nsample_template = 10\n",
    "Nround = 2 # actual sample of training will be Nsample_template * Nround\n",
    "selection_factor = 2\n",
    "snr_threshold = 8\n",
    "\n",
    "\n",
    "\n",
    "whiten_pca = True\n",
    "n_components=5\n",
    "ipca_gen = embedding.pca.IPCAGeneratorFDWFRL( n_components, whiten = whiten_pca)\n",
    "\n",
    "for i in range(Nround):\n",
    "        print(f'round {i}.')\n",
    "        injection_parameters_template = generate_BNS_injection_parameters(\n",
    "                Nsample_template,\n",
    "                a_max=0.1,\n",
    "                d_min=10,\n",
    "                d_max=200,\n",
    "                d_power=1,\n",
    "                tc_min=-0.1,\n",
    "                tc_max=0.1)\n",
    "\n",
    "\n",
    "        data_template_generator = DataGeneratorBilbyFD(source_type,\n",
    "                detector_names, \n",
    "                duration, \n",
    "                f_low, \n",
    "                f_ref, \n",
    "                sampling_frequency, \n",
    "                waveform_approximant, \n",
    "                parameter_names,\n",
    "                PSD_type=PSD_type,\n",
    "                use_sealgw_detector=use_sealgw_detector,\n",
    "                snr_threshold=snr_threshold)\n",
    "\n",
    "        data_template_generator.generate_waveforms(injection_parameters_template)\n",
    "        #ipca_gen.fit(data_template_generator.rearrange_waveforms_for_ipca(data_template_generator.waveforms['waveform_polarizations']))\n",
    "        ipca_gen.fit(data_template_generator.waveforms['waveform_polarizations'])\n",
    "        \n",
    "        data_template_generator.initialize_waveforms()"
   ]
  },
  {
   "cell_type": "code",
   "execution_count": 52,
   "id": "2dd236e0-2f43-4930-bcdb-aba87b88e102",
   "metadata": {},
   "outputs": [
    {
     "data": {
      "text/plain": [
       "(5, 32129)"
      ]
     },
     "execution_count": 52,
     "metadata": {},
     "output_type": "execute_result"
    }
   ],
   "source": [
    "ipca_gen.ipca.components_.shape"
   ]
  },
  {
   "cell_type": "markdown",
   "id": "f583513a-f7ba-48d5-9937-4e3190df7bc5",
   "metadata": {
    "jp-MarkdownHeadingCollapsed": true
   },
   "source": [
    "# archived"
   ]
  },
  {
   "cell_type": "code",
   "execution_count": null,
   "id": "47cf0ffd-0e32-4b34-aa5a-e189dec55b51",
   "metadata": {},
   "outputs": [],
   "source": []
  },
  {
   "cell_type": "code",
   "execution_count": 28,
   "id": "c62fb6b7-009b-453f-b55e-099340966b1d",
   "metadata": {
    "collapsed": true,
    "jupyter": {
     "outputs_hidden": true
    }
   },
   "outputs": [
    {
     "data": {
      "text/plain": [
       "\u001b[0;31mInit signature:\u001b[0m\n",
       "\u001b[0mumap\u001b[0m\u001b[0;34m.\u001b[0m\u001b[0mUMAP\u001b[0m\u001b[0;34m(\u001b[0m\u001b[0;34m\u001b[0m\n",
       "\u001b[0;34m\u001b[0m    \u001b[0mn_neighbors\u001b[0m\u001b[0;34m=\u001b[0m\u001b[0;36m15\u001b[0m\u001b[0;34m,\u001b[0m\u001b[0;34m\u001b[0m\n",
       "\u001b[0;34m\u001b[0m    \u001b[0mn_components\u001b[0m\u001b[0;34m=\u001b[0m\u001b[0;36m2\u001b[0m\u001b[0;34m,\u001b[0m\u001b[0;34m\u001b[0m\n",
       "\u001b[0;34m\u001b[0m    \u001b[0mmetric\u001b[0m\u001b[0;34m=\u001b[0m\u001b[0;34m'euclidean'\u001b[0m\u001b[0;34m,\u001b[0m\u001b[0;34m\u001b[0m\n",
       "\u001b[0;34m\u001b[0m    \u001b[0mmetric_kwds\u001b[0m\u001b[0;34m=\u001b[0m\u001b[0;32mNone\u001b[0m\u001b[0;34m,\u001b[0m\u001b[0;34m\u001b[0m\n",
       "\u001b[0;34m\u001b[0m    \u001b[0moutput_metric\u001b[0m\u001b[0;34m=\u001b[0m\u001b[0;34m'euclidean'\u001b[0m\u001b[0;34m,\u001b[0m\u001b[0;34m\u001b[0m\n",
       "\u001b[0;34m\u001b[0m    \u001b[0moutput_metric_kwds\u001b[0m\u001b[0;34m=\u001b[0m\u001b[0;32mNone\u001b[0m\u001b[0;34m,\u001b[0m\u001b[0;34m\u001b[0m\n",
       "\u001b[0;34m\u001b[0m    \u001b[0mn_epochs\u001b[0m\u001b[0;34m=\u001b[0m\u001b[0;32mNone\u001b[0m\u001b[0;34m,\u001b[0m\u001b[0;34m\u001b[0m\n",
       "\u001b[0;34m\u001b[0m    \u001b[0mlearning_rate\u001b[0m\u001b[0;34m=\u001b[0m\u001b[0;36m1.0\u001b[0m\u001b[0;34m,\u001b[0m\u001b[0;34m\u001b[0m\n",
       "\u001b[0;34m\u001b[0m    \u001b[0minit\u001b[0m\u001b[0;34m=\u001b[0m\u001b[0;34m'spectral'\u001b[0m\u001b[0;34m,\u001b[0m\u001b[0;34m\u001b[0m\n",
       "\u001b[0;34m\u001b[0m    \u001b[0mmin_dist\u001b[0m\u001b[0;34m=\u001b[0m\u001b[0;36m0.1\u001b[0m\u001b[0;34m,\u001b[0m\u001b[0;34m\u001b[0m\n",
       "\u001b[0;34m\u001b[0m    \u001b[0mspread\u001b[0m\u001b[0;34m=\u001b[0m\u001b[0;36m1.0\u001b[0m\u001b[0;34m,\u001b[0m\u001b[0;34m\u001b[0m\n",
       "\u001b[0;34m\u001b[0m    \u001b[0mlow_memory\u001b[0m\u001b[0;34m=\u001b[0m\u001b[0;32mTrue\u001b[0m\u001b[0;34m,\u001b[0m\u001b[0;34m\u001b[0m\n",
       "\u001b[0;34m\u001b[0m    \u001b[0mn_jobs\u001b[0m\u001b[0;34m=\u001b[0m\u001b[0;34m-\u001b[0m\u001b[0;36m1\u001b[0m\u001b[0;34m,\u001b[0m\u001b[0;34m\u001b[0m\n",
       "\u001b[0;34m\u001b[0m    \u001b[0mset_op_mix_ratio\u001b[0m\u001b[0;34m=\u001b[0m\u001b[0;36m1.0\u001b[0m\u001b[0;34m,\u001b[0m\u001b[0;34m\u001b[0m\n",
       "\u001b[0;34m\u001b[0m    \u001b[0mlocal_connectivity\u001b[0m\u001b[0;34m=\u001b[0m\u001b[0;36m1.0\u001b[0m\u001b[0;34m,\u001b[0m\u001b[0;34m\u001b[0m\n",
       "\u001b[0;34m\u001b[0m    \u001b[0mrepulsion_strength\u001b[0m\u001b[0;34m=\u001b[0m\u001b[0;36m1.0\u001b[0m\u001b[0;34m,\u001b[0m\u001b[0;34m\u001b[0m\n",
       "\u001b[0;34m\u001b[0m    \u001b[0mnegative_sample_rate\u001b[0m\u001b[0;34m=\u001b[0m\u001b[0;36m5\u001b[0m\u001b[0;34m,\u001b[0m\u001b[0;34m\u001b[0m\n",
       "\u001b[0;34m\u001b[0m    \u001b[0mtransform_queue_size\u001b[0m\u001b[0;34m=\u001b[0m\u001b[0;36m4.0\u001b[0m\u001b[0;34m,\u001b[0m\u001b[0;34m\u001b[0m\n",
       "\u001b[0;34m\u001b[0m    \u001b[0ma\u001b[0m\u001b[0;34m=\u001b[0m\u001b[0;32mNone\u001b[0m\u001b[0;34m,\u001b[0m\u001b[0;34m\u001b[0m\n",
       "\u001b[0;34m\u001b[0m    \u001b[0mb\u001b[0m\u001b[0;34m=\u001b[0m\u001b[0;32mNone\u001b[0m\u001b[0;34m,\u001b[0m\u001b[0;34m\u001b[0m\n",
       "\u001b[0;34m\u001b[0m    \u001b[0mrandom_state\u001b[0m\u001b[0;34m=\u001b[0m\u001b[0;32mNone\u001b[0m\u001b[0;34m,\u001b[0m\u001b[0;34m\u001b[0m\n",
       "\u001b[0;34m\u001b[0m    \u001b[0mangular_rp_forest\u001b[0m\u001b[0;34m=\u001b[0m\u001b[0;32mFalse\u001b[0m\u001b[0;34m,\u001b[0m\u001b[0;34m\u001b[0m\n",
       "\u001b[0;34m\u001b[0m    \u001b[0mtarget_n_neighbors\u001b[0m\u001b[0;34m=\u001b[0m\u001b[0;34m-\u001b[0m\u001b[0;36m1\u001b[0m\u001b[0;34m,\u001b[0m\u001b[0;34m\u001b[0m\n",
       "\u001b[0;34m\u001b[0m    \u001b[0mtarget_metric\u001b[0m\u001b[0;34m=\u001b[0m\u001b[0;34m'categorical'\u001b[0m\u001b[0;34m,\u001b[0m\u001b[0;34m\u001b[0m\n",
       "\u001b[0;34m\u001b[0m    \u001b[0mtarget_metric_kwds\u001b[0m\u001b[0;34m=\u001b[0m\u001b[0;32mNone\u001b[0m\u001b[0;34m,\u001b[0m\u001b[0;34m\u001b[0m\n",
       "\u001b[0;34m\u001b[0m    \u001b[0mtarget_weight\u001b[0m\u001b[0;34m=\u001b[0m\u001b[0;36m0.5\u001b[0m\u001b[0;34m,\u001b[0m\u001b[0;34m\u001b[0m\n",
       "\u001b[0;34m\u001b[0m    \u001b[0mtransform_seed\u001b[0m\u001b[0;34m=\u001b[0m\u001b[0;36m42\u001b[0m\u001b[0;34m,\u001b[0m\u001b[0;34m\u001b[0m\n",
       "\u001b[0;34m\u001b[0m    \u001b[0mtransform_mode\u001b[0m\u001b[0;34m=\u001b[0m\u001b[0;34m'embedding'\u001b[0m\u001b[0;34m,\u001b[0m\u001b[0;34m\u001b[0m\n",
       "\u001b[0;34m\u001b[0m    \u001b[0mforce_approximation_algorithm\u001b[0m\u001b[0;34m=\u001b[0m\u001b[0;32mFalse\u001b[0m\u001b[0;34m,\u001b[0m\u001b[0;34m\u001b[0m\n",
       "\u001b[0;34m\u001b[0m    \u001b[0mverbose\u001b[0m\u001b[0;34m=\u001b[0m\u001b[0;32mFalse\u001b[0m\u001b[0;34m,\u001b[0m\u001b[0;34m\u001b[0m\n",
       "\u001b[0;34m\u001b[0m    \u001b[0mtqdm_kwds\u001b[0m\u001b[0;34m=\u001b[0m\u001b[0;32mNone\u001b[0m\u001b[0;34m,\u001b[0m\u001b[0;34m\u001b[0m\n",
       "\u001b[0;34m\u001b[0m    \u001b[0munique\u001b[0m\u001b[0;34m=\u001b[0m\u001b[0;32mFalse\u001b[0m\u001b[0;34m,\u001b[0m\u001b[0;34m\u001b[0m\n",
       "\u001b[0;34m\u001b[0m    \u001b[0mdensmap\u001b[0m\u001b[0;34m=\u001b[0m\u001b[0;32mFalse\u001b[0m\u001b[0;34m,\u001b[0m\u001b[0;34m\u001b[0m\n",
       "\u001b[0;34m\u001b[0m    \u001b[0mdens_lambda\u001b[0m\u001b[0;34m=\u001b[0m\u001b[0;36m2.0\u001b[0m\u001b[0;34m,\u001b[0m\u001b[0;34m\u001b[0m\n",
       "\u001b[0;34m\u001b[0m    \u001b[0mdens_frac\u001b[0m\u001b[0;34m=\u001b[0m\u001b[0;36m0.3\u001b[0m\u001b[0;34m,\u001b[0m\u001b[0;34m\u001b[0m\n",
       "\u001b[0;34m\u001b[0m    \u001b[0mdens_var_shift\u001b[0m\u001b[0;34m=\u001b[0m\u001b[0;36m0.1\u001b[0m\u001b[0;34m,\u001b[0m\u001b[0;34m\u001b[0m\n",
       "\u001b[0;34m\u001b[0m    \u001b[0moutput_dens\u001b[0m\u001b[0;34m=\u001b[0m\u001b[0;32mFalse\u001b[0m\u001b[0;34m,\u001b[0m\u001b[0;34m\u001b[0m\n",
       "\u001b[0;34m\u001b[0m    \u001b[0mdisconnection_distance\u001b[0m\u001b[0;34m=\u001b[0m\u001b[0;32mNone\u001b[0m\u001b[0;34m,\u001b[0m\u001b[0;34m\u001b[0m\n",
       "\u001b[0;34m\u001b[0m    \u001b[0mprecomputed_knn\u001b[0m\u001b[0;34m=\u001b[0m\u001b[0;34m(\u001b[0m\u001b[0;32mNone\u001b[0m\u001b[0;34m,\u001b[0m \u001b[0;32mNone\u001b[0m\u001b[0;34m,\u001b[0m \u001b[0;32mNone\u001b[0m\u001b[0;34m)\u001b[0m\u001b[0;34m,\u001b[0m\u001b[0;34m\u001b[0m\n",
       "\u001b[0;34m\u001b[0m\u001b[0;34m)\u001b[0m\u001b[0;34m\u001b[0m\u001b[0;34m\u001b[0m\u001b[0m\n",
       "\u001b[0;31mDocstring:\u001b[0m     \n",
       "Uniform Manifold Approximation and Projection\n",
       "\n",
       "Finds a low dimensional embedding of the data that approximates\n",
       "an underlying manifold.\n",
       "\n",
       "Parameters\n",
       "----------\n",
       "n_neighbors: float (optional, default 15)\n",
       "    The size of local neighborhood (in terms of number of neighboring\n",
       "    sample points) used for manifold approximation. Larger values\n",
       "    result in more global views of the manifold, while smaller\n",
       "    values result in more local data being preserved. In general\n",
       "    values should be in the range 2 to 100.\n",
       "\n",
       "n_components: int (optional, default 2)\n",
       "    The dimension of the space to embed into. This defaults to 2 to\n",
       "    provide easy visualization, but can reasonably be set to any\n",
       "    integer value in the range 2 to 100.\n",
       "\n",
       "metric: string or function (optional, default 'euclidean')\n",
       "    The metric to use to compute distances in high dimensional space.\n",
       "    If a string is passed it must match a valid predefined metric. If\n",
       "    a general metric is required a function that takes two 1d arrays and\n",
       "    returns a float can be provided. For performance purposes it is\n",
       "    required that this be a numba jit'd function. Valid string metrics\n",
       "    include:\n",
       "\n",
       "    * euclidean\n",
       "    * manhattan\n",
       "    * chebyshev\n",
       "    * minkowski\n",
       "    * canberra\n",
       "    * braycurtis\n",
       "    * mahalanobis\n",
       "    * wminkowski\n",
       "    * seuclidean\n",
       "    * cosine\n",
       "    * correlation\n",
       "    * haversine\n",
       "    * hamming\n",
       "    * jaccard\n",
       "    * dice\n",
       "    * russelrao\n",
       "    * kulsinski\n",
       "    * ll_dirichlet\n",
       "    * hellinger\n",
       "    * rogerstanimoto\n",
       "    * sokalmichener\n",
       "    * sokalsneath\n",
       "    * yule\n",
       "\n",
       "    Metrics that take arguments (such as minkowski, mahalanobis etc.)\n",
       "    can have arguments passed via the metric_kwds dictionary. At this\n",
       "    time care must be taken and dictionary elements must be ordered\n",
       "    appropriately; this will hopefully be fixed in the future.\n",
       "\n",
       "n_epochs: int (optional, default None)\n",
       "    The number of training epochs to be used in optimizing the\n",
       "    low dimensional embedding. Larger values result in more accurate\n",
       "    embeddings. If None is specified a value will be selected based on\n",
       "    the size of the input dataset (200 for large datasets, 500 for small).\n",
       "\n",
       "learning_rate: float (optional, default 1.0)\n",
       "    The initial learning rate for the embedding optimization.\n",
       "\n",
       "init: string (optional, default 'spectral')\n",
       "    How to initialize the low dimensional embedding. Options are:\n",
       "\n",
       "        * 'spectral': use a spectral embedding of the fuzzy 1-skeleton\n",
       "        * 'random': assign initial embedding positions at random.\n",
       "        * 'pca': use the first n_components from PCA applied to the\n",
       "            input data.\n",
       "        * 'tswspectral': use a spectral embedding of the fuzzy\n",
       "            1-skeleton, using a truncated singular value decomposition to\n",
       "            \"warm\" up the eigensolver. This is intended as an alternative\n",
       "            to the 'spectral' method, if that takes an  excessively long\n",
       "            time to complete initialization (or fails to complete).\n",
       "        * A numpy array of initial embedding positions.\n",
       "\n",
       "min_dist: float (optional, default 0.1)\n",
       "    The effective minimum distance between embedded points. Smaller values\n",
       "    will result in a more clustered/clumped embedding where nearby points\n",
       "    on the manifold are drawn closer together, while larger values will\n",
       "    result on a more even dispersal of points. The value should be set\n",
       "    relative to the ``spread`` value, which determines the scale at which\n",
       "    embedded points will be spread out.\n",
       "\n",
       "spread: float (optional, default 1.0)\n",
       "    The effective scale of embedded points. In combination with ``min_dist``\n",
       "    this determines how clustered/clumped the embedded points are.\n",
       "\n",
       "low_memory: bool (optional, default True)\n",
       "    For some datasets the nearest neighbor computation can consume a lot of\n",
       "    memory. If you find that UMAP is failing due to memory constraints\n",
       "    consider setting this option to True. This approach is more\n",
       "    computationally expensive, but avoids excessive memory use.\n",
       "\n",
       "set_op_mix_ratio: float (optional, default 1.0)\n",
       "    Interpolate between (fuzzy) union and intersection as the set operation\n",
       "    used to combine local fuzzy simplicial sets to obtain a global fuzzy\n",
       "    simplicial sets. Both fuzzy set operations use the product t-norm.\n",
       "    The value of this parameter should be between 0.0 and 1.0; a value of\n",
       "    1.0 will use a pure fuzzy union, while 0.0 will use a pure fuzzy\n",
       "    intersection.\n",
       "\n",
       "local_connectivity: int (optional, default 1)\n",
       "    The local connectivity required -- i.e. the number of nearest\n",
       "    neighbors that should be assumed to be connected at a local level.\n",
       "    The higher this value the more connected the manifold becomes\n",
       "    locally. In practice this should be not more than the local intrinsic\n",
       "    dimension of the manifold.\n",
       "\n",
       "repulsion_strength: float (optional, default 1.0)\n",
       "    Weighting applied to negative samples in low dimensional embedding\n",
       "    optimization. Values higher than one will result in greater weight\n",
       "    being given to negative samples.\n",
       "\n",
       "negative_sample_rate: int (optional, default 5)\n",
       "    The number of negative samples to select per positive sample\n",
       "    in the optimization process. Increasing this value will result\n",
       "    in greater repulsive force being applied, greater optimization\n",
       "    cost, but slightly more accuracy.\n",
       "\n",
       "transform_queue_size: float (optional, default 4.0)\n",
       "    For transform operations (embedding new points using a trained model\n",
       "    this will control how aggressively to search for nearest neighbors.\n",
       "    Larger values will result in slower performance but more accurate\n",
       "    nearest neighbor evaluation.\n",
       "\n",
       "a: float (optional, default None)\n",
       "    More specific parameters controlling the embedding. If None these\n",
       "    values are set automatically as determined by ``min_dist`` and\n",
       "    ``spread``.\n",
       "b: float (optional, default None)\n",
       "    More specific parameters controlling the embedding. If None these\n",
       "    values are set automatically as determined by ``min_dist`` and\n",
       "    ``spread``.\n",
       "\n",
       "random_state: int, RandomState instance or None, optional (default: None)\n",
       "    If int, random_state is the seed used by the random number generator;\n",
       "    If RandomState instance, random_state is the random number generator;\n",
       "    If None, the random number generator is the RandomState instance used\n",
       "    by `np.random`.\n",
       "\n",
       "metric_kwds: dict (optional, default None)\n",
       "    Arguments to pass on to the metric, such as the ``p`` value for\n",
       "    Minkowski distance. If None then no arguments are passed on.\n",
       "\n",
       "angular_rp_forest: bool (optional, default False)\n",
       "    Whether to use an angular random projection forest to initialise\n",
       "    the approximate nearest neighbor search. This can be faster, but is\n",
       "    mostly only useful for a metric that uses an angular style distance such\n",
       "    as cosine, correlation etc. In the case of those metrics angular forests\n",
       "    will be chosen automatically.\n",
       "\n",
       "target_n_neighbors: int (optional, default -1)\n",
       "    The number of nearest neighbors to use to construct the target simplicial\n",
       "    set. If set to -1 use the ``n_neighbors`` value.\n",
       "\n",
       "target_metric: string or callable (optional, default 'categorical')\n",
       "    The metric used to measure distance for a target array is using supervised\n",
       "    dimension reduction. By default this is 'categorical' which will measure\n",
       "    distance in terms of whether categories match or are different. Furthermore,\n",
       "    if semi-supervised is required target values of -1 will be trated as\n",
       "    unlabelled under the 'categorical' metric. If the target array takes\n",
       "    continuous values (e.g. for a regression problem) then metric of 'l1'\n",
       "    or 'l2' is probably more appropriate.\n",
       "\n",
       "target_metric_kwds: dict (optional, default None)\n",
       "    Keyword argument to pass to the target metric when performing\n",
       "    supervised dimension reduction. If None then no arguments are passed on.\n",
       "\n",
       "target_weight: float (optional, default 0.5)\n",
       "    weighting factor between data topology and target topology. A value of\n",
       "    0.0 weights predominantly on data, a value of 1.0 places a strong emphasis on\n",
       "    target. The default of 0.5 balances the weighting equally between data and\n",
       "    target.\n",
       "\n",
       "transform_seed: int (optional, default 42)\n",
       "    Random seed used for the stochastic aspects of the transform operation.\n",
       "    This ensures consistency in transform operations.\n",
       "\n",
       "verbose: bool (optional, default False)\n",
       "    Controls verbosity of logging.\n",
       "\n",
       "tqdm_kwds: dict (optional, defaul None)\n",
       "    Key word arguments to be used by the tqdm progress bar.\n",
       "\n",
       "unique: bool (optional, default False)\n",
       "    Controls if the rows of your data should be uniqued before being\n",
       "    embedded.  If you have more duplicates than you have ``n_neighbors``\n",
       "    you can have the identical data points lying in different regions of\n",
       "    your space.  It also violates the definition of a metric.\n",
       "    For to map from internal structures back to your data use the variable\n",
       "    _unique_inverse_.\n",
       "\n",
       "densmap: bool (optional, default False)\n",
       "    Specifies whether the density-augmented objective of densMAP\n",
       "    should be used for optimization. Turning on this option generates\n",
       "    an embedding where the local densities are encouraged to be correlated\n",
       "    with those in the original space. Parameters below with the prefix 'dens'\n",
       "    further control the behavior of this extension.\n",
       "\n",
       "dens_lambda: float (optional, default 2.0)\n",
       "    Controls the regularization weight of the density correlation term\n",
       "    in densMAP. Higher values prioritize density preservation over the\n",
       "    UMAP objective, and vice versa for values closer to zero. Setting this\n",
       "    parameter to zero is equivalent to running the original UMAP algorithm.\n",
       "\n",
       "dens_frac: float (optional, default 0.3)\n",
       "    Controls the fraction of epochs (between 0 and 1) where the\n",
       "    density-augmented objective is used in densMAP. The first\n",
       "    (1 - dens_frac) fraction of epochs optimize the original UMAP objective\n",
       "    before introducing the density correlation term.\n",
       "\n",
       "dens_var_shift: float (optional, default 0.1)\n",
       "    A small constant added to the variance of local radii in the\n",
       "    embedding when calculating the density correlation objective to\n",
       "    prevent numerical instability from dividing by a small number\n",
       "\n",
       "output_dens: float (optional, default False)\n",
       "    Determines whether the local radii of the final embedding (an inverse\n",
       "    measure of local density) are computed and returned in addition to\n",
       "    the embedding. If set to True, local radii of the original data\n",
       "    are also included in the output for comparison; the output is a tuple\n",
       "    (embedding, original local radii, embedding local radii). This option\n",
       "    can also be used when densmap=False to calculate the densities for\n",
       "    UMAP embeddings.\n",
       "\n",
       "disconnection_distance: float (optional, default np.inf or maximal value for bounded distances)\n",
       "    Disconnect any vertices of distance greater than or equal to disconnection_distance when approximating the\n",
       "    manifold via our k-nn graph. This is particularly useful in the case that you have a bounded metric.  The\n",
       "    UMAP assumption that we have a connected manifold can be problematic when you have points that are maximally\n",
       "    different from all the rest of your data.  The connected manifold assumption will make such points have perfect\n",
       "    similarity to a random set of other points.  Too many such points will artificially connect your space.\n",
       "\n",
       "precomputed_knn: tuple (optional, default (None,None,None))\n",
       "    If the k-nearest neighbors of each point has already been calculated you\n",
       "    can pass them in here to save computation time. The number of nearest\n",
       "    neighbors in the precomputed_knn must be greater or equal to the\n",
       "    n_neighbors parameter. This should be a tuple containing the output\n",
       "    of the nearest_neighbors() function or attributes from a previously fit\n",
       "    UMAP object; (knn_indices, knn_dists, knn_search_index). If you wish to use\n",
       "    k-nearest neighbors data calculated by another package then provide a tuple of\n",
       "    the form (knn_indices, knn_dists). The contents of the tuple should be two numpy\n",
       "    arrays of shape (N, n_neighbors) where N is the number of items in the\n",
       "    input data. The first array should be the integer indices of the nearest\n",
       "    neighbors, and the second array should be the corresponding distances. The\n",
       "    nearest neighbor of each item should be itself, e.g. the nearest neighbor of\n",
       "    item 0 should be 0, the nearest neighbor of item 1 is 1 and so on. Please note\n",
       "    that you will *not* be able to transform new data in this case.\n",
       "\u001b[0;31mFile:\u001b[0m           ~/.conda/envs/myigwn-py39/lib/python3.9/site-packages/umap/umap_.py\n",
       "\u001b[0;31mType:\u001b[0m           type\n",
       "\u001b[0;31mSubclasses:\u001b[0m     \n"
      ]
     },
     "metadata": {},
     "output_type": "display_data"
    }
   ],
   "source": [
    "import umap\n",
    "umap.UMAP?"
   ]
  },
  {
   "cell_type": "code",
   "execution_count": 44,
   "id": "2a898e9e-29dc-4440-b915-245d5ef5cdf1",
   "metadata": {},
   "outputs": [],
   "source": [
    "reducer = umap.UMAP(n_components=64)"
   ]
  },
  {
   "cell_type": "code",
   "execution_count": 45,
   "id": "6cd63fbd-3915-485b-ae0b-0f9ed11002e4",
   "metadata": {},
   "outputs": [
    {
     "data": {
      "text/html": [
       "<style>#sk-container-id-4 {color: black;}#sk-container-id-4 pre{padding: 0;}#sk-container-id-4 div.sk-toggleable {background-color: white;}#sk-container-id-4 label.sk-toggleable__label {cursor: pointer;display: block;width: 100%;margin-bottom: 0;padding: 0.3em;box-sizing: border-box;text-align: center;}#sk-container-id-4 label.sk-toggleable__label-arrow:before {content: \"▸\";float: left;margin-right: 0.25em;color: #696969;}#sk-container-id-4 label.sk-toggleable__label-arrow:hover:before {color: black;}#sk-container-id-4 div.sk-estimator:hover label.sk-toggleable__label-arrow:before {color: black;}#sk-container-id-4 div.sk-toggleable__content {max-height: 0;max-width: 0;overflow: hidden;text-align: left;background-color: #f0f8ff;}#sk-container-id-4 div.sk-toggleable__content pre {margin: 0.2em;color: black;border-radius: 0.25em;background-color: #f0f8ff;}#sk-container-id-4 input.sk-toggleable__control:checked~div.sk-toggleable__content {max-height: 200px;max-width: 100%;overflow: auto;}#sk-container-id-4 input.sk-toggleable__control:checked~label.sk-toggleable__label-arrow:before {content: \"▾\";}#sk-container-id-4 div.sk-estimator input.sk-toggleable__control:checked~label.sk-toggleable__label {background-color: #d4ebff;}#sk-container-id-4 div.sk-label input.sk-toggleable__control:checked~label.sk-toggleable__label {background-color: #d4ebff;}#sk-container-id-4 input.sk-hidden--visually {border: 0;clip: rect(1px 1px 1px 1px);clip: rect(1px, 1px, 1px, 1px);height: 1px;margin: -1px;overflow: hidden;padding: 0;position: absolute;width: 1px;}#sk-container-id-4 div.sk-estimator {font-family: monospace;background-color: #f0f8ff;border: 1px dotted black;border-radius: 0.25em;box-sizing: border-box;margin-bottom: 0.5em;}#sk-container-id-4 div.sk-estimator:hover {background-color: #d4ebff;}#sk-container-id-4 div.sk-parallel-item::after {content: \"\";width: 100%;border-bottom: 1px solid gray;flex-grow: 1;}#sk-container-id-4 div.sk-label:hover label.sk-toggleable__label {background-color: #d4ebff;}#sk-container-id-4 div.sk-serial::before {content: \"\";position: absolute;border-left: 1px solid gray;box-sizing: border-box;top: 0;bottom: 0;left: 50%;z-index: 0;}#sk-container-id-4 div.sk-serial {display: flex;flex-direction: column;align-items: center;background-color: white;padding-right: 0.2em;padding-left: 0.2em;position: relative;}#sk-container-id-4 div.sk-item {position: relative;z-index: 1;}#sk-container-id-4 div.sk-parallel {display: flex;align-items: stretch;justify-content: center;background-color: white;position: relative;}#sk-container-id-4 div.sk-item::before, #sk-container-id-4 div.sk-parallel-item::before {content: \"\";position: absolute;border-left: 1px solid gray;box-sizing: border-box;top: 0;bottom: 0;left: 50%;z-index: -1;}#sk-container-id-4 div.sk-parallel-item {display: flex;flex-direction: column;z-index: 1;position: relative;background-color: white;}#sk-container-id-4 div.sk-parallel-item:first-child::after {align-self: flex-end;width: 50%;}#sk-container-id-4 div.sk-parallel-item:last-child::after {align-self: flex-start;width: 50%;}#sk-container-id-4 div.sk-parallel-item:only-child::after {width: 0;}#sk-container-id-4 div.sk-dashed-wrapped {border: 1px dashed gray;margin: 0 0.4em 0.5em 0.4em;box-sizing: border-box;padding-bottom: 0.4em;background-color: white;}#sk-container-id-4 div.sk-label label {font-family: monospace;font-weight: bold;display: inline-block;line-height: 1.2em;}#sk-container-id-4 div.sk-label-container {text-align: center;}#sk-container-id-4 div.sk-container {/* jupyter's `normalize.less` sets `[hidden] { display: none; }` but bootstrap.min.css set `[hidden] { display: none !important; }` so we also need the `!important` here to be able to override the default hidden behavior on the sphinx rendered scikit-learn.org. See: https://github.com/scikit-learn/scikit-learn/issues/21755 */display: inline-block !important;position: relative;}#sk-container-id-4 div.sk-text-repr-fallback {display: none;}</style><div id=\"sk-container-id-4\" class=\"sk-top-container\"><div class=\"sk-text-repr-fallback\"><pre>UMAP(n_components=64, tqdm_kwds={&#x27;bar_format&#x27;: &#x27;{desc}: {percentage:3.0f}%| {bar} {n_fmt}/{total_fmt} [{elapsed}]&#x27;, &#x27;desc&#x27;: &#x27;Epochs completed&#x27;, &#x27;disable&#x27;: True})</pre><b>In a Jupyter environment, please rerun this cell to show the HTML representation or trust the notebook. <br />On GitHub, the HTML representation is unable to render, please try loading this page with nbviewer.org.</b></div><div class=\"sk-container\" hidden><div class=\"sk-item\"><div class=\"sk-estimator sk-toggleable\"><input class=\"sk-toggleable__control sk-hidden--visually\" id=\"sk-estimator-id-4\" type=\"checkbox\" checked><label for=\"sk-estimator-id-4\" class=\"sk-toggleable__label sk-toggleable__label-arrow\">UMAP</label><div class=\"sk-toggleable__content\"><pre>UMAP(n_components=64, tqdm_kwds={&#x27;bar_format&#x27;: &#x27;{desc}: {percentage:3.0f}%| {bar} {n_fmt}/{total_fmt} [{elapsed}]&#x27;, &#x27;desc&#x27;: &#x27;Epochs completed&#x27;, &#x27;disable&#x27;: True})</pre></div></div></div></div></div>"
      ],
      "text/plain": [
       "UMAP(n_components=64, tqdm_kwds={'bar_format': '{desc}: {percentage:3.0f}%| {bar} {n_fmt}/{total_fmt} [{elapsed}]', 'desc': 'Epochs completed', 'disable': True})"
      ]
     },
     "execution_count": 45,
     "metadata": {},
     "output_type": "execute_result"
    }
   ],
   "source": [
    "reducer.fit(np.real(h_train))"
   ]
  },
  {
   "cell_type": "code",
   "execution_count": 46,
   "id": "77f7537e-51ac-4b0c-8f10-a49dd647a807",
   "metadata": {},
   "outputs": [],
   "source": [
    "hcomp_umap = reducer.transform([np.real(h_train)[0]])"
   ]
  },
  {
   "cell_type": "code",
   "execution_count": 47,
   "id": "1d1fe050-cf1c-4e25-b3d1-04c397f9b8f8",
   "metadata": {},
   "outputs": [
    {
     "data": {
      "text/plain": [
       "array([[-1.0803106,  2.8934221,  1.5255845,  4.872387 ,  4.5056186,\n",
       "         4.5847607,  2.145204 ,  1.5614368,  2.4515207,  1.4860678,\n",
       "         4.224644 ,  6.5140257,  5.3054156,  7.3725014,  7.1748347,\n",
       "         7.264553 ,  5.864141 ,  5.8782744,  4.4946446,  5.341788 ,\n",
       "         6.416881 ,  3.2949467,  6.347486 ,  4.5358615,  2.5753093,\n",
       "         5.7293043,  3.5245786,  5.851518 ,  5.616456 ,  8.085146 ,\n",
       "         6.108367 ,  8.079998 ,  4.971336 ,  4.955176 ,  4.830278 ,\n",
       "         6.1674566,  7.879144 ,  7.4483037,  2.476032 ,  2.7147486,\n",
       "         2.9105031,  6.202984 ,  6.7560415,  4.4920526,  3.4107203,\n",
       "         1.9612877,  6.873823 ,  5.0506625,  5.7375617,  3.1032703,\n",
       "         5.6988025,  6.510788 ,  1.2872987,  4.782725 ,  6.143766 ,\n",
       "         5.4856334,  8.485883 ,  4.904825 ,  5.998684 ,  3.39457  ,\n",
       "         4.1665654,  3.3821352,  4.9903183,  6.5854187]], dtype=float32)"
      ]
     },
     "execution_count": 47,
     "metadata": {},
     "output_type": "execute_result"
    }
   ],
   "source": [
    "hcomp_umap"
   ]
  },
  {
   "cell_type": "code",
   "execution_count": null,
   "id": "480aac97-c637-42f1-91a8-db5c3df57f0f",
   "metadata": {},
   "outputs": [
    {
     "name": "stderr",
     "output_type": "stream",
     "text": [
      "/home/qian.hu/.conda/envs/myigwn-py39/lib/python3.9/site-packages/umap/umap_.py:3152: UserWarning: Inverse transform works best with low dimensional embeddings. Results may be poor, or this approach to inverse transform may fail altogether! If you need a high dimensional latent space and inverse transform operations consider using an autoencoder.\n",
      "  warn(\n"
     ]
    }
   ],
   "source": [
    "hreco_umap = reducer.inverse_transform(hcomp_umap)"
   ]
  },
  {
   "cell_type": "code",
   "execution_count": null,
   "id": "970aaca1-74e8-4a26-954e-1f45157f182a",
   "metadata": {},
   "outputs": [],
   "source": [
    "hreco_umap"
   ]
  },
  {
   "cell_type": "code",
   "execution_count": 45,
   "id": "01346e5e-3845-434c-9404-0fc4ed921fd4",
   "metadata": {},
   "outputs": [
    {
     "data": {
      "text/plain": [
       "(20000, 7553)"
      ]
     },
     "execution_count": 45,
     "metadata": {},
     "output_type": "execute_result"
    }
   ],
   "source": [
    "h_train.shape"
   ]
  }
 ],
 "metadata": {
  "kernelspec": {
   "display_name": "myigwn-py39",
   "language": "python",
   "name": "myigwn-py39"
  },
  "language_info": {
   "codemirror_mode": {
    "name": "ipython",
    "version": 3
   },
   "file_extension": ".py",
   "mimetype": "text/x-python",
   "name": "python",
   "nbconvert_exporter": "python",
   "pygments_lexer": "ipython3",
   "version": "3.9.7"
  }
 },
 "nbformat": 4,
 "nbformat_minor": 5
}
