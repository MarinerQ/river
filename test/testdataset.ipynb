{
 "cells": [
  {
   "cell_type": "code",
   "execution_count": 2,
   "id": "f82f615f-e23d-4249-8d8c-bcede162df09",
   "metadata": {},
   "outputs": [
    {
     "name": "stderr",
     "output_type": "stream",
     "text": [
      "<frozen importlib._bootstrap>:228: RuntimeWarning: scipy._lib.messagestream.MessageStream size changed, may indicate binary incompatibility. Expected 56 from C header, got 64 from PyObject\n"
     ]
    }
   ],
   "source": [
    "import warnings\n",
    "warnings.filterwarnings(\"ignore\", \"Wswiglal-redir-stdio\")\n",
    "\n",
    "import numpy as np\n",
    "import torch\n",
    "from torch.utils.data import Dataset, DataLoader\n",
    "import torchvision.transforms as transforms\n",
    "#from .utils import PARAMETER_NAMES_ALL_PRECESSINGBNS_BILBY\n",
    "from river.models.utils import *\n",
    "from river.data.utils import *\n",
    "\n",
    "import river.data\n",
    "from river.data.datagenerator import DataGeneratorBilbyFD\n",
    "#from river.data.dataset import #DatasetStrainFD, #DatasetStrainFDFromPreCalSVDWF\n",
    "#import river.data.utils as datautils\n",
    "from river.data.utils import *\n",
    "from river.data.reparameterize import *\n",
    "\n",
    "from river.models import embedding\n",
    "from river.models.utils import *\n",
    "#from river.models.embedding.pca import project_strain_data_FDAPhi\n",
    "from river.models.embedding.conv import EmbeddingConv1D, EmbeddingConv2D\n",
    "from river.models.embedding.mlp import EmbeddingMLP1D"
   ]
  },
  {
   "cell_type": "code",
   "execution_count": 3,
   "id": "2cfc8e4a-2d23-406a-8e5d-0b06e460112c",
   "metadata": {},
   "outputs": [],
   "source": [
    "import numpy as np\n",
    "import bilby \n",
    "import pycbc \n",
    "import sys\n",
    "import matplotlib.pyplot as plt\n",
    "\n",
    "import torch\n",
    "from torch.utils.data import Dataset, DataLoader\n",
    "from torch import nn\n",
    "\n",
    "import pickle\n",
    "#from sklearn.utils.extmath import randomized_svd\n",
    "import sklearn\n",
    "from sklearn.decomposition import IncrementalPCA, randomized_svd, KernelPCA\n",
    "import sklearn.decomposition \n",
    "\n",
    "import glob\n",
    "import time"
   ]
  },
  {
   "cell_type": "code",
   "execution_count": null,
   "id": "different-layer",
   "metadata": {},
   "outputs": [],
   "source": [
    "torch.fft.ifft?"
   ]
  },
  {
   "cell_type": "code",
   "execution_count": 3,
   "id": "49042358-f50c-4606-8853-362c3b81bad9",
   "metadata": {},
   "outputs": [
    {
     "name": "stdout",
     "output_type": "stream",
     "text": [
      "/home/qian.hu/mlpe/river/test\r\n"
     ]
    }
   ],
   "source": [
    "!pwd"
   ]
  },
  {
   "cell_type": "code",
   "execution_count": 4,
   "id": "f0531323-3f6e-4cd3-835b-b52deeb22868",
   "metadata": {},
   "outputs": [],
   "source": [
    "validfolder = '/home/qian.hu/mlpe/training_data/bns_50Hz1024Hz32s_lowspin_lb/valid'\n",
    "trainfolder = '/home/qian.hu/mlpe/training_data/bns_50Hz1024Hz32s_lowspin_lb/train'\n",
    "#noisefolder = '/home/qian.hu/mlpe/training_data/bns_50Hz1024Hz32s_lowspin/noise/design'\n",
    "\n",
    "valid_filenames = glob.glob(f\"{validfolder}/batch*/*.h5\")\n",
    "train_filenames = glob.glob(f\"{trainfolder}/batch*/*.h5\")\n",
    "#noise_filenames_H1 = glob.glob(f\"{noisefolder}/H1/batch*/*.pickle\")\n",
    "#noise_filenames_L1 = glob.glob(f\"{noisefolder}/L1/batch*/*.pickle\")\n",
    "#noise_filenames_V1 = glob.glob(f\"{noisefolder}/V1/batch*/*.pickle\")"
   ]
  },
  {
   "cell_type": "code",
   "execution_count": 5,
   "id": "f46eea2e-ea45-49cb-a420-b5afadf0a952",
   "metadata": {},
   "outputs": [
    {
     "data": {
      "text/plain": [
       "64"
      ]
     },
     "execution_count": 5,
     "metadata": {},
     "output_type": "execute_result"
    }
   ],
   "source": [
    "len(train_filenames)"
   ]
  },
  {
   "cell_type": "code",
   "execution_count": null,
   "id": "6b375944-6a92-4647-b588-760e4868fd0d",
   "metadata": {},
   "outputs": [],
   "source": []
  },
  {
   "cell_type": "code",
   "execution_count": 6,
   "id": "2af63987-bfa4-44a6-bc85-343974505cbc",
   "metadata": {},
   "outputs": [],
   "source": [
    "def loadVandVh(Vhfilepath, Nbasis):\n",
    "    with open(Vhfilepath, 'rb') as f:\n",
    "        Vh = pickle.load(f)\n",
    "    if len(Vh)<Nbasis:\n",
    "        raise ValueError(f'required Nbasis ({Nbasis}) > len(Vh) ({len(Vh)})!')\n",
    "    Vh = Vh[:Nbasis]\n",
    "    V = Vh.T.conj()\n",
    "        \n",
    "    return V, Vh"
   ]
  },
  {
   "cell_type": "code",
   "execution_count": 7,
   "id": "2460a3fb-7f3c-4d62-8275-31d6f6a3f966",
   "metadata": {},
   "outputs": [],
   "source": [
    "V,Vh = loadVandVh(\"/home/qian.hu/mlpe/river/test/outputs/Vh_50Hz1024Hz32s.pickle\", 512)"
   ]
  },
  {
   "cell_type": "code",
   "execution_count": 8,
   "id": "3eba13ad-7a5b-4ecd-ad7b-5ecb56294bd5",
   "metadata": {},
   "outputs": [
    {
     "data": {
      "text/plain": [
       "(512, 31169)"
      ]
     },
     "execution_count": 8,
     "metadata": {},
     "output_type": "execute_result"
    }
   ],
   "source": [
    "Vh.shape"
   ]
  },
  {
   "cell_type": "code",
   "execution_count": 9,
   "id": "88a52cbc-2c0e-4aff-906c-f81945a6fe77",
   "metadata": {},
   "outputs": [
    {
     "name": "stderr",
     "output_type": "stream",
     "text": [
      "03:17 bilby INFO    : Waveform generator initiated with\n",
      "  frequency_domain_source_model: bilby.gw.source.lal_binary_neutron_star\n",
      "  time_domain_source_model: None\n",
      "  parameter_conversion: bilby.gw.conversion.convert_to_lal_binary_black_hole_parameters\n"
     ]
    },
    {
     "name": "stdout",
     "output_type": "stream",
     "text": [
      "Using bilby_default PSDs to generate data.\n"
     ]
    }
   ],
   "source": [
    "source_type = 'BNS'\n",
    "detector_names = ['H1', 'L1', 'V1'] \n",
    "duration = 32\n",
    "f_low = 50\n",
    "f_high = 1024\n",
    "\n",
    "f_ref = 20\n",
    "sampling_frequency = 2048\n",
    "waveform_approximant = 'IMRPhenomPv2_NRTidal'\n",
    "parameter_names = PARAMETER_NAMES_ALL_PRECESSINGBNS_BILBY\n",
    "PSD_type = 'bilby_default' #'zero_noise' bilby_default\n",
    "use_sealgw_detector = True\n",
    "\n",
    "Vhfile=\"/home/qian.hu/mlpe/river/test/outputs/Vh_50Hz1024Hz32s.pickle\"\n",
    "\n",
    "data_generator = DataGeneratorBilbyFD(source_type,\n",
    "            detector_names, \n",
    "            duration, \n",
    "            f_low, \n",
    "            f_ref, \n",
    "            sampling_frequency, \n",
    "            waveform_approximant, \n",
    "            parameter_names,\n",
    "            PSD_type=PSD_type,\n",
    "            use_sealgw_detector=use_sealgw_detector,\n",
    "            f_high=f_high)\n"
   ]
  },
  {
   "cell_type": "code",
   "execution_count": 9,
   "id": "3c6d8b13-22be-4135-91d2-66ed1cd7bf03",
   "metadata": {},
   "outputs": [],
   "source": [
    "farray = data_generator.frequency_array_masked\n",
    "ifos = data_generator.ifos\n",
    "det = ifos[0]\n",
    "psd = det.power_spectral_density_array[data_generator.frequency_mask]"
   ]
  },
  {
   "cell_type": "code",
   "execution_count": 263,
   "id": "entertaining-brother",
   "metadata": {},
   "outputs": [
    {
     "name": "stdout",
     "output_type": "stream",
     "text": [
      "CPU times: user 28 µs, sys: 1e+03 ns, total: 29 µs\n",
      "Wall time: 32.9 µs\n"
     ]
    },
    {
     "data": {
      "text/plain": [
       "-0.015369633335574994"
      ]
     },
     "execution_count": 263,
     "metadata": {},
     "output_type": "execute_result"
    }
   ],
   "source": [
    "%time det.time_delay_from_geocenter(1,1,1)"
   ]
  },
  {
   "cell_type": "markdown",
   "id": "tested-solid",
   "metadata": {},
   "source": [
    "# IFT"
   ]
  },
  {
   "cell_type": "code",
   "execution_count": null,
   "id": "immune-employer",
   "metadata": {},
   "outputs": [],
   "source": []
  },
  {
   "cell_type": "code",
   "execution_count": 100,
   "id": "built-olympus",
   "metadata": {},
   "outputs": [],
   "source": [
    "torch.fft.ifft?"
   ]
  },
  {
   "cell_type": "code",
   "execution_count": 63,
   "id": "challenging-archive",
   "metadata": {},
   "outputs": [],
   "source": [
    "\n",
    "noise_r = torch.randn((1,V.shape[0]))\n",
    "noise_i = torch.randn((1,V.shape[0]))"
   ]
  },
  {
   "cell_type": "code",
   "execution_count": 64,
   "id": "closed-split",
   "metadata": {},
   "outputs": [
    {
     "data": {
      "text/plain": [
       "torch.Size([1, 31169])"
      ]
     },
     "execution_count": 64,
     "metadata": {},
     "output_type": "execute_result"
    }
   ],
   "source": [
    "noise_r.shape"
   ]
  },
  {
   "cell_type": "code",
   "execution_count": 71,
   "id": "accompanied-coverage",
   "metadata": {},
   "outputs": [
    {
     "data": {
      "text/plain": [
       "(31169,)"
      ]
     },
     "execution_count": 71,
     "metadata": {},
     "output_type": "execute_result"
    }
   ],
   "source": [
    "V[:,0].shape"
   ]
  },
  {
   "cell_type": "code",
   "execution_count": 101,
   "id": "literary-vault",
   "metadata": {},
   "outputs": [],
   "source": [
    "noise_td = torch.fft.ifft((noise_r + 1j*noise_i)*V[:,0], norm='forward')"
   ]
  },
  {
   "cell_type": "code",
   "execution_count": 102,
   "id": "weekly-arcade",
   "metadata": {},
   "outputs": [
    {
     "data": {
      "image/png": "[encoded data removed]",
      "text/plain": [
       "<Figure size 432x288 with 1 Axes>"
      ]
     },
     "metadata": {
      "needs_background": "light"
     },
     "output_type": "display_data"
    }
   ],
   "source": [
    "_ = plt.hist(noise_td.real[0].detach().numpy() , density=True, alpha=0.5, bins=50, cumulative=True)\n",
    "_ = plt.hist(noise_r[0].detach().numpy(), density=True, alpha=0.5, bins=50, cumulative=True)\n"
   ]
  },
  {
   "cell_type": "code",
   "execution_count": 62,
   "id": "pointed-trade",
   "metadata": {},
   "outputs": [],
   "source": []
  },
  {
   "cell_type": "code",
   "execution_count": null,
   "id": "early-statistics",
   "metadata": {},
   "outputs": [],
   "source": []
  },
  {
   "cell_type": "code",
   "execution_count": 10,
   "id": "liable-edwards",
   "metadata": {},
   "outputs": [
    {
     "ename": "NameError",
     "evalue": "name 'DatasetConvStrainFDFromSVDWFonGPU' is not defined",
     "output_type": "error",
     "traceback": [
      "\u001b[0;31m---------------------------------------------------------------------------\u001b[0m",
      "\u001b[0;31mNameError\u001b[0m                                 Traceback (most recent call last)",
      "\u001b[0;32m<ipython-input-10-6aebd91c8fca>\u001b[0m in \u001b[0;36m<module>\u001b[0;34m\u001b[0m\n\u001b[0;32m----> 1\u001b[0;31m dataset_test = DatasetConvStrainFDFromSVDWFonGPU(valid_filenames, PARAMETER_NAMES_CONTEXT_PRECESSINGBNS_BILBY, data_generator,\n\u001b[0m\u001b[1;32m      2\u001b[0m                                      Nbasis=512, Vhfile=Vhfile, add_noise=False, shuffle=False, fix_extrinsic=False)\n",
      "\u001b[0;31mNameError\u001b[0m: name 'DatasetConvStrainFDFromSVDWFonGPU' is not defined"
     ]
    }
   ],
   "source": [
    "dataset_test = DatasetConvStrainFDFromSVDWFonGPU(valid_filenames, PARAMETER_NAMES_CONTEXT_PRECESSINGBNS_BILBY, data_generator,\n",
    "                                     Nbasis=512, Vhfile=Vhfile, add_noise=False, shuffle=False, fix_extrinsic=False)\n"
   ]
  },
  {
   "cell_type": "code",
   "execution_count": null,
   "id": "posted-cleaner",
   "metadata": {},
   "outputs": [],
   "source": []
  },
  {
   "cell_type": "code",
   "execution_count": null,
   "id": "appointed-valley",
   "metadata": {},
   "outputs": [],
   "source": [
    "index_of_file, index_in_file = (0, 54)\n",
    "wf_dict = dataset_test.get_precalwf_dict(index_of_file)\n",
    "hp_svd, hc_svd = dataset_test.get_waveform_tensors(wf_dict, index_in_file)\n",
    "\n",
    "injection_parameters = dataset_test.get_injection_parameters(wf_dict,index_in_file)\n",
    "injection_parameters = dataset_test.update_injection_parameters(injection_parameters)\n",
    "hp_svd = hp_svd/injection_parameters['luminosity_distance']\n",
    "hc_svd = hc_svd/injection_parameters['luminosity_distance']\n",
    "#x_real, x_imag = self.compute_strain_tensors(hp_svd, hc_svd, injection_parameters)\n",
    "\n",
    "theta = dataset_test.get_theta(injection_parameters)"
   ]
  },
  {
   "cell_type": "code",
   "execution_count": 188,
   "id": "standard-academy",
   "metadata": {},
   "outputs": [
    {
     "data": {
      "text/plain": [
       "12.009739273309345"
      ]
     },
     "execution_count": 188,
     "metadata": {},
     "output_type": "execute_result"
    }
   ],
   "source": [
    "injection_parameters['luminosity_distance']"
   ]
  },
  {
   "cell_type": "code",
   "execution_count": 189,
   "id": "ultimate-grain",
   "metadata": {},
   "outputs": [],
   "source": [
    "injection_parameters['geocent_time'] = 1231231"
   ]
  },
  {
   "cell_type": "code",
   "execution_count": 223,
   "id": "moderate-knight",
   "metadata": {},
   "outputs": [],
   "source": [
    "num_ifos = 3\n",
    "width = 4096\n",
    "x = torch.zeros((num_ifos, dataset_test.Nbasis), dtype=torch.complex64, device=dataset_test.device)\n",
    "for i, det in enumerate(dataset_test.ifos):\n",
    "    detname = det.name\n",
    "\n",
    "    fp, fc, dt = dataset_test.compute_detector_factors(det, injection_parameters)\n",
    "    phase2add = torch.exp(-1j * 2 * np.pi * dt * dataset_test.farray)\n",
    "    Vh_recons = dataset_test.Vh * phase2add.unsqueeze(0)  # Ensure proper broadcasting\n",
    "    h_full = torch.matmul((fp*hp_svd + fc*hc_svd).type(torch.complex64), Vh_recons).unsqueeze(1)\n",
    "    \n",
    "    cycle_back = torch.exp(2*np.pi*1j*dataset_test.farray*injection_parameters['geocent_time']).unsqueeze(1)\n",
    "    h_conv_fd = h_full * cycle_back * dataset_test.det_data[detname]['whitened_V'] #dataset_test.V * \n",
    "    \n",
    "    id0 = cycle_back.shape[0] // 2\n",
    "    id1 = id0 - width\n",
    "    id2 = id0 + width\n",
    "    h_conv_td = torch.fft.ifft(h_conv_fd.T, norm='forward').roll(id0 , dims=-1)[:,id1:id2+1]"
   ]
  },
  {
   "cell_type": "code",
   "execution_count": 224,
   "id": "governing-corps",
   "metadata": {},
   "outputs": [],
   "source": [
    "ppt = h_conv_td.detach().cpu().numpy() "
   ]
  },
  {
   "cell_type": "code",
   "execution_count": 225,
   "id": "empirical-monday",
   "metadata": {},
   "outputs": [
    {
     "data": {
      "text/plain": [
       "(512, 8193)"
      ]
     },
     "execution_count": 225,
     "metadata": {},
     "output_type": "execute_result"
    }
   ],
   "source": [
    "ppt.shape"
   ]
  },
  {
   "cell_type": "code",
   "execution_count": 227,
   "id": "returning-designer",
   "metadata": {},
   "outputs": [
    {
     "data": {
      "text/plain": [
       "Text(0.5, 0, 'conv search step')"
      ]
     },
     "execution_count": 227,
     "metadata": {},
     "output_type": "execute_result"
    },
    {
     "data": {
      "image/png": "[encoded data removed]",
      "text/plain": [
       "<Figure size 720x216 with 1 Axes>"
      ]
     },
     "metadata": {
      "needs_background": "light"
     },
     "output_type": "display_data"
    }
   ],
   "source": [
    "plt.figure(figsize=(10,3))\n",
    "for i in range(100):\n",
    "    plt.plot(np.real(ppt[i]))\n",
    "    \n",
    "\n",
    "width = 64\n",
    "tall = 10\n",
    "#plt.vlines(cycle_back.shape[0] // 2, 0, tall, color='k', linestyle='--')\n",
    "#plt.vlines(cycle_back.shape[0] // 2 - width, 0, tall, color='grey', linestyle='--')\n",
    "#plt.vlines(cycle_back.shape[0] // 2 + width, 0, tall, color='grey', linestyle='--')\n",
    "plt.ylabel('abs(ift conv output)')\n",
    "plt.xlabel('conv search step')\n",
    "\n",
    "#plt.xlim(cycle_back.shape[0] // 2 - 1000, cycle_back.shape[0] // 2 + 1000)"
   ]
  },
  {
   "cell_type": "code",
   "execution_count": 198,
   "id": "native-contrary",
   "metadata": {},
   "outputs": [],
   "source": [
    "ddddd = []\n",
    "for i in range(512):\n",
    "    agm = np.argmax(np.abs(ppt[i]))\n",
    "    #if agm > 10000:\n",
    "    #    ddddd.append(31169-agm)\n",
    "    #else:\n",
    "    ddddd.append(agm)"
   ]
  },
  {
   "cell_type": "code",
   "execution_count": 199,
   "id": "increased-imperial",
   "metadata": {},
   "outputs": [
    {
     "data": {
      "text/plain": [
       "16849.0"
      ]
     },
     "execution_count": 199,
     "metadata": {},
     "output_type": "execute_result"
    }
   ],
   "source": [
    "np.median(ddddd)"
   ]
  },
  {
   "cell_type": "code",
   "execution_count": 208,
   "id": "bulgarian-niger",
   "metadata": {},
   "outputs": [
    {
     "data": {
      "text/plain": [
       "<matplotlib.collections.LineCollection at 0x7f2cd85830a0>"
      ]
     },
     "execution_count": 208,
     "metadata": {},
     "output_type": "execute_result"
    },
    {
     "data": {
      "image/png": "[encoded data removed]",
      "text/plain": [
       "<Figure size 432x288 with 1 Axes>"
      ]
     },
     "metadata": {
      "needs_background": "light"
     },
     "output_type": "display_data"
    }
   ],
   "source": [
    "_ = plt.hist(ddddd, bins=500)\n",
    "plt.vlines(15584, 0, 10, 'k', '--')\n",
    "plt.vlines(cycle_back.shape[0] // 2 - width, 0, tall, color='grey', linestyle='--')\n",
    "plt.vlines(cycle_back.shape[0] // 2 + width, 0, tall, color='grey', linestyle='--')"
   ]
  },
  {
   "cell_type": "code",
   "execution_count": 201,
   "id": "royal-partner",
   "metadata": {},
   "outputs": [
    {
     "data": {
      "text/plain": [
       "15584.5"
      ]
     },
     "execution_count": 201,
     "metadata": {},
     "output_type": "execute_result"
    }
   ],
   "source": [
    "31169/2"
   ]
  },
  {
   "cell_type": "code",
   "execution_count": null,
   "id": "entertaining-innocent",
   "metadata": {},
   "outputs": [],
   "source": []
  },
  {
   "cell_type": "code",
   "execution_count": 76,
   "id": "unknown-playback",
   "metadata": {},
   "outputs": [],
   "source": [
    "\n",
    "class DatasetIFTStrainFDFromSVDWFonGPU(Dataset):\n",
    "    '''\n",
    "    Simulate FD data in SVD-basis-convolved space from pre-calculated SVD waveforms, optimized for GPU or CPU computation.\n",
    "    '''\n",
    "    def __init__(self, precalwf_filelist, parameter_names, data_generator, Nbasis, Vhfile,\n",
    "                dmin=10, dmax=200, dpower=1, loadwf=False, device='cuda',width=28, timing_std = 0.01,\n",
    "                is_complex = False, add_noise=True, fix_extrinsic=False, shuffle=False, reparameterize=True):\n",
    "        self.precalwf_filelist = precalwf_filelist\n",
    "        self.parameter_names = parameter_names\n",
    "        self.data_generator = data_generator\n",
    "        self.Nbasis = Nbasis\n",
    "        self.dmin = dmin\n",
    "        self.dmax = dmax\n",
    "        self.dpower = dpower\n",
    "        self.loadwf = loadwf\n",
    "        self.device = device\n",
    "        self.complex = is_complex\n",
    "        self.add_noise = add_noise\n",
    "        self.fix_extrinsic = fix_extrinsic\n",
    "        self.shuffle = shuffle\n",
    "        self.reparameterize = reparameterize\n",
    "        self.width = width\n",
    "        self.timing_std = timing_std\n",
    "        \n",
    "        # Load V and Vh matrices and convert to tensors\n",
    "        self.V, self.Vh = loadVandVh(Vhfile, Nbasis)\n",
    "        self.V = torch.from_numpy(self.V).to(self.device).type(torch.complex64)\n",
    "        self.Vh = torch.from_numpy(self.Vh).to(self.device).type(torch.complex64)\n",
    "        \n",
    "        self.farray = torch.from_numpy(data_generator.frequency_array_masked).float().to(self.device)\n",
    "        self.ifos = data_generator.ifos\n",
    "        self.det_data = self.prepare_detector_data()\n",
    "        \n",
    "        testfile = load_dict_from_hdf5(precalwf_filelist[0])\n",
    "        self.sample_per_file = len(testfile['injection_parameters']['chirp_mass'])\n",
    "        self.Nfile = len(self.precalwf_filelist)\n",
    "        self.Nsample = self.Nfile * self.sample_per_file \n",
    "        self.cached_wf_file = testfile\n",
    "        self.cached_wf_file_index = 0\n",
    "        \n",
    "        self.shuffle_indexinfile()\n",
    "            \n",
    "    def prepare_detector_data(self):\n",
    "        det_data = {}\n",
    "        for det in self.ifos:\n",
    "            detname = det.name\n",
    "            psd = det.power_spectral_density_array[self.data_generator.frequency_mask]\n",
    "            psd = torch.from_numpy(psd).double().to(self.device)\n",
    "            whiten_factor = 1/(psd*det.duration/4)**0.5\n",
    "            whitened_V = (self.V.T * whiten_factor ).T\n",
    "            det_data[detname] = {'whitened_V': whitened_V.type(torch.complex64),\n",
    "                                'whiten_factor': whiten_factor}\n",
    "        return det_data\n",
    "\n",
    "    def __len__(self):\n",
    "        return len(self.precalwf_filelist) * self.sample_per_file\n",
    "\n",
    "    def __getitem__(self, index):\n",
    "        index_of_file, index_in_file = self.get_index(index, self.sample_per_file)\n",
    "        wf_dict = self.get_precalwf_dict(index_of_file)\n",
    "        hp_svd, hc_svd = self.get_waveform_tensors(wf_dict, index_in_file)\n",
    "\n",
    "        injection_parameters = self.get_injection_parameters(wf_dict,index_in_file)\n",
    "        injection_parameters = self.update_injection_parameters(injection_parameters)\n",
    "        hp_svd = hp_svd/injection_parameters['luminosity_distance']\n",
    "        hc_svd = hc_svd/injection_parameters['luminosity_distance']\n",
    "        #x_real, x_imag = self.compute_strain_tensors(hp_svd, hc_svd, injection_parameters)\n",
    "\n",
    "        x = self.compute_strain_tensors(hp_svd, hc_svd, injection_parameters)\n",
    "\n",
    "        theta = self.get_theta(injection_parameters)\n",
    "        #return theta, torch.cat((x_real, x_imag)).float()\n",
    "        if self.complex:\n",
    "            return theta, x \n",
    "        else:\n",
    "            return theta, torch.cat((x.real, x.imag)).float()\n",
    "\n",
    "    def get_index(self, index, sample_per_file):\n",
    "        index_of_file = index // sample_per_file\n",
    "        index_in_file = index - index_of_file*sample_per_file\n",
    "        \n",
    "        return index_of_file, index_in_file\n",
    "    \n",
    "    def get_precalwf_dict(self, index_of_file):\n",
    "        if self.cached_wf_file_index == index_of_file:\n",
    "            return self.cached_wf_file\n",
    "        else:\n",
    "            wf_dict = load_dict_from_hdf5(self.precalwf_filelist[index_of_file])\n",
    "            self.cached_wf_file = wf_dict\n",
    "            self.cached_wf_file_index = index_of_file\n",
    "            return wf_dict\n",
    "        \n",
    "    def get_waveform_tensors(self, wf_dict, index_in_file):\n",
    "        index_in_file = self.random_index_in_file[index_in_file]\n",
    "        hp_svd = (torch.from_numpy(wf_dict['waveform_polarizations']['plus']['amplitude'][index_in_file]) *\\\n",
    "            torch.exp(1j*torch.from_numpy(wf_dict['waveform_polarizations']['plus']['phase'][index_in_file])).type(torch.complex64)).to(self.device)\n",
    "        hc_svd = (torch.from_numpy(wf_dict['waveform_polarizations']['cross']['amplitude'][index_in_file]) *\\\n",
    "            torch.exp(1j*torch.from_numpy(wf_dict['waveform_polarizations']['cross']['phase'][index_in_file])).type(torch.complex64)).to(self.device)\n",
    "        \n",
    "        return hp_svd, hc_svd\n",
    "\n",
    "    def get_injection_parameters(self, wf_dict, index_in_file):\n",
    "        index_in_file = self.random_index_in_file[index_in_file]\n",
    "        injection_parameters = {key: wf_dict['injection_parameters'][key][index_in_file] for key in ['chirp_mass', 'mass_ratio', 'a_1', 'a_2', 'tilt_1', 'tilt_2', 'phi_12', 'phi_jl',\n",
    "                    'lambda_tilde', 'delta_lambda_tilde', 'theta_jn', 'phase']}\n",
    "        return injection_parameters\n",
    "\n",
    "    def get_noise_tensors(self, ):\n",
    "        lennoise = 2*self.width + 1\n",
    "        white_noise = (torch.randn(lennoise, device=self.device) + 1j * torch.randn(lennoise, device=self.device)).type(torch.complex64)\n",
    "\n",
    "        return white_noise\n",
    "    \n",
    "    def compute_strain_tensors(self, hp_svd, hc_svd, injection_parameters):\n",
    "        num_ifos = len(self.ifos)\n",
    "        #x_real = torch.zeros((num_ifos, self.Nbasis), dtype=torch.float32, device=self.device)\n",
    "        #x_imag = torch.zeros((num_ifos, self.Nbasis), dtype=torch.float32, device=self.device)\n",
    "        x = torch.zeros((num_ifos*self.Nbasis, 2*self.width + 1), dtype=torch.complex64, device=self.device)\n",
    "        tc_est = injection_parameters['geocent_time'] + injection_parameters['timing_error']\n",
    "        for i, det in enumerate(self.ifos):\n",
    "            detname = det.name\n",
    "\n",
    "            fp, fc, dt = self.compute_detector_factors(det, injection_parameters)\n",
    "            phase2add = torch.exp(-1j * 2 * np.pi * dt * self.farray)\n",
    "            Vh_recons = self.Vh * phase2add.unsqueeze(0)  # Ensure proper broadcasting\n",
    "            \n",
    "            h_full = torch.matmul((fp*hp_svd + fc*hc_svd).type(torch.complex64), Vh_recons).unsqueeze(1)\n",
    "    \n",
    "            cycle_back = torch.exp(2*np.pi*1j*self.farray*tc_est).unsqueeze(1)\n",
    "            h_conv_fd = h_full * cycle_back * self.det_data[detname]['whitened_V'] #dataset_test.V * \n",
    "\n",
    "            id0 = cycle_back.shape[0] // 2\n",
    "            id1 = id0 - self.width\n",
    "            id2 = id0 + self.width\n",
    "            h_conv_td = torch.fft.ifft(h_conv_fd.T, norm='forward').roll(id0 , dims=-1)[:,id1:id2+1]\n",
    "            \n",
    "            if self.add_noise:\n",
    "                n_conv = self.get_noise_tensors()\n",
    "                d_conv = h_conv_td + n_conv\n",
    "            else:\n",
    "                d_conv = h_conv_td\n",
    "            \n",
    "            #x_real[i] = d_conv.real\n",
    "            #x_imag[i] = d_conv.imag\n",
    "            x[i*self.Nbasis : (i+1)*self.Nbasis] = d_conv\n",
    "        #return x_real, x_imag\n",
    "        return x\n",
    "\n",
    "    def compute_detector_factors(self, det, injection_parameters):\n",
    "        # These calculations remain on CPU as they cannot be efficiently vectorized or moved to GPU\n",
    "        ra = injection_parameters['ra']\n",
    "        dec = injection_parameters['dec']\n",
    "        tc = injection_parameters['geocent_time']\n",
    "        psi = injection_parameters['psi']\n",
    "        fp = det.antenna_response(ra , dec, tc, psi, 'plus')\n",
    "        fc = det.antenna_response(ra , dec, tc, psi, 'cross')\n",
    "        time_shift = det.time_delay_from_geocenter(ra , dec, tc)\n",
    "        \n",
    "        dt_geocent = tc #- self.strain_data.start_time\n",
    "        dt = dt_geocent + time_shift\n",
    "            \n",
    "        return fp, fc, dt\n",
    "\n",
    "    def get_theta(self, injection_parameters):\n",
    "        if self.fix_extrinsic:\n",
    "            parameter_names = ['chirp_mass', 'mass_ratio', 'a_1', 'a_2', 'tilt_1', 'tilt_2', 'phi_12', 'phi_jl',\n",
    "                    'lambda_tilde', 'delta_lambda_tilde', 'theta_jn', 'phase']\n",
    "        else:\n",
    "            parameter_names = self.parameter_names\n",
    "        \n",
    "        theta_list = []\n",
    "        for paraname in parameter_names:\n",
    "            if paraname == 'geocent_time':\n",
    "                paraname = 'timing_error'\n",
    "            if self.reparameterize:\n",
    "                para_re = reparameterize(injection_parameters[paraname], paraname, injection_parameters)\n",
    "            else:\n",
    "                para_re = injection_parameters[paraname]\n",
    "            theta_list.append(para_re)\n",
    "        theta_array = np.array(theta_list)\n",
    "        theta = torch.tensor(theta_array, dtype=torch.float32).to(self.device).T\n",
    "    \n",
    "        return theta\n",
    "    \n",
    "    def update_injection_parameters(self, injection_parameters):\n",
    "        if self.fix_extrinsic:\n",
    "            injection_parameters['ra'] = 1\n",
    "            injection_parameters['dec'] = 1\n",
    "            injection_parameters['psi'] = 1\n",
    "            injection_parameters['geocent_time'] = 0\n",
    "            #injection_parameters['luminosity_distance'] = generate_random_distance(Nsample=1, low=self.dmin, high=self.dmax, power=self.dpower)[0]\n",
    "            injection_parameters['luminosity_distance'] = 100\n",
    "            injection_parameters['timing_error'] = 0\n",
    "        else:\n",
    "            injection_parameters['ra'] = np.random.uniform(0, 2*np.pi)\n",
    "            injection_parameters['dec'] = np.arcsin(np.random.uniform(-1, 1))\n",
    "            injection_parameters['psi'] = np.random.uniform(0, np.pi)\n",
    "            injection_parameters['geocent_time'] = np.random.uniform(-0.1, 0.1)\n",
    "            injection_parameters['luminosity_distance'] = generate_random_distance(Nsample=1, low=self.dmin, high=self.dmax, power=self.dpower)[0]\n",
    "            injection_parameters['timing_error'] = np.random.randn() * self.timing_std\n",
    "    \n",
    "        return injection_parameters\n",
    "    \n",
    "    def shuffle_wflist(self):\n",
    "        if self.shuffle:\n",
    "            random.shuffle(self.precalwf_filelist)\n",
    "        \n",
    "    def shuffle_indexinfile(self):\n",
    "        if self.shuffle:\n",
    "            self.random_index_in_file = np.random.permutation(self.sample_per_file)\n",
    "        else:\n",
    "            self.random_index_in_file = np.arange(self.sample_per_file)"
   ]
  },
  {
   "cell_type": "code",
   "execution_count": 1,
   "id": "muslim-prescription",
   "metadata": {},
   "outputs": [
    {
     "name": "stdout",
     "output_type": "stream",
     "text": [
      "Object `torch.fft.ifft` not found.\n"
     ]
    }
   ],
   "source": [
    "torch.fft.ifft?"
   ]
  },
  {
   "cell_type": "code",
   "execution_count": 87,
   "id": "express-costume",
   "metadata": {},
   "outputs": [],
   "source": [
    "\n",
    "class DatasetIFTStrainFDFromSVDWFonGPUBatch(Dataset):\n",
    "    '''\n",
    "    Simulate FD data in SVD-basis-convolved space from pre-calculated SVD waveforms, optimized for GPU or CPU computation.\n",
    "\n",
    "    Load a batch of data, i.e. return [minibatch_size, dim1, dim2, ...]. The batch size should be 2^N. \n",
    "    '''\n",
    "    def __init__(self, precalwf_filelist, parameter_names, data_generator, Nbasis, Vhfile,\n",
    "                dmin=10, dmax=200, dpower=1, loadwf=False, device='cuda',width=28, timing_std = 0.01,\n",
    "                is_complex=False, add_noise=True, minibatch_size=1, fix_extrinsic=False, shuffle=True, reparameterize=True):\n",
    "        self.precalwf_filelist = precalwf_filelist\n",
    "        self.parameter_names = parameter_names\n",
    "        self.data_generator = data_generator\n",
    "        self.Nbasis = Nbasis\n",
    "        self.dmin = dmin\n",
    "        self.dmax = dmax\n",
    "        self.dpower = dpower\n",
    "        self.loadwf = loadwf\n",
    "        self.device = device\n",
    "        self.minibatch_size = minibatch_size\n",
    "        self.complex = is_complex\n",
    "        self.add_noise = add_noise\n",
    "        self.fix_extrinsic = fix_extrinsic\n",
    "        self.shuffle = shuffle\n",
    "        self.reparameterize = reparameterize\n",
    "        self.width = width\n",
    "        self.timing_std = timing_std\n",
    "\n",
    "        # Load V and Vh matrices and convert to tensors\n",
    "        self.V, self.Vh = loadVandVh(Vhfile, Nbasis)\n",
    "        self.V = torch.from_numpy(self.V).to(self.device).type(torch.complex64)\n",
    "        self.Vh = torch.from_numpy(self.Vh).to(self.device).type(torch.complex64)\n",
    "        \n",
    "        self.farray = torch.from_numpy(data_generator.frequency_array_masked).float().to(self.device)\n",
    "        self.ifos = data_generator.ifos\n",
    "        self.det_data = self.prepare_detector_data()\n",
    "        \n",
    "        testfile = load_dict_from_hdf5(precalwf_filelist[0])\n",
    "        self.sample_per_file = len(testfile['injection_parameters']['chirp_mass'])\n",
    "        #if self.sample_per_file<self.minibatch_size:\n",
    "        #    raise ValueError(\"Sample per file < batch size!\")\n",
    "        self.Nfile = len(self.precalwf_filelist)\n",
    "        self.Nsample = self.Nfile * self.sample_per_file \n",
    "        self.cached_wf_file = testfile\n",
    "        self.cached_wf_file_index = 0\n",
    "            \n",
    "        self.shuffle_indexinfile()\n",
    "        \n",
    "    def prepare_detector_data(self):\n",
    "        det_data = {}\n",
    "        for det in self.ifos:\n",
    "            detname = det.name\n",
    "            psd = det.power_spectral_density_array[self.data_generator.frequency_mask]\n",
    "            psd = torch.from_numpy(psd).double().to(self.device)\n",
    "            whiten_factor = 1/(psd*det.duration/4)**0.5\n",
    "            whitened_V = (self.V.T * whiten_factor ).T\n",
    "            det_data[detname] = {'whitened_V': whitened_V.type(torch.complex64),\n",
    "                                'whiten_factor': whiten_factor}\n",
    "        return det_data\n",
    "\n",
    "    def __len__(self):\n",
    "        return len(self.precalwf_filelist) * self.sample_per_file // self.minibatch_size\n",
    "\n",
    "    def __getitem__(self, index):\n",
    "        index = index*self.minibatch_size\n",
    "        \n",
    "        index_end = index + self.minibatch_size\n",
    "        index_of_file, index_in_file = self.get_index(index, self.sample_per_file)\n",
    "        index_of_file_end, index_in_file_end = self.get_index(index_end, self.sample_per_file)\n",
    "        if index_of_file_end>=len(self.precalwf_filelist):\n",
    "            index_of_file_end = len(self.precalwf_filelist)-1\n",
    "            index_in_file_end = self.sample_per_file\n",
    "        wf_dict_list = []\n",
    "        for i in range(index_of_file, index_of_file_end+1):\n",
    "            wf_dict_list.append(self.get_precalwf_dict(i))\n",
    "        \n",
    "        hp_svd, hc_svd = self.get_waveform_tensors_batch(wf_dict_list, index_in_file, index_in_file_end)\n",
    "        injection_parameters = self.get_injection_parameters_batch(wf_dict_list,index_in_file, index_in_file_end)\n",
    "        injection_parameters = self.update_injection_parameters_batch(injection_parameters)\n",
    "        \n",
    "        dL = torch.from_numpy(injection_parameters['luminosity_distance']).to(self.device).unsqueeze(-1)\n",
    "        hp_svd = hp_svd/dL\n",
    "        hc_svd = hc_svd/dL\n",
    "\n",
    "        #x_real, x_imag = self.compute_strain_tensors_batch(hp_svd, hc_svd, injection_parameters)\n",
    "        x = self.compute_strain_tensors_batch(hp_svd, hc_svd, injection_parameters)\n",
    "\n",
    "        theta = self.get_theta(injection_parameters)\n",
    "        if self.complex:\n",
    "            return theta, x \n",
    "        else:\n",
    "            return theta, torch.cat((x.real, x.imag), axis=1).float()\n",
    "\n",
    "    def get_index(self, index, sample_per_file):\n",
    "        index_of_file = index // sample_per_file\n",
    "        index_in_file = index - index_of_file*sample_per_file\n",
    "\n",
    "        return index_of_file, index_in_file\n",
    "    \n",
    "    def get_precalwf_dict(self, index_of_file):\n",
    "        if self.cached_wf_file_index == index_of_file:\n",
    "            return self.cached_wf_file\n",
    "        else:\n",
    "            try:\n",
    "                wf_dict = load_dict_from_hdf5(self.precalwf_filelist[index_of_file])\n",
    "            except:\n",
    "                raise Exception(f'index_of_file: {index_of_file}')\n",
    "            self.cached_wf_file = wf_dict\n",
    "            self.cached_wf_file_index = index_of_file\n",
    "            return wf_dict\n",
    "        \n",
    "    def get_waveform_tensors_batch(self, wf_dict_list, index_in_file, index_in_file_end):\n",
    "        for i, wf_dict in enumerate(wf_dict_list):\n",
    "            if i==len(wf_dict_list)-1:\n",
    "                end_index = index_in_file_end\n",
    "            else:\n",
    "                end_index = self.sample_per_file\n",
    "            if i==0:\n",
    "                index = self.random_index_in_file[index_in_file:end_index]\n",
    "                hp_svd = (torch.from_numpy(wf_dict['waveform_polarizations']['plus']['amplitude'][index]) *\\\n",
    "                    torch.exp(1j*torch.from_numpy(wf_dict['waveform_polarizations']['plus']['phase'][index])).type(torch.complex64)).to(self.device)\n",
    "                hc_svd = (torch.from_numpy(wf_dict['waveform_polarizations']['cross']['amplitude'][index]) *\\\n",
    "                    torch.exp(1j*torch.from_numpy(wf_dict['waveform_polarizations']['cross']['phase'][index])).type(torch.complex64)).to(self.device)\n",
    "            else:\n",
    "                index = self.random_index_in_file[index_in_file:end_index]\n",
    "                hp_svd_new = (torch.from_numpy(wf_dict['waveform_polarizations']['plus']['amplitude'][index]) *\\\n",
    "                    torch.exp(1j*torch.from_numpy(wf_dict['waveform_polarizations']['plus']['phase'][index])).type(torch.complex64)).to(self.device)\n",
    "                hc_svd_new = (torch.from_numpy(wf_dict['waveform_polarizations']['cross']['amplitude'][index]) *\\\n",
    "                    torch.exp(1j*torch.from_numpy(wf_dict['waveform_polarizations']['cross']['phase'][index])).type(torch.complex64)).to(self.device)\n",
    "\n",
    "                hp_svd = torch.cat((hp_svd,hp_svd_new))\n",
    "                hc_svd = torch.cat((hc_svd,hc_svd_new))\n",
    "                    \n",
    "            \n",
    "        return hp_svd, hc_svd\n",
    "\n",
    "    def get_injection_parameters_batch(self, wf_dict_list, index_in_file, index_in_file_end):\n",
    "        para_name_list = ['chirp_mass', 'mass_ratio', 'a_1', 'a_2', 'tilt_1', 'tilt_2', 'phi_12', 'phi_jl',\n",
    "                    'lambda_tilde', 'delta_lambda_tilde', 'theta_jn', 'phase']\n",
    "        for i, wf_dict in enumerate(wf_dict_list):\n",
    "            if i==len(wf_dict_list)-1:\n",
    "                end_index = index_in_file_end\n",
    "            else:\n",
    "                end_index = self.sample_per_file\n",
    "\n",
    "            index_random = self.random_index_in_file[index_in_file:end_index]\n",
    "            if i==0:\n",
    "                injection_parameters = {key: wf_dict['injection_parameters'][key][index_random] for key in para_name_list}\n",
    "            else:\n",
    "                injection_parameters = {key: np.append(injection_parameters[key], wf_dict['injection_parameters'][key][index_random]) for key in para_name_list}\n",
    "\n",
    "        return injection_parameters\n",
    "\n",
    "    def get_noise_tensors_batch(self, ):\n",
    "        lennoise = 2*self.width + 1\n",
    "        white_noise = (torch.randn((self.minibatch_size, lennoise), device=self.device) + \\\n",
    "                       1j * torch.randn((self.minibatch_size, lennoise), device=self.device)).type(torch.complex64)\n",
    "\n",
    "        return white_noise\n",
    "    \n",
    "    def compute_strain_tensors_batch(self, hp_svd, hc_svd, injection_parameters):\n",
    "        num_ifos = len(self.ifos)\n",
    "        #x_real = torch.zeros((self.minibatch_size, num_ifos, self.Nbasis), dtype=torch.float32, device=self.device)\n",
    "        #x_imag = torch.zeros((self.minibatch_size, num_ifos, self.Nbasis), dtype=torch.float32, device=self.device)\n",
    "        x = torch.zeros((self.minibatch_size, num_ifos*self.Nbasis, 2*self.width+1), dtype=torch.complex64, device=self.device)\n",
    "        tc_est = injection_parameters['geocent_time'][0] + injection_parameters['timing_error'][0]\n",
    "        for i,det in enumerate(self.ifos):\n",
    "            detname = det.name\n",
    "        \n",
    "            fp, fc, dt = self.compute_detector_factors_batch(det, injection_parameters)\n",
    "            phase2add = torch.exp(-1j * 2 * np.pi * dt * self.farray)\n",
    "            Vh_recons = (self.Vh * phase2add.unsqueeze(0)).type(torch.complex64)  # Ensure proper broadcasting            \n",
    "            \n",
    "            h_full = torch.matmul((fp*hp_svd + fc*hc_svd).type(torch.complex64), Vh_recons) \n",
    "            cycle_back = torch.exp(2*np.pi*1j*self.farray*tc_est)\n",
    "            #print(h_full.shape)\n",
    "            #print(cycle_back.shape)\n",
    "            #print(self.det_data[detname]['whitened_V'].shape)\n",
    "            \n",
    "            #((a * b).unsqueeze(-1) * c).shape\n",
    "            \n",
    "            \n",
    "            h_conv_fd = (h_full * cycle_back).unsqueeze(-1) * self.det_data[detname]['whitened_V']\n",
    "            #print(h_conv_fd.shape)\n",
    "            h_conv_fd = h_conv_fd.movedim(1,-1)\n",
    "            #print(h_conv_fd.shape)\n",
    "            \n",
    "            id0 = cycle_back.shape[0] // 2\n",
    "            id1 = id0 - self.width\n",
    "            id2 = id0 + self.width\n",
    "            h_conv_td = torch.fft.ifft(h_conv_fd, norm='forward').roll(id0 , dims=-1)[:,:,id1:id2+1]\n",
    "            \n",
    "            if self.add_noise:\n",
    "                n_conv = self.get_noise_tensors_batch()\n",
    "                d_conv = h_conv_td + n_conv\n",
    "            else:\n",
    "                d_conv = h_conv_td\n",
    "                \n",
    "            \n",
    "            #x_real[:,i,:] = d_conv.real\n",
    "            #x_imag[:,i,:] = d_conv.imag\n",
    "            #print(d_conv.shape)\n",
    "            #print(x.shape)\n",
    "            x[:,i*self.Nbasis : (i+1)*self.Nbasis,:] = d_conv\n",
    "            #x[:,i,:] = d_conv\n",
    "            \n",
    "            \n",
    "\n",
    "        return x\n",
    "    \n",
    "    def compute_detector_factors_batch(self, det, injection_parameters):\n",
    "        # These calculations remain on CPU as they cannot be efficiently vectorized or moved to GPU\n",
    "        #fp_tensor = torch.zeros((self.minibatch_size), dtype=torch.float32, device=self.device)\n",
    "        #fc_tensor = torch.zeros((self.minibatch_size), dtype=torch.float32, device=self.device)\n",
    "        #dt_tensor = torch.zeros((self.minibatch_size), dtype=torch.float32, device=self.device)\n",
    "        '''\n",
    "        for i in range(len(injection_parameters['ra'])):\n",
    "            \n",
    "            ra = injection_parameters['ra'][i]\n",
    "            dec = injection_parameters['dec'][i]\n",
    "            tc = injection_parameters['geocent_time'][i]\n",
    "            psi = injection_parameters['psi'][i]\n",
    "            \n",
    "            fp = det.antenna_response(ra, dec, tc, psi, 'plus')\n",
    "            fc = det.antenna_response(ra, dec, tc, psi, 'cross')\n",
    "            time_shift = det.time_delay_from_geocenter(ra, dec, tc)\n",
    "            \n",
    "            dt_geocent = tc #- self.strain_data.start_time\n",
    "            dt = dt_geocent + time_shift\n",
    "            \n",
    "            fp_tensor[i] = fp\n",
    "            fc_tensor[i] = fc\n",
    "            dt_tensor[i] = dt\n",
    "        '''\n",
    "        ra = injection_parameters['ra'][0]\n",
    "        dec = injection_parameters['dec'][0]\n",
    "        tc = injection_parameters['geocent_time'][0]\n",
    "        psi = injection_parameters['psi'][0]\n",
    "\n",
    "        fp = det.antenna_response(ra, dec, tc, psi, 'plus')\n",
    "        fc = det.antenna_response(ra, dec, tc, psi, 'cross')\n",
    "        time_shift = det.time_delay_from_geocenter(ra, dec, tc)\n",
    "\n",
    "        dt_geocent = tc #- self.strain_data.start_time\n",
    "        dt = dt_geocent + time_shift\n",
    "        \n",
    "        #return fp_tensor.unsqueeze(-1), fc_tensor.unsqueeze(-1), dt_tensor.unsqueeze(-1)\n",
    "        return fp, fc, dt\n",
    "    \n",
    "    '''\n",
    "    def get_theta(self, injection_parameters):\n",
    "        if self.fix_extrinsic:\n",
    "            reduced_parameter_names = ['chirp_mass', 'mass_ratio', 'a_1', 'a_2', 'tilt_1', 'tilt_2', 'phi_12', 'phi_jl',\n",
    "                    'lambda_tilde', 'delta_lambda_tilde', 'theta_jn', 'phase']\n",
    "            theta = torch.tensor(np.array([injection_parameters[paraname] for paraname in reduced_parameter_names]), dtype=torch.float32).to(self.device).T\n",
    "        else:\n",
    "            theta = torch.tensor(np.array([injection_parameters[paraname] for paraname in self.parameter_names]), dtype=torch.float32).to(self.device).T\n",
    "        return theta\n",
    "    '''\n",
    "\n",
    "    def get_theta(self, injection_parameters):\n",
    "        if self.fix_extrinsic:\n",
    "            parameter_names = ['chirp_mass', 'mass_ratio', 'a_1', 'a_2', 'tilt_1', 'tilt_2', 'phi_12', 'phi_jl',\n",
    "                    'lambda_tilde', 'delta_lambda_tilde', 'theta_jn', 'phase']\n",
    "        else:\n",
    "            parameter_names = self.parameter_names\n",
    "        \n",
    "        theta_list = []\n",
    "        for paraname in parameter_names:\n",
    "            if paraname == 'geocent_time':\n",
    "                paraname = 'timing_error'\n",
    "            if self.reparameterize:\n",
    "                para_re = reparameterize(injection_parameters[paraname], paraname, injection_parameters)\n",
    "            else:\n",
    "                para_re = injection_parameters[paraname]\n",
    "            theta_list.append(para_re)\n",
    "        theta_array = np.array(theta_list)\n",
    "        theta = torch.tensor(theta_array, dtype=torch.float32).to(self.device).T\n",
    "    \n",
    "        return theta\n",
    "    \n",
    "    def update_injection_parameters_batch(self, injection_parameters):\n",
    "        if self.fix_extrinsic:\n",
    "            injection_parameters['ra'] = np.zeros(self.minibatch_size) + 1\n",
    "            injection_parameters['dec'] = np.zeros(self.minibatch_size) + 1\n",
    "            injection_parameters['psi'] = np.zeros(self.minibatch_size) + 1\n",
    "            injection_parameters['geocent_time'] = np.zeros(self.minibatch_size) + 0\n",
    "            #injection_parameters['luminosity_distance'] = generate_random_distance(Nsample=self.minibatch_size, low=self.dmin, high=self.dmax, power=self.dpower)\n",
    "            injection_parameters['luminosity_distance'] = np.zeros(self.minibatch_size) + 100\n",
    "            injection_parameters['timing_error'] = np.zeros(self.minibatch_size) + 0\n",
    "    \n",
    "        else:\n",
    "            injection_parameters['ra'] = np.zeros(self.minibatch_size) + np.random.uniform(0, 2*np.pi)\n",
    "            injection_parameters['dec'] = np.zeros(self.minibatch_size) + np.arcsin(np.random.uniform(-1, 1))\n",
    "            injection_parameters['psi'] = np.zeros(self.minibatch_size) + np.random.uniform(0, np.pi)\n",
    "            injection_parameters['geocent_time'] = np.zeros(self.minibatch_size) + np.random.uniform(-0.1, 0.1)\n",
    "            injection_parameters['luminosity_distance'] = generate_random_distance(Nsample=self.minibatch_size, low=self.dmin, high=self.dmax, power=self.dpower)\n",
    "            injection_parameters['timing_error'] = np.zeros(self.minibatch_size) + np.random.randn() * self.timing_std\n",
    "        \n",
    "        return injection_parameters\n",
    "    \n",
    "    def shuffle_wflist(self):\n",
    "        if self.shuffle:\n",
    "            random.shuffle(self.precalwf_filelist)\n",
    "        \n",
    "    def shuffle_indexinfile(self):\n",
    "        if self.shuffle:\n",
    "            self.random_index_in_file = np.random.permutation(self.sample_per_file)\n",
    "        else:\n",
    "            self.random_index_in_file = np.arange(self.sample_per_file)\n"
   ]
  },
  {
   "cell_type": "code",
   "execution_count": 117,
   "id": "legislative-senate",
   "metadata": {},
   "outputs": [],
   "source": [
    "dataset = DatasetIFTStrainFDFromSVDWFonGPU(valid_filenames, PARAMETER_NAMES_CONTEXT_PRECESSINGBNS_BILBY, data_generator,\n",
    "                                     Nbasis=512, Vhfile=Vhfile, add_noise=False, shuffle=False, fix_extrinsic=True, width=128)\n",
    "\n",
    "dataset_batch = DatasetIFTStrainFDFromSVDWFonGPUBatch(valid_filenames, PARAMETER_NAMES_CONTEXT_PRECESSINGBNS_BILBY, data_generator,\n",
    "                                     Nbasis=512, Vhfile=Vhfile, minibatch_size=20, add_noise=False, shuffle=False, fix_extrinsic=True, width=128)\n",
    "\n"
   ]
  },
  {
   "cell_type": "code",
   "execution_count": 118,
   "id": "fourth-intention",
   "metadata": {},
   "outputs": [
    {
     "name": "stdout",
     "output_type": "stream",
     "text": [
      "CPU times: user 13.3 ms, sys: 116 µs, total: 13.4 ms\n",
      "Wall time: 13.6 ms\n"
     ]
    }
   ],
   "source": [
    "%time theta, x = dataset[1]"
   ]
  },
  {
   "cell_type": "code",
   "execution_count": 119,
   "id": "horizontal-performer",
   "metadata": {},
   "outputs": [
    {
     "name": "stdout",
     "output_type": "stream",
     "text": [
      "CPU times: user 387 ms, sys: 10.3 ms, total: 397 ms\n",
      "Wall time: 202 ms\n"
     ]
    }
   ],
   "source": [
    "%time theta_batch, x_batch = dataset_batch[0]"
   ]
  },
  {
   "cell_type": "code",
   "execution_count": 121,
   "id": "capital-forum",
   "metadata": {},
   "outputs": [
    {
     "data": {
      "text/plain": [
       "22.22222222222222"
      ]
     },
     "execution_count": 121,
     "metadata": {},
     "output_type": "execute_result"
    }
   ],
   "source": [
    "8e6 * 0.2 / 20 / 3600"
   ]
  },
  {
   "cell_type": "code",
   "execution_count": 102,
   "id": "super-organic",
   "metadata": {},
   "outputs": [
    {
     "data": {
      "text/plain": [
       "(tensor([ 0.3389,  0.4605, -1.4539, -1.4134, -1.1993, -0.3965,  0.4284,  0.7802,\n",
       "         -0.0776,  0.5869, -0.0175, -0.7249], device='cuda:0'),\n",
       " tensor([ 0.3389,  0.4605, -1.4539, -1.4134, -1.1993, -0.3965,  0.4284,  0.7802,\n",
       "         -0.0776,  0.5869, -0.0175, -0.7249], device='cuda:0'))"
      ]
     },
     "execution_count": 102,
     "metadata": {},
     "output_type": "execute_result"
    }
   ],
   "source": [
    "theta, theta_batch[1]"
   ]
  },
  {
   "cell_type": "code",
   "execution_count": 103,
   "id": "integral-gospel",
   "metadata": {},
   "outputs": [
    {
     "data": {
      "text/plain": [
       "tensor(4.7684e-07, device='cuda:0')"
      ]
     },
     "execution_count": 103,
     "metadata": {},
     "output_type": "execute_result"
    }
   ],
   "source": [
    "torch.max(x - x_batch[1])"
   ]
  },
  {
   "cell_type": "code",
   "execution_count": null,
   "id": "competent-honolulu",
   "metadata": {},
   "outputs": [],
   "source": []
  },
  {
   "cell_type": "code",
   "execution_count": 19,
   "id": "individual-causing",
   "metadata": {},
   "outputs": [],
   "source": [
    "a = torch.randn([500, 31169])\n",
    "b = torch.randn([31169])\n",
    "c = torch.randn([31169, 512])"
   ]
  },
  {
   "cell_type": "code",
   "execution_count": 16,
   "id": "third-midnight",
   "metadata": {},
   "outputs": [
    {
     "data": {
      "text/plain": [
       "torch.Size([500, 31169])"
      ]
     },
     "execution_count": 16,
     "metadata": {},
     "output_type": "execute_result"
    }
   ],
   "source": [
    "(a * b).shape"
   ]
  },
  {
   "cell_type": "code",
   "execution_count": null,
   "id": "attached-fault",
   "metadata": {},
   "outputs": [],
   "source": [
    "(a * b).unsqueeze(-1)"
   ]
  },
  {
   "cell_type": "code",
   "execution_count": 20,
   "id": "broke-button",
   "metadata": {},
   "outputs": [
    {
     "data": {
      "text/plain": [
       "torch.Size([500, 31169, 512])"
      ]
     },
     "execution_count": 20,
     "metadata": {},
     "output_type": "execute_result"
    }
   ],
   "source": [
    "((a * b).unsqueeze(-1) * c).shape"
   ]
  },
  {
   "cell_type": "code",
   "execution_count": null,
   "id": "practical-trail",
   "metadata": {},
   "outputs": [],
   "source": []
  },
  {
   "cell_type": "code",
   "execution_count": 26,
   "id": "continent-greene",
   "metadata": {},
   "outputs": [
    {
     "data": {
      "text/plain": [
       "tensor([-0.3251, -0.2421, -1.5789, -1.6889,  0.6401,  0.5867, -1.1906, -1.4300,\n",
       "        -1.0973,  0.5890,  0.0692, -0.8918], device='cuda:0')"
      ]
     },
     "execution_count": 26,
     "metadata": {},
     "output_type": "execute_result"
    }
   ],
   "source": [
    "theta"
   ]
  },
  {
   "cell_type": "code",
   "execution_count": 27,
   "id": "mechanical-carrier",
   "metadata": {},
   "outputs": [
    {
     "data": {
      "text/plain": [
       "torch.Size([3072, 129])"
      ]
     },
     "execution_count": 27,
     "metadata": {},
     "output_type": "execute_result"
    }
   ],
   "source": [
    "x.shape"
   ]
  },
  {
   "cell_type": "code",
   "execution_count": 28,
   "id": "exempt-toolbox",
   "metadata": {},
   "outputs": [
    {
     "data": {
      "text/plain": [
       "3072"
      ]
     },
     "execution_count": 28,
     "metadata": {},
     "output_type": "execute_result"
    }
   ],
   "source": [
    "6*512"
   ]
  },
  {
   "cell_type": "code",
   "execution_count": null,
   "id": "equivalent-farming",
   "metadata": {},
   "outputs": [],
   "source": []
  },
  {
   "cell_type": "markdown",
   "id": "rational-movement",
   "metadata": {},
   "source": [
    "# Conv"
   ]
  },
  {
   "cell_type": "code",
   "execution_count": 33,
   "id": "similar-detector",
   "metadata": {},
   "outputs": [],
   "source": [
    "conv_layer_real = torch.nn.Conv1d(in_channels=1, out_channels=V.shape[1], kernel_size=V.shape[0], bias=False)\n",
    "conv_layer_imag = torch.nn.Conv1d(in_channels=1, out_channels=V.shape[1], kernel_size=V.shape[0], bias=False)\n",
    "\n",
    "conv_layer_real.weight.data[:,0,:] = torch.from_numpy(V.T.real)\n",
    "conv_layer_imag.weight.data[:,0,:] = torch.from_numpy(V.T.imag)\n",
    "\n",
    "noise_r = torch.randn((1,V.shape[0]))\n",
    "noise_i = torch.randn((1,V.shape[0]))\n",
    "\n",
    "\n",
    "conv_noise_r = conv_layer_real(noise_i).T.detach().numpy()\n",
    "conv_noise_i = conv_layer_imag(noise_r).T.detach().numpy()\n",
    "conv_noise = conv_noise_r + conv_noise_i\n",
    "\n",
    "_ = plt.hist(noise_r, density=True, alpha=0.5, bins=50, cumulative=True)\n",
    "_ = plt.hist(conv_noise[0], density=True, alpha=0.5, bins=50, cumulative=True)"
   ]
  },
  {
   "cell_type": "code",
   "execution_count": null,
   "id": "monthly-communist",
   "metadata": {},
   "outputs": [],
   "source": []
  },
  {
   "cell_type": "code",
   "execution_count": 131,
   "id": "developed-asian",
   "metadata": {},
   "outputs": [],
   "source": [
    "\n",
    "class DatasetConvStrainFDFromSVDWFonGPU(Dataset):\n",
    "    '''\n",
    "    Simulate FD data in SVD-basis-convolved space from pre-calculated SVD waveforms, optimized for GPU or CPU computation.\n",
    "    '''\n",
    "    def __init__(self, precalwf_filelist, parameter_names, data_generator, Nbasis, Vhfile,\n",
    "                dmin=10, dmax=200, dpower=1, loadwf=False, device='cuda',\n",
    "                is_complex = False, add_noise=True, fix_extrinsic=False, shuffle=False, reparameterize=True):\n",
    "        self.precalwf_filelist = precalwf_filelist\n",
    "        self.parameter_names = parameter_names\n",
    "        self.data_generator = data_generator\n",
    "        self.Nbasis = Nbasis\n",
    "        self.dmin = dmin\n",
    "        self.dmax = dmax\n",
    "        self.dpower = dpower\n",
    "        self.loadwf = loadwf\n",
    "        self.device = device\n",
    "        self.complex = is_complex\n",
    "        self.add_noise = add_noise\n",
    "        self.fix_extrinsic = fix_extrinsic\n",
    "        self.shuffle = shuffle\n",
    "        self.reparameterize = reparameterize\n",
    "        \n",
    "        # Load V and Vh matrices and convert to tensors\n",
    "        self.V, self.Vh = loadVandVh(Vhfile, Nbasis)\n",
    "        self.V = torch.from_numpy(self.V).to(self.device).type(torch.complex64)\n",
    "        self.Vh = torch.from_numpy(self.Vh).to(self.device).type(torch.complex64)\n",
    "\n",
    "        self.conv_layer_real = torch.nn.Conv1d(in_channels=1, out_channels=self.V.shape[1],\n",
    "                                               kernel_size=self.V.shape[0], bias=False).to(device)\n",
    "        self.conv_layer_imag = torch.nn.Conv1d(in_channels=1, out_channels=self.V.shape[1],\n",
    "                                               kernel_size=self.V.shape[0], bias=False).to(device)\n",
    "        self.conv_layer_real.weight.data[:,0,:] = self.V.T.real\n",
    "        self.conv_layer_imag.weight.data[:,0,:] = self.V.T.imag\n",
    "        self.conv_layer_real.eval()\n",
    "        self.conv_layer_imag.eval()\n",
    "        \n",
    "        self.farray = torch.from_numpy(data_generator.frequency_array_masked).float().to(self.device)\n",
    "        self.ifos = data_generator.ifos\n",
    "        self.det_data = self.prepare_detector_data()\n",
    "        \n",
    "        testfile = load_dict_from_hdf5(precalwf_filelist[0])\n",
    "        self.sample_per_file = len(testfile['injection_parameters']['chirp_mass'])\n",
    "        self.Nfile = len(self.precalwf_filelist)\n",
    "        self.Nsample = self.Nfile * self.sample_per_file \n",
    "        self.cached_wf_file = testfile\n",
    "        self.cached_wf_file_index = 0\n",
    "        \n",
    "        self.shuffle_indexinfile()\n",
    "            \n",
    "    def prepare_detector_data(self):\n",
    "        det_data = {}\n",
    "        for det in self.ifos:\n",
    "            detname = det.name\n",
    "            psd = det.power_spectral_density_array[self.data_generator.frequency_mask]\n",
    "            psd = torch.from_numpy(psd).double().to(self.device)\n",
    "            whiten_factor = 1/(psd*det.duration/4)**0.5\n",
    "            whitened_V = (self.V.T * whiten_factor ).T\n",
    "            det_data[detname] = {'whitened_V': whitened_V.type(torch.complex64),\n",
    "                                'whiten_factor': whiten_factor}\n",
    "        return det_data\n",
    "\n",
    "    def __len__(self):\n",
    "        return len(self.precalwf_filelist) * self.sample_per_file\n",
    "\n",
    "    def __getitem__(self, index):\n",
    "        index_of_file, index_in_file = self.get_index(index, self.sample_per_file)\n",
    "        wf_dict = self.get_precalwf_dict(index_of_file)\n",
    "        hp_svd, hc_svd = self.get_waveform_tensors(wf_dict, index_in_file)\n",
    "\n",
    "        injection_parameters = self.get_injection_parameters(wf_dict,index_in_file)\n",
    "        injection_parameters = self.update_injection_parameters(injection_parameters)\n",
    "        hp_svd = hp_svd/injection_parameters['luminosity_distance']\n",
    "        hc_svd = hc_svd/injection_parameters['luminosity_distance']\n",
    "        #x_real, x_imag = self.compute_strain_tensors(hp_svd, hc_svd, injection_parameters)\n",
    "        x = self.compute_strain_tensors(hp_svd, hc_svd, injection_parameters)\n",
    "\n",
    "        theta = self.get_theta(injection_parameters)\n",
    "        #return theta, torch.cat((x_real, x_imag)).float()\n",
    "        if self.complex:\n",
    "            return theta, x \n",
    "        else:\n",
    "            return theta, torch.cat((x.real, x.imag)).float()\n",
    "\n",
    "    def get_index(self, index, sample_per_file):\n",
    "        index_of_file = index // sample_per_file\n",
    "        index_in_file = index - index_of_file*sample_per_file\n",
    "        \n",
    "        return index_of_file, index_in_file\n",
    "    \n",
    "    def get_precalwf_dict(self, index_of_file):\n",
    "        if self.cached_wf_file_index == index_of_file:\n",
    "            return self.cached_wf_file\n",
    "        else:\n",
    "            wf_dict = load_dict_from_hdf5(self.precalwf_filelist[index_of_file])\n",
    "            self.cached_wf_file = wf_dict\n",
    "            self.cached_wf_file_index = index_of_file\n",
    "            return wf_dict\n",
    "        \n",
    "    def get_waveform_tensors(self, wf_dict, index_in_file):\n",
    "        index_in_file = self.random_index_in_file[index_in_file]\n",
    "        hp_svd = (torch.from_numpy(wf_dict['waveform_polarizations']['plus']['amplitude'][index_in_file]) *\\\n",
    "            torch.exp(1j*torch.from_numpy(wf_dict['waveform_polarizations']['plus']['phase'][index_in_file])).type(torch.complex64)).to(self.device)\n",
    "        hc_svd = (torch.from_numpy(wf_dict['waveform_polarizations']['cross']['amplitude'][index_in_file]) *\\\n",
    "            torch.exp(1j*torch.from_numpy(wf_dict['waveform_polarizations']['cross']['phase'][index_in_file])).type(torch.complex64)).to(self.device)\n",
    "        \n",
    "        return hp_svd, hc_svd\n",
    "\n",
    "    def get_injection_parameters(self, wf_dict, index_in_file):\n",
    "        index_in_file = self.random_index_in_file[index_in_file]\n",
    "        injection_parameters = {key: wf_dict['injection_parameters'][key][index_in_file] for key in ['chirp_mass', 'mass_ratio', 'a_1', 'a_2', 'tilt_1', 'tilt_2', 'phi_12', 'phi_jl',\n",
    "                    'lambda_tilde', 'delta_lambda_tilde', 'theta_jn', 'phase']}\n",
    "        return injection_parameters\n",
    "\n",
    "    def get_noise_tensors(self, ):\n",
    "        white_noise = (torch.randn(self.Nbasis, device=self.device) + 1j * torch.randn(self.Nbasis, device=self.device)).type(torch.complex64)\n",
    "\n",
    "        return white_noise\n",
    "    \n",
    "    def compute_strain_tensors(self, hp_svd, hc_svd, injection_parameters):\n",
    "        num_ifos = len(self.ifos)\n",
    "        #x_real = torch.zeros((num_ifos, self.Nbasis), dtype=torch.float32, device=self.device)\n",
    "        #x_imag = torch.zeros((num_ifos, self.Nbasis), dtype=torch.float32, device=self.device)\n",
    "        x = torch.zeros((num_ifos, self.Nbasis), dtype=torch.complex64, device=self.device)\n",
    "        for i, det in enumerate(self.ifos):\n",
    "            detname = det.name\n",
    "\n",
    "            fp, fc, dt = self.compute_detector_factors(det, injection_parameters)\n",
    "            phase2add = torch.exp(-1j * 2 * np.pi * dt * self.farray)\n",
    "            Vh_recons = self.Vh * phase2add.unsqueeze(0)  # Ensure proper broadcasting\n",
    "            \n",
    "            h_full_whitened = torch.matmul((fp*hp_svd + fc*hc_svd).type(torch.complex64), Vh_recons) * \\\n",
    "                self.det_data[detname]['whiten_factor']\n",
    "            \n",
    "            h_full_whitened_real = h_full_whitened.real.type(torch.float).unsqueeze(0)\n",
    "            h_full_whitened_imag = h_full_whitened.imag.type(torch.float).unsqueeze(0)\n",
    "            h_conv_real = self.conv_layer_real(h_full_whitened_real) - self.conv_layer_imag(h_full_whitened_imag)\n",
    "            h_conv_imag = self.conv_layer_real(h_full_whitened_imag) + self.conv_layer_imag(h_full_whitened_real)\n",
    "            h_conv = (h_conv_real.T + 1j*h_conv_imag.T).type(torch.complex64)\n",
    "            if self.add_noise:\n",
    "                n_conv = self.get_noise_tensors()\n",
    "                d_conv = h_conv + n_conv\n",
    "            else:\n",
    "                d_conv = h_conv\n",
    "            \n",
    "            #x_real[i] = d_conv.real\n",
    "            #x_imag[i] = d_conv.imag\n",
    "            x[i] = d_conv\n",
    "        #return x_real, x_imag\n",
    "        return x\n",
    "\n",
    "    def compute_detector_factors(self, det, injection_parameters):\n",
    "        # These calculations remain on CPU as they cannot be efficiently vectorized or moved to GPU\n",
    "        ra = injection_parameters['ra']\n",
    "        dec = injection_parameters['dec']\n",
    "        tc = injection_parameters['geocent_time']\n",
    "        psi = injection_parameters['psi']\n",
    "        fp = det.antenna_response(ra , dec, tc, psi, 'plus')\n",
    "        fc = det.antenna_response(ra , dec, tc, psi, 'cross')\n",
    "        time_shift = det.time_delay_from_geocenter(ra , dec, tc)\n",
    "        \n",
    "        dt_geocent = tc #- self.strain_data.start_time\n",
    "        dt = dt_geocent + time_shift\n",
    "            \n",
    "        return fp, fc, dt\n",
    "\n",
    "    def get_theta(self, injection_parameters):\n",
    "        if self.fix_extrinsic:\n",
    "            parameter_names = ['chirp_mass', 'mass_ratio', 'a_1', 'a_2', 'tilt_1', 'tilt_2', 'phi_12', 'phi_jl',\n",
    "                    'lambda_tilde', 'delta_lambda_tilde', 'theta_jn', 'phase']\n",
    "        else:\n",
    "            parameter_names = self.parameter_names\n",
    "        \n",
    "        theta_list = []\n",
    "        for paraname in parameter_names:\n",
    "            if self.reparameterize:\n",
    "                para_re = reparameterize(injection_parameters[paraname], paraname)\n",
    "            else:\n",
    "                para_re = injection_parameters[paraname]\n",
    "            theta_list.append(para_re)\n",
    "        theta_array = np.array(theta_list)\n",
    "        theta = torch.tensor(theta_array, dtype=torch.float32).to(self.device).T\n",
    "    \n",
    "        return theta\n",
    "    \n",
    "    def update_injection_parameters(self, injection_parameters):\n",
    "        if self.fix_extrinsic:\n",
    "            injection_parameters['ra'] = 1\n",
    "            injection_parameters['dec'] = 1\n",
    "            injection_parameters['psi'] = 1\n",
    "            injection_parameters['geocent_time'] = 0\n",
    "            #injection_parameters['luminosity_distance'] = generate_random_distance(Nsample=1, low=self.dmin, high=self.dmax, power=self.dpower)[0]\n",
    "            injection_parameters['luminosity_distance'] = 100\n",
    "        else:\n",
    "            injection_parameters['ra'] = np.random.uniform(0, 2*np.pi)\n",
    "            injection_parameters['dec'] = np.arcsin(np.random.uniform(-1, 1))\n",
    "            injection_parameters['psi'] = np.random.uniform(0, np.pi)\n",
    "            injection_parameters['geocent_time'] = np.random.uniform(-0.1, 0.1)\n",
    "            injection_parameters['luminosity_distance'] = generate_random_distance(Nsample=1, low=self.dmin, high=self.dmax, power=self.dpower)[0]\n",
    "    \n",
    "        return injection_parameters\n",
    "    \n",
    "    def shuffle_wflist(self):\n",
    "        if self.shuffle:\n",
    "            random.shuffle(self.precalwf_filelist)\n",
    "        \n",
    "    def shuffle_indexinfile(self):\n",
    "        if self.shuffle:\n",
    "            self.random_index_in_file = np.random.permutation(self.sample_per_file)\n",
    "        else:\n",
    "            self.random_index_in_file = np.arange(self.sample_per_file)"
   ]
  },
  {
   "cell_type": "code",
   "execution_count": 132,
   "id": "arranged-meditation",
   "metadata": {},
   "outputs": [],
   "source": [
    "\n",
    "class DatasetConvStrainFDFromSVDWFonGPUBatch(Dataset):\n",
    "    '''\n",
    "    Simulate FD data in SVD-basis-convolved space from pre-calculated SVD waveforms, optimized for GPU or CPU computation.\n",
    "\n",
    "    Load a batch of data, i.e. return [minibatch_size, dim1, dim2, ...]. The batch size should be 2^N. \n",
    "    '''\n",
    "    def __init__(self, precalwf_filelist, parameter_names, data_generator, Nbasis, Vhfile,\n",
    "                dmin=10, dmax=200, dpower=1, loadwf=False, device='cuda',\n",
    "                is_complex=False, add_noise=True, minibatch_size=1, fix_extrinsic=False, shuffle=True, reparameterize=True):\n",
    "        self.precalwf_filelist = precalwf_filelist\n",
    "        self.parameter_names = parameter_names\n",
    "        self.data_generator = data_generator\n",
    "        self.Nbasis = Nbasis\n",
    "        self.dmin = dmin\n",
    "        self.dmax = dmax\n",
    "        self.dpower = dpower\n",
    "        self.loadwf = loadwf\n",
    "        self.device = device\n",
    "        self.minibatch_size = minibatch_size\n",
    "        self.complex = is_complex\n",
    "        self.add_noise = add_noise\n",
    "        self.fix_extrinsic = fix_extrinsic\n",
    "        self.shuffle = shuffle\n",
    "        self.reparameterize = reparameterize\n",
    "\n",
    "        # Load V and Vh matrices and convert to tensors\n",
    "        self.V, self.Vh = loadVandVh(Vhfile, Nbasis)\n",
    "        self.V = torch.from_numpy(self.V).to(self.device).type(torch.complex64)\n",
    "        self.Vh = torch.from_numpy(self.Vh).to(self.device).type(torch.complex64)\n",
    "        self.conv_layer_real = torch.nn.Conv1d(in_channels=1, out_channels=self.V.shape[1],\n",
    "                                               kernel_size=self.V.shape[0], bias=False).to(device)\n",
    "        self.conv_layer_imag = torch.nn.Conv1d(in_channels=1, out_channels=self.V.shape[1],\n",
    "                                               kernel_size=self.V.shape[0], bias=False).to(device)\n",
    "        self.conv_layer_real.weight.data[:,0,:] = self.V.T.real\n",
    "        self.conv_layer_imag.weight.data[:,0,:] = self.V.T.imag\n",
    "        self.conv_layer_real.eval()\n",
    "        self.conv_layer_imag.eval()\n",
    "        \n",
    "        self.farray = torch.from_numpy(data_generator.frequency_array_masked).float().to(self.device)\n",
    "        self.ifos = data_generator.ifos\n",
    "        self.det_data = self.prepare_detector_data()\n",
    "        \n",
    "        testfile = load_dict_from_hdf5(precalwf_filelist[0])\n",
    "        self.sample_per_file = len(testfile['injection_parameters']['chirp_mass'])\n",
    "        #if self.sample_per_file<self.minibatch_size:\n",
    "        #    raise ValueError(\"Sample per file < batch size!\")\n",
    "        self.Nfile = len(self.precalwf_filelist)\n",
    "        self.Nsample = self.Nfile * self.sample_per_file \n",
    "        self.cached_wf_file = testfile\n",
    "        self.cached_wf_file_index = 0\n",
    "            \n",
    "        self.shuffle_indexinfile()\n",
    "        \n",
    "    def prepare_detector_data(self):\n",
    "        det_data = {}\n",
    "        for det in self.ifos:\n",
    "            detname = det.name\n",
    "            psd = det.power_spectral_density_array[self.data_generator.frequency_mask]\n",
    "            psd = torch.from_numpy(psd).double().to(self.device)\n",
    "            whiten_factor = 1/(psd*det.duration/4)**0.5\n",
    "            whitened_V = (self.V.T * whiten_factor ).T\n",
    "            det_data[detname] = {'whitened_V': whitened_V.type(torch.complex64),\n",
    "                                'whiten_factor': whiten_factor}\n",
    "        return det_data\n",
    "\n",
    "    def __len__(self):\n",
    "        return len(self.precalwf_filelist) * self.sample_per_file // self.minibatch_size\n",
    "\n",
    "    def __getitem__(self, index):\n",
    "        index = index*self.minibatch_size\n",
    "        \n",
    "        index_end = index + self.minibatch_size\n",
    "        index_of_file, index_in_file = self.get_index(index, self.sample_per_file)\n",
    "        index_of_file_end, index_in_file_end = self.get_index(index_end, self.sample_per_file)\n",
    "        if index_of_file_end>=len(self.precalwf_filelist):\n",
    "            index_of_file_end = len(self.precalwf_filelist)-1\n",
    "            index_in_file_end = self.sample_per_file\n",
    "        wf_dict_list = []\n",
    "        for i in range(index_of_file, index_of_file_end+1):\n",
    "            wf_dict_list.append(self.get_precalwf_dict(i))\n",
    "        \n",
    "        hp_svd, hc_svd = self.get_waveform_tensors_batch(wf_dict_list, index_in_file, index_in_file_end)\n",
    "        injection_parameters = self.get_injection_parameters_batch(wf_dict_list,index_in_file, index_in_file_end)\n",
    "        injection_parameters = self.update_injection_parameters_batch(injection_parameters)\n",
    "        \n",
    "        dL = torch.from_numpy(injection_parameters['luminosity_distance']).to(self.device).unsqueeze(-1)\n",
    "        hp_svd = hp_svd/dL\n",
    "        hc_svd = hc_svd/dL\n",
    "\n",
    "        #x_real, x_imag = self.compute_strain_tensors_batch(hp_svd, hc_svd, injection_parameters)\n",
    "        x = self.compute_strain_tensors_batch(hp_svd, hc_svd, injection_parameters)\n",
    "\n",
    "        theta = self.get_theta(injection_parameters)\n",
    "        if self.complex:\n",
    "            return theta, x \n",
    "        else:\n",
    "            return theta, torch.cat((x.real, x.imag), axis=1).float()\n",
    "\n",
    "    def get_index(self, index, sample_per_file):\n",
    "        index_of_file = index // sample_per_file\n",
    "        index_in_file = index - index_of_file*sample_per_file\n",
    "\n",
    "        return index_of_file, index_in_file\n",
    "    \n",
    "    def get_precalwf_dict(self, index_of_file):\n",
    "        if self.cached_wf_file_index == index_of_file:\n",
    "            return self.cached_wf_file\n",
    "        else:\n",
    "            try:\n",
    "                wf_dict = load_dict_from_hdf5(self.precalwf_filelist[index_of_file])\n",
    "            except:\n",
    "                raise Exception(f'index_of_file: {index_of_file}')\n",
    "            self.cached_wf_file = wf_dict\n",
    "            self.cached_wf_file_index = index_of_file\n",
    "            return wf_dict\n",
    "        \n",
    "    def get_waveform_tensors_batch(self, wf_dict_list, index_in_file, index_in_file_end):\n",
    "        for i, wf_dict in enumerate(wf_dict_list):\n",
    "            if i==len(wf_dict_list)-1:\n",
    "                end_index = index_in_file_end\n",
    "            else:\n",
    "                end_index = self.sample_per_file\n",
    "            if i==0:\n",
    "                index = self.random_index_in_file[index_in_file:end_index]\n",
    "                hp_svd = (torch.from_numpy(wf_dict['waveform_polarizations']['plus']['amplitude'][index]) *\\\n",
    "                    torch.exp(1j*torch.from_numpy(wf_dict['waveform_polarizations']['plus']['phase'][index])).type(torch.complex64)).to(self.device)\n",
    "                hc_svd = (torch.from_numpy(wf_dict['waveform_polarizations']['cross']['amplitude'][index]) *\\\n",
    "                    torch.exp(1j*torch.from_numpy(wf_dict['waveform_polarizations']['cross']['phase'][index])).type(torch.complex64)).to(self.device)\n",
    "            else:\n",
    "                index = self.random_index_in_file[index_in_file:end_index]\n",
    "                hp_svd_new = (torch.from_numpy(wf_dict['waveform_polarizations']['plus']['amplitude'][index]) *\\\n",
    "                    torch.exp(1j*torch.from_numpy(wf_dict['waveform_polarizations']['plus']['phase'][index])).type(torch.complex64)).to(self.device)\n",
    "                hc_svd_new = (torch.from_numpy(wf_dict['waveform_polarizations']['cross']['amplitude'][index]) *\\\n",
    "                    torch.exp(1j*torch.from_numpy(wf_dict['waveform_polarizations']['cross']['phase'][index])).type(torch.complex64)).to(self.device)\n",
    "\n",
    "                hp_svd = torch.cat((hp_svd,hp_svd_new))\n",
    "                hc_svd = torch.cat((hc_svd,hc_svd_new))\n",
    "                    \n",
    "            \n",
    "        return hp_svd, hc_svd\n",
    "\n",
    "    def get_injection_parameters_batch(self, wf_dict_list, index_in_file, index_in_file_end):\n",
    "        para_name_list = ['chirp_mass', 'mass_ratio', 'a_1', 'a_2', 'tilt_1', 'tilt_2', 'phi_12', 'phi_jl',\n",
    "                    'lambda_tilde', 'delta_lambda_tilde', 'theta_jn', 'phase']\n",
    "        for i, wf_dict in enumerate(wf_dict_list):\n",
    "            if i==len(wf_dict_list)-1:\n",
    "                end_index = index_in_file_end\n",
    "            else:\n",
    "                end_index = self.sample_per_file\n",
    "\n",
    "            index_random = self.random_index_in_file[index_in_file:end_index]\n",
    "            if i==0:\n",
    "                injection_parameters = {key: wf_dict['injection_parameters'][key][index_random] for key in para_name_list}\n",
    "            else:\n",
    "                injection_parameters = {key: np.append(injection_parameters[key], wf_dict['injection_parameters'][key][index_random]) for key in para_name_list}\n",
    "\n",
    "        return injection_parameters\n",
    "\n",
    "    def get_noise_tensors_batch(self, ):\n",
    "        white_noise = (torch.randn((self.minibatch_size, self.Nbasis), device=self.device) + \\\n",
    "                       1j * torch.randn((self.minibatch_size, self.Nbasis), device=self.device)).type(torch.complex64)\n",
    "\n",
    "        return white_noise\n",
    "    \n",
    "    def compute_strain_tensors_batch(self, hp_svd, hc_svd, injection_parameters):\n",
    "        num_ifos = len(self.ifos)\n",
    "        #x_real = torch.zeros((self.minibatch_size, num_ifos, self.Nbasis), dtype=torch.float32, device=self.device)\n",
    "        #x_imag = torch.zeros((self.minibatch_size, num_ifos, self.Nbasis), dtype=torch.float32, device=self.device)\n",
    "        x = torch.zeros((self.minibatch_size, num_ifos, self.Nbasis), dtype=torch.complex64, device=self.device)\n",
    "        for i,det in enumerate(self.ifos):\n",
    "            detname = det.name\n",
    "        \n",
    "            fp, fc, dt = self.compute_detector_factors_batch(det, injection_parameters)\n",
    "            phase2add = torch.exp(-1j * 2 * np.pi * dt * self.farray)\n",
    "            Vh_recons = (self.Vh * phase2add.unsqueeze(0)).type(torch.complex64)  # Ensure proper broadcasting            \n",
    "            \n",
    "            h_full_whitened = torch.matmul((fp*hp_svd + fc*hc_svd).type(torch.complex64), Vh_recons) * \\\n",
    "                self.det_data[detname]['whiten_factor']\n",
    "            \n",
    "            h_full_whitened_real = h_full_whitened.real.type(torch.float).unsqueeze(1)\n",
    "            h_full_whitened_imag = h_full_whitened.imag.type(torch.float).unsqueeze(1)\n",
    "            h_conv_real = self.conv_layer_real(h_full_whitened_real) - self.conv_layer_imag(h_full_whitened_imag)\n",
    "            h_conv_imag = self.conv_layer_real(h_full_whitened_imag) + self.conv_layer_imag(h_full_whitened_real)\n",
    "            h_conv = (h_conv_real + 1j*h_conv_imag).type(torch.complex64).squeeze(-1)\n",
    "            \n",
    "            if self.add_noise:\n",
    "                n_conv = self.get_noise_tensors_batch()\n",
    "                d_conv = h_conv + n_conv\n",
    "            else:\n",
    "                d_conv = h_conv\n",
    "                \n",
    "            \n",
    "            #x_real[:,i,:] = d_conv.real\n",
    "            #x_imag[:,i,:] = d_conv.imag\n",
    "            x[:,i,:] = d_conv\n",
    "            \n",
    "\n",
    "        return x\n",
    "    \n",
    "    def compute_detector_factors_batch(self, det, injection_parameters):\n",
    "        # These calculations remain on CPU as they cannot be efficiently vectorized or moved to GPU\n",
    "        #fp_tensor = torch.zeros((self.minibatch_size), dtype=torch.float32, device=self.device)\n",
    "        #fc_tensor = torch.zeros((self.minibatch_size), dtype=torch.float32, device=self.device)\n",
    "        #dt_tensor = torch.zeros((self.minibatch_size), dtype=torch.float32, device=self.device)\n",
    "        '''\n",
    "        for i in range(len(injection_parameters['ra'])):\n",
    "            \n",
    "            ra = injection_parameters['ra'][i]\n",
    "            dec = injection_parameters['dec'][i]\n",
    "            tc = injection_parameters['geocent_time'][i]\n",
    "            psi = injection_parameters['psi'][i]\n",
    "            \n",
    "            fp = det.antenna_response(ra, dec, tc, psi, 'plus')\n",
    "            fc = det.antenna_response(ra, dec, tc, psi, 'cross')\n",
    "            time_shift = det.time_delay_from_geocenter(ra, dec, tc)\n",
    "            \n",
    "            dt_geocent = tc #- self.strain_data.start_time\n",
    "            dt = dt_geocent + time_shift\n",
    "            \n",
    "            fp_tensor[i] = fp\n",
    "            fc_tensor[i] = fc\n",
    "            dt_tensor[i] = dt\n",
    "        '''\n",
    "        ra = injection_parameters['ra'][0]\n",
    "        dec = injection_parameters['dec'][0]\n",
    "        tc = injection_parameters['geocent_time'][0]\n",
    "        psi = injection_parameters['psi'][0]\n",
    "\n",
    "        fp = det.antenna_response(ra, dec, tc, psi, 'plus')\n",
    "        fc = det.antenna_response(ra, dec, tc, psi, 'cross')\n",
    "        time_shift = det.time_delay_from_geocenter(ra, dec, tc)\n",
    "\n",
    "        dt_geocent = tc #- self.strain_data.start_time\n",
    "        dt = dt_geocent + time_shift\n",
    "        \n",
    "        #return fp_tensor.unsqueeze(-1), fc_tensor.unsqueeze(-1), dt_tensor.unsqueeze(-1)\n",
    "        return fp, fc, dt\n",
    "    \n",
    "    '''\n",
    "    def get_theta(self, injection_parameters):\n",
    "        if self.fix_extrinsic:\n",
    "            reduced_parameter_names = ['chirp_mass', 'mass_ratio', 'a_1', 'a_2', 'tilt_1', 'tilt_2', 'phi_12', 'phi_jl',\n",
    "                    'lambda_tilde', 'delta_lambda_tilde', 'theta_jn', 'phase']\n",
    "            theta = torch.tensor(np.array([injection_parameters[paraname] for paraname in reduced_parameter_names]), dtype=torch.float32).to(self.device).T\n",
    "        else:\n",
    "            theta = torch.tensor(np.array([injection_parameters[paraname] for paraname in self.parameter_names]), dtype=torch.float32).to(self.device).T\n",
    "        return theta\n",
    "    '''\n",
    "\n",
    "    def get_theta(self, injection_parameters):\n",
    "        if self.fix_extrinsic:\n",
    "            parameter_names = ['chirp_mass', 'mass_ratio', 'a_1', 'a_2', 'tilt_1', 'tilt_2', 'phi_12', 'phi_jl',\n",
    "                    'lambda_tilde', 'delta_lambda_tilde', 'theta_jn', 'phase']\n",
    "        else:\n",
    "            parameter_names = self.parameter_names\n",
    "        \n",
    "        theta_list = []\n",
    "        for paraname in parameter_names:\n",
    "            if self.reparameterize:\n",
    "                para_re = reparameterize(injection_parameters[paraname], paraname)\n",
    "            else:\n",
    "                para_re = injection_parameters[paraname]\n",
    "            theta_list.append(para_re)\n",
    "        theta_array = np.array(theta_list)\n",
    "        theta = torch.tensor(theta_array, dtype=torch.float32).to(self.device).T\n",
    "    \n",
    "        return theta\n",
    "    \n",
    "    def update_injection_parameters_batch(self, injection_parameters):\n",
    "        if self.fix_extrinsic:\n",
    "            injection_parameters['ra'] = np.zeros(self.minibatch_size) + 1\n",
    "            injection_parameters['dec'] = np.zeros(self.minibatch_size) + 1\n",
    "            injection_parameters['psi'] = np.zeros(self.minibatch_size) + 1\n",
    "            injection_parameters['geocent_time'] = np.zeros(self.minibatch_size) + 0\n",
    "            #injection_parameters['luminosity_distance'] = generate_random_distance(Nsample=self.minibatch_size, low=self.dmin, high=self.dmax, power=self.dpower)\n",
    "            injection_parameters['luminosity_distance'] = np.zeros(self.minibatch_size) + 100\n",
    "    \n",
    "        else:\n",
    "            injection_parameters['ra'] = np.zeros(self.minibatch_size) + np.random.uniform(0, 2*np.pi)\n",
    "            injection_parameters['dec'] = np.zeros(self.minibatch_size) + np.arcsin(np.random.uniform(-1, 1))\n",
    "            injection_parameters['psi'] = np.zeros(self.minibatch_size) + np.random.uniform(0, np.pi)\n",
    "            injection_parameters['geocent_time'] = np.zeros(self.minibatch_size) + np.random.uniform(-0.1, 0.1)\n",
    "            injection_parameters['luminosity_distance'] = generate_random_distance(Nsample=self.minibatch_size, low=self.dmin, high=self.dmax, power=self.dpower)\n",
    "        \n",
    "        return injection_parameters\n",
    "    \n",
    "    def shuffle_wflist(self):\n",
    "        if self.shuffle:\n",
    "            random.shuffle(self.precalwf_filelist)\n",
    "        \n",
    "    def shuffle_indexinfile(self):\n",
    "        if self.shuffle:\n",
    "            self.random_index_in_file = np.random.permutation(self.sample_per_file)\n",
    "        else:\n",
    "            self.random_index_in_file = np.arange(self.sample_per_file)\n"
   ]
  },
  {
   "cell_type": "code",
   "execution_count": 133,
   "id": "major-feeding",
   "metadata": {},
   "outputs": [],
   "source": [
    "dataset = DatasetConvStrainFDFromSVDWFonGPU(valid_filenames, PARAMETER_NAMES_CONTEXT_PRECESSINGBNS_BILBY, data_generator,\n",
    "                                     Nbasis=512, Vhfile=Vhfile, add_noise=False, shuffle=False, fix_extrinsic=True)\n",
    "\n",
    "dataset_batch = DatasetConvStrainFDFromSVDWFonGPUBatch(valid_filenames, PARAMETER_NAMES_CONTEXT_PRECESSINGBNS_BILBY, data_generator,\n",
    "                                     Nbasis=512, Vhfile=Vhfile, minibatch_size=500, add_noise=False, shuffle=False, fix_extrinsic=True)\n"
   ]
  },
  {
   "cell_type": "code",
   "execution_count": null,
   "id": "atomic-edward",
   "metadata": {},
   "outputs": [],
   "source": []
  },
  {
   "cell_type": "code",
   "execution_count": 134,
   "id": "worthy-stuart",
   "metadata": {},
   "outputs": [
    {
     "name": "stdout",
     "output_type": "stream",
     "text": [
      "CPU times: user 55.4 ms, sys: 2.08 ms, total: 57.4 ms\n",
      "Wall time: 58.4 ms\n"
     ]
    }
   ],
   "source": [
    "%time theta, x = dataset[0]"
   ]
  },
  {
   "cell_type": "code",
   "execution_count": 135,
   "id": "boxed-friend",
   "metadata": {},
   "outputs": [
    {
     "name": "stdout",
     "output_type": "stream",
     "text": [
      "CPU times: user 491 ms, sys: 48 ms, total: 539 ms\n",
      "Wall time: 174 ms\n"
     ]
    }
   ],
   "source": [
    "%time theta_batch, x_batch = dataset_batch[0]"
   ]
  },
  {
   "cell_type": "code",
   "execution_count": 275,
   "id": "educated-recovery",
   "metadata": {},
   "outputs": [
    {
     "data": {
      "text/plain": [
       "(tensor([-0.3251, -0.2421, -1.5789, -1.6889,  0.6401,  0.5867, -1.1906, -1.4300,\n",
       "         -1.0973,  0.5890,  0.0692, -0.6824], device='cuda:0'),\n",
       " tensor([ 0.3389,  0.4605, -1.4539, -1.4134, -1.1993, -0.3965,  0.4284,  0.7802,\n",
       "         -0.0776,  0.5869, -0.0175, -0.4958], device='cuda:0'))"
      ]
     },
     "execution_count": 275,
     "metadata": {},
     "output_type": "execute_result"
    }
   ],
   "source": [
    "theta, theta_batch[1]"
   ]
  },
  {
   "cell_type": "code",
   "execution_count": 276,
   "id": "tender-usage",
   "metadata": {},
   "outputs": [
    {
     "data": {
      "text/plain": [
       "(tensor([[-0.0670,  0.0084, -0.0499,  ..., -0.0570, -0.0406, -0.0272],\n",
       "         [ 0.0232, -0.0033,  0.0206,  ...,  0.0018, -0.0236, -0.0045],\n",
       "         [-0.1227, -0.0229,  0.0606,  ..., -0.0421,  0.0604,  0.0072],\n",
       "         [-0.0372, -0.0771,  0.0075,  ...,  0.1400, -0.0491,  0.0255],\n",
       "         [ 0.0153,  0.0164, -0.0039,  ...,  0.0440, -0.0154,  0.0077],\n",
       "         [ 0.2213, -0.0182,  0.0938,  ..., -0.0788,  0.0204, -0.0030]],\n",
       "        device='cuda:0', grad_fn=<CatBackward0>),\n",
       " tensor([[ 3.5331e-02,  9.4089e-03,  3.1641e-01,  ..., -1.1253e-01,\n",
       "           5.3586e-03, -1.1718e-02],\n",
       "         [ 1.6793e-02, -4.1288e-02, -5.7933e-03,  ..., -1.2214e-02,\n",
       "           1.2880e-02, -1.7066e-03],\n",
       "         [ 1.6186e-01, -4.6495e-01, -4.9973e-01,  ...,  4.5814e-02,\n",
       "           3.1865e-02,  1.7814e-02],\n",
       "         [ 1.8698e-01, -3.6249e-01, -6.4946e-03,  ...,  7.2631e-02,\n",
       "          -5.9257e-02,  1.8566e-02],\n",
       "         [-7.4464e-03, -6.5155e-03, -3.9691e-02,  ..., -2.8016e-02,\n",
       "           1.1560e-05, -4.3498e-03],\n",
       "         [-3.5518e-01,  6.4295e-01, -6.5640e-01,  ..., -9.5856e-02,\n",
       "           2.9759e-02, -1.3611e-02]], device='cuda:0',\n",
       "        grad_fn=<SelectBackward0>))"
      ]
     },
     "execution_count": 276,
     "metadata": {},
     "output_type": "execute_result"
    }
   ],
   "source": [
    "x, x_batch[1]"
   ]
  },
  {
   "cell_type": "code",
   "execution_count": null,
   "id": "charitable-sender",
   "metadata": {},
   "outputs": [],
   "source": []
  },
  {
   "cell_type": "markdown",
   "id": "single-member",
   "metadata": {},
   "source": [
    "# dot"
   ]
  },
  {
   "cell_type": "code",
   "execution_count": 122,
   "id": "continuing-craps",
   "metadata": {},
   "outputs": [],
   "source": [
    "\n",
    "class DatasetSVDStrainFDFromSVDWFonGPU(Dataset):\n",
    "    '''\n",
    "    Simulate FD data in SVD space from pre-calculated SVD waveforms, optimized for GPU or CPU computation.\n",
    "    '''\n",
    "    def __init__(self, precalwf_filelist, parameter_names, data_generator, Nbasis, Vhfile,\n",
    "                 dmin=10, dmax=200, dpower=1, loadwf=False, loadnoise=False, device='cuda'):\n",
    "        self.precalwf_filelist = precalwf_filelist\n",
    "        self.parameter_names = parameter_names\n",
    "        self.data_generator = data_generator\n",
    "        self.Nbasis = Nbasis\n",
    "        self.dmin = dmin\n",
    "        self.dmax = dmax\n",
    "        self.dpower = dpower\n",
    "        self.loadwf = loadwf\n",
    "        self.loadnoise = loadnoise\n",
    "        self.device = device\n",
    "\n",
    "        # Load V and Vh matrices and convert to tensors\n",
    "        self.V, self.Vh = loadVandVh(Vhfile, Nbasis)\n",
    "        self.V = torch.from_numpy(self.V).to(self.device).type(torch.complex64)\n",
    "        self.Vh = torch.from_numpy(self.Vh).to(self.device).type(torch.complex64)\n",
    "\n",
    "        \n",
    "        self.farray = torch.from_numpy(data_generator.frequency_array_masked).float().to(self.device)\n",
    "        self.ifos = data_generator.ifos\n",
    "        self.det_data = self.prepare_detector_data()\n",
    "        \n",
    "        testfile = load_dict_from_hdf5(precalwf_filelist[0])\n",
    "        self.sample_per_file = len(testfile['injection_parameters']['chirp_mass'])\n",
    "        self.Nfile = len(self.precalwf_filelist)\n",
    "        self.Nsample = self.Nfile * self.sample_per_file \n",
    "        self.cached_wf_file = testfile\n",
    "        self.cached_wf_file_index = 0\n",
    "        \n",
    "        self.shuffle_indexinfile()\n",
    "            \n",
    "    def prepare_detector_data(self):\n",
    "        det_data = {}\n",
    "        for det in self.ifos:\n",
    "            detname = det.name\n",
    "            psd = det.power_spectral_density_array[self.data_generator.frequency_mask]\n",
    "            psd = torch.from_numpy(psd).double().to(self.device)\n",
    "            whitened_V = (self.V.T * 1/(psd*det.duration/4)**0.5).T\n",
    "            det_data[detname] = {'whitened_V': whitened_V.type(torch.complex64)}\n",
    "        return det_data\n",
    "\n",
    "    def __len__(self):\n",
    "        return len(self.precalwf_filelist) * self.sample_per_file\n",
    "\n",
    "    def __getitem__(self, index):\n",
    "        index_of_file, index_in_file = self.get_index(index, self.sample_per_file)\n",
    "        wf_dict = self.get_precalwf_dict(index_of_file)\n",
    "        hp_svd, hc_svd = self.get_waveform_tensors(wf_dict, index_in_file)\n",
    "\n",
    "        injection_parameters = self.get_injection_parameters(wf_dict,index_in_file)\n",
    "        injection_parameters = self.update_injection_parameters(injection_parameters)\n",
    "        hp_svd = hp_svd/injection_parameters['luminosity_distance']\n",
    "        hc_svd = hc_svd/injection_parameters['luminosity_distance']\n",
    "        x_real, x_imag = self.compute_strain_tensors(hp_svd, hc_svd, injection_parameters)\n",
    "\n",
    "        theta = self.get_theta(injection_parameters)\n",
    "        return theta, torch.cat((x_real, x_imag)).float()\n",
    "\n",
    "    def get_index(self, index, sample_per_file):\n",
    "        index_of_file = index // sample_per_file\n",
    "        index_in_file = index - index_of_file*sample_per_file\n",
    "        \n",
    "        return index_of_file, index_in_file\n",
    "    \n",
    "    def get_precalwf_dict(self, index_of_file):\n",
    "        if self.cached_wf_file_index == index_of_file:\n",
    "            return self.cached_wf_file\n",
    "        else:\n",
    "            wf_dict = load_dict_from_hdf5(self.precalwf_filelist[index_of_file])\n",
    "            self.cached_wf_file = wf_dict\n",
    "            self.cached_wf_file_index = index_of_file\n",
    "            return wf_dict\n",
    "        \n",
    "    def get_waveform_tensors(self, wf_dict, index_in_file):\n",
    "        index_in_file = self.random_index_in_file[index_in_file]\n",
    "        \n",
    "        hp_svd = (torch.from_numpy(wf_dict['waveform_polarizations']['plus']['amplitude'][index_in_file]) *\\\n",
    "            torch.exp(1j*torch.from_numpy(wf_dict['waveform_polarizations']['plus']['phase'][index_in_file])).type(torch.complex64)).to(self.device)\n",
    "        hc_svd = (torch.from_numpy(wf_dict['waveform_polarizations']['cross']['amplitude'][index_in_file]) *\\\n",
    "            torch.exp(1j*torch.from_numpy(wf_dict['waveform_polarizations']['cross']['phase'][index_in_file])).type(torch.complex64)).to(self.device)\n",
    "        \n",
    "        return hp_svd, hc_svd\n",
    "\n",
    "    def get_injection_parameters(self, wf_dict, index_in_file):\n",
    "        injection_parameters = {key: wf_dict['injection_parameters'][key][index_in_file] for key in ['chirp_mass', 'mass_ratio', 'a_1', 'a_2', 'tilt_1', 'tilt_2', 'phi_12', 'phi_jl',\n",
    "                    'lambda_tilde', 'delta_lambda_tilde', 'theta_jn', 'phase']}\n",
    "        return injection_parameters\n",
    "\n",
    "    def get_noise_tensors(self, ):\n",
    "        white_noise = (torch.randn(self.Nbasis, device=self.device) + 1j * torch.randn(self.Nbasis, device=self.device)).type(torch.complex64)\n",
    "\n",
    "        return white_noise\n",
    "    \n",
    "    def compute_strain_tensors(self, hp_svd, hc_svd, injection_parameters):\n",
    "        num_ifos = len(self.ifos)\n",
    "        x_real = torch.zeros((num_ifos, self.Nbasis), dtype=torch.float32, device=self.device)\n",
    "        x_imag = torch.zeros((num_ifos, self.Nbasis), dtype=torch.float32, device=self.device)\n",
    "        for i, det in enumerate(self.ifos):\n",
    "            detname = det.name\n",
    "\n",
    "            fp, fc, dt = self.compute_detector_factors(det, injection_parameters)\n",
    "            phase2add = torch.exp(-1j * 2 * np.pi * dt * self.farray)\n",
    "            Vh_recons = self.Vh * phase2add.unsqueeze(0)  # Ensure proper broadcasting\n",
    "            h_svd = torch.matmul(torch.matmul((fp*hp_svd + fc*hc_svd).type(torch.complex64), Vh_recons),\n",
    "                                 self.det_data[detname]['whitened_V'])\n",
    "            #n_svd = self.get_noise_tensors()\n",
    "            d_svd = h_svd #+ n_svd\n",
    "            \n",
    "            x_real[i] = d_svd.real\n",
    "            x_imag[i] = d_svd.imag\n",
    "        return x_real, x_imag\n",
    "\n",
    "    def compute_detector_factors(self, det, injection_parameters):\n",
    "        # These calculations remain on CPU as they cannot be efficiently vectorized or moved to GPU\n",
    "        ra = injection_parameters['ra']\n",
    "        dec = injection_parameters['dec']\n",
    "        tc = injection_parameters['geocent_time']\n",
    "        psi = injection_parameters['psi']\n",
    "        fp = det.antenna_response(ra , dec, tc, psi, 'plus')\n",
    "        fc = det.antenna_response(ra , dec, tc, psi, 'cross')\n",
    "        time_shift = det.time_delay_from_geocenter(ra , dec, tc)\n",
    "        \n",
    "        dt_geocent = tc #- self.strain_data.start_time\n",
    "        dt = dt_geocent + time_shift\n",
    "            \n",
    "        return fp, fc, dt\n",
    "\n",
    "    def get_theta(self, injection_parameters):\n",
    "        #theta = torch.tensor([injection_parameters[paraname] for paraname in self.parameter_names], dtype=torch.float32).to(self.device)\n",
    "        theta = torch.tensor(np.array([injection_parameters[paraname] for paraname in self.parameter_names]), dtype=torch.float32).to(self.device)\n",
    "        return theta\n",
    "    \n",
    "    def update_injection_parameters(self, injection_parameters):\n",
    "        injection_parameters['ra'] = np.random.uniform(0, np.pi)\n",
    "        injection_parameters['dec'] = np.arcsin(np.random.uniform(-1, 1))\n",
    "        injection_parameters['psi'] = np.random.uniform(0, np.pi)\n",
    "        injection_parameters['geocent_time'] = np.random.uniform(-0.1, 0.1)\n",
    "        injection_parameters['luminosity_distance'] = generate_random_distance(Nsample=1, low=self.dmin, high=self.dmax, power=self.dpower)[0]\n",
    "        \n",
    "        injection_parameters['ra'] = 1\n",
    "        injection_parameters['dec'] = 1\n",
    "        injection_parameters['psi'] = 1\n",
    "        injection_parameters['geocent_time'] = 1\n",
    "        injection_parameters['luminosity_distance'] = 100\n",
    "    \n",
    "        return injection_parameters\n",
    "    \n",
    "    def shuffle_wflist(self):\n",
    "        random.shuffle(self.precalwf_filelist)\n",
    "        \n",
    "    def shuffle_indexinfile(self):\n",
    "        #self.random_index_in_file = np.random.permutation(self.sample_per_file)\n",
    "        self.random_index_in_file = np.arange(self.sample_per_file)\n",
    "\n"
   ]
  },
  {
   "cell_type": "code",
   "execution_count": 123,
   "id": "solid-break",
   "metadata": {},
   "outputs": [],
   "source": [
    "np.array?"
   ]
  },
  {
   "cell_type": "code",
   "execution_count": 124,
   "id": "handled-quantum",
   "metadata": {},
   "outputs": [],
   "source": [
    "\n",
    "class DatasetSVDStrainFDFromSVDWFonGPUBatch(Dataset):\n",
    "    '''\n",
    "    Simulate FD data in SVD space from pre-calculated SVD waveforms, optimized for GPU or CPU computation.\n",
    "    '''\n",
    "    def __init__(self, precalwf_filelist, parameter_names, data_generator, Nbasis, Vhfile,\n",
    "                 dmin=10, dmax=200, dpower=1, loadwf=False, loadnoise=False, device='cuda',batch_size=1):\n",
    "        self.precalwf_filelist = precalwf_filelist\n",
    "        self.parameter_names = parameter_names\n",
    "        self.data_generator = data_generator\n",
    "        self.Nbasis = Nbasis\n",
    "        self.dmin = dmin\n",
    "        self.dmax = dmax\n",
    "        self.dpower = dpower\n",
    "        self.loadwf = loadwf\n",
    "        self.loadnoise = loadnoise\n",
    "        self.device = device\n",
    "        self.batch_size = batch_size\n",
    "\n",
    "        # Load V and Vh matrices and convert to tensors\n",
    "        self.V, self.Vh = loadVandVh(Vhfile, Nbasis)\n",
    "        self.V = torch.from_numpy(self.V).to(self.device).type(torch.complex64)\n",
    "        self.Vh = torch.from_numpy(self.Vh).to(self.device).type(torch.complex64)\n",
    "\n",
    "        \n",
    "        self.farray = torch.from_numpy(data_generator.frequency_array_masked).float().to(self.device)\n",
    "        self.ifos = data_generator.ifos\n",
    "        self.det_data = self.prepare_detector_data()\n",
    "        \n",
    "        testfile = load_dict_from_hdf5(precalwf_filelist[0])\n",
    "        self.sample_per_file = len(testfile['injection_parameters']['chirp_mass'])\n",
    "        #if self.sample_per_file<self.batch_size:\n",
    "        #    raise ValueError(\"Sample per file < batch size!\")\n",
    "        self.Nfile = len(self.precalwf_filelist)\n",
    "        self.Nsample = self.Nfile * self.sample_per_file \n",
    "        self.cached_wf_file = testfile\n",
    "        self.cached_wf_file_index = 0\n",
    "            \n",
    "        self.shuffle_indexinfile()\n",
    "        \n",
    "    def prepare_detector_data(self):\n",
    "        det_data = {}\n",
    "        for det in self.ifos:\n",
    "            detname = det.name\n",
    "            psd = det.power_spectral_density_array[self.data_generator.frequency_mask]\n",
    "            psd = torch.from_numpy(psd).double().to(self.device)\n",
    "            whitened_V = (self.V.T * 1/(psd*det.duration/4)**0.5).T\n",
    "            det_data[detname] = {'whitened_V': whitened_V.type(torch.complex64)}\n",
    "        return det_data\n",
    "\n",
    "    def __len__(self):\n",
    "        return len(self.precalwf_filelist) * self.sample_per_file // self.batch_size\n",
    "\n",
    "    def __getitem__(self, index):\n",
    "        index = index*self.batch_size\n",
    "        \n",
    "        index_end = index + self.batch_size\n",
    "        index_of_file, index_in_file = self.get_index(index, self.sample_per_file)\n",
    "        index_of_file_end, index_in_file_end = self.get_index(index_end, self.sample_per_file)\n",
    "        if index_of_file_end>=len(self.precalwf_filelist):\n",
    "            index_of_file_end = len(self.precalwf_filelist)-1\n",
    "            index_in_file_end = self.sample_per_file\n",
    "        wf_dict_list = []\n",
    "        for i in range(index_of_file, index_of_file_end+1):\n",
    "            wf_dict_list.append(self.get_precalwf_dict(i))\n",
    "        \n",
    "        hp_svd, hc_svd = self.get_waveform_tensors_batch(wf_dict_list, index_in_file, index_in_file_end)\n",
    "        injection_parameters = self.get_injection_parameters_batch(wf_dict_list,index_in_file, index_in_file_end)\n",
    "        injection_parameters = self.update_injection_parameters_batch(injection_parameters)\n",
    "        \n",
    "        dL = torch.from_numpy(injection_parameters['luminosity_distance']).to(self.device).unsqueeze(-1)\n",
    "        hp_svd = hp_svd/dL\n",
    "        hc_svd = hc_svd/dL\n",
    "\n",
    "        x_real, x_imag = self.compute_strain_tensors_batch(hp_svd, hc_svd, injection_parameters)\n",
    "\n",
    "        theta = self.get_theta(injection_parameters)\n",
    "        return theta, torch.cat((x_real, x_imag), axis=1).float()\n",
    "\n",
    "    def get_index(self, index, sample_per_file):\n",
    "        index_of_file = index // sample_per_file\n",
    "        index_in_file = index - index_of_file*sample_per_file\n",
    "\n",
    "        return index_of_file, index_in_file\n",
    "    \n",
    "    def get_precalwf_dict(self, index_of_file):\n",
    "        if self.cached_wf_file_index == index_of_file:\n",
    "            return self.cached_wf_file\n",
    "        else:\n",
    "            try:\n",
    "                wf_dict = load_dict_from_hdf5(self.precalwf_filelist[index_of_file])\n",
    "            except:\n",
    "                raise Exception(f'index_of_file: {index_of_file}')\n",
    "            self.cached_wf_file = wf_dict\n",
    "            self.cached_wf_file_index = index_of_file\n",
    "            return wf_dict\n",
    "        \n",
    "    def get_waveform_tensors_batch(self, wf_dict_list, index_in_file, index_in_file_end):\n",
    "        for i, wf_dict in enumerate(wf_dict_list):\n",
    "            if i==len(wf_dict_list)-1:\n",
    "                end_index = index_in_file_end\n",
    "            else:\n",
    "                end_index = self.sample_per_file\n",
    "            if i==0:\n",
    "                index = self.random_index_in_file[index_in_file:end_index]\n",
    "                hp_svd = (torch.from_numpy(wf_dict['waveform_polarizations']['plus']['amplitude'][index]) *\\\n",
    "                    torch.exp(1j*torch.from_numpy(wf_dict['waveform_polarizations']['plus']['phase'][index])).type(torch.complex64)).to(self.device)\n",
    "                hc_svd = (torch.from_numpy(wf_dict['waveform_polarizations']['cross']['amplitude'][index]) *\\\n",
    "                    torch.exp(1j*torch.from_numpy(wf_dict['waveform_polarizations']['cross']['phase'][index])).type(torch.complex64)).to(self.device)\n",
    "            else:\n",
    "                index = self.random_index_in_file[index_in_file:end_index]\n",
    "                hp_svd_new = (torch.from_numpy(wf_dict['waveform_polarizations']['plus']['amplitude'][index]) *\\\n",
    "                    torch.exp(1j*torch.from_numpy(wf_dict['waveform_polarizations']['plus']['phase'][index])).type(torch.complex64)).to(self.device)\n",
    "                hc_svd_new = (torch.from_numpy(wf_dict['waveform_polarizations']['cross']['amplitude'][index]) *\\\n",
    "                    torch.exp(1j*torch.from_numpy(wf_dict['waveform_polarizations']['cross']['phase'][index])).type(torch.complex64)).to(self.device)\n",
    "\n",
    "                hp_svd = torch.cat((hp_svd,hp_svd_new))\n",
    "                hc_svd = torch.cat((hc_svd,hc_svd_new))\n",
    "                    \n",
    "            \n",
    "        return hp_svd, hc_svd\n",
    "\n",
    "    def get_injection_parameters_batch(self, wf_dict_list, index_in_file, index_in_file_end):\n",
    "        para_name_list = ['chirp_mass', 'mass_ratio', 'a_1', 'a_2', 'tilt_1', 'tilt_2', 'phi_12', 'phi_jl',\n",
    "                    'lambda_tilde', 'delta_lambda_tilde', 'theta_jn', 'phase']\n",
    "        for i, wf_dict in enumerate(wf_dict_list):\n",
    "            if i==len(wf_dict_list)-1:\n",
    "                end_index = index_in_file_end\n",
    "            else:\n",
    "                end_index = self.sample_per_file\n",
    "            if i==0:\n",
    "                injection_parameters = {key: wf_dict['injection_parameters'][key][index_in_file:end_index] for key in para_name_list}\n",
    "            else:\n",
    "                injection_parameters = {key: np.append(injection_parameters[key], wf_dict['injection_parameters'][key][index_in_file:end_index]) for key in para_name_list}\n",
    "\n",
    "        return injection_parameters\n",
    "\n",
    "    def get_noise_tensors_batch(self, ):\n",
    "        white_noise = (torch.randn((self.batch_size, self.Nbasis), device=self.device) + \\\n",
    "                       1j * torch.randn((self.batch_size, self.Nbasis), device=self.device)).type(torch.complex64)\n",
    "\n",
    "        return white_noise\n",
    "    \n",
    "    def compute_strain_tensors_batch(self, hp_svd, hc_svd, injection_parameters):\n",
    "        num_ifos = len(self.ifos)\n",
    "        x_real = torch.zeros((self.batch_size, num_ifos, self.Nbasis), dtype=torch.float32, device=self.device)\n",
    "        x_imag = torch.zeros((self.batch_size, num_ifos, self.Nbasis), dtype=torch.float32, device=self.device)\n",
    "        \n",
    "        for i,det in enumerate(self.ifos):\n",
    "            detname = det.name\n",
    "        \n",
    "            fp, fc, dt = self.compute_detector_factors_batch(det, injection_parameters)\n",
    "            phase2add = torch.exp(-1j * 2 * np.pi * dt * self.farray)\n",
    "            Vh_recons = (self.Vh * phase2add.unsqueeze(0)).type(torch.complex64)  # Ensure proper broadcasting            \n",
    "            hh = (fp*hp_svd + fc*hc_svd).type(torch.complex64)\n",
    "\n",
    "            #h_svd = torch.matmul(torch.bmm(hh.unsqueeze(1), Vh_recons).squeeze(1),\n",
    "            #                     self.det_data[detname]['whitened_V'])\n",
    "            h_svd = torch.matmul(torch.matmul(hh, Vh_recons),\n",
    "                                 self.det_data[detname]['whitened_V'])\n",
    "            \n",
    "            \n",
    "            \n",
    "            #n_svd = self.get_noise_tensors_batch()\n",
    "            d_svd = h_svd #+ n_svd\n",
    "            \n",
    "            x_real[:,i,:] = d_svd.real\n",
    "            x_imag[:,i,:] = d_svd.imag\n",
    "            \n",
    "\n",
    "        return x_real, x_imag\n",
    "    \n",
    "    def compute_detector_factors_batch(self, det, injection_parameters):\n",
    "        # These calculations remain on CPU as they cannot be efficiently vectorized or moved to GPU\n",
    "        #fp_tensor = torch.zeros((self.batch_size), dtype=torch.float32, device=self.device)\n",
    "        #fc_tensor = torch.zeros((self.batch_size), dtype=torch.float32, device=self.device)\n",
    "        #dt_tensor = torch.zeros((self.batch_size), dtype=torch.float32, device=self.device)\n",
    "        '''\n",
    "        for i in range(len(injection_parameters['ra'])):\n",
    "            \n",
    "            ra = injection_parameters['ra'][i]\n",
    "            dec = injection_parameters['dec'][i]\n",
    "            tc = injection_parameters['geocent_time'][i]\n",
    "            psi = injection_parameters['psi'][i]\n",
    "            \n",
    "            fp = det.antenna_response(ra, dec, tc, psi, 'plus')\n",
    "            fc = det.antenna_response(ra, dec, tc, psi, 'cross')\n",
    "            time_shift = det.time_delay_from_geocenter(ra, dec, tc)\n",
    "            \n",
    "            dt_geocent = tc #- self.strain_data.start_time\n",
    "            dt = dt_geocent + time_shift\n",
    "            \n",
    "            fp_tensor[i] = fp\n",
    "            fc_tensor[i] = fc\n",
    "            dt_tensor[i] = dt\n",
    "        '''\n",
    "        ra = injection_parameters['ra'][0]\n",
    "        dec = injection_parameters['dec'][0]\n",
    "        tc = injection_parameters['geocent_time'][0]\n",
    "        psi = injection_parameters['psi'][0]\n",
    "\n",
    "        fp = det.antenna_response(ra, dec, tc, psi, 'plus')\n",
    "        fc = det.antenna_response(ra, dec, tc, psi, 'cross')\n",
    "        time_shift = det.time_delay_from_geocenter(ra, dec, tc)\n",
    "\n",
    "        dt_geocent = tc #- self.strain_data.start_time\n",
    "        dt = dt_geocent + time_shift\n",
    "        \n",
    "        #return fp_tensor.unsqueeze(-1), fc_tensor.unsqueeze(-1), dt_tensor.unsqueeze(-1)\n",
    "        return fp, fc, dt\n",
    "    \n",
    "    def get_theta(self, injection_parameters):\n",
    "        theta = torch.tensor(np.array([injection_parameters[paraname] for paraname in self.parameter_names]), dtype=torch.float32).to(self.device).T\n",
    "        return theta\n",
    "    \n",
    "    def update_injection_parameters_batch(self, injection_parameters):\n",
    "        injection_parameters['ra'] = np.zeros(self.batch_size) + np.random.uniform(0, np.pi)\n",
    "        injection_parameters['dec'] = np.zeros(self.batch_size) + np.arcsin(np.random.uniform(-1, 1))\n",
    "        injection_parameters['psi'] = np.zeros(self.batch_size) + np.random.uniform(0, np.pi)\n",
    "        injection_parameters['geocent_time'] = np.zeros(self.batch_size) + np.random.uniform(-0.1, 0.1)\n",
    "        injection_parameters['luminosity_distance'] = generate_random_distance(Nsample=self.batch_size, low=self.dmin, high=self.dmax, power=self.dpower)\n",
    "    \n",
    "    \n",
    "        injection_parameters['ra'] = np.zeros(self.batch_size) + 1\n",
    "        injection_parameters['dec'] = np.zeros(self.batch_size) + 1\n",
    "        injection_parameters['psi'] = np.zeros(self.batch_size) + 1\n",
    "        injection_parameters['geocent_time'] = np.zeros(self.batch_size) + 1\n",
    "        injection_parameters['luminosity_distance'] = np.zeros(self.batch_size) + 100\n",
    "    \n",
    "        return injection_parameters\n",
    "    \n",
    "    def shuffle_wflist(self):\n",
    "        random.shuffle(self.precalwf_filelist)\n",
    "        \n",
    "    def shuffle_indexinfile(self):\n",
    "        self.random_index_in_file = np.random.permutation(self.sample_per_file)\n",
    "        self.random_index_in_file = np.arange(self.sample_per_file)"
   ]
  },
  {
   "cell_type": "code",
   "execution_count": 126,
   "id": "under-jason",
   "metadata": {},
   "outputs": [],
   "source": [
    "dataset = DatasetSVDStrainFDFromSVDWFonGPU(valid_filenames, PARAMETER_NAMES_CONTEXT_PRECESSINGBNS_BILBY, data_generator,\n",
    "                                     Nbasis=512, Vhfile=Vhfile)\n",
    "\n",
    "dataset_batch = DatasetSVDStrainFDFromSVDWFonGPUBatch(valid_filenames, PARAMETER_NAMES_CONTEXT_PRECESSINGBNS_BILBY, data_generator,\n",
    "                                     Nbasis=512, Vhfile=Vhfile, batch_size=500)"
   ]
  },
  {
   "cell_type": "code",
   "execution_count": 128,
   "id": "interim-tulsa",
   "metadata": {},
   "outputs": [
    {
     "name": "stdout",
     "output_type": "stream",
     "text": [
      "CPU times: user 1.84 ms, sys: 1.02 ms, total: 2.86 ms\n",
      "Wall time: 3.23 ms\n"
     ]
    }
   ],
   "source": [
    "%time theta, x = dataset[1]"
   ]
  },
  {
   "cell_type": "code",
   "execution_count": 129,
   "id": "sophisticated-batman",
   "metadata": {},
   "outputs": [
    {
     "data": {
      "text/plain": [
       "tensor([ 1.7832e+00,  8.0489e-01,  8.0297e-02,  9.2001e-02,  7.5121e-01,\n",
       "         1.2998e+00,  3.9186e+00,  4.5567e+00,  2.6599e+03, -9.4433e+01,\n",
       "         1.5588e+00,  1.0000e+02,  1.0000e+00,  1.0000e+00,  1.0000e+00,\n",
       "         2.2423e+00,  1.0000e+00], device='cuda:0')"
      ]
     },
     "execution_count": 129,
     "metadata": {},
     "output_type": "execute_result"
    }
   ],
   "source": [
    "theta"
   ]
  },
  {
   "cell_type": "code",
   "execution_count": 130,
   "id": "unsigned-laundry",
   "metadata": {},
   "outputs": [
    {
     "name": "stdout",
     "output_type": "stream",
     "text": [
      "CPU times: user 519 ms, sys: 25.5 ms, total: 545 ms\n",
      "Wall time: 56.3 ms\n"
     ]
    }
   ],
   "source": [
    "%time theta_batch, x_batch = dataset_batch[0]"
   ]
  },
  {
   "cell_type": "code",
   "execution_count": 20,
   "id": "brazilian-friend",
   "metadata": {},
   "outputs": [
    {
     "data": {
      "text/plain": [
       "tensor([[1.5416, 0.6844, 0.0442,  ..., 1.0000, 1.9039, 1.0000],\n",
       "        [1.7832, 0.8049, 0.0803,  ..., 1.0000, 2.2423, 1.0000],\n",
       "        [1.4724, 0.6011, 0.0868,  ..., 1.0000, 4.4845, 1.0000],\n",
       "        ...,\n",
       "        [1.4198, 0.5243, 0.0776,  ..., 1.0000, 1.2314, 1.0000],\n",
       "        [1.9929, 0.6981, 0.0462,  ..., 1.0000, 1.3106, 1.0000],\n",
       "        [1.5981, 0.5513, 0.0697,  ..., 1.0000, 1.6055, 1.0000]],\n",
       "       device='cuda:0')"
      ]
     },
     "execution_count": 20,
     "metadata": {},
     "output_type": "execute_result"
    }
   ],
   "source": [
    "theta_batch"
   ]
  },
  {
   "cell_type": "code",
   "execution_count": null,
   "id": "brazilian-kitty",
   "metadata": {},
   "outputs": [],
   "source": []
  },
  {
   "cell_type": "code",
   "execution_count": 14,
   "id": "binary-northeast",
   "metadata": {},
   "outputs": [
    {
     "data": {
      "text/plain": [
       "torch.Size([64, 17])"
      ]
     },
     "execution_count": 14,
     "metadata": {},
     "output_type": "execute_result"
    }
   ],
   "source": [
    "theta_batch.shape"
   ]
  },
  {
   "cell_type": "code",
   "execution_count": null,
   "id": "immune-break",
   "metadata": {},
   "outputs": [],
   "source": []
  },
  {
   "cell_type": "code",
   "execution_count": 234,
   "id": "chemical-illustration",
   "metadata": {},
   "outputs": [
    {
     "data": {
      "text/plain": [
       "tensor([True, True, True, True, True, True, True, True, True, True, True, True,\n",
       "        True, True, True, True, True], device='cuda:0')"
      ]
     },
     "execution_count": 234,
     "metadata": {},
     "output_type": "execute_result"
    }
   ],
   "source": [
    "theta_batch[1] == theta"
   ]
  },
  {
   "cell_type": "code",
   "execution_count": 235,
   "id": "weird-provider",
   "metadata": {},
   "outputs": [
    {
     "data": {
      "text/plain": [
       "tensor([[False, False, False,  ..., False, False,  True],\n",
       "        [False, False, False,  ..., False, False, False],\n",
       "        [False, False, False,  ..., False, False, False],\n",
       "        [False, False, False,  ..., False, False, False],\n",
       "        [False, False, False,  ..., False, False, False],\n",
       "        [False, False, False,  ..., False, False, False]], device='cuda:0')"
      ]
     },
     "execution_count": 235,
     "metadata": {},
     "output_type": "execute_result"
    }
   ],
   "source": [
    "x_batch[1] == x"
   ]
  },
  {
   "cell_type": "code",
   "execution_count": 236,
   "id": "encouraging-gravity",
   "metadata": {},
   "outputs": [
    {
     "data": {
      "text/plain": [
       "tensor(2.2948e-06, device='cuda:0')"
      ]
     },
     "execution_count": 236,
     "metadata": {},
     "output_type": "execute_result"
    }
   ],
   "source": [
    "torch.max(x-x_batch[1])"
   ]
  },
  {
   "cell_type": "code",
   "execution_count": 21,
   "id": "first-directory",
   "metadata": {},
   "outputs": [
    {
     "name": "stdout",
     "output_type": "stream",
     "text": [
      "0.28322839736938477\n"
     ]
    }
   ],
   "source": [
    "batch_size = 3\n",
    "dataloader = DataLoader(dataset_batch, batch_size=batch_size, shuffle=False)\n",
    "t1 = time.time()\n",
    "i=0\n",
    "for theta, x in dataloader:\n",
    "    i+=1\n",
    "    pass\n",
    "t2 = time.time()\n",
    "print(t2-t1)\n"
   ]
  },
  {
   "cell_type": "code",
   "execution_count": 30,
   "id": "documented-algeria",
   "metadata": {},
   "outputs": [
    {
     "data": {
      "text/plain": [
       "torch.Size([3, 64, 17])"
      ]
     },
     "execution_count": 30,
     "metadata": {},
     "output_type": "execute_result"
    }
   ],
   "source": [
    "theta.shape"
   ]
  },
  {
   "cell_type": "code",
   "execution_count": 31,
   "id": "protected-documentary",
   "metadata": {},
   "outputs": [
    {
     "data": {
      "text/plain": [
       "tensor([[1.7503, 0.8116, 0.0420,  ..., 1.0000, 1.5039, 1.0000],\n",
       "        [2.1065, 0.9210, 0.0243,  ..., 1.0000, 1.4091, 1.0000],\n",
       "        [2.2850, 0.7723, 0.0199,  ..., 1.0000, 3.4851, 1.0000],\n",
       "        ...,\n",
       "        [1.6948, 0.9387, 0.0692,  ..., 1.0000, 5.9744, 1.0000],\n",
       "        [1.8511, 0.8753, 0.0587,  ..., 1.0000, 3.2760, 1.0000],\n",
       "        [2.0450, 0.7643, 0.0177,  ..., 1.0000, 4.0518, 1.0000]],\n",
       "       device='cuda:0')"
      ]
     },
     "execution_count": 31,
     "metadata": {},
     "output_type": "execute_result"
    }
   ],
   "source": [
    "theta.view(3*64, 17)"
   ]
  },
  {
   "cell_type": "code",
   "execution_count": 35,
   "id": "unlimited-characterization",
   "metadata": {},
   "outputs": [
    {
     "data": {
      "text/plain": [
       "tensor([2.1065e+00, 9.2102e-01, 2.4294e-02, 1.8122e-02, 9.1246e-01, 2.2220e+00,\n",
       "        7.4137e-01, 3.5884e-01, 3.0275e+03, 4.5719e+02, 1.3483e+00, 1.0000e+02,\n",
       "        1.0000e+00, 1.0000e+00, 1.0000e+00, 1.4091e+00, 1.0000e+00],\n",
       "       device='cuda:0')"
      ]
     },
     "execution_count": 35,
     "metadata": {},
     "output_type": "execute_result"
    }
   ],
   "source": [
    "theta[0][1]"
   ]
  },
  {
   "cell_type": "code",
   "execution_count": 23,
   "id": "healthy-relevance",
   "metadata": {},
   "outputs": [
    {
     "data": {
      "text/plain": [
       "torch.Size([3, 64, 6, 512])"
      ]
     },
     "execution_count": 23,
     "metadata": {},
     "output_type": "execute_result"
    }
   ],
   "source": [
    "x.shape"
   ]
  },
  {
   "cell_type": "code",
   "execution_count": null,
   "id": "visible-blank",
   "metadata": {},
   "outputs": [],
   "source": []
  },
  {
   "cell_type": "code",
   "execution_count": 202,
   "id": "natural-understanding",
   "metadata": {},
   "outputs": [
    {
     "data": {
      "text/plain": [
       "torch.Size([64, 17])"
      ]
     },
     "execution_count": 202,
     "metadata": {},
     "output_type": "execute_result"
    }
   ],
   "source": [
    "theta_batch.shape"
   ]
  },
  {
   "cell_type": "code",
   "execution_count": 203,
   "id": "undefined-hughes",
   "metadata": {},
   "outputs": [
    {
     "data": {
      "text/plain": [
       "torch.Size([64, 6, 512])"
      ]
     },
     "execution_count": 203,
     "metadata": {},
     "output_type": "execute_result"
    }
   ],
   "source": [
    "x_batch.shape"
   ]
  },
  {
   "cell_type": "code",
   "execution_count": 59,
   "id": "portable-suicide",
   "metadata": {},
   "outputs": [],
   "source": [
    "a = torch.randn([10, 3, 512])\n",
    "b = torch.randn([10, 3, 512])a\n"
   ]
  },
  {
   "cell_type": "code",
   "execution_count": 63,
   "id": "adjacent-lodging",
   "metadata": {},
   "outputs": [
    {
     "data": {
      "text/plain": [
       "torch.Size([10, 6, 512])"
      ]
     },
     "execution_count": 63,
     "metadata": {},
     "output_type": "execute_result"
    }
   ],
   "source": [
    "torch.cat((a,b), axis=1).shape"
   ]
  },
  {
   "cell_type": "code",
   "execution_count": null,
   "id": "asian-search",
   "metadata": {},
   "outputs": [],
   "source": []
  },
  {
   "cell_type": "code",
   "execution_count": 46,
   "id": "streaming-nightlife",
   "metadata": {},
   "outputs": [
    {
     "data": {
      "text/plain": [
       "torch.Size([6, 1, 1, 512])"
      ]
     },
     "execution_count": 46,
     "metadata": {},
     "output_type": "execute_result"
    }
   ],
   "source": [
    "x_batch.shape"
   ]
  },
  {
   "cell_type": "code",
   "execution_count": 47,
   "id": "conventional-default",
   "metadata": {},
   "outputs": [
    {
     "data": {
      "text/plain": [
       "torch.Size([6, 512])"
      ]
     },
     "execution_count": 47,
     "metadata": {},
     "output_type": "execute_result"
    }
   ],
   "source": [
    "x.shape"
   ]
  },
  {
   "cell_type": "code",
   "execution_count": 35,
   "id": "static-lucas",
   "metadata": {},
   "outputs": [],
   "source": [
    "a = torch.randn([10, 512])\n",
    "b = torch.randn([512, 31169])\n",
    "c = torch.randn([31169, 512])"
   ]
  },
  {
   "cell_type": "code",
   "execution_count": 38,
   "id": "valid-apparel",
   "metadata": {},
   "outputs": [
    {
     "data": {
      "text/plain": [
       "tensor([[-5.3440e+00,  7.6044e+00,  1.1380e+00,  ...,  3.3773e+00,\n",
       "          2.2279e+00,  1.6052e+01],\n",
       "        [-4.6882e+01, -9.9362e+00,  2.1260e+01,  ...,  2.2833e+00,\n",
       "         -1.4698e+01, -1.2762e+01],\n",
       "        [ 2.7347e+01,  9.6789e+00,  1.0008e+01,  ..., -2.8897e-02,\n",
       "         -1.8365e+01, -9.7739e+00],\n",
       "        ...,\n",
       "        [ 3.2018e+00,  2.4542e+01, -1.4923e+01,  ...,  1.9187e+01,\n",
       "         -2.9182e+01, -3.8391e+01],\n",
       "        [ 1.4656e+00,  3.1817e+01,  1.7674e+00,  ...,  2.6563e+00,\n",
       "         -7.1755e+00,  6.9793e+00],\n",
       "        [-3.2196e+01,  7.5357e+00, -1.9396e+01,  ...,  9.5601e+00,\n",
       "          1.1017e+01,  1.3944e+01]])"
      ]
     },
     "execution_count": 38,
     "metadata": {},
     "output_type": "execute_result"
    }
   ],
   "source": [
    "torch.matmul(a,b)"
   ]
  },
  {
   "cell_type": "code",
   "execution_count": 40,
   "id": "indie-honolulu",
   "metadata": {},
   "outputs": [
    {
     "data": {
      "text/plain": [
       "tensor([-46.8824,  -9.9362,  21.2602,  ...,   2.2833, -14.6982, -12.7619])"
      ]
     },
     "execution_count": 40,
     "metadata": {},
     "output_type": "execute_result"
    }
   ],
   "source": [
    "torch.matmul(a[1],b)"
   ]
  },
  {
   "cell_type": "code",
   "execution_count": null,
   "id": "collectible-munich",
   "metadata": {},
   "outputs": [],
   "source": []
  },
  {
   "cell_type": "code",
   "execution_count": 352,
   "id": "neutral-cleanup",
   "metadata": {},
   "outputs": [
    {
     "data": {
      "text/plain": [
       "2159.019608"
      ]
     },
     "execution_count": 352,
     "metadata": {},
     "output_type": "execute_result"
    }
   ],
   "source": [
    "(sys.getsizeof(tt['injection_parameters']['a_1']) * 11 +sys.getsizeof(tt['waveform_polarizations']['cross']['amplitude'])*4)/1e6\n",
    "\n",
    "\n",
    "\n"
   ]
  },
  {
   "cell_type": "code",
   "execution_count": 341,
   "id": "fuzzy-handle",
   "metadata": {},
   "outputs": [
    {
     "data": {
      "text/plain": [
       "512"
      ]
     },
     "execution_count": 341,
     "metadata": {},
     "output_type": "execute_result"
    }
   ],
   "source": [
    "16*32"
   ]
  },
  {
   "cell_type": "code",
   "execution_count": 18,
   "id": "rising-resort",
   "metadata": {},
   "outputs": [],
   "source": [
    "a = torch.zeros([10, 512])"
   ]
  },
  {
   "cell_type": "code",
   "execution_count": null,
   "id": "applicable-identification",
   "metadata": {},
   "outputs": [],
   "source": []
  },
  {
   "cell_type": "code",
   "execution_count": 311,
   "id": "chicken-exception",
   "metadata": {},
   "outputs": [
    {
     "name": "stdout",
     "output_type": "stream",
     "text": [
      "2.6827447414398193\n",
      "2.6735222339630127\n"
     ]
    }
   ],
   "source": [
    "batch_size = 1024\n",
    "dataloader = DataLoader(dataset, batch_size=batch_size, shuffle=False)\n",
    "t1 = time.time()\n",
    "for theta, x in dataloader:\n",
    "    pass\n",
    "t2 = time.time()\n",
    "print(t2-t1)\n",
    "\n",
    "\n",
    "batch_size = 10\n",
    "dataloader = DataLoader(dataset, batch_size=batch_size, shuffle=False)\n",
    "t1 = time.time()\n",
    "for theta, x in dataloader:\n",
    "    pass\n",
    "t2 = time.time()\n",
    "print(t2-t1)"
   ]
  },
  {
   "cell_type": "code",
   "execution_count": null,
   "id": "electronic-boating",
   "metadata": {},
   "outputs": [],
   "source": []
  },
  {
   "cell_type": "code",
   "execution_count": 206,
   "id": "threatened-burden",
   "metadata": {},
   "outputs": [
    {
     "name": "stdout",
     "output_type": "stream",
     "text": [
      "40.06834697723389\n"
     ]
    }
   ],
   "source": [
    "batch_size = 10\n",
    "dataset_batch.batch_size = batch_size\n",
    "t1 = time.time()\n",
    "for i in range(len(dataset_batch) // batch_size):\n",
    "    theta, x = dataset_batch[i*batch_size]\n",
    "t2 = time.time()\n",
    "print(t2-t1)\n",
    "\n"
   ]
  },
  {
   "cell_type": "code",
   "execution_count": null,
   "id": "metallic-crystal",
   "metadata": {},
   "outputs": [],
   "source": []
  },
  {
   "cell_type": "markdown",
   "id": "insured-sustainability",
   "metadata": {},
   "source": [
    "# SVD domain Verifications"
   ]
  },
  {
   "cell_type": "code",
   "execution_count": 265,
   "id": "french-shower",
   "metadata": {},
   "outputs": [],
   "source": [
    "ifos.set_strain_data_from_power_spectral_densities(sampling_frequency, duration)"
   ]
  },
  {
   "cell_type": "code",
   "execution_count": 276,
   "id": "sexual-cornell",
   "metadata": {},
   "outputs": [],
   "source": [
    "normal_dist_samples = np.random.randn(10000)"
   ]
  },
  {
   "cell_type": "code",
   "execution_count": 293,
   "id": "million-external",
   "metadata": {},
   "outputs": [
    {
     "data": {
      "text/plain": [
       "<matplotlib.legend.Legend at 0x7f517bf24cd0>"
      ]
     },
     "execution_count": 293,
     "metadata": {},
     "output_type": "execute_result"
    },
    {
     "data": {
      "image/png": "[encoded data removed]",
      "text/plain": [
       "<Figure size 432x288 with 1 Axes>"
      ]
     },
     "metadata": {
      "needs_background": "light"
     },
     "output_type": "display_data"
    }
   ],
   "source": [
    "fmask = data_generator.frequency_mask\n",
    "det = ifos[0]\n",
    "#h_whitened = (det.frequency_domain_strain / det.power_spectral_density_array**0.5)[fmask]\n",
    "h_whitened = det.whitened_frequency_domain_strain[fmask]\n",
    "h_w_real = np.real(h_whitened)\n",
    "_ = plt.hist(h_w_real, bins=100, density=True, label='Re(whitened noise)', alpha=0.5)\n",
    "_ = plt.hist(normal_dist_samples, bins=100, density=True, label='N(0,1)', alpha=0.5)\n",
    "\n",
    "h_w_real_proj = np.real(h_whitened @ V)\n",
    "_ = plt.hist(h_w_real_proj, bins=30, density=True, label='Re(whitened noise projection)', alpha=0.5)\n",
    "\n",
    "plt.legend()"
   ]
  },
  {
   "cell_type": "code",
   "execution_count": 346,
   "id": "shaped-fraud",
   "metadata": {},
   "outputs": [],
   "source": [
    "index_precalwf_list = 0\n",
    "index_wf_dict = 0\n",
    "wf_dict_svd = load_dict_from_hdf5(valid_filenames[index_precalwf_list])\n",
    "\n",
    "hp_svd = wf_dict_svd['waveform_polarizations']['plus']['amplitude'][index_wf_dict] * np.exp(1j*wf_dict_svd['waveform_polarizations']['plus']['phase'][index_wf_dict])\n",
    "hc_svd = wf_dict_svd['waveform_polarizations']['cross']['amplitude'][index_wf_dict] * np.exp(1j*wf_dict_svd['waveform_polarizations']['cross']['phase'][index_wf_dict])\n",
    "\n",
    "dL = 100\n",
    "ra = dec = tc = psi = 1\n",
    "\n",
    "hp_svd /= dL\n",
    "hc_svd /= dL\n",
    "\n",
    "injection_parameters = {key: wf_dict_svd['injection_parameters'][key][index_wf_dict] for key in \\\n",
    "                        ['chirp_mass', 'mass_ratio', 'a_1', 'a_2', 'tilt_1', 'tilt_2', 'phi_12', 'phi_jl',\n",
    "                    'lambda_tilde', 'delta_lambda_tilde', 'theta_jn', 'phase']}\n",
    "injection_parameters['ra'] = ra\n",
    "injection_parameters['dec'] = dec\n",
    "injection_parameters['psi'] = psi\n",
    "injection_parameters['geocent_time'] = tc\n",
    "injection_parameters['luminosity_distance'] = dL\n",
    "\n",
    "fp = det.antenna_response(ra, dec, tc, psi, 'plus')\n",
    "fc = det.antenna_response(ra, dec, tc, psi, 'cross')\n",
    "\n",
    "time_shift = det.time_delay_from_geocenter(ra, dec, tc)\n",
    "dt_geocent = tc #- self.strain_data.start_time\n",
    "dt = dt_geocent + time_shift\n",
    "#t1 = time.time()\n",
    "\n",
    "phase2add = np.exp(-1j * 2 * np.pi * dt * data_generator.frequency_array_masked)\n",
    "Vh_recons = Vh * phase2add\n",
    "\n",
    "psd = det.power_spectral_density_array[data_generator.frequency_mask]\n",
    "whitened_V = (V.T * 1/ (psd*det.duration/4)**0.5).T\n",
    "h_svd = (fp*hp_svd + fc*hc_svd) @ Vh_recons @ whitened_V\n",
    "\n",
    "\n"
   ]
  },
  {
   "cell_type": "code",
   "execution_count": 347,
   "id": "emerging-producer",
   "metadata": {},
   "outputs": [],
   "source": [
    "m1, m2 = bilby.gw.conversion.chirp_mass_and_mass_ratio_to_component_masses(injection_parameters['chirp_mass'],\n",
    "                                                                          injection_parameters['mass_ratio'])\n",
    "\n",
    "lambda_1, lambda_2 = bilby.gw.conversion.lambda_tilde_delta_lambda_tilde_to_lambda_1_lambda_2(injection_parameters['lambda_tilde'],\n",
    "                                                                        injection_parameters['delta_lambda_tilde'],\n",
    "                                                                        m1,\n",
    "                                                                        m2)\n",
    "\n",
    "injection_parameters['lambda_1'] = lambda_1\n",
    "injection_parameters['lambda_2'] = lambda_2"
   ]
  },
  {
   "cell_type": "code",
   "execution_count": 371,
   "id": "owned-helmet",
   "metadata": {},
   "outputs": [
    {
     "data": {
      "text/plain": [
       "<matplotlib.legend.Legend at 0x7f517bc604c0>"
      ]
     },
     "execution_count": 371,
     "metadata": {},
     "output_type": "execute_result"
    },
    {
     "data": {
      "image/png": "[encoded data removed]",
      "text/plain": [
       "<Figure size 432x288 with 1 Axes>"
      ]
     },
     "metadata": {
      "needs_background": "light"
     },
     "output_type": "display_data"
    }
   ],
   "source": [
    "hp_truth = wf_dict['plus'][fmask]\n",
    "hp_recons = hp_svd @ Vh\n",
    "plt.plot(hp_truth.real, label='original waveform')\n",
    "plt.plot(hp_recons.real, label='reconstructed waveform')\n",
    "plt.plot(hp_truth.real-hp_recons.real, label='difference')\n",
    "\n",
    "plt.legend()"
   ]
  },
  {
   "cell_type": "code",
   "execution_count": 372,
   "id": "assisted-swift",
   "metadata": {},
   "outputs": [
    {
     "data": {
      "text/plain": [
       "3.1575528312829734e-26"
      ]
     },
     "execution_count": 372,
     "metadata": {},
     "output_type": "execute_result"
    }
   ],
   "source": [
    "max(abs(hp_truth - hp_recons))"
   ]
  },
  {
   "cell_type": "code",
   "execution_count": 351,
   "id": "certified-pregnancy",
   "metadata": {},
   "outputs": [
    {
     "name": "stderr",
     "output_type": "stream",
     "text": [
      "00:30 bilby INFO    : Injected signal in H1:\n",
      "00:30 bilby INFO    :   optimal SNR = 24.43\n",
      "00:30 bilby INFO    :   matched filter SNR = 24.43+0.00j\n",
      "00:30 bilby INFO    :   chirp_mass = 2.339856324862661\n",
      "00:30 bilby INFO    :   mass_ratio = 0.8659708049623089\n",
      "00:30 bilby INFO    :   a_1 = 0.06216265691592298\n",
      "00:30 bilby INFO    :   a_2 = 0.08914437404150997\n",
      "00:30 bilby INFO    :   tilt_1 = 2.3507788841927697\n",
      "00:30 bilby INFO    :   tilt_2 = 1.3318154911800926\n",
      "00:30 bilby INFO    :   phi_12 = 3.4831157801287085\n",
      "00:30 bilby INFO    :   phi_jl = 6.081169020095412\n",
      "00:30 bilby INFO    :   lambda_tilde = 1013.0015645265875\n",
      "00:30 bilby INFO    :   delta_lambda_tilde = 377.3961862433125\n",
      "00:30 bilby INFO    :   theta_jn = 0.8202826654464147\n",
      "00:30 bilby INFO    :   phase = 4.781759838461271\n",
      "00:30 bilby INFO    :   ra = 1\n",
      "00:30 bilby INFO    :   dec = 1\n",
      "00:30 bilby INFO    :   psi = 1\n",
      "00:30 bilby INFO    :   geocent_time = 1\n",
      "00:30 bilby INFO    :   luminosity_distance = 100\n",
      "00:30 bilby INFO    :   lambda_1 = 121.38736206457051\n",
      "00:30 bilby INFO    :   lambda_2 = 2382.250176382904\n"
     ]
    }
   ],
   "source": [
    "wf_dict = data_generator.waveform_generator.frequency_domain_strain(injection_parameters)\n",
    "\n",
    "det.set_strain_data_from_zero_noise(sampling_frequency, duration)\n",
    "det.inject_signal_from_waveform_polarizations(injection_parameters, wf_dict)\n",
    "\n",
    "h = det.whitened_frequency_domain_strain[fmask]\n",
    "\n",
    "h_svd_real = h @ V"
   ]
  },
  {
   "cell_type": "code",
   "execution_count": 357,
   "id": "cleared-communications",
   "metadata": {},
   "outputs": [
    {
     "data": {
      "text/plain": [
       "<matplotlib.legend.Legend at 0x7f517bc60040>"
      ]
     },
     "execution_count": 357,
     "metadata": {},
     "output_type": "execute_result"
    },
    {
     "data": {
      "image/png": "[encoded data removed]",
      "text/plain": [
       "<Figure size 432x288 with 1 Axes>"
      ]
     },
     "metadata": {
      "needs_background": "light"
     },
     "output_type": "display_data"
    }
   ],
   "source": [
    "plt.plot(h_svd_real.real, label='original whitened data projection')\n",
    "plt.plot(h_svd.real, label='simulated SVD data')\n",
    "plt.plot(h_svd.real-h_svd_real.real, label='difference')\n",
    "\n",
    "plt.legend()"
   ]
  },
  {
   "cell_type": "code",
   "execution_count": 373,
   "id": "commercial-killer",
   "metadata": {},
   "outputs": [
    {
     "data": {
      "text/plain": [
       "0.0010954262972695768"
      ]
     },
     "execution_count": 373,
     "metadata": {},
     "output_type": "execute_result"
    }
   ],
   "source": [
    "max(abs(h_svd_real - h_svd))"
   ]
  },
  {
   "cell_type": "markdown",
   "id": "prospective-collapse",
   "metadata": {},
   "source": [
    "# archived"
   ]
  },
  {
   "cell_type": "code",
   "execution_count": 7,
   "id": "mineral-pierre",
   "metadata": {},
   "outputs": [],
   "source": [
    "precalnoise_filelistdict = {}\n",
    "precalnoise_filelistdict['H1'] = noise_filenames_H1[:10]\n",
    "precalnoise_filelistdict['L1'] = noise_filenames_L1[:10]\n",
    "precalnoise_filelistdict['V1'] = noise_filenames_V1[:10]"
   ]
  },
  {
   "cell_type": "code",
   "execution_count": 186,
   "id": "innovative-consultation",
   "metadata": {},
   "outputs": [],
   "source": [
    "class DatasetSVDStrainFDFromSVDWF(Dataset):\n",
    "    '''\n",
    "    Simulate FD data in SVD space from pre-calculated SVD waveforms. \n",
    "    '''\n",
    "    def __init__(self, precalwf_filelist, precalnoise_filelistdict, parameter_names, data_generator, Nbasis, Vhfile,\n",
    "                 dmin=10, dmax=200, dpower=1, loadwf = False, loadnoise=False):\n",
    "        #self.farray = torch.from_numpy(data_dict['farray']).float()\n",
    "\n",
    "        # load waveform\n",
    "        self.precalwf_filelist = precalwf_filelist\n",
    "        testfile = load_dict_from_hdf5(precalwf_filelist[0])\n",
    "        self.sample_per_file = len(testfile['injection_parameters']['chirp_mass'])\n",
    "        self.Nfile = len(self.precalwf_filelist)\n",
    "        self.Nsample = self.Nfile * self.sample_per_file \n",
    "        self.loadwf = loadwf\n",
    "        if loadwf:\n",
    "            self.precalwf_list = []\n",
    "            for file in self.precalwf_filelist:\n",
    "                self.precalwf_list.append(load_dict_from_hdf5(file))\n",
    "        \n",
    "        # load noise\n",
    "        self.precalnoise_filelistdict = precalnoise_filelistdict\n",
    "        self.precalnoise_listdict = {}\n",
    "        for detname, precalnoise_filelist in precalnoise_filelistdict.items():\n",
    "            testfile = load_model(precalnoise_filelist[0])\n",
    "            self.noise_per_file = len(testfile)\n",
    "            self.Nnoisefile = len(precalnoise_filelist)\n",
    "            self.Nnoise = self.Nnoisefile * self.noise_per_file\n",
    "            self.loadnoise = loadnoise\n",
    "            if loadnoise:\n",
    "                print('loading precal noise')\n",
    "                self.precalnoise_listdict[detname] = []\n",
    "                for file in precalnoise_filelist:\n",
    "                    self.precalnoise_listdict[detname].append(load_model(file))\n",
    "        \n",
    "        self.dmin = dmin\n",
    "        self.dmax = dmax\n",
    "        self.dpower = dpower\n",
    "        \n",
    "        self.parameter_names = parameter_names\n",
    "        self.paradim = len(parameter_names)\n",
    "        self.data_generator = data_generator\n",
    "        self.detector_names = data_generator.detector_names\n",
    "        self.ifos = data_generator.ifos\n",
    "        #self.ipca_gen = ipca_gen\n",
    "        self.V, self.Vh = loadVandVh(Vhfile, Nbasis)\n",
    "        self.Nbasis = Nbasis\n",
    "        self.farray = data_generator.frequency_array_masked\n",
    "        \n",
    "        #print('getting Vs')\n",
    "        self.det_data = {}\n",
    "        for det in self.ifos:\n",
    "            detname = det.name\n",
    "            self.det_data[detname] = {}\n",
    "            psd = det.power_spectral_density_array[data_generator.frequency_mask]\n",
    "            self.det_data[detname]['PSD'] = psd\n",
    "            self.det_data[detname]['whitened_V'] = (self.V.T * 1/psd**0.5).T\n",
    "            #self.det_data[detname]['whitened_V'] = np.diag(1e-23/psd**0.5) @ self.V\n",
    "            #det_data[detname]['PSD_SVD'] = psd @ self.V\n",
    "            \n",
    "    def __len__(self):\n",
    "        return self.Nsample\n",
    "\n",
    "    def __getitem__(self, index):\n",
    "        #t1 = time.time()\n",
    "        index_precalwf_list, index_wf_dict = self.get_wf_index(index)\n",
    "        \n",
    "        if self.loadwf:\n",
    "            wf_dict = self.precalwf_list[index_precalwf_list]\n",
    "        else:\n",
    "            wf_dict = load_dict_from_hdf5(self.precalwf_filelist[index_precalwf_list])\n",
    "\n",
    "        hp_svd = wf_dict['waveform_polarizations']['plus']['amplitude'][index_wf_dict] * np.exp(1j*wf_dict['waveform_polarizations']['plus']['phase'][index_wf_dict])\n",
    "        hc_svd = wf_dict['waveform_polarizations']['cross']['amplitude'][index_wf_dict] * np.exp(1j*wf_dict['waveform_polarizations']['cross']['phase'][index_wf_dict])\n",
    "        \n",
    "        #t2 = time.time()\n",
    "        \n",
    "        #print(f\"read hp hc: {t2-t1}\")\n",
    "        injection_parameters = {}\n",
    "        for key in ['chirp_mass', 'mass_ratio', 'a_1', 'a_2', 'tilt_1', 'tilt_2', 'phi_12', 'phi_jl',\n",
    "                    'lambda_tilde', 'delta_lambda_tilde', 'theta_jn', 'phase']: # 12-D intrinsic para\n",
    "            injection_parameters[key] = wf_dict['injection_parameters'][key][index_wf_dict]\n",
    "        \n",
    "        injection_parameters = self.update_injection_parameters(injection_parameters)\n",
    "        dL = injection_parameters['luminosity_distance']\n",
    "        ra = injection_parameters['ra']\n",
    "        dec = injection_parameters['dec']\n",
    "        psi = injection_parameters['psi']\n",
    "        tc = injection_parameters['geocent_time']\n",
    "        \n",
    "        hp_svd /= dL\n",
    "        hc_svd /= dL\n",
    "        \n",
    "        x_real = []\n",
    "        x_imag = []\n",
    "        for det in self.ifos:\n",
    "            \n",
    "            fp = det.antenna_response(ra, dec, tc, psi, 'plus')\n",
    "            fc = det.antenna_response(ra, dec, tc, psi, 'cross')\n",
    "            \n",
    "            time_shift = det.time_delay_from_geocenter(ra, dec, tc)\n",
    "            dt_geocent = tc #- self.strain_data.start_time\n",
    "            dt = dt_geocent + time_shift\n",
    "            #t1 = time.time()\n",
    "            \n",
    "            phase2add = np.exp(-1j * 2 * np.pi * dt * self.farray)\n",
    "            Vh_recons = self.Vh * phase2add\n",
    "            \n",
    "            #h_torch = torch.from_numpy(fp*hp_svd + fc*hc_svd)\n",
    "            #Vhrecon_torch = torch.from_numpy(Vh_recons)\n",
    "            h_svd = (fp*hp_svd + fc*hc_svd) @ Vh_recons @ self.det_data[det.name]['whitened_V']\n",
    "            \n",
    "            #t2 = time.time()\n",
    "            #noise_index = np.random.randint(0, self.Nnoise)\n",
    "            noise_index = 10\n",
    "            noisefile_index = noise_index // self.noise_per_file\n",
    "            noise_index_infile = noise_index - noisefile_index*self.noise_per_file\n",
    "            \n",
    "            if self.loadnoise:\n",
    "                n_svd = self.precalnoise_listdict[det.name][noisefile_index][noise_index_infile]\n",
    "            else:\n",
    "                n_svd = load_model(self.precalnoise_filelistdict[det.name][index_precalwf_list])[noise_index_infile]\n",
    "                \n",
    "            #t3 = time.time()\n",
    "            \n",
    "            #print(f\"get phase: {t2-t1}\")\n",
    "            #print(f\"get n: {t3-t2}\")\n",
    "            d_svd = h_svd + n_svd\n",
    "            x_real.append(np.real(d_svd))\n",
    "            x_imag.append(np.imag(d_svd))\n",
    "            \n",
    "        x_real = torch.from_numpy(np.array(x_real))\n",
    "        x_imag = torch.from_numpy(np.array(x_imag))\n",
    "        \n",
    "        x = torch.cat((x_real, x_imag)).float()\n",
    "        theta = self.get_theta(injection_parameters)\n",
    "\n",
    "        #return theta.clone().detach(), strain.clone().detach(), inv_asd.clone().detach()\n",
    "        return theta.clone().detach(), x.squeeze(0).clone().detach()\n",
    "\n",
    "    def get_wf_index(self, index):\n",
    "        index_precalwf_list = index // self.sample_per_file\n",
    "        index_wf_dict = index - index_precalwf_list*self.sample_per_file\n",
    "\n",
    "        return index_precalwf_list, index_wf_dict\n",
    "\n",
    "    #def update_injection_parameters(self, injection_parameters):\n",
    "    #    injection_parameters['ra'] = np.random.uniform(0, np.pi)\n",
    "    #    injection_parameters['dec'] = np.arcsin(np.random.uniform(-1, 1))\n",
    "    #    injection_parameters['psi'] = np.random.uniform(0, np.pi)\n",
    "    #    injection_parameters['geocent_time'] = np.random.uniform(-0.1, 0.1)\n",
    "    #    injection_parameters['luminosity_distance'] = generate_random_distance(Nsample=1, low=self.dmin, high=self.dmax, power=self.dpower)[0]\n",
    "    #\n",
    "    #   return injection_parameters\n",
    "    \n",
    "    def update_injection_parameters(self, injection_parameters):\n",
    "        injection_parameters['ra'] = 1\n",
    "        injection_parameters['dec'] = 1\n",
    "        injection_parameters['psi'] = 1\n",
    "        injection_parameters['geocent_time'] = 1\n",
    "        injection_parameters['luminosity_distance'] = 100\n",
    "\n",
    "        return injection_parameters\n",
    "   \n",
    "    def get_theta(self, injection_parameters):\n",
    "        theta = []\n",
    "        for paraname in self.parameter_names:\n",
    "            tt = injection_parameters[paraname]\n",
    "            #if paraname in ['chirp_mass']:\n",
    "            #    theta.append(reparameterize_mass(tt))\n",
    "            #else:\n",
    "            #    theta.append(tt)\n",
    "            theta.append(tt)\n",
    "        \n",
    "        return torch.from_numpy(np.array(theta)).float()\n",
    "\n",
    "    def _project_strain_data_FDAPhi(self, strain, psd, detector_names, ipca_gen, project=True, downsample_rate=1, dim=1):\n",
    "        '''\n",
    "        strain: DatasetStrainFD in batches, e.g. DatasetStrainFD[0:10]\n",
    "        psd: strain-like\n",
    "        detector_names: DatasetStrainFD.detector_names\n",
    "        ipca_gen: IPCAGenerator\n",
    "        '''\n",
    "        strain = np.expand_dims(strain, 0)\n",
    "        psd = np.expand_dims(psd, 0)\n",
    "        strain_amp = np.abs(strain)\n",
    "        strain_phi = np.unwrap(np.angle(strain) , axis=-1)\n",
    "        strain_real = np.real(strain)\n",
    "        strain_imag = np.imag(strain)\n",
    "\n",
    "        n_components = ipca_gen.n_components\n",
    "        batch_size = strain.shape[0]\n",
    "        ndet = len(detector_names)\n",
    "\n",
    "        output_amp = []\n",
    "        output_phi = []\n",
    "        output_psd = []\n",
    "        for i,detname in enumerate(detector_names):\n",
    "            if project:\n",
    "                output_amp.append(ipca_gen.project(strain_amp[:,i,:], detname, 'amplitude'))\n",
    "                output_phi.append(ipca_gen.project(strain_phi[:,i,:], detname, 'phase'))\n",
    "                output_psd.append(ipca_gen.project(psd[:,i,:], detname, 'amplitude'))\n",
    "            else:\n",
    "                output_amp.append(strain_amp.numpy()[:,i,:][:,::downsample_rate])\n",
    "                output_phi.append(strain_phi[:,i,:][:,::downsample_rate])\n",
    "                #output_amp.append(strain_real.numpy()[:,i,:][:,::downsample_rate])\n",
    "                #output_phi.append(strain_imag.numpy()[:,i,:][:,::downsample_rate])\n",
    "                output_psd.append(psd.numpy()[:,i,:][:,::downsample_rate])\n",
    "\n",
    "        output_amp = torch.from_numpy(np.array(output_amp))\n",
    "        output_phi = torch.from_numpy(np.array(output_phi))\n",
    "        output_psd = torch.from_numpy(np.array(output_psd))\n",
    "        data_length = output_amp.shape[-1]\n",
    "        if dim==1:\n",
    "            return torch.cat((output_amp, output_phi, output_psd)).movedim(0,1).float()\n",
    "        elif dim==2:\n",
    "            return torch.cat((output_amp, output_phi, output_psd)).movedim(0,1).float().view((batch_size,3,ndet,data_length))"
   ]
  },
  {
   "cell_type": "code",
   "execution_count": 187,
   "id": "binding-portugal",
   "metadata": {},
   "outputs": [],
   "source": [
    "testds = DatasetSVDStrainFDFromSVDWF(precalwf_filelist=valid_filenames[:2],\n",
    "                                     precalnoise_filelistdict=precalnoise_filelistdict,\n",
    "                                     parameter_names=PARAMETER_NAMES_CONTEXT_PRECESSINGBNS_BILBY,\n",
    "                                     data_generator=data_generator,\n",
    "                                     Nbasis=512,\n",
    "                                     Vhfile=\"/home/qian.hu/mlpe/river/test/outputs/Vh_50Hz1024Hz32s.pickle\",\n",
    "                                     dmin=10, dmax=200, dpower=1, loadwf = False, loadnoise=False)"
   ]
  },
  {
   "cell_type": "code",
   "execution_count": 188,
   "id": "banner-alberta",
   "metadata": {
    "scrolled": true
   },
   "outputs": [
    {
     "name": "stdout",
     "output_type": "stream",
     "text": [
      "CPU times: user 1.54 s, sys: 6.96 s, total: 8.49 s\n",
      "Wall time: 189 ms\n"
     ]
    }
   ],
   "source": [
    "%time theta, x = testds[2]"
   ]
  },
  {
   "cell_type": "code",
   "execution_count": 189,
   "id": "important-motorcycle",
   "metadata": {
    "scrolled": true
   },
   "outputs": [
    {
     "data": {
      "text/plain": [
       "tensor([[ 0.4115,  1.0161, -1.3963,  ...,  0.6798,  2.3966, -0.7424],\n",
       "        [-0.5347, -1.0312,  1.5108,  ..., -0.6503, -2.2797,  0.7021],\n",
       "        [ 1.0960,  1.0947, -3.1980,  ...,  0.3458,  1.4852, -1.1084],\n",
       "        [ 0.8158,  0.6372, -2.5954,  ...,  0.1554,  0.6644, -0.8165],\n",
       "        [-0.7790, -0.6258,  2.3287,  ..., -0.1534, -0.6515,  0.7853],\n",
       "        [-0.3911, -0.9349,  1.0289,  ..., -0.6943, -2.2874,  0.5154]])"
      ]
     },
     "execution_count": 189,
     "metadata": {},
     "output_type": "execute_result"
    }
   ],
   "source": [
    "x"
   ]
  },
  {
   "cell_type": "code",
   "execution_count": 35,
   "id": "progressive-treasury",
   "metadata": {},
   "outputs": [],
   "source": [
    "testloader = DataLoader(testds, batch_size=10, shuffle=True, num_workers=1)"
   ]
  },
  {
   "cell_type": "code",
   "execution_count": null,
   "id": "floating-appeal",
   "metadata": {},
   "outputs": [],
   "source": []
  }
 ],
 "metadata": {
  "kernelspec": {
   "display_name": "myigwn-py39",
   "language": "python",
   "name": "myigwn-py39"
  },
  "language_info": {
   "codemirror_mode": {
    "name": "ipython",
    "version": 3
   },
   "file_extension": ".py",
   "mimetype": "text/x-python",
   "name": "python",
   "nbconvert_exporter": "python",
   "pygments_lexer": "ipython3",
   "version": "3.9.7"
  }
 },
 "nbformat": 4,
 "nbformat_minor": 5
}
