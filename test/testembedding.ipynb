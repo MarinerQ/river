{
 "cells": [
  {
   "cell_type": "code",
   "execution_count": 36,
   "id": "52780746-0d02-4cef-85c8-5b5086d0e874",
   "metadata": {},
   "outputs": [],
   "source": [
    "import numpy as np\n",
    "import bilby \n",
    "import pycbc \n",
    "import sys\n",
    "import matplotlib.pyplot as plt\n",
    "\n",
    "import zuko\n",
    "import torch\n",
    "from torch.utils.data import Dataset, DataLoader\n",
    "from torch import nn\n"
   ]
  },
  {
   "cell_type": "code",
   "execution_count": 2,
   "id": "2e5cd56d",
   "metadata": {},
   "outputs": [],
   "source": [
    "import river.data\n",
    "from river.data.datagenerator import DataGeneratorBilbyFD\n",
    "from river.data.dataset import DatasetStrainFD\n",
    "#import river.data.utils as datautils\n",
    "from river.data.utils import *\n",
    "\n",
    "from river.models import embedding\n",
    "from river.models.utils import *\n",
    "from river.models.embedding.pca import project_strain_data_FDAPhi\n",
    "from river.models.embedding.conv import EmbeddingConv1D, EmbeddingConv2D"
   ]
  },
  {
   "cell_type": "code",
   "execution_count": 3,
   "id": "70486ce4",
   "metadata": {},
   "outputs": [],
   "source": [
    "import pickle"
   ]
  },
  {
   "cell_type": "code",
   "execution_count": 4,
   "id": "c2b76c4d",
   "metadata": {},
   "outputs": [],
   "source": [
    "from sklearn.decomposition import IncrementalPCA"
   ]
  },
  {
   "cell_type": "code",
   "execution_count": 5,
   "id": "044ec3cf",
   "metadata": {},
   "outputs": [],
   "source": [
    "import sklearn.decomposition "
   ]
  },
  {
   "cell_type": "code",
   "execution_count": 6,
   "id": "b90bf59b",
   "metadata": {},
   "outputs": [],
   "source": [
    "Nsample = 3\n",
    "injection_parameters_all = generate_BNS_injection_parameters(\n",
    "        Nsample,\n",
    "        a_max=0.1,\n",
    "        d_min=10,\n",
    "        d_max=100,\n",
    "        d_power=2)\n",
    "\n",
    "\n",
    "Nsample_template = 10000\n",
    "injection_parameters_template = generate_BNS_injection_parameters(\n",
    "        Nsample_template,\n",
    "        a_max=0.1,\n",
    "        d_min=10,\n",
    "        d_max=100,\n",
    "        d_power=2)"
   ]
  },
  {
   "cell_type": "code",
   "execution_count": null,
   "id": "70aea722",
   "metadata": {},
   "outputs": [],
   "source": []
  },
  {
   "cell_type": "code",
   "execution_count": 7,
   "id": "bd2225c6",
   "metadata": {},
   "outputs": [],
   "source": [
    "source_type = 'BNS'\n",
    "detector_names = ['H1', 'L1', 'V1'] \n",
    "duration = 32\n",
    "f_low = 20\n",
    "f_ref = 20\n",
    "sampling_frequency = 2048\n",
    "waveform_approximant = 'IMRPhenomPv2_NRTidal'\n",
    "parameter_names = PARAMETER_NAMES_PRECESSINGBNS_BILBY\n",
    "PSD_type = 'bilby_default' #'zero_noise'\n",
    "use_sealgw_detector = True"
   ]
  },
  {
   "cell_type": "code",
   "execution_count": 8,
   "id": "32e7dde4",
   "metadata": {},
   "outputs": [
    {
     "name": "stderr",
     "output_type": "stream",
     "text": [
      "15:47 bilby INFO    : Waveform generator initiated with\n",
      "  frequency_domain_source_model: bilby.gw.source.lal_binary_neutron_star\n",
      "  time_domain_source_model: None\n",
      "  parameter_conversion: bilby.gw.conversion.convert_to_lal_binary_black_hole_parameters\n"
     ]
    },
    {
     "name": "stdout",
     "output_type": "stream",
     "text": [
      "Using bilby_default PSDs to generate data.\n"
     ]
    },
    {
     "data": {
      "text/plain": [
       "\"\\ndata_template_generator = DataGeneratorBilbyFD(source_type,\\n            detector_names, \\n            duration, \\n            f_low, \\n            f_ref, \\n            sampling_frequency, \\n            waveform_approximant, \\n            parameter_names,\\n            PSD_type='zero_noise',\\n            use_sealgw_detector=use_sealgw_detector)\\n\""
      ]
     },
     "execution_count": 8,
     "metadata": {},
     "output_type": "execute_result"
    }
   ],
   "source": [
    "data_generator = DataGeneratorBilbyFD(source_type,\n",
    "            detector_names, \n",
    "            duration, \n",
    "            f_low, \n",
    "            f_ref, \n",
    "            sampling_frequency, \n",
    "            waveform_approximant, \n",
    "            parameter_names,\n",
    "            PSD_type=PSD_type,\n",
    "            use_sealgw_detector=use_sealgw_detector)\n",
    "'''\n",
    "data_template_generator = DataGeneratorBilbyFD(source_type,\n",
    "            detector_names, \n",
    "            duration, \n",
    "            f_low, \n",
    "            f_ref, \n",
    "            sampling_frequency, \n",
    "            waveform_approximant, \n",
    "            parameter_names,\n",
    "            PSD_type='zero_noise',\n",
    "            use_sealgw_detector=use_sealgw_detector)\n",
    "'''"
   ]
  },
  {
   "cell_type": "code",
   "execution_count": 9,
   "id": "b5e99781",
   "metadata": {
    "tags": []
   },
   "outputs": [
    {
     "name": "stderr",
     "output_type": "stream",
     "text": [
      "15:47 bilby WARNING : The injected signal has a duration in-band of 94.9s, but the data for detector H1 has a duration of 32s\n",
      "15:47 bilby WARNING : The injected signal has a duration in-band of 94.9s, but the data for detector L1 has a duration of 32s\n",
      "15:47 bilby WARNING : The injected signal has a duration in-band of 94.9s, but the data for detector V1 has a duration of 32s\n",
      "15:47 bilby WARNING : The injected signal has a duration in-band of 120.7s, but the data for detector H1 has a duration of 32s\n",
      "15:47 bilby WARNING : The injected signal has a duration in-band of 120.7s, but the data for detector L1 has a duration of 32s\n",
      "15:47 bilby WARNING : The injected signal has a duration in-band of 120.7s, but the data for detector V1 has a duration of 32s\n",
      "15:47 bilby WARNING : The injected signal has a duration in-band of 90.8s, but the data for detector H1 has a duration of 32s\n",
      "15:47 bilby WARNING : The injected signal has a duration in-band of 90.8s, but the data for detector L1 has a duration of 32s\n",
      "15:47 bilby WARNING : The injected signal has a duration in-band of 90.8s, but the data for detector V1 has a duration of 32s\n"
     ]
    },
    {
     "name": "stdout",
     "output_type": "stream",
     "text": [
      "Injecting 0-th signal, 0.0% done\n",
      "Injecting 1-th signal, 33.33% done\n",
      "Injecting 2-th signal, 66.67% done\n"
     ]
    }
   ],
   "source": [
    "data_generator.inject_signals(injection_parameters_all, Nsample)\n",
    "#data_template_generator.inject_signals(injection_parameters_template, Nsample_template)"
   ]
  },
  {
   "cell_type": "code",
   "execution_count": 10,
   "id": "fe6c30aa",
   "metadata": {},
   "outputs": [],
   "source": [
    "data_generator.numpy_starins()\n",
    "#data_template_generator.numpy_starins()\n",
    "\n",
    "#data_generator.whiten_strains()\n",
    "#data_template_generator.scale_strains()"
   ]
  },
  {
   "cell_type": "code",
   "execution_count": 11,
   "id": "b5eb92f3",
   "metadata": {},
   "outputs": [],
   "source": [
    "#n_components=10\n",
    "#ipca_gen = embedding.pca.IPCAGenerator(data_template_generator.data['strains'], n_components, detector_names, decomposition='exp_unwrap')"
   ]
  },
  {
   "cell_type": "code",
   "execution_count": 12,
   "id": "6ab639aa",
   "metadata": {},
   "outputs": [],
   "source": [
    "#modelutils.save_model('IPCAgenerator.pickle', ipca_gen)"
   ]
  },
  {
   "cell_type": "code",
   "execution_count": 13,
   "id": "6e6dffbb",
   "metadata": {},
   "outputs": [
    {
     "name": "stdout",
     "output_type": "stream",
     "text": [
      "Model loaded from ../scripts/ipca_models/IPCA_BNSFD_10000to500_ExpUnwrap_fixtc.pickle\n"
     ]
    }
   ],
   "source": [
    "ipca_gen = load_model('../scripts/ipca_models/IPCA_BNSFD_10000to500_ExpUnwrap_fixtc.pickle')\n",
    "\n"
   ]
  },
  {
   "cell_type": "code",
   "execution_count": 14,
   "id": "9856e279",
   "metadata": {},
   "outputs": [],
   "source": [
    "#ipca_gen.pca_dict['H1']['phase'].singular_values_"
   ]
  },
  {
   "cell_type": "code",
   "execution_count": 15,
   "id": "34ba1dc3",
   "metadata": {},
   "outputs": [],
   "source": [
    "ds = DatasetStrainFD(data_dict=data_generator.data, parameter_names=PARAMETER_NAMES_PRECESSINGBNS_BILBY)"
   ]
  },
  {
   "cell_type": "code",
   "execution_count": 30,
   "id": "655e6471-4861-4a4e-a8a3-0170ad23c439",
   "metadata": {},
   "outputs": [],
   "source": [
    "def get_condition_2proj(embedding_proj, embedding_noproj, theta, strain, psd, detector_names, ipca_gen, device, downsample_rate):\n",
    "    inputs_proj = project_strain_data_FDAPhi(strain, psd, detector_names, ipca_gen).to(device)\n",
    "    inputs_noproj = project_strain_data_FDAPhi(strain, psd, detector_names, ipca_gen, project=False, dim=2, downsample_rate=downsample_rate).to(device)\n",
    "    theta = theta.to(device)\n",
    "\n",
    "    embedding_out_proj = embedding_proj(inputs_proj)\n",
    "    embedding_out_noproj = embedding_noproj(inputs_noproj)\n",
    "    condition = torch.cat((embedding_out_proj, embedding_out_noproj), -1)\n",
    "\n",
    "    return condition"
   ]
  },
  {
   "cell_type": "code",
   "execution_count": 40,
   "id": "9ce5b8e6",
   "metadata": {},
   "outputs": [
    {
     "data": {
      "text/plain": [
       "True"
      ]
     },
     "execution_count": 40,
     "metadata": {},
     "output_type": "execute_result"
    }
   ],
   "source": [
    "type(embedding_proj) in [EmbeddingConv1D]"
   ]
  },
  {
   "cell_type": "code",
   "execution_count": 31,
   "id": "86d54b89-3d39-4c30-865a-e56f77858a28",
   "metadata": {},
   "outputs": [],
   "source": [
    "embedding_proj = EmbeddingConv1D(ndet=3, ncomp=1, nout=128, use_psd = True, middle_channel = 2,\n",
    "                                 kernel_size=1, stride=1, padding=0, dilation=1)"
   ]
  },
  {
   "cell_type": "code",
   "execution_count": 32,
   "id": "aa7585ca-0bba-4dd3-b5ed-343fb125470c",
   "metadata": {},
   "outputs": [],
   "source": [
    "embedding_noproj = EmbeddingConv2D(ndet=3, ncomp=1, nout=128, use_psd = True, middle_channel = 20,\n",
    "                                   kernel_size=1, stride=1, padding=0, dilation=1)"
   ]
  },
  {
   "cell_type": "code",
   "execution_count": 33,
   "id": "a99a4bc9-15e2-4afd-954f-37c1e1c5f7a8",
   "metadata": {},
   "outputs": [],
   "source": [
    "device = 'cpu'\n",
    "theta, strain, psd = ds[0:2]\n",
    "downsample_rate= 4"
   ]
  },
  {
   "cell_type": "code",
   "execution_count": 35,
   "id": "6244f097",
   "metadata": {},
   "outputs": [
    {
     "data": {
      "text/plain": [
       "torch.Size([2, 256])"
      ]
     },
     "execution_count": 35,
     "metadata": {},
     "output_type": "execute_result"
    }
   ],
   "source": [
    "get_condition_2proj(embedding_proj, embedding_noproj, theta, strain, psd, detector_names, ipca_gen, device, downsample_rate).shape"
   ]
  },
  {
   "cell_type": "code",
   "execution_count": 40,
   "id": "75361703-0e95-49ac-a881-d9fac78f2dee",
   "metadata": {},
   "outputs": [],
   "source": [
    "device = 'cpu'\n",
    "downsample_rate = 4\n",
    "inputs_proj = project_strain_data_FDAPhi(strain, psd, detector_names, ipca_gen)#.to(device)\n",
    "inputs_noproj = project_strain_data_FDAPhi(strain, psd, detector_names, ipca_gen, project=False,downsample_rate=4, dim=1)#.to(device)\n",
    "theta = theta#.to(device)"
   ]
  },
  {
   "cell_type": "code",
   "execution_count": 36,
   "id": "baa3fd73-72bf-4bb9-85fd-82c64cb96130",
   "metadata": {},
   "outputs": [
    {
     "data": {
      "text/plain": [
       "torch.Size([2, 9, 500])"
      ]
     },
     "execution_count": 36,
     "metadata": {},
     "output_type": "execute_result"
    }
   ],
   "source": [
    "inputs_proj.shape"
   ]
  },
  {
   "cell_type": "code",
   "execution_count": 37,
   "id": "fa85343d-23c7-42ac-ab14-6e6cbd380420",
   "metadata": {},
   "outputs": [
    {
     "data": {
      "text/plain": [
       "torch.Size([2, 1, 9, 8033])"
      ]
     },
     "execution_count": 37,
     "metadata": {},
     "output_type": "execute_result"
    }
   ],
   "source": [
    "inputs_noproj.shape"
   ]
  },
  {
   "cell_type": "code",
   "execution_count": 38,
   "id": "ae686a97-35fa-42b9-ae2c-86b61d76f6e1",
   "metadata": {},
   "outputs": [
    {
     "data": {
      "text/plain": [
       "torch.Size([2, 128])"
      ]
     },
     "execution_count": 38,
     "metadata": {},
     "output_type": "execute_result"
    }
   ],
   "source": [
    "embedding_proj(inputs_proj).shape"
   ]
  },
  {
   "cell_type": "code",
   "execution_count": 41,
   "id": "13bef754-c712-4624-a33d-633817c672e3",
   "metadata": {},
   "outputs": [
    {
     "data": {
      "text/plain": [
       "torch.Size([2, 128])"
      ]
     },
     "execution_count": 41,
     "metadata": {},
     "output_type": "execute_result"
    }
   ],
   "source": [
    "embedding_noproj(inputs_noproj.unsqueeze(-2)).shape"
   ]
  },
  {
   "cell_type": "code",
   "execution_count": null,
   "id": "003d84e7-79db-410f-9895-992e348c076b",
   "metadata": {},
   "outputs": [],
   "source": []
  },
  {
   "cell_type": "code",
   "execution_count": null,
   "id": "bf801483-1d31-4148-8e82-af70e43eb9b1",
   "metadata": {},
   "outputs": [],
   "source": [
    "theta, strain, psd = ds[0:2]"
   ]
  },
  {
   "cell_type": "code",
   "execution_count": null,
   "id": "1c2780b9-232f-4992-a9a7-4ba9f32da145",
   "metadata": {},
   "outputs": [],
   "source": [
    "get_condition_2proj(embedding_proj, embedding_noproj, theta, strain, psd, detector_names, ipca_gen, device='cpu', downsample_rate=4)"
   ]
  },
  {
   "cell_type": "code",
   "execution_count": null,
   "id": "747c5a07-b89a-4aac-88b1-f4d08448697b",
   "metadata": {},
   "outputs": [],
   "source": []
  },
  {
   "cell_type": "code",
   "execution_count": null,
   "id": "ccce5282-fe4a-45fd-acef-a5150932111c",
   "metadata": {},
   "outputs": [],
   "source": []
  },
  {
   "cell_type": "code",
   "execution_count": null,
   "id": "05fe51c8-8a17-49a5-89e7-92f52868f4a5",
   "metadata": {},
   "outputs": [],
   "source": []
  },
  {
   "cell_type": "code",
   "execution_count": null,
   "id": "21a91cab-e724-4e85-a415-ebddde61cda6",
   "metadata": {},
   "outputs": [],
   "source": []
  },
  {
   "cell_type": "code",
   "execution_count": null,
   "id": "51162013-89cd-4bd8-9203-ae801ca8a2f6",
   "metadata": {},
   "outputs": [],
   "source": []
  },
  {
   "cell_type": "code",
   "execution_count": null,
   "id": "0dc1121d",
   "metadata": {},
   "outputs": [],
   "source": [
    "proj_angle = np.unwrap(np.angle(strain), axis=-1)\n"
   ]
  },
  {
   "cell_type": "code",
   "execution_count": null,
   "id": "eaf242b6",
   "metadata": {},
   "outputs": [],
   "source": [
    "proj_angle.shape"
   ]
  },
  {
   "cell_type": "code",
   "execution_count": null,
   "id": "7c17e18b",
   "metadata": {},
   "outputs": [],
   "source": [
    "proj_angle = np.unwrap(np.angle(strain), axis=-1)\n",
    "plt.plot(proj_angle[0][0])\n",
    "plt.plot(proj_angle[0][1])\n",
    "plt.plot(proj_angle[0][2])"
   ]
  },
  {
   "cell_type": "code",
   "execution_count": null,
   "id": "e54e6602",
   "metadata": {},
   "outputs": [],
   "source": [
    "np.array(list(data_dict['strains'].values()))"
   ]
  },
  {
   "cell_type": "code",
   "execution_count": null,
   "id": "b6c08ff1",
   "metadata": {},
   "outputs": [],
   "source": [
    "def project_strain_data_FDAPhi(strain, psd, detector_names, ipca_gen):\n",
    "    strain_amp = np.abs(strain)\n",
    "    strain_phi = np.unwrap(np.angle(strain) , axis=-1)\n",
    "    n_components = ipca_gen.n_components\n",
    "\n",
    "    output_amp = []\n",
    "    output_phi = []\n",
    "    output_psd = []\n",
    "    for i,detname in enumerate(detector_names):\n",
    "        output_amp.append(ipca_gen.project(strain_amp[:,i,:], detname, 'amplitude'))\n",
    "        output_phi.append(ipca_gen.project(strain_phi[:,i,:], detname, 'phase'))\n",
    "        output_psd.append(ipca_gen.project(psd[:,i,:], detname, 'amplitude'))\n",
    "    output_amp = torch.from_numpy(np.array(output_amp))\n",
    "    output_phi = torch.from_numpy(np.array(output_phi))\n",
    "    output_psd = torch.from_numpy(np.array(output_psd))\n",
    "\n",
    "    return torch.cat((output_amp, output_phi, output_psd)).movedim(0,1).float()\n"
   ]
  },
  {
   "cell_type": "code",
   "execution_count": null,
   "id": "e122ea97",
   "metadata": {},
   "outputs": [],
   "source": [
    "theta, strain, psd = ds[0:2]\n",
    "psd.shape"
   ]
  },
  {
   "cell_type": "code",
   "execution_count": null,
   "id": "8095dce0",
   "metadata": {},
   "outputs": [],
   "source": [
    "theta, strain, psd = ds[0:2]\n",
    "\n",
    "detector_names = data_generator.detector_names\n",
    "aa = project_strain_data_FDAPhi(strain, psd, detector_names, ipca_gen)"
   ]
  },
  {
   "cell_type": "code",
   "execution_count": null,
   "id": "382589e8",
   "metadata": {},
   "outputs": [],
   "source": [
    "aa.shape"
   ]
  },
  {
   "cell_type": "code",
   "execution_count": null,
   "id": "9338488d",
   "metadata": {},
   "outputs": [],
   "source": [
    "channel = 'strains'\n",
    "detname = 'H1'\n",
    "test_strain = np.abs(data_generator.data[channel][detname])\n"
   ]
  },
  {
   "cell_type": "code",
   "execution_count": null,
   "id": "c43103b3",
   "metadata": {},
   "outputs": [],
   "source": [
    "test_strain[0]"
   ]
  },
  {
   "cell_type": "code",
   "execution_count": null,
   "id": "b5394c87",
   "metadata": {},
   "outputs": [],
   "source": [
    "test_strain.shape"
   ]
  },
  {
   "cell_type": "code",
   "execution_count": null,
   "id": "bd9ae8f0",
   "metadata": {},
   "outputs": [],
   "source": [
    "ipca_gen.project(test_strain[0:3], detname, 'amplitude')"
   ]
  },
  {
   "cell_type": "code",
   "execution_count": null,
   "id": "8e153b58",
   "metadata": {},
   "outputs": [],
   "source": [
    "bank_H1 = data_template_generator.data['strains']['H1'].copy()"
   ]
  },
  {
   "cell_type": "code",
   "execution_count": null,
   "id": "18937cd3",
   "metadata": {},
   "outputs": [],
   "source": [
    "u,s,vt = np.linalg.svd(bank_H1.T, full_matrices=False)"
   ]
  },
  {
   "cell_type": "code",
   "execution_count": null,
   "id": "263b5d6a",
   "metadata": {},
   "outputs": [],
   "source": [
    "padding = 0\n",
    "dialation = 1\n",
    "kernel_size = 1\n",
    "stride = 1\n"
   ]
  },
  {
   "cell_type": "code",
   "execution_count": null,
   "id": "964949ec",
   "metadata": {},
   "outputs": [],
   "source": [
    "int((256 + 2*padding - dialation*(kernel_size-1) - 1)/stride) + 1"
   ]
  },
  {
   "cell_type": "code",
   "execution_count": null,
   "id": "37d50e74",
   "metadata": {},
   "outputs": [],
   "source": [
    "class EmbeddingConv(nn.Module):\n",
    "    def __init__(self, ndet, ncomp, nout, use_psd = True):\n",
    "        super().__init__()\n",
    "        self.ncomp = ncomp\n",
    "        self.nout = nout\n",
    "        if use_psd:\n",
    "            self.nchannel = 3*ndet # strains(2) + PSD (1)\n",
    "        else:\n",
    "            self.nchannel = 2*ndet\n",
    "\n",
    "        self.middle_channel = 512\n",
    "        self.cnn1 = nn.Sequential(\n",
    "            nn.Conv1d(in_channels=self.nchannel, out_channels=self.middle_channel, kernel_size=1, stride=1),\n",
    "            nn.BatchNorm1d(self.middle_channel),\n",
    "            #nn.MaxPool1d(kernel_size=2)\n",
    "        )\n",
    "        \n",
    "        self.cnn2 = nn.Sequential(\n",
    "            nn.Conv1d(in_channels=self.middle_channel, out_channels=self.middle_channel, kernel_size=1, stride=1),\n",
    "            nn.BatchNorm1d(self.middle_channel),\n",
    "            #nn.MaxPool1d(kernel_size=2)\n",
    "        )\n",
    "\n",
    "        self.cnn3 = nn.Sequential(\n",
    "            nn.Conv1d(in_channels=self.middle_channel, out_channels=self.middle_channel, kernel_size=1, stride=1),\n",
    "            nn.BatchNorm1d(self.middle_channel),\n",
    "            #nn.MaxPool1d(kernel_size=2)\n",
    "        )\n",
    "        self.dropout = nn.Dropout(0.5)\n",
    "        self.linear = nn.Linear(self.middle_channel*self.ncomp, self.nout)\n",
    "\n",
    "\n",
    "    def forward(self, x):\n",
    "        # x : [batch_size, channel (det_123, amp/phase) = 2*ndet, length (number of samples)]\n",
    "        bs,_,_  = x.shape \n",
    "        x = self.cnn1(x)\n",
    "        x = self.cnn2(x)\n",
    "        x = self.cnn3(x)\n",
    "        x = self.dropout(x).reshape((bs,-1))\n",
    "        output = self.linear(x)\n",
    "\n",
    "        return output"
   ]
  },
  {
   "cell_type": "code",
   "execution_count": null,
   "id": "6cb974a5",
   "metadata": {},
   "outputs": [],
   "source": [
    "Net_emb = EmbeddingConv(ndet=3, ncomp=n_components, nout=128)"
   ]
  },
  {
   "cell_type": "code",
   "execution_count": null,
   "id": "79a6434e",
   "metadata": {},
   "outputs": [],
   "source": [
    "theta, strain, psd = ds[0:2]\n",
    "test_input = project_strain_data_FDAPhi(strain, psd, detector_names, ipca_gen)"
   ]
  },
  {
   "cell_type": "code",
   "execution_count": null,
   "id": "0eea15f2",
   "metadata": {},
   "outputs": [],
   "source": [
    "embedding_out = Net_emb(test_input)"
   ]
  },
  {
   "cell_type": "code",
   "execution_count": null,
   "id": "0e8964d4",
   "metadata": {},
   "outputs": [],
   "source": [
    "test_input.shape"
   ]
  },
  {
   "cell_type": "code",
   "execution_count": null,
   "id": "3ec6f89d",
   "metadata": {},
   "outputs": [],
   "source": [
    "theta.shape"
   ]
  },
  {
   "cell_type": "code",
   "execution_count": null,
   "id": "6e4978e8",
   "metadata": {},
   "outputs": [],
   "source": [
    "flow = zuko.flows.NSF(features=17, context=128, transforms=3, hidden_features=(64, 64))\n"
   ]
  },
  {
   "cell_type": "code",
   "execution_count": null,
   "id": "486acd9f",
   "metadata": {},
   "outputs": [],
   "source": [
    "loss = -flow(embedding_out).log_prob(theta).mean()"
   ]
  },
  {
   "cell_type": "code",
   "execution_count": null,
   "id": "747b99e7",
   "metadata": {},
   "outputs": [],
   "source": [
    "loss"
   ]
  },
  {
   "cell_type": "code",
   "execution_count": null,
   "id": "3618b1db",
   "metadata": {},
   "outputs": [],
   "source": []
  }
 ],
 "metadata": {
  "kernelspec": {
   "display_name": "myigwn-py39",
   "language": "python",
   "name": "myigwn-py39"
  },
  "language_info": {
   "codemirror_mode": {
    "name": "ipython",
    "version": 3
   },
   "file_extension": ".py",
   "mimetype": "text/x-python",
   "name": "python",
   "nbconvert_exporter": "python",
   "pygments_lexer": "ipython3",
   "version": "3.9.13"
  }
 },
 "nbformat": 4,
 "nbformat_minor": 5
}
