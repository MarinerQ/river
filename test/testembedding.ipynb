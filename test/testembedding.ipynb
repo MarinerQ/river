{
 "cells": [
  {
   "cell_type": "code",
   "execution_count": 1,
   "id": "52780746-0d02-4cef-85c8-5b5086d0e874",
   "metadata": {},
   "outputs": [],
   "source": [
    "import numpy as np\n",
    "import bilby \n",
    "import pycbc \n",
    "import sys\n",
    "import matplotlib.pyplot as plt\n",
    "\n",
    "\n",
    "import torch\n",
    "from torch.utils.data import Dataset, DataLoader\n",
    "from torch import nn\n"
   ]
  },
  {
   "cell_type": "code",
   "execution_count": 2,
   "id": "2e5cd56d",
   "metadata": {},
   "outputs": [],
   "source": [
    "import river.data\n",
    "from river.data.datagenerator import DataGeneratorBilbyFD\n",
    "from river.data.dataset import DatasetStrainFD\n",
    "#import river.data.utils as datautils\n",
    "from river.data.utils import *\n",
    "\n",
    "from river.models import embedding\n",
    "from river.models import utils as modelutils"
   ]
  },
  {
   "cell_type": "code",
   "execution_count": 3,
   "id": "70486ce4",
   "metadata": {},
   "outputs": [],
   "source": [
    "import pickle"
   ]
  },
  {
   "cell_type": "code",
   "execution_count": 4,
   "id": "c2b76c4d",
   "metadata": {},
   "outputs": [],
   "source": [
    "from sklearn.decomposition import IncrementalPCA"
   ]
  },
  {
   "cell_type": "code",
   "execution_count": 5,
   "id": "044ec3cf",
   "metadata": {},
   "outputs": [],
   "source": [
    "import sklearn.decomposition "
   ]
  },
  {
   "cell_type": "code",
   "execution_count": 6,
   "id": "b90bf59b",
   "metadata": {},
   "outputs": [],
   "source": [
    "Nsample = 10\n",
    "injection_parameters_all = generate_BNS_injection_parameters(\n",
    "        Nsample,\n",
    "        a_max=0.1,\n",
    "        d_min=10,\n",
    "        d_max=100,\n",
    "        d_power=2)\n",
    "\n",
    "\n",
    "Nsample_template = 100\n",
    "injection_parameters_template = generate_BNS_injection_parameters(\n",
    "        Nsample_template,\n",
    "        a_max=0.1,\n",
    "        d_min=10,\n",
    "        d_max=100,\n",
    "        d_power=2)"
   ]
  },
  {
   "cell_type": "code",
   "execution_count": 7,
   "id": "bd2225c6",
   "metadata": {},
   "outputs": [],
   "source": [
    "source_type = 'BNS'\n",
    "detector_names = ['H1', 'L1', 'V1'] \n",
    "duration = 32\n",
    "f_low = 20\n",
    "f_ref = 20\n",
    "sampling_frequency = 2048\n",
    "waveform_approximant = 'IMRPhenomPv2_NRTidal'\n",
    "parameter_names = PARAMETER_NAMES_PRECESSINGBNS_BILBY\n",
    "PSD_type = 'bilby_default' #'zero_noise'\n",
    "use_sealgw_detector = True"
   ]
  },
  {
   "cell_type": "code",
   "execution_count": 8,
   "id": "32e7dde4",
   "metadata": {},
   "outputs": [
    {
     "name": "stderr",
     "output_type": "stream",
     "text": [
      "14:40 bilby INFO    : Waveform generator initiated with\n",
      "  frequency_domain_source_model: bilby.gw.source.lal_binary_neutron_star\n",
      "  time_domain_source_model: None\n",
      "  parameter_conversion: bilby.gw.conversion.convert_to_lal_binary_black_hole_parameters\n",
      "14:40 bilby INFO    : Waveform generator initiated with\n",
      "  frequency_domain_source_model: bilby.gw.source.lal_binary_neutron_star\n",
      "  time_domain_source_model: None\n",
      "  parameter_conversion: bilby.gw.conversion.convert_to_lal_binary_black_hole_parameters\n"
     ]
    },
    {
     "name": "stdout",
     "output_type": "stream",
     "text": [
      "Using bilby_default PSDs to generate data.\n",
      "Using zero_noise PSDs to generate data.\n"
     ]
    }
   ],
   "source": [
    "data_generator = DataGeneratorBilbyFD(source_type,\n",
    "            detector_names, \n",
    "            duration, \n",
    "            f_low, \n",
    "            f_ref, \n",
    "            sampling_frequency, \n",
    "            waveform_approximant, \n",
    "            parameter_names,\n",
    "            PSD_type=PSD_type,\n",
    "            use_sealgw_detector=use_sealgw_detector)\n",
    "\n",
    "data_template_generator = DataGeneratorBilbyFD(source_type,\n",
    "            detector_names, \n",
    "            duration, \n",
    "            f_low, \n",
    "            f_ref, \n",
    "            sampling_frequency, \n",
    "            waveform_approximant, \n",
    "            parameter_names,\n",
    "            PSD_type='zero_noise',\n",
    "            use_sealgw_detector=use_sealgw_detector)"
   ]
  },
  {
   "cell_type": "code",
   "execution_count": 9,
   "id": "b5e99781",
   "metadata": {},
   "outputs": [
    {
     "name": "stderr",
     "output_type": "stream",
     "text": [
      "14:40 bilby WARNING : The injected signal has a duration in-band of 97.2s, but the data for detector H1 has a duration of 32s\n",
      "14:40 bilby WARNING : The injected signal has a duration in-band of 97.2s, but the data for detector L1 has a duration of 32s\n",
      "14:40 bilby WARNING : The injected signal has a duration in-band of 97.2s, but the data for detector V1 has a duration of 32s\n",
      "14:40 bilby WARNING : The injected signal has a duration in-band of 97.3s, but the data for detector H1 has a duration of 32s\n",
      "14:40 bilby WARNING : The injected signal has a duration in-band of 97.3s, but the data for detector L1 has a duration of 32s\n",
      "14:40 bilby WARNING : The injected signal has a duration in-band of 97.3s, but the data for detector V1 has a duration of 32s\n",
      "14:40 bilby WARNING : The injected signal has a duration in-band of 99.8s, but the data for detector H1 has a duration of 32s\n",
      "14:40 bilby WARNING : The injected signal has a duration in-band of 99.8s, but the data for detector L1 has a duration of 32s\n",
      "14:40 bilby WARNING : The injected signal has a duration in-band of 99.8s, but the data for detector V1 has a duration of 32s\n"
     ]
    },
    {
     "name": "stdout",
     "output_type": "stream",
     "text": [
      "Injecting 0-th signal, 0.0% done\n",
      "Injecting 1-th signal, 10.0% done\n",
      "Injecting 2-th signal, 20.0% done\n",
      "Injecting 3-th signal, 30.0% done\n"
     ]
    },
    {
     "name": "stderr",
     "output_type": "stream",
     "text": [
      "14:40 bilby WARNING : The injected signal has a duration in-band of 124.8s, but the data for detector H1 has a duration of 32s\n",
      "14:40 bilby WARNING : The injected signal has a duration in-band of 124.8s, but the data for detector L1 has a duration of 32s\n",
      "14:40 bilby WARNING : The injected signal has a duration in-band of 124.8s, but the data for detector V1 has a duration of 32s\n",
      "14:40 bilby WARNING : The injected signal has a duration in-band of 86.6s, but the data for detector H1 has a duration of 32s\n",
      "14:40 bilby WARNING : The injected signal has a duration in-band of 86.6s, but the data for detector L1 has a duration of 32s\n",
      "14:40 bilby WARNING : The injected signal has a duration in-band of 86.6s, but the data for detector V1 has a duration of 32s\n",
      "14:40 bilby WARNING : The injected signal has a duration in-band of 64.5s, but the data for detector H1 has a duration of 32s\n",
      "14:40 bilby WARNING : The injected signal has a duration in-band of 64.5s, but the data for detector L1 has a duration of 32s\n",
      "14:40 bilby WARNING : The injected signal has a duration in-band of 64.5s, but the data for detector V1 has a duration of 32s\n",
      "14:40 bilby WARNING : The injected signal has a duration in-band of 83.6s, but the data for detector H1 has a duration of 32s\n",
      "14:40 bilby WARNING : The injected signal has a duration in-band of 83.6s, but the data for detector L1 has a duration of 32s\n",
      "14:40 bilby WARNING : The injected signal has a duration in-band of 83.6s, but the data for detector V1 has a duration of 32s\n",
      "14:40 bilby WARNING : The injected signal has a duration in-band of 77.5s, but the data for detector H1 has a duration of 32s\n",
      "14:40 bilby WARNING : The injected signal has a duration in-band of 77.5s, but the data for detector L1 has a duration of 32s\n",
      "14:40 bilby WARNING : The injected signal has a duration in-band of 77.5s, but the data for detector V1 has a duration of 32s\n"
     ]
    },
    {
     "name": "stdout",
     "output_type": "stream",
     "text": [
      "Injecting 4-th signal, 40.0% done\n",
      "Injecting 5-th signal, 50.0% done\n",
      "Injecting 6-th signal, 60.0% done\n",
      "Injecting 7-th signal, 70.0% done\n",
      "Injecting 8-th signal, 80.0% done\n"
     ]
    },
    {
     "name": "stderr",
     "output_type": "stream",
     "text": [
      "14:40 bilby WARNING : The injected signal has a duration in-band of 88.3s, but the data for detector H1 has a duration of 32s\n",
      "14:40 bilby WARNING : The injected signal has a duration in-band of 88.3s, but the data for detector L1 has a duration of 32s\n",
      "14:40 bilby WARNING : The injected signal has a duration in-band of 88.3s, but the data for detector V1 has a duration of 32s\n",
      "14:40 bilby WARNING : The injected signal has a duration in-band of 89.6s, but the data for detector H1 has a duration of 32s\n",
      "14:40 bilby WARNING : The injected signal has a duration in-band of 89.6s, but the data for detector L1 has a duration of 32s\n",
      "14:40 bilby WARNING : The injected signal has a duration in-band of 89.6s, but the data for detector V1 has a duration of 32s\n",
      "14:40 bilby WARNING : The injected signal has a duration in-band of 171.2s, but the data for detector H1 has a duration of 32s\n",
      "14:40 bilby WARNING : The injected signal has a duration in-band of 171.2s, but the data for detector L1 has a duration of 32s\n",
      "14:40 bilby WARNING : The injected signal has a duration in-band of 171.2s, but the data for detector V1 has a duration of 32s\n",
      "14:40 bilby WARNING : The injected signal has a duration in-band of 120.3s, but the data for detector H1 has a duration of 32s\n",
      "14:40 bilby WARNING : The injected signal has a duration in-band of 120.3s, but the data for detector L1 has a duration of 32s\n",
      "14:40 bilby WARNING : The injected signal has a duration in-band of 120.3s, but the data for detector V1 has a duration of 32s\n",
      "14:40 bilby WARNING : The injected signal has a duration in-band of 69.7s, but the data for detector H1 has a duration of 32s\n",
      "14:40 bilby WARNING : The injected signal has a duration in-band of 69.7s, but the data for detector L1 has a duration of 32s\n",
      "14:40 bilby WARNING : The injected signal has a duration in-band of 69.7s, but the data for detector V1 has a duration of 32s\n",
      "14:40 bilby WARNING : The injected signal has a duration in-band of 99.8s, but the data for detector H1 has a duration of 32s\n",
      "14:40 bilby WARNING : The injected signal has a duration in-band of 99.8s, but the data for detector L1 has a duration of 32s\n",
      "14:40 bilby WARNING : The injected signal has a duration in-band of 99.8s, but the data for detector V1 has a duration of 32s\n"
     ]
    },
    {
     "name": "stdout",
     "output_type": "stream",
     "text": [
      "Injecting 9-th signal, 90.0% done\n",
      "Injecting 0-th signal, 0.0% done\n",
      "Injecting 1-th signal, 1.0% done\n",
      "Injecting 2-th signal, 2.0% done\n",
      "Injecting 3-th signal, 3.0% done\n"
     ]
    },
    {
     "name": "stderr",
     "output_type": "stream",
     "text": [
      "14:40 bilby WARNING : The injected signal has a duration in-band of 142.8s, but the data for detector H1 has a duration of 32s\n",
      "14:40 bilby WARNING : The injected signal has a duration in-band of 142.8s, but the data for detector L1 has a duration of 32s\n",
      "14:40 bilby WARNING : The injected signal has a duration in-band of 142.8s, but the data for detector V1 has a duration of 32s\n",
      "14:40 bilby WARNING : The injected signal has a duration in-band of 100.8s, but the data for detector H1 has a duration of 32s\n",
      "14:40 bilby WARNING : The injected signal has a duration in-band of 100.8s, but the data for detector L1 has a duration of 32s\n",
      "14:40 bilby WARNING : The injected signal has a duration in-band of 100.8s, but the data for detector V1 has a duration of 32s\n",
      "14:40 bilby WARNING : The injected signal has a duration in-band of 119.7s, but the data for detector H1 has a duration of 32s\n",
      "14:40 bilby WARNING : The injected signal has a duration in-band of 119.7s, but the data for detector L1 has a duration of 32s\n",
      "14:40 bilby WARNING : The injected signal has a duration in-band of 119.7s, but the data for detector V1 has a duration of 32s\n",
      "14:40 bilby WARNING : The injected signal has a duration in-band of 189.5s, but the data for detector H1 has a duration of 32s\n",
      "14:40 bilby WARNING : The injected signal has a duration in-band of 189.5s, but the data for detector L1 has a duration of 32s\n",
      "14:40 bilby WARNING : The injected signal has a duration in-band of 189.5s, but the data for detector V1 has a duration of 32s\n",
      "14:40 bilby WARNING : The injected signal has a duration in-band of 137.3s, but the data for detector H1 has a duration of 32s\n",
      "14:40 bilby WARNING : The injected signal has a duration in-band of 137.3s, but the data for detector L1 has a duration of 32s\n",
      "14:40 bilby WARNING : The injected signal has a duration in-band of 137.3s, but the data for detector V1 has a duration of 32s\n"
     ]
    },
    {
     "name": "stdout",
     "output_type": "stream",
     "text": [
      "Injecting 4-th signal, 4.0% done\n",
      "Injecting 5-th signal, 5.0% done\n",
      "Injecting 6-th signal, 6.0% done\n",
      "Injecting 7-th signal, 7.0% done\n",
      "Injecting 8-th signal, 8.0% done\n",
      "Injecting 9-th signal, 9.0% done\n"
     ]
    },
    {
     "name": "stderr",
     "output_type": "stream",
     "text": [
      "14:40 bilby WARNING : The injected signal has a duration in-band of 106.4s, but the data for detector H1 has a duration of 32s\n",
      "14:40 bilby WARNING : The injected signal has a duration in-band of 106.4s, but the data for detector L1 has a duration of 32s\n",
      "14:40 bilby WARNING : The injected signal has a duration in-band of 106.4s, but the data for detector V1 has a duration of 32s\n",
      "14:40 bilby WARNING : The injected signal has a duration in-band of 87.2s, but the data for detector H1 has a duration of 32s\n",
      "14:40 bilby WARNING : The injected signal has a duration in-band of 87.2s, but the data for detector L1 has a duration of 32s\n",
      "14:40 bilby WARNING : The injected signal has a duration in-band of 87.2s, but the data for detector V1 has a duration of 32s\n",
      "14:40 bilby WARNING : The injected signal has a duration in-band of 172.9s, but the data for detector H1 has a duration of 32s\n",
      "14:40 bilby WARNING : The injected signal has a duration in-band of 172.9s, but the data for detector L1 has a duration of 32s\n",
      "14:40 bilby WARNING : The injected signal has a duration in-band of 172.9s, but the data for detector V1 has a duration of 32s\n",
      "14:40 bilby WARNING : The injected signal has a duration in-band of 81.2s, but the data for detector H1 has a duration of 32s\n",
      "14:40 bilby WARNING : The injected signal has a duration in-band of 81.2s, but the data for detector L1 has a duration of 32s\n",
      "14:40 bilby WARNING : The injected signal has a duration in-band of 81.2s, but the data for detector V1 has a duration of 32s\n",
      "14:40 bilby WARNING : The injected signal has a duration in-band of 106.6s, but the data for detector H1 has a duration of 32s\n",
      "14:40 bilby WARNING : The injected signal has a duration in-band of 106.6s, but the data for detector L1 has a duration of 32s\n",
      "14:40 bilby WARNING : The injected signal has a duration in-band of 106.6s, but the data for detector V1 has a duration of 32s\n",
      "14:40 bilby WARNING : The injected signal has a duration in-band of 80.2s, but the data for detector H1 has a duration of 32s\n",
      "14:40 bilby WARNING : The injected signal has a duration in-band of 80.2s, but the data for detector L1 has a duration of 32s\n",
      "14:40 bilby WARNING : The injected signal has a duration in-band of 80.2s, but the data for detector V1 has a duration of 32s\n"
     ]
    },
    {
     "name": "stdout",
     "output_type": "stream",
     "text": [
      "Injecting 10-th signal, 10.0% done\n",
      "Injecting 11-th signal, 11.0% done\n",
      "Injecting 12-th signal, 12.0% done\n",
      "Injecting 13-th signal, 13.0% done\n",
      "Injecting 14-th signal, 14.0% done\n",
      "Injecting 15-th signal, 15.0% done\n"
     ]
    },
    {
     "name": "stderr",
     "output_type": "stream",
     "text": [
      "14:40 bilby WARNING : The injected signal has a duration in-band of 123.9s, but the data for detector H1 has a duration of 32s\n",
      "14:40 bilby WARNING : The injected signal has a duration in-band of 123.9s, but the data for detector L1 has a duration of 32s\n",
      "14:40 bilby WARNING : The injected signal has a duration in-band of 123.9s, but the data for detector V1 has a duration of 32s\n",
      "14:40 bilby WARNING : The injected signal has a duration in-band of 119.9s, but the data for detector H1 has a duration of 32s\n",
      "14:40 bilby WARNING : The injected signal has a duration in-band of 119.9s, but the data for detector L1 has a duration of 32s\n",
      "14:40 bilby WARNING : The injected signal has a duration in-band of 119.9s, but the data for detector V1 has a duration of 32s\n",
      "14:40 bilby WARNING : The injected signal has a duration in-band of 57.7s, but the data for detector H1 has a duration of 32s\n",
      "14:40 bilby WARNING : The injected signal has a duration in-band of 57.7s, but the data for detector L1 has a duration of 32s\n",
      "14:40 bilby WARNING : The injected signal has a duration in-band of 57.7s, but the data for detector V1 has a duration of 32s\n",
      "14:40 bilby WARNING : The injected signal has a duration in-band of 134.5s, but the data for detector H1 has a duration of 32s\n",
      "14:40 bilby WARNING : The injected signal has a duration in-band of 134.5s, but the data for detector L1 has a duration of 32s\n",
      "14:40 bilby WARNING : The injected signal has a duration in-band of 134.5s, but the data for detector V1 has a duration of 32s\n",
      "14:40 bilby WARNING : The injected signal has a duration in-band of 104.3s, but the data for detector H1 has a duration of 32s\n",
      "14:40 bilby WARNING : The injected signal has a duration in-band of 104.3s, but the data for detector L1 has a duration of 32s\n",
      "14:40 bilby WARNING : The injected signal has a duration in-band of 104.3s, but the data for detector V1 has a duration of 32s\n",
      "14:40 bilby WARNING : The injected signal has a duration in-band of 98.0s, but the data for detector H1 has a duration of 32s\n",
      "14:40 bilby WARNING : The injected signal has a duration in-band of 98.0s, but the data for detector L1 has a duration of 32s\n",
      "14:40 bilby WARNING : The injected signal has a duration in-band of 98.0s, but the data for detector V1 has a duration of 32s\n"
     ]
    },
    {
     "name": "stdout",
     "output_type": "stream",
     "text": [
      "Injecting 16-th signal, 16.0% done\n",
      "Injecting 17-th signal, 17.0% done\n",
      "Injecting 18-th signal, 18.0% done\n",
      "Injecting 19-th signal, 19.0% done\n",
      "Injecting 20-th signal, 20.0% done\n",
      "Injecting 21-th signal, 21.0% done\n"
     ]
    },
    {
     "name": "stderr",
     "output_type": "stream",
     "text": [
      "14:40 bilby WARNING : The injected signal has a duration in-band of 121.8s, but the data for detector H1 has a duration of 32s\n",
      "14:40 bilby WARNING : The injected signal has a duration in-band of 121.8s, but the data for detector L1 has a duration of 32s\n",
      "14:40 bilby WARNING : The injected signal has a duration in-band of 121.8s, but the data for detector V1 has a duration of 32s\n",
      "14:40 bilby WARNING : The injected signal has a duration in-band of 106.9s, but the data for detector H1 has a duration of 32s\n",
      "14:40 bilby WARNING : The injected signal has a duration in-band of 106.9s, but the data for detector L1 has a duration of 32s\n",
      "14:40 bilby WARNING : The injected signal has a duration in-band of 106.9s, but the data for detector V1 has a duration of 32s\n",
      "14:40 bilby WARNING : The injected signal has a duration in-band of 89.4s, but the data for detector H1 has a duration of 32s\n",
      "14:40 bilby WARNING : The injected signal has a duration in-band of 89.4s, but the data for detector L1 has a duration of 32s\n",
      "14:40 bilby WARNING : The injected signal has a duration in-band of 89.4s, but the data for detector V1 has a duration of 32s\n",
      "14:40 bilby WARNING : The injected signal has a duration in-band of 129.6s, but the data for detector H1 has a duration of 32s\n",
      "14:40 bilby WARNING : The injected signal has a duration in-band of 129.6s, but the data for detector L1 has a duration of 32s\n",
      "14:40 bilby WARNING : The injected signal has a duration in-band of 129.6s, but the data for detector V1 has a duration of 32s\n",
      "14:40 bilby WARNING : The injected signal has a duration in-band of 143.3s, but the data for detector H1 has a duration of 32s\n",
      "14:40 bilby WARNING : The injected signal has a duration in-band of 143.3s, but the data for detector L1 has a duration of 32s\n",
      "14:40 bilby WARNING : The injected signal has a duration in-band of 143.3s, but the data for detector V1 has a duration of 32s\n",
      "14:40 bilby WARNING : The injected signal has a duration in-band of 129.7s, but the data for detector H1 has a duration of 32s\n",
      "14:40 bilby WARNING : The injected signal has a duration in-band of 129.7s, but the data for detector L1 has a duration of 32s\n",
      "14:40 bilby WARNING : The injected signal has a duration in-band of 129.7s, but the data for detector V1 has a duration of 32s\n",
      "14:40 bilby WARNING : The injected signal has a duration in-band of 88.7s, but the data for detector H1 has a duration of 32s\n"
     ]
    },
    {
     "name": "stdout",
     "output_type": "stream",
     "text": [
      "Injecting 22-th signal, 22.0% done\n",
      "Injecting 23-th signal, 23.0% done\n",
      "Injecting 24-th signal, 24.0% done\n",
      "Injecting 25-th signal, 25.0% done\n",
      "Injecting 26-th signal, 26.0% done\n",
      "Injecting 27-th signal, 27.0% done\n"
     ]
    },
    {
     "name": "stderr",
     "output_type": "stream",
     "text": [
      "14:40 bilby WARNING : The injected signal has a duration in-band of 88.7s, but the data for detector L1 has a duration of 32s\n",
      "14:40 bilby WARNING : The injected signal has a duration in-band of 88.7s, but the data for detector V1 has a duration of 32s\n",
      "14:40 bilby WARNING : The injected signal has a duration in-band of 57.0s, but the data for detector H1 has a duration of 32s\n",
      "14:40 bilby WARNING : The injected signal has a duration in-band of 57.0s, but the data for detector L1 has a duration of 32s\n",
      "14:40 bilby WARNING : The injected signal has a duration in-band of 57.0s, but the data for detector V1 has a duration of 32s\n",
      "14:40 bilby WARNING : The injected signal has a duration in-band of 88.1s, but the data for detector H1 has a duration of 32s\n",
      "14:40 bilby WARNING : The injected signal has a duration in-band of 88.1s, but the data for detector L1 has a duration of 32s\n",
      "14:40 bilby WARNING : The injected signal has a duration in-band of 88.1s, but the data for detector V1 has a duration of 32s\n",
      "14:40 bilby WARNING : The injected signal has a duration in-band of 72.3s, but the data for detector H1 has a duration of 32s\n",
      "14:40 bilby WARNING : The injected signal has a duration in-band of 72.3s, but the data for detector L1 has a duration of 32s\n",
      "14:40 bilby WARNING : The injected signal has a duration in-band of 72.3s, but the data for detector V1 has a duration of 32s\n",
      "14:40 bilby WARNING : The injected signal has a duration in-band of 62.0s, but the data for detector H1 has a duration of 32s\n",
      "14:40 bilby WARNING : The injected signal has a duration in-band of 62.0s, but the data for detector L1 has a duration of 32s\n",
      "14:40 bilby WARNING : The injected signal has a duration in-band of 62.0s, but the data for detector V1 has a duration of 32s\n",
      "14:40 bilby WARNING : The injected signal has a duration in-band of 86.5s, but the data for detector H1 has a duration of 32s\n",
      "14:40 bilby WARNING : The injected signal has a duration in-band of 86.5s, but the data for detector L1 has a duration of 32s\n",
      "14:40 bilby WARNING : The injected signal has a duration in-band of 86.5s, but the data for detector V1 has a duration of 32s\n"
     ]
    },
    {
     "name": "stdout",
     "output_type": "stream",
     "text": [
      "Injecting 28-th signal, 28.0% done\n",
      "Injecting 29-th signal, 29.0% done\n",
      "Injecting 30-th signal, 30.0% done\n",
      "Injecting 31-th signal, 31.0% done\n",
      "Injecting 32-th signal, 32.0% done\n",
      "Injecting 33-th signal, 33.0% done\n"
     ]
    },
    {
     "name": "stderr",
     "output_type": "stream",
     "text": [
      "14:40 bilby WARNING : The injected signal has a duration in-band of 80.1s, but the data for detector H1 has a duration of 32s\n",
      "14:40 bilby WARNING : The injected signal has a duration in-band of 80.1s, but the data for detector L1 has a duration of 32s\n",
      "14:40 bilby WARNING : The injected signal has a duration in-band of 80.1s, but the data for detector V1 has a duration of 32s\n",
      "14:40 bilby WARNING : The injected signal has a duration in-band of 101.3s, but the data for detector H1 has a duration of 32s\n",
      "14:40 bilby WARNING : The injected signal has a duration in-band of 101.3s, but the data for detector L1 has a duration of 32s\n",
      "14:40 bilby WARNING : The injected signal has a duration in-band of 101.3s, but the data for detector V1 has a duration of 32s\n",
      "14:40 bilby WARNING : The injected signal has a duration in-band of 102.0s, but the data for detector H1 has a duration of 32s\n",
      "14:40 bilby WARNING : The injected signal has a duration in-band of 102.0s, but the data for detector L1 has a duration of 32s\n",
      "14:40 bilby WARNING : The injected signal has a duration in-band of 102.0s, but the data for detector V1 has a duration of 32s\n",
      "14:40 bilby WARNING : The injected signal has a duration in-band of 59.6s, but the data for detector H1 has a duration of 32s\n",
      "14:40 bilby WARNING : The injected signal has a duration in-band of 59.6s, but the data for detector L1 has a duration of 32s\n",
      "14:40 bilby WARNING : The injected signal has a duration in-band of 59.6s, but the data for detector V1 has a duration of 32s\n",
      "14:40 bilby WARNING : The injected signal has a duration in-band of 107.6s, but the data for detector H1 has a duration of 32s\n",
      "14:40 bilby WARNING : The injected signal has a duration in-band of 107.6s, but the data for detector L1 has a duration of 32s\n",
      "14:40 bilby WARNING : The injected signal has a duration in-band of 107.6s, but the data for detector V1 has a duration of 32s\n",
      "14:40 bilby WARNING : The injected signal has a duration in-band of 146.3s, but the data for detector H1 has a duration of 32s\n",
      "14:40 bilby WARNING : The injected signal has a duration in-band of 146.3s, but the data for detector L1 has a duration of 32s\n",
      "14:40 bilby WARNING : The injected signal has a duration in-band of 146.3s, but the data for detector V1 has a duration of 32s\n"
     ]
    },
    {
     "name": "stdout",
     "output_type": "stream",
     "text": [
      "Injecting 34-th signal, 34.0% done\n",
      "Injecting 35-th signal, 35.0% done\n",
      "Injecting 36-th signal, 36.0% done\n",
      "Injecting 37-th signal, 37.0% done\n",
      "Injecting 38-th signal, 38.0% done\n",
      "Injecting 39-th signal, 39.0% done\n"
     ]
    },
    {
     "name": "stderr",
     "output_type": "stream",
     "text": [
      "14:40 bilby WARNING : The injected signal has a duration in-band of 137.8s, but the data for detector H1 has a duration of 32s\n",
      "14:40 bilby WARNING : The injected signal has a duration in-band of 137.8s, but the data for detector L1 has a duration of 32s\n",
      "14:40 bilby WARNING : The injected signal has a duration in-band of 137.8s, but the data for detector V1 has a duration of 32s\n",
      "14:40 bilby WARNING : The injected signal has a duration in-band of 69.7s, but the data for detector H1 has a duration of 32s\n",
      "14:40 bilby WARNING : The injected signal has a duration in-band of 69.7s, but the data for detector L1 has a duration of 32s\n",
      "14:40 bilby WARNING : The injected signal has a duration in-band of 69.7s, but the data for detector V1 has a duration of 32s\n",
      "14:40 bilby WARNING : The injected signal has a duration in-band of 65.3s, but the data for detector H1 has a duration of 32s\n",
      "14:40 bilby WARNING : The injected signal has a duration in-band of 65.3s, but the data for detector L1 has a duration of 32s\n",
      "14:40 bilby WARNING : The injected signal has a duration in-band of 65.3s, but the data for detector V1 has a duration of 32s\n",
      "14:40 bilby WARNING : The injected signal has a duration in-band of 172.7s, but the data for detector H1 has a duration of 32s\n",
      "14:40 bilby WARNING : The injected signal has a duration in-band of 172.7s, but the data for detector L1 has a duration of 32s\n",
      "14:40 bilby WARNING : The injected signal has a duration in-band of 172.7s, but the data for detector V1 has a duration of 32s\n",
      "14:40 bilby WARNING : The injected signal has a duration in-band of 108.6s, but the data for detector H1 has a duration of 32s\n",
      "14:40 bilby WARNING : The injected signal has a duration in-band of 108.6s, but the data for detector L1 has a duration of 32s\n",
      "14:40 bilby WARNING : The injected signal has a duration in-band of 108.6s, but the data for detector V1 has a duration of 32s\n",
      "14:40 bilby WARNING : The injected signal has a duration in-band of 63.2s, but the data for detector H1 has a duration of 32s\n",
      "14:40 bilby WARNING : The injected signal has a duration in-band of 63.2s, but the data for detector L1 has a duration of 32s\n",
      "14:40 bilby WARNING : The injected signal has a duration in-band of 63.2s, but the data for detector V1 has a duration of 32s\n"
     ]
    },
    {
     "name": "stdout",
     "output_type": "stream",
     "text": [
      "Injecting 40-th signal, 40.0% done\n",
      "Injecting 41-th signal, 41.0% done\n",
      "Injecting 42-th signal, 42.0% done\n",
      "Injecting 43-th signal, 43.0% done\n",
      "Injecting 44-th signal, 44.0% done\n"
     ]
    },
    {
     "name": "stderr",
     "output_type": "stream",
     "text": [
      "14:40 bilby WARNING : The injected signal has a duration in-band of 53.2s, but the data for detector H1 has a duration of 32s\n",
      "14:40 bilby WARNING : The injected signal has a duration in-band of 53.2s, but the data for detector L1 has a duration of 32s\n",
      "14:40 bilby WARNING : The injected signal has a duration in-band of 53.2s, but the data for detector V1 has a duration of 32s\n",
      "14:40 bilby WARNING : The injected signal has a duration in-band of 111.9s, but the data for detector H1 has a duration of 32s\n",
      "14:40 bilby WARNING : The injected signal has a duration in-band of 111.9s, but the data for detector L1 has a duration of 32s\n",
      "14:40 bilby WARNING : The injected signal has a duration in-band of 111.9s, but the data for detector V1 has a duration of 32s\n",
      "14:40 bilby WARNING : The injected signal has a duration in-band of 74.4s, but the data for detector H1 has a duration of 32s\n",
      "14:40 bilby WARNING : The injected signal has a duration in-band of 74.4s, but the data for detector L1 has a duration of 32s\n",
      "14:40 bilby WARNING : The injected signal has a duration in-band of 74.4s, but the data for detector V1 has a duration of 32s\n",
      "14:40 bilby WARNING : The injected signal has a duration in-band of 77.3s, but the data for detector H1 has a duration of 32s\n",
      "14:40 bilby WARNING : The injected signal has a duration in-band of 77.3s, but the data for detector L1 has a duration of 32s\n",
      "14:40 bilby WARNING : The injected signal has a duration in-band of 77.3s, but the data for detector V1 has a duration of 32s\n",
      "14:40 bilby WARNING : The injected signal has a duration in-band of 73.5s, but the data for detector H1 has a duration of 32s\n",
      "14:40 bilby WARNING : The injected signal has a duration in-band of 73.5s, but the data for detector L1 has a duration of 32s\n",
      "14:40 bilby WARNING : The injected signal has a duration in-band of 73.5s, but the data for detector V1 has a duration of 32s\n"
     ]
    },
    {
     "name": "stdout",
     "output_type": "stream",
     "text": [
      "Injecting 45-th signal, 45.0% done\n",
      "Injecting 46-th signal, 46.0% done\n",
      "Injecting 47-th signal, 47.0% done\n",
      "Injecting 48-th signal, 48.0% done\n",
      "Injecting 49-th signal, 49.0% done\n"
     ]
    },
    {
     "name": "stderr",
     "output_type": "stream",
     "text": [
      "14:40 bilby WARNING : The injected signal has a duration in-band of 59.3s, but the data for detector H1 has a duration of 32s\n",
      "14:40 bilby WARNING : The injected signal has a duration in-band of 59.3s, but the data for detector L1 has a duration of 32s\n",
      "14:40 bilby WARNING : The injected signal has a duration in-band of 59.3s, but the data for detector V1 has a duration of 32s\n",
      "14:40 bilby WARNING : The injected signal has a duration in-band of 106.3s, but the data for detector H1 has a duration of 32s\n",
      "14:40 bilby WARNING : The injected signal has a duration in-band of 106.3s, but the data for detector L1 has a duration of 32s\n",
      "14:40 bilby WARNING : The injected signal has a duration in-band of 106.3s, but the data for detector V1 has a duration of 32s\n",
      "14:40 bilby WARNING : The injected signal has a duration in-band of 95.9s, but the data for detector H1 has a duration of 32s\n",
      "14:40 bilby WARNING : The injected signal has a duration in-band of 95.9s, but the data for detector L1 has a duration of 32s\n",
      "14:40 bilby WARNING : The injected signal has a duration in-band of 95.9s, but the data for detector V1 has a duration of 32s\n",
      "14:40 bilby WARNING : The injected signal has a duration in-band of 74.4s, but the data for detector H1 has a duration of 32s\n",
      "14:40 bilby WARNING : The injected signal has a duration in-band of 74.4s, but the data for detector L1 has a duration of 32s\n",
      "14:40 bilby WARNING : The injected signal has a duration in-band of 74.4s, but the data for detector V1 has a duration of 32s\n",
      "14:40 bilby WARNING : The injected signal has a duration in-band of 58.8s, but the data for detector H1 has a duration of 32s\n",
      "14:40 bilby WARNING : The injected signal has a duration in-band of 58.8s, but the data for detector L1 has a duration of 32s\n",
      "14:40 bilby WARNING : The injected signal has a duration in-band of 58.8s, but the data for detector V1 has a duration of 32s\n"
     ]
    },
    {
     "name": "stdout",
     "output_type": "stream",
     "text": [
      "Injecting 50-th signal, 50.0% done\n",
      "Injecting 51-th signal, 51.0% done\n",
      "Injecting 52-th signal, 52.0% done\n",
      "Injecting 53-th signal, 53.0% done\n",
      "Injecting 54-th signal, 54.0% done\n",
      "Injecting 55-th signal, 55.0% done\n"
     ]
    },
    {
     "name": "stderr",
     "output_type": "stream",
     "text": [
      "14:40 bilby WARNING : The injected signal has a duration in-band of 97.6s, but the data for detector H1 has a duration of 32s\n",
      "14:40 bilby WARNING : The injected signal has a duration in-band of 97.6s, but the data for detector L1 has a duration of 32s\n",
      "14:40 bilby WARNING : The injected signal has a duration in-band of 97.6s, but the data for detector V1 has a duration of 32s\n",
      "14:40 bilby WARNING : The injected signal has a duration in-band of 131.3s, but the data for detector H1 has a duration of 32s\n",
      "14:40 bilby WARNING : The injected signal has a duration in-band of 131.3s, but the data for detector L1 has a duration of 32s\n",
      "14:40 bilby WARNING : The injected signal has a duration in-band of 131.3s, but the data for detector V1 has a duration of 32s\n",
      "14:40 bilby WARNING : The injected signal has a duration in-band of 90.0s, but the data for detector H1 has a duration of 32s\n",
      "14:40 bilby WARNING : The injected signal has a duration in-band of 90.0s, but the data for detector L1 has a duration of 32s\n",
      "14:40 bilby WARNING : The injected signal has a duration in-band of 90.0s, but the data for detector V1 has a duration of 32s\n",
      "14:40 bilby WARNING : The injected signal has a duration in-band of 92.4s, but the data for detector H1 has a duration of 32s\n",
      "14:40 bilby WARNING : The injected signal has a duration in-band of 92.4s, but the data for detector L1 has a duration of 32s\n",
      "14:40 bilby WARNING : The injected signal has a duration in-band of 92.4s, but the data for detector V1 has a duration of 32s\n",
      "14:40 bilby WARNING : The injected signal has a duration in-band of 113.5s, but the data for detector H1 has a duration of 32s\n",
      "14:40 bilby WARNING : The injected signal has a duration in-band of 113.5s, but the data for detector L1 has a duration of 32s\n",
      "14:40 bilby WARNING : The injected signal has a duration in-band of 113.5s, but the data for detector V1 has a duration of 32s\n",
      "14:40 bilby WARNING : The injected signal has a duration in-band of 66.9s, but the data for detector H1 has a duration of 32s\n",
      "14:40 bilby WARNING : The injected signal has a duration in-band of 66.9s, but the data for detector L1 has a duration of 32s\n",
      "14:40 bilby WARNING : The injected signal has a duration in-band of 66.9s, but the data for detector V1 has a duration of 32s\n"
     ]
    },
    {
     "name": "stdout",
     "output_type": "stream",
     "text": [
      "Injecting 56-th signal, 56.0% done\n",
      "Injecting 57-th signal, 57.0% done\n",
      "Injecting 58-th signal, 58.0% done\n",
      "Injecting 59-th signal, 59.0% done\n",
      "Injecting 60-th signal, 60.0% done\n",
      "Injecting 61-th signal, 61.0% done\n"
     ]
    },
    {
     "name": "stderr",
     "output_type": "stream",
     "text": [
      "14:40 bilby WARNING : The injected signal has a duration in-band of 55.5s, but the data for detector H1 has a duration of 32s\n",
      "14:40 bilby WARNING : The injected signal has a duration in-band of 55.5s, but the data for detector L1 has a duration of 32s\n",
      "14:40 bilby WARNING : The injected signal has a duration in-band of 55.5s, but the data for detector V1 has a duration of 32s\n",
      "14:40 bilby WARNING : The injected signal has a duration in-band of 93.8s, but the data for detector H1 has a duration of 32s\n",
      "14:40 bilby WARNING : The injected signal has a duration in-band of 93.8s, but the data for detector L1 has a duration of 32s\n",
      "14:40 bilby WARNING : The injected signal has a duration in-band of 93.8s, but the data for detector V1 has a duration of 32s\n",
      "14:40 bilby WARNING : The injected signal has a duration in-band of 81.8s, but the data for detector H1 has a duration of 32s\n",
      "14:40 bilby WARNING : The injected signal has a duration in-band of 81.8s, but the data for detector L1 has a duration of 32s\n",
      "14:40 bilby WARNING : The injected signal has a duration in-band of 81.8s, but the data for detector V1 has a duration of 32s\n",
      "14:40 bilby WARNING : The injected signal has a duration in-band of 108.4s, but the data for detector H1 has a duration of 32s\n",
      "14:40 bilby WARNING : The injected signal has a duration in-band of 108.4s, but the data for detector L1 has a duration of 32s\n",
      "14:40 bilby WARNING : The injected signal has a duration in-band of 108.4s, but the data for detector V1 has a duration of 32s\n",
      "14:40 bilby WARNING : The injected signal has a duration in-band of 173.6s, but the data for detector H1 has a duration of 32s\n",
      "14:40 bilby WARNING : The injected signal has a duration in-band of 173.6s, but the data for detector L1 has a duration of 32s\n",
      "14:40 bilby WARNING : The injected signal has a duration in-band of 173.6s, but the data for detector V1 has a duration of 32s\n",
      "14:40 bilby WARNING : The injected signal has a duration in-band of 142.2s, but the data for detector H1 has a duration of 32s\n",
      "14:40 bilby WARNING : The injected signal has a duration in-band of 142.2s, but the data for detector L1 has a duration of 32s\n",
      "14:40 bilby WARNING : The injected signal has a duration in-band of 142.2s, but the data for detector V1 has a duration of 32s\n"
     ]
    },
    {
     "name": "stdout",
     "output_type": "stream",
     "text": [
      "Injecting 62-th signal, 62.0% done\n",
      "Injecting 63-th signal, 63.0% done\n",
      "Injecting 64-th signal, 64.0% done\n",
      "Injecting 65-th signal, 65.0% done\n",
      "Injecting 66-th signal, 66.0% done\n",
      "Injecting 67-th signal, 67.0% done\n"
     ]
    },
    {
     "name": "stderr",
     "output_type": "stream",
     "text": [
      "14:40 bilby WARNING : The injected signal has a duration in-band of 89.0s, but the data for detector H1 has a duration of 32s\n",
      "14:40 bilby WARNING : The injected signal has a duration in-band of 89.0s, but the data for detector L1 has a duration of 32s\n",
      "14:40 bilby WARNING : The injected signal has a duration in-band of 89.0s, but the data for detector V1 has a duration of 32s\n",
      "14:40 bilby WARNING : The injected signal has a duration in-band of 184.4s, but the data for detector H1 has a duration of 32s\n",
      "14:40 bilby WARNING : The injected signal has a duration in-band of 184.4s, but the data for detector L1 has a duration of 32s\n",
      "14:40 bilby WARNING : The injected signal has a duration in-band of 184.4s, but the data for detector V1 has a duration of 32s\n",
      "14:40 bilby WARNING : The injected signal has a duration in-band of 101.0s, but the data for detector H1 has a duration of 32s\n",
      "14:40 bilby WARNING : The injected signal has a duration in-band of 101.0s, but the data for detector L1 has a duration of 32s\n",
      "14:40 bilby WARNING : The injected signal has a duration in-band of 101.0s, but the data for detector V1 has a duration of 32s\n",
      "14:40 bilby WARNING : The injected signal has a duration in-band of 145.5s, but the data for detector H1 has a duration of 32s\n",
      "14:40 bilby WARNING : The injected signal has a duration in-band of 145.5s, but the data for detector L1 has a duration of 32s\n",
      "14:40 bilby WARNING : The injected signal has a duration in-band of 145.5s, but the data for detector V1 has a duration of 32s\n",
      "14:40 bilby WARNING : The injected signal has a duration in-band of 94.2s, but the data for detector H1 has a duration of 32s\n",
      "14:40 bilby WARNING : The injected signal has a duration in-band of 94.2s, but the data for detector L1 has a duration of 32s\n",
      "14:40 bilby WARNING : The injected signal has a duration in-band of 94.2s, but the data for detector V1 has a duration of 32s\n",
      "14:40 bilby WARNING : The injected signal has a duration in-band of 158.8s, but the data for detector H1 has a duration of 32s\n",
      "14:40 bilby WARNING : The injected signal has a duration in-band of 158.8s, but the data for detector L1 has a duration of 32s\n",
      "14:40 bilby WARNING : The injected signal has a duration in-band of 158.8s, but the data for detector V1 has a duration of 32s\n"
     ]
    },
    {
     "name": "stdout",
     "output_type": "stream",
     "text": [
      "Injecting 68-th signal, 68.0% done\n",
      "Injecting 69-th signal, 69.0% done\n",
      "Injecting 70-th signal, 70.0% done\n",
      "Injecting 71-th signal, 71.0% done\n",
      "Injecting 72-th signal, 72.0% done\n",
      "Injecting 73-th signal, 73.0% done\n"
     ]
    },
    {
     "name": "stderr",
     "output_type": "stream",
     "text": [
      "14:40 bilby WARNING : The injected signal has a duration in-band of 86.9s, but the data for detector H1 has a duration of 32s\n",
      "14:40 bilby WARNING : The injected signal has a duration in-band of 86.9s, but the data for detector L1 has a duration of 32s\n",
      "14:40 bilby WARNING : The injected signal has a duration in-band of 86.9s, but the data for detector V1 has a duration of 32s\n",
      "14:40 bilby WARNING : The injected signal has a duration in-band of 217.7s, but the data for detector H1 has a duration of 32s\n",
      "14:40 bilby WARNING : The injected signal has a duration in-band of 217.7s, but the data for detector L1 has a duration of 32s\n",
      "14:40 bilby WARNING : The injected signal has a duration in-band of 217.7s, but the data for detector V1 has a duration of 32s\n",
      "14:40 bilby WARNING : The injected signal has a duration in-band of 114.5s, but the data for detector H1 has a duration of 32s\n",
      "14:40 bilby WARNING : The injected signal has a duration in-band of 114.5s, but the data for detector L1 has a duration of 32s\n",
      "14:40 bilby WARNING : The injected signal has a duration in-band of 114.5s, but the data for detector V1 has a duration of 32s\n",
      "14:40 bilby WARNING : The injected signal has a duration in-band of 78.2s, but the data for detector H1 has a duration of 32s\n",
      "14:40 bilby WARNING : The injected signal has a duration in-band of 78.2s, but the data for detector L1 has a duration of 32s\n",
      "14:40 bilby WARNING : The injected signal has a duration in-band of 78.2s, but the data for detector V1 has a duration of 32s\n",
      "14:40 bilby WARNING : The injected signal has a duration in-band of 106.2s, but the data for detector H1 has a duration of 32s\n",
      "14:40 bilby WARNING : The injected signal has a duration in-band of 106.2s, but the data for detector L1 has a duration of 32s\n",
      "14:40 bilby WARNING : The injected signal has a duration in-band of 106.2s, but the data for detector V1 has a duration of 32s\n",
      "14:40 bilby WARNING : The injected signal has a duration in-band of 99.0s, but the data for detector H1 has a duration of 32s\n",
      "14:40 bilby WARNING : The injected signal has a duration in-band of 99.0s, but the data for detector L1 has a duration of 32s\n",
      "14:40 bilby WARNING : The injected signal has a duration in-band of 99.0s, but the data for detector V1 has a duration of 32s\n"
     ]
    },
    {
     "name": "stdout",
     "output_type": "stream",
     "text": [
      "Injecting 74-th signal, 74.0% done\n",
      "Injecting 75-th signal, 75.0% done\n",
      "Injecting 76-th signal, 76.0% done\n",
      "Injecting 77-th signal, 77.0% done\n",
      "Injecting 78-th signal, 78.0% done\n",
      "Injecting 79-th signal, 79.0% done\n"
     ]
    },
    {
     "name": "stderr",
     "output_type": "stream",
     "text": [
      "14:40 bilby WARNING : The injected signal has a duration in-band of 95.8s, but the data for detector H1 has a duration of 32s\n",
      "14:40 bilby WARNING : The injected signal has a duration in-band of 95.8s, but the data for detector L1 has a duration of 32s\n",
      "14:40 bilby WARNING : The injected signal has a duration in-band of 95.8s, but the data for detector V1 has a duration of 32s\n",
      "14:40 bilby WARNING : The injected signal has a duration in-band of 105.0s, but the data for detector H1 has a duration of 32s\n",
      "14:40 bilby WARNING : The injected signal has a duration in-band of 105.0s, but the data for detector L1 has a duration of 32s\n",
      "14:40 bilby WARNING : The injected signal has a duration in-band of 105.0s, but the data for detector V1 has a duration of 32s\n",
      "14:40 bilby WARNING : The injected signal has a duration in-band of 118.8s, but the data for detector H1 has a duration of 32s\n",
      "14:40 bilby WARNING : The injected signal has a duration in-band of 118.8s, but the data for detector L1 has a duration of 32s\n",
      "14:40 bilby WARNING : The injected signal has a duration in-band of 118.8s, but the data for detector V1 has a duration of 32s\n",
      "14:40 bilby WARNING : The injected signal has a duration in-band of 106.8s, but the data for detector H1 has a duration of 32s\n",
      "14:40 bilby WARNING : The injected signal has a duration in-band of 106.8s, but the data for detector L1 has a duration of 32s\n",
      "14:40 bilby WARNING : The injected signal has a duration in-band of 106.8s, but the data for detector V1 has a duration of 32s\n",
      "14:40 bilby WARNING : The injected signal has a duration in-band of 82.8s, but the data for detector H1 has a duration of 32s\n",
      "14:40 bilby WARNING : The injected signal has a duration in-band of 82.8s, but the data for detector L1 has a duration of 32s\n",
      "14:40 bilby WARNING : The injected signal has a duration in-band of 82.8s, but the data for detector V1 has a duration of 32s\n",
      "14:40 bilby WARNING : The injected signal has a duration in-band of 131.3s, but the data for detector H1 has a duration of 32s\n",
      "14:40 bilby WARNING : The injected signal has a duration in-band of 131.3s, but the data for detector L1 has a duration of 32s\n",
      "14:40 bilby WARNING : The injected signal has a duration in-band of 131.3s, but the data for detector V1 has a duration of 32s\n"
     ]
    },
    {
     "name": "stdout",
     "output_type": "stream",
     "text": [
      "Injecting 80-th signal, 80.0% done\n",
      "Injecting 81-th signal, 81.0% done\n",
      "Injecting 82-th signal, 82.0% done\n",
      "Injecting 83-th signal, 83.0% done\n",
      "Injecting 84-th signal, 84.0% done\n",
      "Injecting 85-th signal, 85.0% done\n"
     ]
    },
    {
     "name": "stderr",
     "output_type": "stream",
     "text": [
      "14:40 bilby WARNING : The injected signal has a duration in-band of 160.9s, but the data for detector H1 has a duration of 32s\n",
      "14:40 bilby WARNING : The injected signal has a duration in-band of 160.9s, but the data for detector L1 has a duration of 32s\n",
      "14:40 bilby WARNING : The injected signal has a duration in-band of 160.9s, but the data for detector V1 has a duration of 32s\n",
      "14:40 bilby WARNING : The injected signal has a duration in-band of 80.5s, but the data for detector H1 has a duration of 32s\n",
      "14:40 bilby WARNING : The injected signal has a duration in-band of 80.5s, but the data for detector L1 has a duration of 32s\n",
      "14:40 bilby WARNING : The injected signal has a duration in-band of 80.5s, but the data for detector V1 has a duration of 32s\n",
      "14:40 bilby WARNING : The injected signal has a duration in-band of 99.1s, but the data for detector H1 has a duration of 32s\n",
      "14:40 bilby WARNING : The injected signal has a duration in-band of 99.1s, but the data for detector L1 has a duration of 32s\n",
      "14:40 bilby WARNING : The injected signal has a duration in-band of 99.1s, but the data for detector V1 has a duration of 32s\n",
      "14:40 bilby WARNING : The injected signal has a duration in-band of 141.7s, but the data for detector H1 has a duration of 32s\n",
      "14:40 bilby WARNING : The injected signal has a duration in-band of 141.7s, but the data for detector L1 has a duration of 32s\n",
      "14:40 bilby WARNING : The injected signal has a duration in-band of 141.7s, but the data for detector V1 has a duration of 32s\n",
      "14:40 bilby WARNING : The injected signal has a duration in-band of 78.4s, but the data for detector H1 has a duration of 32s\n",
      "14:40 bilby WARNING : The injected signal has a duration in-band of 78.4s, but the data for detector L1 has a duration of 32s\n",
      "14:40 bilby WARNING : The injected signal has a duration in-band of 78.4s, but the data for detector V1 has a duration of 32s\n",
      "14:40 bilby WARNING : The injected signal has a duration in-band of 59.4s, but the data for detector H1 has a duration of 32s\n",
      "14:40 bilby WARNING : The injected signal has a duration in-band of 59.4s, but the data for detector L1 has a duration of 32s\n",
      "14:40 bilby WARNING : The injected signal has a duration in-band of 59.4s, but the data for detector V1 has a duration of 32s\n"
     ]
    },
    {
     "name": "stdout",
     "output_type": "stream",
     "text": [
      "Injecting 86-th signal, 86.0% done\n",
      "Injecting 87-th signal, 87.0% done\n",
      "Injecting 88-th signal, 88.0% done\n",
      "Injecting 89-th signal, 89.0% done\n",
      "Injecting 90-th signal, 90.0% done\n",
      "Injecting 91-th signal, 91.0% done\n"
     ]
    },
    {
     "name": "stderr",
     "output_type": "stream",
     "text": [
      "14:40 bilby WARNING : The injected signal has a duration in-band of 233.1s, but the data for detector H1 has a duration of 32s\n",
      "14:40 bilby WARNING : The injected signal has a duration in-band of 233.1s, but the data for detector L1 has a duration of 32s\n",
      "14:40 bilby WARNING : The injected signal has a duration in-band of 233.1s, but the data for detector V1 has a duration of 32s\n",
      "14:40 bilby WARNING : The injected signal has a duration in-band of 85.5s, but the data for detector H1 has a duration of 32s\n",
      "14:40 bilby WARNING : The injected signal has a duration in-band of 85.5s, but the data for detector L1 has a duration of 32s\n",
      "14:40 bilby WARNING : The injected signal has a duration in-band of 85.5s, but the data for detector V1 has a duration of 32s\n",
      "14:40 bilby WARNING : The injected signal has a duration in-band of 79.3s, but the data for detector H1 has a duration of 32s\n",
      "14:40 bilby WARNING : The injected signal has a duration in-band of 79.3s, but the data for detector L1 has a duration of 32s\n",
      "14:40 bilby WARNING : The injected signal has a duration in-band of 79.3s, but the data for detector V1 has a duration of 32s\n",
      "14:40 bilby WARNING : The injected signal has a duration in-band of 75.0s, but the data for detector H1 has a duration of 32s\n",
      "14:40 bilby WARNING : The injected signal has a duration in-band of 75.0s, but the data for detector L1 has a duration of 32s\n",
      "14:40 bilby WARNING : The injected signal has a duration in-band of 75.0s, but the data for detector V1 has a duration of 32s\n",
      "14:40 bilby WARNING : The injected signal has a duration in-band of 146.3s, but the data for detector H1 has a duration of 32s\n",
      "14:40 bilby WARNING : The injected signal has a duration in-band of 146.3s, but the data for detector L1 has a duration of 32s\n",
      "14:40 bilby WARNING : The injected signal has a duration in-band of 146.3s, but the data for detector V1 has a duration of 32s\n",
      "14:40 bilby WARNING : The injected signal has a duration in-band of 121.3s, but the data for detector H1 has a duration of 32s\n",
      "14:40 bilby WARNING : The injected signal has a duration in-band of 121.3s, but the data for detector L1 has a duration of 32s\n",
      "14:40 bilby WARNING : The injected signal has a duration in-band of 121.3s, but the data for detector V1 has a duration of 32s\n"
     ]
    },
    {
     "name": "stdout",
     "output_type": "stream",
     "text": [
      "Injecting 92-th signal, 92.0% done\n",
      "Injecting 93-th signal, 93.0% done\n",
      "Injecting 94-th signal, 94.0% done\n",
      "Injecting 95-th signal, 95.0% done\n",
      "Injecting 96-th signal, 96.0% done\n",
      "Injecting 97-th signal, 97.0% done\n"
     ]
    },
    {
     "name": "stderr",
     "output_type": "stream",
     "text": [
      "14:40 bilby WARNING : The injected signal has a duration in-band of 75.0s, but the data for detector H1 has a duration of 32s\n",
      "14:40 bilby WARNING : The injected signal has a duration in-band of 75.0s, but the data for detector L1 has a duration of 32s\n",
      "14:40 bilby WARNING : The injected signal has a duration in-band of 75.0s, but the data for detector V1 has a duration of 32s\n",
      "14:40 bilby WARNING : The injected signal has a duration in-band of 96.4s, but the data for detector H1 has a duration of 32s\n",
      "14:40 bilby WARNING : The injected signal has a duration in-band of 96.4s, but the data for detector L1 has a duration of 32s\n",
      "14:40 bilby WARNING : The injected signal has a duration in-band of 96.4s, but the data for detector V1 has a duration of 32s\n",
      "14:40 bilby WARNING : The injected signal has a duration in-band of 108.4s, but the data for detector H1 has a duration of 32s\n",
      "14:40 bilby WARNING : The injected signal has a duration in-band of 108.4s, but the data for detector L1 has a duration of 32s\n",
      "14:40 bilby WARNING : The injected signal has a duration in-band of 108.4s, but the data for detector V1 has a duration of 32s\n"
     ]
    },
    {
     "name": "stdout",
     "output_type": "stream",
     "text": [
      "Injecting 98-th signal, 98.0% done\n",
      "Injecting 99-th signal, 99.0% done\n"
     ]
    }
   ],
   "source": [
    "data_generator.inject_signals(injection_parameters_all, Nsample)\n",
    "data_template_generator.inject_signals(injection_parameters_template, Nsample_template)"
   ]
  },
  {
   "cell_type": "code",
   "execution_count": 10,
   "id": "fe6c30aa",
   "metadata": {},
   "outputs": [],
   "source": [
    "data_generator.numpy_starins()\n",
    "data_template_generator.numpy_starins()\n",
    "\n",
    "#data_generator.whiten_strains()\n",
    "data_template_generator.scale_strains()"
   ]
  },
  {
   "cell_type": "code",
   "execution_count": 11,
   "id": "b5eb92f3",
   "metadata": {},
   "outputs": [
    {
     "name": "stdout",
     "output_type": "stream",
     "text": [
      "Generating PCA for H1\n",
      "Generating PCA for L1\n",
      "Generating PCA for V1\n"
     ]
    }
   ],
   "source": [
    "n_components=10\n",
    "ipca_gen = embedding.pca.IPCAGenerator(data_template_generator.data['strains'], n_components, detector_names, decomposition='exp_unwrap')"
   ]
  },
  {
   "cell_type": "code",
   "execution_count": 12,
   "id": "6ab639aa",
   "metadata": {},
   "outputs": [
    {
     "name": "stdout",
     "output_type": "stream",
     "text": [
      "Model saved to IPCAgenerator.pickle\n"
     ]
    }
   ],
   "source": [
    "modelutils.save_model('IPCAgenerator.pickle', ipca_gen)"
   ]
  },
  {
   "cell_type": "code",
   "execution_count": 13,
   "id": "6e6dffbb",
   "metadata": {},
   "outputs": [
    {
     "name": "stdout",
     "output_type": "stream",
     "text": [
      "Model loaded from IPCAgenerator.pickle\n"
     ]
    }
   ],
   "source": [
    "ipca_gen = modelutils.load_model('IPCAgenerator.pickle')"
   ]
  },
  {
   "cell_type": "code",
   "execution_count": 15,
   "id": "9856e279",
   "metadata": {},
   "outputs": [
    {
     "data": {
      "text/plain": [
       "array([314619.19632132,  58926.08950742,  34831.30112605,  20679.07646968,\n",
       "        18076.10708037,  15857.32984058,  11589.31364016,   9517.80405635,\n",
       "         6073.43481643,   4762.74682154])"
      ]
     },
     "execution_count": 15,
     "metadata": {},
     "output_type": "execute_result"
    }
   ],
   "source": [
    "ipca_gen.pca_dict['H1']['phase'].singular_values_"
   ]
  },
  {
   "cell_type": "code",
   "execution_count": 12,
   "id": "34ba1dc3",
   "metadata": {},
   "outputs": [],
   "source": [
    "ds = DatasetStrainFD(data_dict=data_generator.data, parameter_names=PARAMETER_NAMES_PRECESSINGBNS_BILBY)"
   ]
  },
  {
   "cell_type": "code",
   "execution_count": 37,
   "id": "0dc1121d",
   "metadata": {},
   "outputs": [],
   "source": [
    "proj_angle = np.unwrap(np.angle(strain), axis=-1)\n"
   ]
  },
  {
   "cell_type": "code",
   "execution_count": 38,
   "id": "eaf242b6",
   "metadata": {},
   "outputs": [
    {
     "data": {
      "text/plain": [
       "(2, 3, 32129)"
      ]
     },
     "execution_count": 38,
     "metadata": {},
     "output_type": "execute_result"
    }
   ],
   "source": [
    "proj_angle.shape"
   ]
  },
  {
   "cell_type": "code",
   "execution_count": 39,
   "id": "7c17e18b",
   "metadata": {},
   "outputs": [
    {
     "data": {
      "text/plain": [
       "[<matplotlib.lines.Line2D at 0x7f08a8a0ef70>]"
      ]
     },
     "execution_count": 39,
     "metadata": {},
     "output_type": "execute_result"
    },
    {
     "data": {
      "image/png": "[encoded data removed]",
      "text/plain": [
       "<Figure size 640x480 with 1 Axes>"
      ]
     },
     "metadata": {},
     "output_type": "display_data"
    }
   ],
   "source": [
    "proj_angle = np.unwrap(np.angle(strain), axis=-1)\n",
    "plt.plot(proj_angle[0][0])\n",
    "plt.plot(proj_angle[0][1])\n",
    "plt.plot(proj_angle[0][2])"
   ]
  },
  {
   "cell_type": "code",
   "execution_count": 30,
   "id": "e54e6602",
   "metadata": {},
   "outputs": [
    {
     "data": {
      "text/plain": [
       "torch.Size([3, 32129])"
      ]
     },
     "execution_count": 30,
     "metadata": {},
     "output_type": "execute_result"
    }
   ],
   "source": [
    "np.array(list(data_dict['strains'].values()))"
   ]
  },
  {
   "cell_type": "code",
   "execution_count": 13,
   "id": "b6c08ff1",
   "metadata": {},
   "outputs": [],
   "source": [
    "def project_strain_data_FDAPhi(strain, psd, detector_names, ipca_gen):\n",
    "    strain_amp = np.abs(strain)\n",
    "    strain_phi = np.unwrap(np.angle(strain) , axis=-1)\n",
    "    n_components = ipca_gen.n_components\n",
    "\n",
    "    output_amp = []\n",
    "    output_phi = []\n",
    "    output_psd = []\n",
    "    for i,detname in enumerate(detector_names):\n",
    "        output_amp.append(ipca_gen.project(strain_amp[:,i,:], detname, 'amplitude'))\n",
    "        output_phi.append(ipca_gen.project(strain_phi[:,i,:], detname, 'phase'))\n",
    "        output_psd.append(ipca_gen.project(psd[:,i,:], detname, 'amplitude'))\n",
    "    output_amp = torch.from_numpy(np.array(output_amp))\n",
    "    output_phi = torch.from_numpy(np.array(output_phi))\n",
    "    output_psd = torch.from_numpy(np.array(output_psd))\n",
    "\n",
    "    return torch.cat((output_amp, output_phi, output_psd)).movedim(0,1).float()\n"
   ]
  },
  {
   "cell_type": "code",
   "execution_count": 14,
   "id": "e122ea97",
   "metadata": {},
   "outputs": [
    {
     "data": {
      "text/plain": [
       "torch.Size([2, 3, 32129])"
      ]
     },
     "execution_count": 14,
     "metadata": {},
     "output_type": "execute_result"
    }
   ],
   "source": [
    "theta, strain, psd = ds[0:2]\n",
    "psd.shape"
   ]
  },
  {
   "cell_type": "code",
   "execution_count": 15,
   "id": "8095dce0",
   "metadata": {},
   "outputs": [],
   "source": [
    "theta, strain, psd = ds[0:2]\n",
    "\n",
    "detector_names = data_generator.detector_names\n",
    "aa = project_strain_data_FDAPhi(strain, psd, detector_names, ipca_gen)"
   ]
  },
  {
   "cell_type": "code",
   "execution_count": 16,
   "id": "382589e8",
   "metadata": {},
   "outputs": [
    {
     "data": {
      "text/plain": [
       "torch.Size([2, 9, 10])"
      ]
     },
     "execution_count": 16,
     "metadata": {},
     "output_type": "execute_result"
    }
   ],
   "source": [
    "aa.shape"
   ]
  },
  {
   "cell_type": "code",
   "execution_count": 17,
   "id": "9338488d",
   "metadata": {},
   "outputs": [],
   "source": [
    "channel = 'strains'\n",
    "detname = 'H1'\n",
    "test_strain = np.abs(data_generator.data[channel][detname])\n"
   ]
  },
  {
   "cell_type": "code",
   "execution_count": 18,
   "id": "c43103b3",
   "metadata": {},
   "outputs": [
    {
     "data": {
      "text/plain": [
       "array([2.46418251, 5.80741111, 3.41010129, ..., 0.87508024, 5.1910683 ,\n",
       "       0.        ])"
      ]
     },
     "execution_count": 18,
     "metadata": {},
     "output_type": "execute_result"
    }
   ],
   "source": [
    "test_strain[0]"
   ]
  },
  {
   "cell_type": "code",
   "execution_count": 19,
   "id": "b5394c87",
   "metadata": {},
   "outputs": [
    {
     "data": {
      "text/plain": [
       "(10, 32129)"
      ]
     },
     "execution_count": 19,
     "metadata": {},
     "output_type": "execute_result"
    }
   ],
   "source": [
    "test_strain.shape"
   ]
  },
  {
   "cell_type": "code",
   "execution_count": 21,
   "id": "bd9ae8f0",
   "metadata": {},
   "outputs": [
    {
     "data": {
      "text/plain": [
       "array([[ 263.63986728,  356.1781637 , -197.52673509, -223.50442216,\n",
       "        -267.77164892,   26.42598807,  -45.95581484,  -50.34644521,\n",
       "          16.67646054,  -27.61059529],\n",
       "       [ 259.61308728,  355.86084139, -196.22575542, -223.03979004,\n",
       "        -269.45343468,   26.99253454,  -47.12484909,  -48.28805071,\n",
       "          16.19767271,  -25.07101699],\n",
       "       [ 265.4990194 ,  354.78352326, -195.57397916, -221.39664796,\n",
       "        -267.79937652,   24.46985068,  -50.00731192,  -47.61551943,\n",
       "          18.41949017,  -23.82926359]])"
      ]
     },
     "execution_count": 21,
     "metadata": {},
     "output_type": "execute_result"
    }
   ],
   "source": [
    "ipca_gen.project(test_strain[0:3], detname, 'amplitude')"
   ]
  },
  {
   "cell_type": "code",
   "execution_count": 15,
   "id": "8e153b58",
   "metadata": {},
   "outputs": [],
   "source": [
    "bank_H1 = data_template_generator.data['strains']['H1'].copy()"
   ]
  },
  {
   "cell_type": "code",
   "execution_count": 16,
   "id": "18937cd3",
   "metadata": {},
   "outputs": [],
   "source": [
    "u,s,vt = np.linalg.svd(bank_H1.T, full_matrices=False)"
   ]
  },
  {
   "cell_type": "code",
   "execution_count": 36,
   "id": "263b5d6a",
   "metadata": {},
   "outputs": [
    {
     "data": {
      "text/plain": [
       "10"
      ]
     },
     "execution_count": 36,
     "metadata": {},
     "output_type": "execute_result"
    }
   ],
   "source": [
    "padding = 0\n",
    "dialation = 1\n",
    "kernel_size = 1\n",
    "stride = 1\n"
   ]
  },
  {
   "cell_type": "code",
   "execution_count": 41,
   "id": "964949ec",
   "metadata": {},
   "outputs": [
    {
     "data": {
      "text/plain": [
       "256"
      ]
     },
     "execution_count": 41,
     "metadata": {},
     "output_type": "execute_result"
    }
   ],
   "source": [
    "int((256 + 2*padding - dialation*(kernel_size-1) - 1)/stride) + 1"
   ]
  },
  {
   "cell_type": "code",
   "execution_count": 60,
   "id": "37d50e74",
   "metadata": {},
   "outputs": [],
   "source": [
    "class EmbeddingConv(nn.Module):\n",
    "    def __init__(self, ndet, ncomp, use_psd = True):\n",
    "        super().__init__()\n",
    "        self.ncomp = ncomp\n",
    "        if use_psd:\n",
    "            self.nchannel = 3*ndet # strains(2) + PSD (1)\n",
    "        else:\n",
    "            self.nchannel = 2*ndet\n",
    "\n",
    "        self.middle_channel = 512\n",
    "        self.cnn1 = nn.Sequential(\n",
    "            nn.Conv1d(in_channels=self.nchannel, out_channels=self.middle_channel, kernel_size=1, stride=1),\n",
    "            nn.BatchNorm1d(self.middle_channel),\n",
    "            #nn.MaxPool1d(kernel_size=2)\n",
    "        )\n",
    "        \n",
    "        self.cnn2 = nn.Sequential(\n",
    "            nn.Conv1d(in_channels=self.middle_channel, out_channels=self.middle_channel, kernel_size=1, stride=1),\n",
    "            nn.BatchNorm1d(self.middle_channel),\n",
    "            #nn.MaxPool1d(kernel_size=2)\n",
    "        )\n",
    "\n",
    "        self.cnn3 = nn.Sequential(\n",
    "            nn.Conv1d(in_channels=self.middle_channel, out_channels=self.middle_channel, kernel_size=1, stride=1),\n",
    "            nn.BatchNorm1d(self.middle_channel),\n",
    "            #nn.MaxPool1d(kernel_size=2)\n",
    "        )\n",
    "        self.dropout = nn.Dropout(0.5)\n",
    "        self.linear = nn.Linear(self.middle_channel*self.ncomp, 128)\n",
    "\n",
    "\n",
    "    def forward(self, x):\n",
    "        # x : [batch_size, channel (det_123, amp/phase) = 2*ndet, length (number of samples)]\n",
    "        bs,_,_  = x.shape \n",
    "        x = self.cnn1(x)\n",
    "        x = self.cnn2(x)\n",
    "        x = self.cnn3(x)\n",
    "        x = self.dropout(x).reshape((bs,-1))\n",
    "        output = self.linear(x)\n",
    "\n",
    "        return output"
   ]
  },
  {
   "cell_type": "code",
   "execution_count": 61,
   "id": "6cb974a5",
   "metadata": {},
   "outputs": [],
   "source": [
    "Net_emb = EmbeddingConv(ndet=3, ncomp=n_components)"
   ]
  },
  {
   "cell_type": "code",
   "execution_count": 62,
   "id": "79a6434e",
   "metadata": {},
   "outputs": [],
   "source": [
    "theta, strain, psd = ds[0:2]\n",
    "test_input = project_strain_data_FDAPhi(strain, psd, detector_names, ipca_gen)"
   ]
  },
  {
   "cell_type": "code",
   "execution_count": 63,
   "id": "0eea15f2",
   "metadata": {},
   "outputs": [
    {
     "data": {
      "text/plain": [
       "torch.Size([2, 128])"
      ]
     },
     "execution_count": 63,
     "metadata": {},
     "output_type": "execute_result"
    }
   ],
   "source": [
    "Net_emb(test_input).shape"
   ]
  },
  {
   "cell_type": "code",
   "execution_count": 64,
   "id": "0e8964d4",
   "metadata": {},
   "outputs": [
    {
     "data": {
      "text/plain": [
       "torch.Size([2, 9, 10])"
      ]
     },
     "execution_count": 64,
     "metadata": {},
     "output_type": "execute_result"
    }
   ],
   "source": [
    "test_input.shape"
   ]
  },
  {
   "cell_type": "code",
   "execution_count": null,
   "id": "6e4978e8",
   "metadata": {},
   "outputs": [],
   "source": []
  }
 ],
 "metadata": {
  "kernelspec": {
   "display_name": "myigwn-py39",
   "language": "python",
   "name": "myigwn-py39"
  },
  "language_info": {
   "codemirror_mode": {
    "name": "ipython",
    "version": 3
   },
   "file_extension": ".py",
   "mimetype": "text/x-python",
   "name": "python",
   "nbconvert_exporter": "python",
   "pygments_lexer": "ipython3",
   "version": "3.9.13"
  }
 },
 "nbformat": 4,
 "nbformat_minor": 5
}
